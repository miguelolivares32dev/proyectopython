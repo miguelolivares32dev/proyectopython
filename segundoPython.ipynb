{
 "cells": [
  {
   "cell_type": "code",
   "execution_count": 1,
   "id": "94134bfa-504e-4141-8895-b6229b7964bb",
   "metadata": {},
   "outputs": [],
   "source": [
    "tupla = ('val1','val2','val3')"
   ]
  },
  {
   "cell_type": "code",
   "execution_count": 2,
   "id": "981dcd21-565a-48ba-b4d5-0af43a952bf7",
   "metadata": {},
   "outputs": [
    {
     "data": {
      "text/plain": [
       "('val1', 'val2', 'val3')"
      ]
     },
     "execution_count": 2,
     "metadata": {},
     "output_type": "execute_result"
    }
   ],
   "source": [
    "tupla"
   ]
  },
  {
   "cell_type": "code",
   "execution_count": 3,
   "id": "56b6a24d-b75c-4515-bcf7-641ceac229b9",
   "metadata": {},
   "outputs": [
    {
     "data": {
      "text/plain": [
       "3"
      ]
     },
     "execution_count": 3,
     "metadata": {},
     "output_type": "execute_result"
    }
   ],
   "source": [
    "len(tupla)"
   ]
  },
  {
   "cell_type": "code",
   "execution_count": 5,
   "id": "f5125a4a-f8ad-4176-a434-833f2c5a30fa",
   "metadata": {},
   "outputs": [
    {
     "name": "stdout",
     "output_type": "stream",
     "text": [
      "1\n",
      "2\n",
      "3\n",
      "4\n",
      "5\n",
      "6\n",
      "7\n",
      "8\n",
      "9\n",
      "10\n",
      "fin de while\n"
     ]
    }
   ],
   "source": [
    "numero= 0\n",
    "while(numero<10):\n",
    "    numero = numero +1\n",
    "    print(numero)\n",
    "else:\n",
    "    print(\"fin de while\")"
   ]
  },
  {
   "cell_type": "code",
   "execution_count": 6,
   "id": "c4fb1a4b-aa9a-4789-8338-3b83a8344d1f",
   "metadata": {},
   "outputs": [
    {
     "name": "stdout",
     "output_type": "stream",
     "text": [
      "1\n",
      "2\n",
      "3\n",
      "4\n",
      "5\n",
      "6\n",
      "7\n",
      "fin de for\n"
     ]
    }
   ],
   "source": [
    "lista_numero = [1,2,3,4,5,6,7]\n",
    "for elemento in lista_numero:\n",
    "    print(elemento)\n",
    "else:\n",
    "    print(\"fin de for\")"
   ]
  },
  {
   "cell_type": "code",
   "execution_count": 7,
   "id": "f88e6220-cf30-4c10-b8aa-79e44e165025",
   "metadata": {},
   "outputs": [
    {
     "name": "stdout",
     "output_type": "stream",
     "text": [
      "e\n",
      "s\n",
      "t\n",
      "o\n",
      " \n",
      "e\n",
      "s\n",
      " \n",
      "u\n",
      "n\n",
      " \n",
      "b\n",
      "u\n",
      "c\n",
      "l\n",
      "e\n"
     ]
    }
   ],
   "source": [
    "cadena = \"esto es un bucle\"\n",
    "for c in cadena:\n",
    "    print(c)"
   ]
  },
  {
   "cell_type": "code",
   "execution_count": 8,
   "id": "d55283a7-dca8-4e10-8341-4aba5cf7003b",
   "metadata": {},
   "outputs": [
    {
     "name": "stdout",
     "output_type": "stream",
     "text": [
      "esto es un bucle\n"
     ]
    }
   ],
   "source": [
    "cadena = \"esto es un bucle\"\n",
    "sumcad = \"\"\n",
    "for c in cadena:\n",
    "    sumcad = sumcad + c\n",
    "print(sumcad)"
   ]
  },
  {
   "cell_type": "code",
   "execution_count": 9,
   "id": "505f390a-9553-4c34-b320-6b131ba2f4a7",
   "metadata": {},
   "outputs": [
    {
     "name": "stdout",
     "output_type": "stream",
     "text": [
      "esto es un bucle\n"
     ]
    }
   ],
   "source": [
    "cadena = \"esto es un bucle\"\n",
    "sumcad = \"\"\n",
    "for c in cadena:\n",
    "    sumcad += c\n",
    "print(sumcad)"
   ]
  },
  {
   "cell_type": "code",
   "execution_count": 10,
   "id": "ba26caad-3a0c-41fb-93ee-fab6f465884f",
   "metadata": {},
   "outputs": [
    {
     "name": "stdout",
     "output_type": "stream",
     "text": [
      "0\n",
      "1\n",
      "2\n",
      "3\n",
      "4\n",
      "5\n",
      "6\n",
      "7\n",
      "8\n",
      "9\n"
     ]
    }
   ],
   "source": [
    "for i in range(10):\n",
    "    print(i)"
   ]
  },
  {
   "cell_type": "code",
   "execution_count": 11,
   "id": "31fddb74-59c4-4e2f-8e3a-fde9e2540216",
   "metadata": {},
   "outputs": [
    {
     "name": "stdout",
     "output_type": "stream",
     "text": [
      "1\n",
      "3\n",
      "5\n",
      "7\n",
      "9\n",
      "11\n",
      "13\n",
      "15\n",
      "17\n",
      "19\n",
      "21\n",
      "23\n",
      "25\n",
      "27\n",
      "29\n"
     ]
    }
   ],
   "source": [
    "for i in range(1,30,2):\n",
    "    print(i)"
   ]
  },
  {
   "cell_type": "code",
   "execution_count": 12,
   "id": "765f64e9-ab0b-4e0d-bb1d-011cdcb22508",
   "metadata": {},
   "outputs": [
    {
     "name": "stdout",
     "output_type": "stream",
     "text": [
      "1\n",
      "3\n",
      "5\n",
      "7\n",
      "9\n",
      "son mayores de 10\n"
     ]
    }
   ],
   "source": [
    "for i in range(1,30,2):\n",
    "    if i > 10:\n",
    "        print(\"son mayores de 10\")\n",
    "        break\n",
    "    print(i)"
   ]
  },
  {
   "cell_type": "code",
   "execution_count": 13,
   "id": "d71f5086-1ac3-41b5-9f20-a16cd99941d2",
   "metadata": {},
   "outputs": [
    {
     "name": "stdout",
     "output_type": "stream",
     "text": [
      "1\n",
      "3\n",
      "5\n",
      "7\n",
      "9\n",
      "son mayores de 10\n",
      "son mayores de 10\n",
      "son mayores de 10\n",
      "son mayores de 10\n",
      "son mayores de 10\n",
      "son mayores de 10\n",
      "son mayores de 10\n",
      "son mayores de 10\n",
      "son mayores de 10\n",
      "son mayores de 10\n"
     ]
    }
   ],
   "source": [
    "for i in range(1,30,2):\n",
    "    if i > 10:\n",
    "        print(\"son mayores de 10\")\n",
    "        continue\n",
    "    print(i)"
   ]
  },
  {
   "cell_type": "code",
   "execution_count": 15,
   "id": "89e05a4e-6b7f-4e4a-be7f-ec97b1104836",
   "metadata": {},
   "outputs": [
    {
     "data": {
      "text/plain": [
       "12"
      ]
     },
     "execution_count": 15,
     "metadata": {},
     "output_type": "execute_result"
    }
   ],
   "source": [
    "lista = iter( [12,11,2,3,4,5])\n",
    "next(lista)"
   ]
  },
  {
   "cell_type": "code",
   "execution_count": 16,
   "id": "ab9d807c-180a-44ab-b93c-ec4881c98313",
   "metadata": {},
   "outputs": [
    {
     "data": {
      "text/plain": [
       "11"
      ]
     },
     "execution_count": 16,
     "metadata": {},
     "output_type": "execute_result"
    }
   ],
   "source": [
    "next(lista)"
   ]
  },
  {
   "cell_type": "code",
   "execution_count": 17,
   "id": "a628cf44-153f-4459-b40d-f1674adc931b",
   "metadata": {},
   "outputs": [
    {
     "data": {
      "text/plain": [
       "2"
      ]
     },
     "execution_count": 17,
     "metadata": {},
     "output_type": "execute_result"
    }
   ],
   "source": [
    "next(lista)"
   ]
  },
  {
   "cell_type": "code",
   "execution_count": 18,
   "id": "b455c807-e05a-4362-9c3f-3c42685219ae",
   "metadata": {},
   "outputs": [
    {
     "data": {
      "text/plain": [
       "3"
      ]
     },
     "execution_count": 18,
     "metadata": {},
     "output_type": "execute_result"
    }
   ],
   "source": [
    "next(lista)"
   ]
  },
  {
   "cell_type": "code",
   "execution_count": 19,
   "id": "eb3f72f5-7382-4bec-95a5-82eeddd11cb7",
   "metadata": {},
   "outputs": [],
   "source": [
    "def area_triangulo(base,altura):\n",
    "    area = (base * altura)/2\n",
    "    return area"
   ]
  },
  {
   "cell_type": "code",
   "execution_count": 20,
   "id": "8f824de8-f85f-4f08-9daa-0df132c22518",
   "metadata": {},
   "outputs": [
    {
     "data": {
      "text/plain": [
       "30.0"
      ]
     },
     "execution_count": 20,
     "metadata": {},
     "output_type": "execute_result"
    }
   ],
   "source": [
    "area_triangulo(12,5)"
   ]
  },
  {
   "cell_type": "code",
   "execution_count": 21,
   "id": "7e20a0d9-3fcc-47dd-b96a-5eebbd8749f5",
   "metadata": {},
   "outputs": [],
   "source": [
    "def parametros(*param):\n",
    "    for ele in param:\n",
    "        print(ele)"
   ]
  },
  {
   "cell_type": "code",
   "execution_count": 22,
   "id": "95180d38-3814-4c99-98c6-9dc808f74c52",
   "metadata": {},
   "outputs": [
    {
     "name": "stdout",
     "output_type": "stream",
     "text": [
      "1\n",
      "23\n",
      "6\n",
      "45\n",
      "6\n",
      "7\n"
     ]
    }
   ],
   "source": [
    "parametros(1,23,6,45,6,7)"
   ]
  },
  {
   "cell_type": "code",
   "execution_count": 3,
   "id": "cc78f476-9440-4bb5-9d7f-b6a4fd90fdea",
   "metadata": {},
   "outputs": [],
   "source": [
    "import math"
   ]
  },
  {
   "cell_type": "code",
   "execution_count": 4,
   "id": "f70ee3e4-5406-402f-945d-f34379b84116",
   "metadata": {},
   "outputs": [],
   "source": [
    "def potencias(p,q):\n",
    "    return math.sqrt(math.pow(p,2) + math.pow(q,2))"
   ]
  },
  {
   "cell_type": "code",
   "execution_count": 5,
   "id": "3938f738-3726-4dc0-8606-68ffad3284da",
   "metadata": {},
   "outputs": [
    {
     "data": {
      "text/plain": [
       "12.36931687685298"
      ]
     },
     "execution_count": 5,
     "metadata": {},
     "output_type": "execute_result"
    }
   ],
   "source": [
    "potencias(12,3)"
   ]
  },
  {
   "cell_type": "code",
   "execution_count": 7,
   "id": "4b05d20c-fc9d-4a15-8c0a-02c300db4109",
   "metadata": {},
   "outputs": [
    {
     "data": {
      "text/plain": [
       "4.365"
      ]
     },
     "execution_count": 7,
     "metadata": {},
     "output_type": "execute_result"
    }
   ],
   "source": [
    "math.fabs(-4.365)"
   ]
  },
  {
   "cell_type": "code",
   "execution_count": 8,
   "id": "46b95e91-ded6-4a3d-acd7-072eac995180",
   "metadata": {},
   "outputs": [
    {
     "data": {
      "text/plain": [
       "1.2246467991473532e-16"
      ]
     },
     "execution_count": 8,
     "metadata": {},
     "output_type": "execute_result"
    }
   ],
   "source": [
    "math.sin(math.pi)"
   ]
  },
  {
   "cell_type": "code",
   "execution_count": 9,
   "id": "5c466959-79f0-481e-b5c1-e36c081ebe3b",
   "metadata": {},
   "outputs": [
    {
     "data": {
      "text/plain": [
       "1.0"
      ]
     },
     "execution_count": 9,
     "metadata": {},
     "output_type": "execute_result"
    }
   ],
   "source": [
    "math.cos(0)"
   ]
  },
  {
   "cell_type": "code",
   "execution_count": 10,
   "id": "3932c377-2dec-4535-92d1-29c3affb6822",
   "metadata": {},
   "outputs": [
    {
     "data": {
      "text/plain": [
       "-0.45231565944180985"
      ]
     },
     "execution_count": 10,
     "metadata": {},
     "output_type": "execute_result"
    }
   ],
   "source": [
    "math.tan(9)"
   ]
  },
  {
   "cell_type": "code",
   "execution_count": 11,
   "id": "4ff53c90-0b5e-4514-bba9-f802ebf92158",
   "metadata": {},
   "outputs": [
    {
     "data": {
      "text/plain": [
       "12.36931687685298"
      ]
     },
     "execution_count": 11,
     "metadata": {},
     "output_type": "execute_result"
    }
   ],
   "source": [
    "math.hypot(12,3)"
   ]
  },
  {
   "cell_type": "code",
   "execution_count": 12,
   "id": "3eab72ce-3b81-4998-ac2d-bf4d79dd27b3",
   "metadata": {},
   "outputs": [
    {
     "data": {
      "text/plain": [
       "120"
      ]
     },
     "execution_count": 12,
     "metadata": {},
     "output_type": "execute_result"
    }
   ],
   "source": [
    "math.factorial(5)"
   ]
  },
  {
   "cell_type": "code",
   "execution_count": 13,
   "id": "bc162a1b-e0c2-4edb-913c-b3de0ec8e2ad",
   "metadata": {},
   "outputs": [
    {
     "data": {
      "text/plain": [
       "1"
      ]
     },
     "execution_count": 13,
     "metadata": {},
     "output_type": "execute_result"
    }
   ],
   "source": [
    "math.comb(2,2)"
   ]
  },
  {
   "cell_type": "code",
   "execution_count": 14,
   "id": "117cbc60-8e9a-4d97-954f-b213f00ab3c8",
   "metadata": {},
   "outputs": [
    {
     "data": {
      "text/plain": [
       "0.07918124604762482"
      ]
     },
     "execution_count": 14,
     "metadata": {},
     "output_type": "execute_result"
    }
   ],
   "source": [
    "math.log10(1.2)"
   ]
  },
  {
   "cell_type": "code",
   "execution_count": 15,
   "id": "7d495cc8-a8c4-4567-8aa1-6bf36c962122",
   "metadata": {},
   "outputs": [
    {
     "data": {
      "text/plain": [
       "0.2630344058337938"
      ]
     },
     "execution_count": 15,
     "metadata": {},
     "output_type": "execute_result"
    }
   ],
   "source": [
    "math.log(1.2,2)"
   ]
  },
  {
   "cell_type": "code",
   "execution_count": 16,
   "id": "0b9c52d4-ab54-4b65-b21a-131a3bc3e71e",
   "metadata": {},
   "outputs": [
    {
     "data": {
      "text/plain": [
       "3.141592653589793"
      ]
     },
     "execution_count": 16,
     "metadata": {},
     "output_type": "execute_result"
    }
   ],
   "source": [
    "math.pi"
   ]
  },
  {
   "cell_type": "code",
   "execution_count": 17,
   "id": "e5f6dfb0-ecc7-438a-976a-0c79d8c12834",
   "metadata": {},
   "outputs": [],
   "source": [
    "import sys"
   ]
  },
  {
   "cell_type": "code",
   "execution_count": 20,
   "id": "f3c3b69a-421c-44f1-97d2-39223545c1ca",
   "metadata": {},
   "outputs": [
    {
     "data": {
      "text/plain": [
       "['C:\\\\Users\\\\migue\\\\anaconda3\\\\Lib\\\\site-packages\\\\ipykernel_launcher.py',\n",
       " '-f',\n",
       " 'C:\\\\Users\\\\migue\\\\AppData\\\\Roaming\\\\jupyter\\\\runtime\\\\kernel-df4c1da0-e3fa-4bb3-90c4-1b0acc838df5.json']"
      ]
     },
     "execution_count": 20,
     "metadata": {},
     "output_type": "execute_result"
    }
   ],
   "source": [
    "sys.argv"
   ]
  },
  {
   "cell_type": "code",
   "execution_count": 21,
   "id": "a606ef05-086c-44e9-9d17-88e025bf897f",
   "metadata": {},
   "outputs": [
    {
     "data": {
      "text/plain": [
       "'C:\\\\Users\\\\migue\\\\anaconda3\\\\python.exe'"
      ]
     },
     "execution_count": 21,
     "metadata": {},
     "output_type": "execute_result"
    }
   ],
   "source": [
    "sys.executable"
   ]
  },
  {
   "cell_type": "code",
   "execution_count": 22,
   "id": "84c0d721-559f-4e5a-9588-4192d9ac538d",
   "metadata": {},
   "outputs": [],
   "source": [
    "import os"
   ]
  },
  {
   "cell_type": "code",
   "execution_count": 23,
   "id": "bf0a4356-7774-4897-9f68-61e3e4c130cf",
   "metadata": {},
   "outputs": [
    {
     "data": {
      "text/plain": [
       "'C:\\\\Users\\\\migue'"
      ]
     },
     "execution_count": 23,
     "metadata": {},
     "output_type": "execute_result"
    }
   ],
   "source": [
    "os.getcwd()"
   ]
  },
  {
   "cell_type": "code",
   "execution_count": 26,
   "id": "321fe1dc-dc40-4f5c-b1b8-971b7c3a1d51",
   "metadata": {},
   "outputs": [],
   "source": [
    "suma = lambda a,b:a+b"
   ]
  },
  {
   "cell_type": "code",
   "execution_count": 27,
   "id": "8ea57935-074b-418b-a2d3-39c98f0e0bd7",
   "metadata": {},
   "outputs": [
    {
     "data": {
      "text/plain": [
       "15"
      ]
     },
     "execution_count": 27,
     "metadata": {},
     "output_type": "execute_result"
    }
   ],
   "source": [
    "suma(12,3)"
   ]
  },
  {
   "cell_type": "code",
   "execution_count": 35,
   "id": "6d608227-b548-4b38-ace0-1339052f38f9",
   "metadata": {},
   "outputs": [],
   "source": [
    "lista = sum((x**2) for x in range(0,99))"
   ]
  },
  {
   "cell_type": "code",
   "execution_count": 36,
   "id": "a79cfc05-cefb-4fb1-aa5b-93037ad04522",
   "metadata": {},
   "outputs": [
    {
     "name": "stdout",
     "output_type": "stream",
     "text": [
      "318549\n"
     ]
    }
   ],
   "source": [
    "print(lista)"
   ]
  },
  {
   "cell_type": "code",
   "execution_count": 6,
   "id": "fa880922-3095-404b-bac8-322a5616b768",
   "metadata": {},
   "outputs": [],
   "source": [
    "class Persona:\n",
    "    nombre:str\n",
    "    edad:int\n",
    "    salario:float\n",
    "    def __init__(self,nombre,edad,salario):\n",
    "        self.nombre=nombre\n",
    "        self.edad=edad\n",
    "        self.salario=salario\n",
    "    def mostrarSalario(self):\n",
    "        return self.salario\n",
    "persona = Persona(\"Miguel\",45,2000)    "
   ]
  },
  {
   "cell_type": "code",
   "execution_count": 7,
   "id": "1bf3b24c-8c85-452e-90b2-e0bd2dcec959",
   "metadata": {},
   "outputs": [
    {
     "data": {
      "text/plain": [
       "'Miguel'"
      ]
     },
     "execution_count": 7,
     "metadata": {},
     "output_type": "execute_result"
    }
   ],
   "source": [
    "persona.nombre"
   ]
  },
  {
   "cell_type": "code",
   "execution_count": 8,
   "id": "3f15e228-e79a-4366-9613-41fc3ac929e0",
   "metadata": {},
   "outputs": [
    {
     "data": {
      "text/plain": [
       "45"
      ]
     },
     "execution_count": 8,
     "metadata": {},
     "output_type": "execute_result"
    }
   ],
   "source": [
    "persona.edad"
   ]
  },
  {
   "cell_type": "code",
   "execution_count": 9,
   "id": "998a980c-3284-4cc8-b903-201e4adb018d",
   "metadata": {},
   "outputs": [
    {
     "data": {
      "text/plain": [
       "2000"
      ]
     },
     "execution_count": 9,
     "metadata": {},
     "output_type": "execute_result"
    }
   ],
   "source": [
    "persona.mostrarSalario()"
   ]
  },
  {
   "cell_type": "code",
   "execution_count": 10,
   "id": "ca33e775-74b0-4b7a-b017-ef42bbd4b217",
   "metadata": {},
   "outputs": [],
   "source": [
    "class Nino(Persona):\n",
    "    juega:bool\n",
    "    def jugar(self,juega):\n",
    "        self.juega=juega\n",
    "nino = Nino(\"David\",8,0)\n",
    "nino.jugar(True)\n"
   ]
  },
  {
   "cell_type": "code",
   "execution_count": 11,
   "id": "8c156539-9f32-4911-9dde-6ac20c85810c",
   "metadata": {},
   "outputs": [
    {
     "data": {
      "text/plain": [
       "'David'"
      ]
     },
     "execution_count": 11,
     "metadata": {},
     "output_type": "execute_result"
    }
   ],
   "source": [
    "nino.nombre"
   ]
  },
  {
   "cell_type": "code",
   "execution_count": 12,
   "id": "ef724dcf-4dd0-473d-b529-29d1267ac00a",
   "metadata": {},
   "outputs": [
    {
     "data": {
      "text/plain": [
       "True"
      ]
     },
     "execution_count": 12,
     "metadata": {},
     "output_type": "execute_result"
    }
   ],
   "source": [
    "nino.juega"
   ]
  },
  {
   "cell_type": "code",
   "execution_count": 13,
   "id": "b0578fe7-325c-4acc-80aa-0b98a3254c27",
   "metadata": {},
   "outputs": [],
   "source": [
    "import re"
   ]
  },
  {
   "cell_type": "code",
   "execution_count": 14,
   "id": "531fcb5d-3ae4-4042-b8a4-cbed7c3ab4d6",
   "metadata": {},
   "outputs": [
    {
     "name": "stdout",
     "output_type": "stream",
     "text": [
      "None\n"
     ]
    }
   ],
   "source": [
    "cadena = \"en los principios se creo una cosa\"\n",
    "cadena_search = re.search(\"aaddbd\",cadena)\n",
    "print(cadena_search)"
   ]
  },
  {
   "cell_type": "code",
   "execution_count": 15,
   "id": "161e6215-adb1-4b0e-b1f1-c4bac579f2df",
   "metadata": {},
   "outputs": [
    {
     "name": "stdout",
     "output_type": "stream",
     "text": [
      "None\n"
     ]
    }
   ],
   "source": [
    "cadena = \"en los principios se creo una cosa\"\n",
    "cadena_search = re.match(\"aaddbd\",cadena)\n",
    "print(cadena_search)"
   ]
  },
  {
   "cell_type": "code",
   "execution_count": 17,
   "id": "e5a3d57c-e49c-44f6-9e07-f2add2aec042",
   "metadata": {},
   "outputs": [
    {
     "name": "stdout",
     "output_type": "stream",
     "text": [
      "['en', 'los', 'principios', 'se', 'creo', 'una', 'cosa']\n"
     ]
    }
   ],
   "source": [
    "cadena = \"en los principios se creo una cosa\"\n",
    "cadena_search = re.split(r'\\W+',cadena)\n",
    "print(cadena_search)"
   ]
  },
  {
   "cell_type": "code",
   "execution_count": 18,
   "id": "46bd78aa-6b58-4530-ae36-2b8233349030",
   "metadata": {},
   "outputs": [
    {
     "data": {
      "text/plain": [
       "['carefully', 'quickly']"
      ]
     },
     "execution_count": 18,
     "metadata": {},
     "output_type": "execute_result"
    }
   ],
   "source": [
    "text = \"He was carefully disguised but captured quickly by police.\"\n",
    "\n",
    "re.findall(r\"\\w+ly\\b\", text)"
   ]
  },
  {
   "cell_type": "code",
   "execution_count": 19,
   "id": "29393d78-be92-4c33-be08-99d5eb628ee4",
   "metadata": {},
   "outputs": [
    {
     "data": {
      "text/plain": [
       "['222', '333', '444']"
      ]
     },
     "execution_count": 19,
     "metadata": {},
     "output_type": "execute_result"
    }
   ],
   "source": [
    "text = \"2 222 333 444\"\n",
    "\n",
    "re.findall(r\"\\d{3}\", text)"
   ]
  },
  {
   "cell_type": "code",
   "execution_count": 21,
   "id": "7b6ad70b-0eb7-4b7e-9b77-15fe00fbb192",
   "metadata": {},
   "outputs": [
    {
     "data": {
      "text/plain": [
       "['22', '222', '333', '444']"
      ]
     },
     "execution_count": 21,
     "metadata": {},
     "output_type": "execute_result"
    }
   ],
   "source": [
    "text = \"2 22 222 333 444\"\n",
    "\n",
    "re.findall(r\"\\d{2,3}\", text)"
   ]
  },
  {
   "cell_type": "code",
   "execution_count": 22,
   "id": "52082cb9-e025-4ca1-9611-3446b85bb0eb",
   "metadata": {},
   "outputs": [
    {
     "data": {
      "text/plain": [
       "['22', '222', '333']"
      ]
     },
     "execution_count": 22,
     "metadata": {},
     "output_type": "execute_result"
    }
   ],
   "source": [
    "text = \"2 22 222 333 444\"\n",
    "\n",
    "re.findall(r\"[2,3]{2,3}\", text)"
   ]
  },
  {
   "cell_type": "code",
   "execution_count": 23,
   "id": "4e1f3e70-9d20-4ec6-920e-4f195ce69dbe",
   "metadata": {},
   "outputs": [
    {
     "data": {
      "text/plain": [
       "['22', '222', '333']"
      ]
     },
     "execution_count": 23,
     "metadata": {},
     "output_type": "execute_result"
    }
   ],
   "source": [
    "text = \"2 22 222 333 444\"\n",
    "\n",
    "re.findall(r\"[2-3]{2,3}\", text)"
   ]
  },
  {
   "cell_type": "code",
   "execution_count": 28,
   "id": "27d4f0e4-933d-4c50-8266-82271b7e5ac9",
   "metadata": {},
   "outputs": [
    {
     "name": "stdout",
     "output_type": "stream",
     "text": [
      "miguelolivares32@gmail.com\n",
      "miguelolivares32@gmail.com\n",
      "miguelolivares32@gmail.com\n"
     ]
    }
   ],
   "source": [
    "text = \"hola, mi correo es miguelolivares32@gmail.com y vuelvo a repiterlo miguelolivares32@gmail.com miguelolivares32@gmail.com.net\"\n",
    "\n",
    "correos = re.findall(r\"\\b[A-Za-z0-9]+@[A-Za-z0-9]+.[A-Za-z]{2,}\", text)\n",
    "for correo in correos:\n",
    "    print(correo)"
   ]
  },
  {
   "cell_type": "code",
   "execution_count": 29,
   "id": "8973b3d3-1501-47b0-8c47-38e0a6f74a48",
   "metadata": {},
   "outputs": [
    {
     "name": "stdout",
     "output_type": "stream",
     "text": [
      "No existe esta posicion en la lista\n",
      "continuamos la ejecuacion\n"
     ]
    }
   ],
   "source": [
    "lista = [9,5,36,4,5,6]\n",
    "try:\n",
    "    print(lista[9])\n",
    "except:\n",
    "    print(\"No existe esta posicion en la lista\")\n",
    "print(\"continuamos la ejecuacion\")"
   ]
  },
  {
   "cell_type": "code",
   "execution_count": 30,
   "id": "7ac97d7e-4d3c-461b-a97c-7b84bd767081",
   "metadata": {},
   "outputs": [
    {
     "name": "stdout",
     "output_type": "stream",
     "text": [
      "No existe esta posicion en la lista\n",
      "continuamos la ejecuacion\n"
     ]
    }
   ],
   "source": [
    "lista = [9,5,36,4,5,6]\n",
    "try:\n",
    "    print(lista[9])\n",
    "except IndexError:\n",
    "    print(\"No existe esta posicion en la lista\")\n",
    "except TypeError:\n",
    "    print(\"El tipo de operacion es erronea\")\n",
    "except:\n",
    "    print(\"No ocurrio otro tipo de error\")\n",
    "else:\n",
    "    print(\"todo perfecto\")\n",
    "print(\"continuamos la ejecuacion\")"
   ]
  },
  {
   "cell_type": "code",
   "execution_count": 31,
   "id": "59e7d65e-19aa-440c-b982-1cc7873edbab",
   "metadata": {},
   "outputs": [
    {
     "name": "stdout",
     "output_type": "stream",
     "text": [
      "No existe esta posicion en la lista\n",
      "verificaciones de errores terminada\n",
      "continuamos la ejecuacion\n"
     ]
    }
   ],
   "source": [
    "lista = [9,5,36,4,5,6]\n",
    "try:\n",
    "    print(lista[9])\n",
    "except IndexError:\n",
    "    print(\"No existe esta posicion en la lista\")\n",
    "except TypeError:\n",
    "    print(\"El tipo de operacion es erronea\")\n",
    "except:\n",
    "    print(\"No ocurrio otro tipo de error\")\n",
    "else:\n",
    "    print(\"todo perfecto\")\n",
    "finally:\n",
    "    print(\"verificaciones de errores terminada\")\n",
    "print(\"continuamos la ejecuacion\")"
   ]
  },
  {
   "cell_type": "code",
   "execution_count": 2,
   "id": "adebc300-8e6a-4a88-90ac-0944a3285631",
   "metadata": {},
   "outputs": [],
   "source": [
    "import numpy as np"
   ]
  },
  {
   "cell_type": "code",
   "execution_count": 33,
   "id": "e4d8a1ab-6192-46fd-9073-d1d8d0375ff7",
   "metadata": {},
   "outputs": [
    {
     "name": "stdout",
     "output_type": "stream",
     "text": [
      "-1.0\n"
     ]
    }
   ],
   "source": [
    "print(np.cos(np.pi))"
   ]
  },
  {
   "cell_type": "code",
   "execution_count": 34,
   "id": "adbcabaa-49f2-49d5-a585-438bd820a2df",
   "metadata": {},
   "outputs": [
    {
     "name": "stdout",
     "output_type": "stream",
     "text": [
      "1.0954451150103321\n"
     ]
    }
   ],
   "source": [
    "print(np.sqrt(1.2))"
   ]
  },
  {
   "cell_type": "code",
   "execution_count": 35,
   "id": "397ed8c8-bf85-4e84-8bbe-f5b96e8b524e",
   "metadata": {},
   "outputs": [
    {
     "name": "stdout",
     "output_type": "stream",
     "text": [
      "5.2\n"
     ]
    }
   ],
   "source": [
    "print(np.log(np.exp(5.2)))"
   ]
  },
  {
   "cell_type": "code",
   "execution_count": 36,
   "id": "752053b1-992d-4608-bcfe-c8e1756b8859",
   "metadata": {},
   "outputs": [
    {
     "name": "stdout",
     "output_type": "stream",
     "text": [
      "[ 1 23  3 45 57  8  5]\n"
     ]
    }
   ],
   "source": [
    "vec = np.array([1,23,3,45,57,8,5])\n",
    "print(vec)"
   ]
  },
  {
   "cell_type": "code",
   "execution_count": 39,
   "id": "584259a5-857a-4054-90ee-e07949addb83",
   "metadata": {},
   "outputs": [
    {
     "name": "stdout",
     "output_type": "stream",
     "text": [
      "[[ 1 23  2]\n",
      " [ 3 45  3]\n",
      " [57  8  5]]\n",
      "[[ 1  3 57]\n",
      " [23 45  8]\n",
      " [ 2  3  5]]\n"
     ]
    }
   ],
   "source": [
    "mat = np.array([[1,23,2],[3,45,3],[57,8,5]])\n",
    "print(mat)\n",
    "print(mat.T)"
   ]
  },
  {
   "cell_type": "code",
   "execution_count": 41,
   "id": "4945421e-5292-4134-aa2c-e10cec8ec10d",
   "metadata": {},
   "outputs": [
    {
     "name": "stdout",
     "output_type": "stream",
     "text": [
      "[ 0  1  2  3  4  5  6  7  8  9 10 11 12 13 14 15 16 17 18 19]\n"
     ]
    }
   ],
   "source": [
    "vec2 = np.arange(0,20)\n",
    "print(vec2)"
   ]
  },
  {
   "cell_type": "code",
   "execution_count": 43,
   "id": "6fc4e03c-63a9-42c4-8320-e9a27a3307d3",
   "metadata": {},
   "outputs": [
    {
     "name": "stdout",
     "output_type": "stream",
     "text": [
      "[ 0  1  2  3  4  5  6  7  8  9 10 11 12 13 14 15 16 17 18 19 20 21 22 23\n",
      " 24 25 26 27 28 29 30 31 32 33 34 35 36 37 38 39]\n"
     ]
    }
   ],
   "source": [
    "vec3 = np.arange(0,40,1)\n",
    "print(vec3)"
   ]
  },
  {
   "cell_type": "code",
   "execution_count": 47,
   "id": "31caf3c3-f9ca-4508-95ed-6449283570dd",
   "metadata": {},
   "outputs": [
    {
     "name": "stdout",
     "output_type": "stream",
     "text": [
      "[0.         0.26315789 0.52631579 0.78947368 1.05263158 1.31578947\n",
      " 1.57894737 1.84210526 2.10526316 2.36842105 2.63157895 2.89473684\n",
      " 3.15789474 3.42105263 3.68421053 3.94736842 4.21052632 4.47368421\n",
      " 4.73684211 5.        ]\n"
     ]
    }
   ],
   "source": [
    "vec4 = np.linspace(0,5,num=20)\n",
    "print(vec4)"
   ]
  },
  {
   "cell_type": "code",
   "execution_count": 48,
   "id": "04e90426-65b5-47a7-92ce-9db23202ae19",
   "metadata": {},
   "outputs": [
    {
     "name": "stdout",
     "output_type": "stream",
     "text": [
      "[ 5.          5.91836735  6.83673469  7.75510204  8.67346939  9.59183673\n",
      " 10.51020408 11.42857143 12.34693878 13.26530612 14.18367347 15.10204082\n",
      " 16.02040816 16.93877551 17.85714286 18.7755102  19.69387755 20.6122449\n",
      " 21.53061224 22.44897959 23.36734694 24.28571429 25.20408163 26.12244898\n",
      " 27.04081633 27.95918367 28.87755102 29.79591837 30.71428571 31.63265306\n",
      " 32.55102041 33.46938776 34.3877551  35.30612245 36.2244898  37.14285714\n",
      " 38.06122449 38.97959184 39.89795918 40.81632653 41.73469388 42.65306122\n",
      " 43.57142857 44.48979592 45.40816327 46.32653061 47.24489796 48.16326531\n",
      " 49.08163265 50.        ]\n"
     ]
    }
   ],
   "source": [
    "vec4 = np.linspace(5,50)\n",
    "print(vec4)"
   ]
  },
  {
   "cell_type": "code",
   "execution_count": 57,
   "id": "c4f5f4b2-bfef-4eae-8d8a-512c878c10be",
   "metadata": {},
   "outputs": [
    {
     "name": "stdout",
     "output_type": "stream",
     "text": [
      "[[0. 0. 0. 0. 0.]\n",
      " [0. 0. 0. 0. 0.]\n",
      " [0. 0. 0. 0. 0.]\n",
      " [0. 0. 0. 0. 0.]\n",
      " [0. 0. 0. 0. 0.]]\n"
     ]
    }
   ],
   "source": [
    "vec5 = np.zeros((5,5))\n",
    "print(vec5)"
   ]
  },
  {
   "cell_type": "code",
   "execution_count": 58,
   "id": "9368df0a-1fe9-4a6a-a4ed-03ad843c0cc3",
   "metadata": {},
   "outputs": [
    {
     "name": "stdout",
     "output_type": "stream",
     "text": [
      "[ 6  8 10 12 14 16]\n",
      "[ 9 16 25 36 49 64]\n"
     ]
    }
   ],
   "source": [
    "vec1 = np.arange(3,9)\n",
    "vec2 = np.arange(3,9)\n",
    "print(vec1+vec2)\n",
    "print(vec1*vec2)"
   ]
  },
  {
   "cell_type": "code",
   "execution_count": 3,
   "id": "6365b3b7-53df-457f-b50f-55cef3e67b09",
   "metadata": {},
   "outputs": [
    {
     "data": {
      "text/plain": [
       "array([[0., 0., 0.],\n",
       "       [3., 3., 3.],\n",
       "       [6., 6., 6.]])"
      ]
     },
     "execution_count": 3,
     "metadata": {},
     "output_type": "execute_result"
    }
   ],
   "source": [
    "x1 = np.arange(9.0).reshape((3, 3))\n",
    "\n",
    "x2 = np.arange(3.0)\n",
    "\n",
    "np.subtract(x1, x2)"
   ]
  },
  {
   "cell_type": "code",
   "execution_count": 4,
   "id": "ba2c45b3-f5a6-4981-affa-b9fc58e01c9b",
   "metadata": {},
   "outputs": [
    {
     "data": {
      "text/plain": [
       "array([[ 0.,  2.,  4.],\n",
       "       [ 3.,  5.,  7.],\n",
       "       [ 6.,  8., 10.]])"
      ]
     },
     "execution_count": 4,
     "metadata": {},
     "output_type": "execute_result"
    }
   ],
   "source": [
    "x1 = np.arange(9.0).reshape((3, 3))\n",
    "\n",
    "x2 = np.arange(3.0)\n",
    "np.add(x1,x2)"
   ]
  },
  {
   "cell_type": "code",
   "execution_count": 5,
   "id": "8df58c57-d906-4d7b-95fd-8f9206bfa366",
   "metadata": {},
   "outputs": [
    {
     "data": {
      "text/plain": [
       "array([[ 0.,  1.,  4.],\n",
       "       [ 0.,  4., 10.],\n",
       "       [ 0.,  7., 16.]])"
      ]
     },
     "execution_count": 5,
     "metadata": {},
     "output_type": "execute_result"
    }
   ],
   "source": [
    "x1 = np.arange(9.0).reshape((3, 3))\n",
    "\n",
    "x2 = np.arange(3.0)\n",
    "np.multiply(x1,x2)"
   ]
  },
  {
   "cell_type": "code",
   "execution_count": 6,
   "id": "d7d9445e-dcf3-4b89-a229-29077f3622d6",
   "metadata": {},
   "outputs": [
    {
     "name": "stderr",
     "output_type": "stream",
     "text": [
      "C:\\Users\\migue\\AppData\\Local\\Temp\\ipykernel_15856\\301499407.py:4: RuntimeWarning: divide by zero encountered in divide\n",
      "  np.divide(x1,x2)\n",
      "C:\\Users\\migue\\AppData\\Local\\Temp\\ipykernel_15856\\301499407.py:4: RuntimeWarning: invalid value encountered in divide\n",
      "  np.divide(x1,x2)\n"
     ]
    },
    {
     "data": {
      "text/plain": [
       "array([[nan, 1. , 1. ],\n",
       "       [inf, 4. , 2.5],\n",
       "       [inf, 7. , 4. ]])"
      ]
     },
     "execution_count": 6,
     "metadata": {},
     "output_type": "execute_result"
    }
   ],
   "source": [
    "x1 = np.arange(9.0).reshape((3, 3))\n",
    "\n",
    "x2 = np.arange(3.0)\n",
    "np.divide(x1,x2)"
   ]
  },
  {
   "cell_type": "code",
   "execution_count": 7,
   "id": "1dacc53c-4f8a-4e7b-a32b-70a1526526c8",
   "metadata": {},
   "outputs": [
    {
     "data": {
      "text/plain": [
       "array([  0.,   1.,   8.,  27.,  64., 125.])"
      ]
     },
     "execution_count": 7,
     "metadata": {},
     "output_type": "execute_result"
    }
   ],
   "source": [
    "x1 = range(6)\n",
    "np.float_power(x1, 3)"
   ]
  },
  {
   "cell_type": "code",
   "execution_count": 8,
   "id": "73c40716-19f9-455e-b614-fd16d41c09d5",
   "metadata": {},
   "outputs": [
    {
     "data": {
      "text/plain": [
       "array([-1,  0, -1,  1,  0,  1])"
      ]
     },
     "execution_count": 8,
     "metadata": {},
     "output_type": "execute_result"
    }
   ],
   "source": [
    "np.fmod([-3, -2, -1, 1, 2, 3], 2)"
   ]
  },
  {
   "cell_type": "code",
   "execution_count": 9,
   "id": "30278d6a-3340-43f4-a438-16c7dad45a53",
   "metadata": {},
   "outputs": [
    {
     "data": {
      "text/plain": [
       "array([1., 1.])"
      ]
     },
     "execution_count": 9,
     "metadata": {},
     "output_type": "execute_result"
    }
   ],
   "source": [
    "np.fmod([5, 3], [2, 2.])"
   ]
  },
  {
   "cell_type": "code",
   "execution_count": 10,
   "id": "44f20e80-e401-4f02-abf7-1a1561e1563f",
   "metadata": {},
   "outputs": [
    {
     "data": {
      "text/plain": [
       "array([0, 1])"
      ]
     },
     "execution_count": 10,
     "metadata": {},
     "output_type": "execute_result"
    }
   ],
   "source": [
    "np.remainder([4, 7], [2, 3])"
   ]
  },
  {
   "cell_type": "code",
   "execution_count": 11,
   "id": "e24815f7-a604-40e8-a91e-34921a6d7b48",
   "metadata": {},
   "outputs": [
    {
     "data": {
      "text/plain": [
       "(array([0. , 0.5]), array([0., 3.]))"
      ]
     },
     "execution_count": 11,
     "metadata": {},
     "output_type": "execute_result"
    }
   ],
   "source": [
    "np.modf([0, 3.5])"
   ]
  },
  {
   "cell_type": "code",
   "execution_count": 12,
   "id": "090ad224-deed-4344-b569-69ec4f9986c1",
   "metadata": {},
   "outputs": [
    {
     "data": {
      "text/plain": [
       "(array([0, 0, 0, 1, 1]), array([0, 1, 2, 0, 1]))"
      ]
     },
     "execution_count": 12,
     "metadata": {},
     "output_type": "execute_result"
    }
   ],
   "source": [
    "np.divmod(np.arange(5), 3)"
   ]
  },
  {
   "cell_type": "code",
   "execution_count": 13,
   "id": "bc3463c1-f3e3-4041-b7b4-0ed97c6ec586",
   "metadata": {},
   "outputs": [
    {
     "data": {
      "text/plain": [
       "array([0.        , 1.57079633, 0.78539816])"
      ]
     },
     "execution_count": 13,
     "metadata": {},
     "output_type": "execute_result"
    }
   ],
   "source": [
    "np.angle([1.0, 1.0j, 1+1j])"
   ]
  },
  {
   "cell_type": "code",
   "execution_count": 14,
   "id": "d78a7d95-f21f-4f25-b181-2f0074e3c040",
   "metadata": {},
   "outputs": [
    {
     "data": {
      "text/plain": [
       "np.float64(45.0)"
      ]
     },
     "execution_count": 14,
     "metadata": {},
     "output_type": "execute_result"
    }
   ],
   "source": [
    "np.angle(1+1j, deg=True)"
   ]
  },
  {
   "cell_type": "code",
   "execution_count": 15,
   "id": "b539a24a-cc8b-48e1-ae3c-a17cab2e7a97",
   "metadata": {},
   "outputs": [
    {
     "data": {
      "text/plain": [
       "array([ 0.        ,  3.14159265, -0.        , -3.14159265])"
      ]
     },
     "execution_count": 15,
     "metadata": {},
     "output_type": "execute_result"
    }
   ],
   "source": [
    "np.angle([0., -0., complex(0., -0.), complex(-0., -0.)]) "
   ]
  },
  {
   "cell_type": "code",
   "execution_count": 16,
   "id": "604a7557-59fc-4019-b67d-4a947c3fbb6d",
   "metadata": {},
   "outputs": [],
   "source": [
    "a = np.array([1+2j, 3+4j, 5+6j])"
   ]
  },
  {
   "cell_type": "code",
   "execution_count": 17,
   "id": "471fd89f-d463-4d65-87f4-4a96dee75705",
   "metadata": {},
   "outputs": [
    {
     "data": {
      "text/plain": [
       "array([1., 3., 5.])"
      ]
     },
     "execution_count": 17,
     "metadata": {},
     "output_type": "execute_result"
    }
   ],
   "source": [
    "a.real"
   ]
  },
  {
   "cell_type": "code",
   "execution_count": 18,
   "id": "955c5804-361a-4ad8-92c0-fcb645c5079c",
   "metadata": {},
   "outputs": [],
   "source": [
    "a = np.array([1+2j, 3+4j, 5+6j])"
   ]
  },
  {
   "cell_type": "code",
   "execution_count": 19,
   "id": "9b728a86-550f-43f6-8897-c6444f951d9f",
   "metadata": {},
   "outputs": [
    {
     "data": {
      "text/plain": [
       "array([2., 4., 6.])"
      ]
     },
     "execution_count": 19,
     "metadata": {},
     "output_type": "execute_result"
    }
   ],
   "source": [
    "a.imag"
   ]
  },
  {
   "cell_type": "code",
   "execution_count": 20,
   "id": "0f963dd3-db1d-4569-9440-df3dbf9de958",
   "metadata": {},
   "outputs": [
    {
     "data": {
      "text/plain": [
       "array([[1.-1.j, 0.-0.j],\n",
       "       [0.-0.j, 1.-1.j]])"
      ]
     },
     "execution_count": 20,
     "metadata": {},
     "output_type": "execute_result"
    }
   ],
   "source": [
    "x = np.eye(2) + 1j * np.eye(2)\n",
    "\n",
    "np.conjugate(x)"
   ]
  },
  {
   "cell_type": "code",
   "execution_count": 21,
   "id": "1f2d3df8-8ba2-4a54-9637-27809bad344e",
   "metadata": {},
   "outputs": [
    {
     "data": {
      "text/plain": [
       "array([2, 5, 4])"
      ]
     },
     "execution_count": 21,
     "metadata": {},
     "output_type": "execute_result"
    }
   ],
   "source": [
    "np.maximum([2, 3, 4], [1, 5, 2])"
   ]
  },
  {
   "cell_type": "code",
   "execution_count": 22,
   "id": "f0d63a18-5498-4cb6-9763-f65b752e5e7f",
   "metadata": {},
   "outputs": [],
   "source": [
    "a = np.arange(4).reshape((2,2))"
   ]
  },
  {
   "cell_type": "code",
   "execution_count": 23,
   "id": "561ecbba-0377-4524-ab57-0065b7e13481",
   "metadata": {},
   "outputs": [
    {
     "data": {
      "text/plain": [
       "np.int64(3)"
      ]
     },
     "execution_count": 23,
     "metadata": {},
     "output_type": "execute_result"
    }
   ],
   "source": [
    "np.max(a)"
   ]
  },
  {
   "cell_type": "code",
   "execution_count": 24,
   "id": "38b57da5-5c68-49f3-99bc-0654d59f8b0a",
   "metadata": {},
   "outputs": [
    {
     "data": {
      "text/plain": [
       "array([2, 3])"
      ]
     },
     "execution_count": 24,
     "metadata": {},
     "output_type": "execute_result"
    }
   ],
   "source": [
    "np.max(a, axis=0)"
   ]
  },
  {
   "cell_type": "code",
   "execution_count": 25,
   "id": "8d715ccb-181b-41b1-8ac9-d08b3183da2d",
   "metadata": {},
   "outputs": [
    {
     "data": {
      "text/plain": [
       "array([1, 3])"
      ]
     },
     "execution_count": 25,
     "metadata": {},
     "output_type": "execute_result"
    }
   ],
   "source": [
    "np.max(a, axis=1)"
   ]
  },
  {
   "cell_type": "code",
   "execution_count": 26,
   "id": "1d4cd6b7-9d00-4bd0-9fbd-274afd6c1c4b",
   "metadata": {},
   "outputs": [
    {
     "data": {
      "text/plain": [
       "array([2, 5, 4])"
      ]
     },
     "execution_count": 26,
     "metadata": {},
     "output_type": "execute_result"
    }
   ],
   "source": [
    "np.fmax([2, 3, 4], [1, 5, 2])"
   ]
  },
  {
   "cell_type": "code",
   "execution_count": 27,
   "id": "dbd7780d-ae2d-4ca4-ac99-b4efc97a4226",
   "metadata": {},
   "outputs": [],
   "source": [
    "a = np.array([[1, 2], [3, np.nan]])"
   ]
  },
  {
   "cell_type": "code",
   "execution_count": 28,
   "id": "f2389dd4-f840-4f2d-818b-08a608d68090",
   "metadata": {},
   "outputs": [
    {
     "data": {
      "text/plain": [
       "array([3., 2.])"
      ]
     },
     "execution_count": 28,
     "metadata": {},
     "output_type": "execute_result"
    }
   ],
   "source": [
    "np.nanmax(a, axis=0)"
   ]
  },
  {
   "cell_type": "code",
   "execution_count": 29,
   "id": "85966750-6b0f-46eb-bd30-6757896c1989",
   "metadata": {},
   "outputs": [
    {
     "data": {
      "text/plain": [
       "array([2., 3.])"
      ]
     },
     "execution_count": 29,
     "metadata": {},
     "output_type": "execute_result"
    }
   ],
   "source": [
    "np.nanmax(a, axis=1)"
   ]
  },
  {
   "cell_type": "code",
   "execution_count": 30,
   "id": "e01cc2c0-5fca-4f7d-bf90-5453ff385049",
   "metadata": {},
   "outputs": [
    {
     "data": {
      "text/plain": [
       "array([1, 3, 2])"
      ]
     },
     "execution_count": 30,
     "metadata": {},
     "output_type": "execute_result"
    }
   ],
   "source": [
    "np.minimum([2, 3, 4], [1, 5, 2])"
   ]
  },
  {
   "cell_type": "code",
   "execution_count": 31,
   "id": "0da5b89b-bc34-4a72-b737-e320a5bc800b",
   "metadata": {},
   "outputs": [],
   "source": [
    "a = np.arange(4).reshape((2,2))"
   ]
  },
  {
   "cell_type": "code",
   "execution_count": 32,
   "id": "1f2795c4-826d-4a04-9d17-ef4744e3d623",
   "metadata": {},
   "outputs": [
    {
     "data": {
      "text/plain": [
       "np.int64(0)"
      ]
     },
     "execution_count": 32,
     "metadata": {},
     "output_type": "execute_result"
    }
   ],
   "source": [
    "np.min(a)"
   ]
  },
  {
   "cell_type": "code",
   "execution_count": 33,
   "id": "2b4bf42b-fded-4a32-988a-caaa4ffe1a78",
   "metadata": {},
   "outputs": [
    {
     "data": {
      "text/plain": [
       "array([0, 1])"
      ]
     },
     "execution_count": 33,
     "metadata": {},
     "output_type": "execute_result"
    }
   ],
   "source": [
    "np.min(a, axis=0) "
   ]
  },
  {
   "cell_type": "code",
   "execution_count": 34,
   "id": "9a8f13dd-5ce1-4a2f-b858-106590b41220",
   "metadata": {},
   "outputs": [
    {
     "data": {
      "text/plain": [
       "array([0, 2])"
      ]
     },
     "execution_count": 34,
     "metadata": {},
     "output_type": "execute_result"
    }
   ],
   "source": [
    "np.min(a, axis=1)"
   ]
  },
  {
   "cell_type": "code",
   "execution_count": 35,
   "id": "63023560-4ea6-41c7-8225-6ab93ddc210a",
   "metadata": {},
   "outputs": [
    {
     "data": {
      "text/plain": [
       "array([1, 3, 2])"
      ]
     },
     "execution_count": 35,
     "metadata": {},
     "output_type": "execute_result"
    }
   ],
   "source": [
    "np.fmin([2, 3, 4], [1, 5, 2])"
   ]
  },
  {
   "cell_type": "code",
   "execution_count": 36,
   "id": "04946d03-6a37-427f-bbfc-f89828ba9e4e",
   "metadata": {},
   "outputs": [],
   "source": [
    "a = np.array([[1, 2], [3, np.nan]])"
   ]
  },
  {
   "cell_type": "code",
   "execution_count": 37,
   "id": "79ae4ace-8524-43cf-bd4e-5fcf43ecfabb",
   "metadata": {},
   "outputs": [
    {
     "data": {
      "text/plain": [
       "np.float64(1.0)"
      ]
     },
     "execution_count": 37,
     "metadata": {},
     "output_type": "execute_result"
    }
   ],
   "source": [
    "np.nanmin(a)"
   ]
  },
  {
   "cell_type": "code",
   "execution_count": 38,
   "id": "c3d4a076-dcc0-4651-8296-0622635dfd59",
   "metadata": {},
   "outputs": [
    {
     "data": {
      "text/plain": [
       "array([1., 2.])"
      ]
     },
     "execution_count": 38,
     "metadata": {},
     "output_type": "execute_result"
    }
   ],
   "source": [
    "np.nanmin(a, axis=0)"
   ]
  },
  {
   "cell_type": "code",
   "execution_count": 39,
   "id": "7c54becd-c18b-4f44-97e5-e840764acb82",
   "metadata": {},
   "outputs": [
    {
     "data": {
      "text/plain": [
       "array([1., 3.])"
      ]
     },
     "execution_count": 39,
     "metadata": {},
     "output_type": "execute_result"
    }
   ],
   "source": [
    "np.nanmin(a, axis=1)"
   ]
  },
  {
   "cell_type": "code",
   "execution_count": 40,
   "id": "4be400c0-7be4-4e51-983f-878e7daab177",
   "metadata": {},
   "outputs": [
    {
     "data": {
      "text/plain": [
       "array([0. , 1. , 2.5, 4. , 1.5])"
      ]
     },
     "execution_count": 40,
     "metadata": {},
     "output_type": "execute_result"
    }
   ],
   "source": [
    "np.convolve([1, 2, 3], [0, 1, 0.5])"
   ]
  },
  {
   "cell_type": "code",
   "execution_count": 41,
   "id": "95f75e33-b899-49cc-b358-5f9bdec0337b",
   "metadata": {},
   "outputs": [
    {
     "data": {
      "text/plain": [
       "array([1. , 2.5, 4. ])"
      ]
     },
     "execution_count": 41,
     "metadata": {},
     "output_type": "execute_result"
    }
   ],
   "source": [
    "np.convolve([1,2,3],[0,1,0.5], 'same')"
   ]
  },
  {
   "cell_type": "code",
   "execution_count": 42,
   "id": "3c8b43b2-9e2e-4b13-8594-e53415bfdb0d",
   "metadata": {},
   "outputs": [
    {
     "data": {
      "text/plain": [
       "array([2.5])"
      ]
     },
     "execution_count": 42,
     "metadata": {},
     "output_type": "execute_result"
    }
   ],
   "source": [
    "np.convolve([1,2,3],[0,1,0.5], 'valid')"
   ]
  },
  {
   "cell_type": "code",
   "execution_count": 43,
   "id": "ace7fd6e-2f82-4151-829a-04bc72157560",
   "metadata": {},
   "outputs": [],
   "source": [
    "a = np.arange(10)"
   ]
  },
  {
   "cell_type": "code",
   "execution_count": 44,
   "id": "8f83860f-c20d-4aa3-9583-ddb219ab053e",
   "metadata": {},
   "outputs": [
    {
     "data": {
      "text/plain": [
       "array([1, 1, 2, 3, 4, 5, 6, 7, 8, 8])"
      ]
     },
     "execution_count": 44,
     "metadata": {},
     "output_type": "execute_result"
    }
   ],
   "source": [
    "np.clip(a, 1, 8)"
   ]
  },
  {
   "cell_type": "code",
   "execution_count": 45,
   "id": "2982d2f7-9cb6-4d4b-8c38-d22e02bdbcc8",
   "metadata": {},
   "outputs": [
    {
     "data": {
      "text/plain": [
       "array([1., 2., 3.])"
      ]
     },
     "execution_count": 45,
     "metadata": {},
     "output_type": "execute_result"
    }
   ],
   "source": [
    "np.sqrt([1,4,9])"
   ]
  },
  {
   "cell_type": "code",
   "execution_count": 46,
   "id": "718483c7-cf44-43d7-84d7-5e29a5fe31c7",
   "metadata": {},
   "outputs": [
    {
     "data": {
      "text/plain": [
       "array([1., 2., 3.])"
      ]
     },
     "execution_count": 46,
     "metadata": {},
     "output_type": "execute_result"
    }
   ],
   "source": [
    "np.cbrt([1,8,27])"
   ]
  },
  {
   "cell_type": "code",
   "execution_count": 47,
   "id": "57d90e33-06c9-451d-9a52-8e342b21295c",
   "metadata": {},
   "outputs": [
    {
     "data": {
      "text/plain": [
       "array([-1.+0.j,  1.+0.j])"
      ]
     },
     "execution_count": 47,
     "metadata": {},
     "output_type": "execute_result"
    }
   ],
   "source": [
    "np.square([-1j, 1])"
   ]
  },
  {
   "cell_type": "code",
   "execution_count": 48,
   "id": "08931436-ba98-4f84-92fb-f40603e85d06",
   "metadata": {},
   "outputs": [],
   "source": [
    "x = np.array([-1.2, 1.2])"
   ]
  },
  {
   "cell_type": "code",
   "execution_count": 49,
   "id": "59714a54-b8e9-42fd-adca-a997c2e489df",
   "metadata": {},
   "outputs": [
    {
     "data": {
      "text/plain": [
       "array([1.2, 1.2])"
      ]
     },
     "execution_count": 49,
     "metadata": {},
     "output_type": "execute_result"
    }
   ],
   "source": [
    "np.absolute(x)"
   ]
  },
  {
   "cell_type": "code",
   "execution_count": 50,
   "id": "e16001f8-3b40-4545-b806-d2ed4e07cbc7",
   "metadata": {},
   "outputs": [],
   "source": [
    "import matplotlib.pyplot as plt"
   ]
  },
  {
   "cell_type": "code",
   "execution_count": 51,
   "id": "c0172926-bd92-4a14-a818-2771ecf0f35d",
   "metadata": {},
   "outputs": [],
   "source": [
    "x = np.linspace(start=-10, stop=10, num=101)"
   ]
  },
  {
   "cell_type": "code",
   "execution_count": 52,
   "id": "d98c2f7a-b69f-4e70-ba25-8b50dddfba70",
   "metadata": {},
   "outputs": [
    {
     "data": {
      "text/plain": [
       "[<matplotlib.lines.Line2D at 0x29438f6bc50>]"
      ]
     },
     "execution_count": 52,
     "metadata": {},
     "output_type": "execute_result"
    },
    {
     "data": {
      "image/png": "[encoded data removed]",
      "text/plain": [
       "<Figure size 640x480 with 1 Axes>"
      ]
     },
     "metadata": {},
     "output_type": "display_data"
    }
   ],
   "source": [
    "plt.plot(x, np.absolute(x))"
   ]
  },
  {
   "cell_type": "code",
   "execution_count": 53,
   "id": "d4a7a80e-3879-4123-b6c9-31853f797034",
   "metadata": {},
   "outputs": [],
   "source": [
    "plt.show()"
   ]
  },
  {
   "cell_type": "code",
   "execution_count": 54,
   "id": "931bf3a0-8cce-4bd2-8ef3-638db1161627",
   "metadata": {},
   "outputs": [],
   "source": [
    "xx = x + 1j * x[:, np.newaxis]"
   ]
  },
  {
   "cell_type": "code",
   "execution_count": 55,
   "id": "966673f2-95ae-44f7-bc04-8a19b9d7d193",
   "metadata": {},
   "outputs": [
    {
     "data": {
      "image/png": "[encoded data removed]",
      "text/plain": [
       "<Figure size 640x480 with 1 Axes>"
      ]
     },
     "metadata": {},
     "output_type": "display_data"
    }
   ],
   "source": [
    "plt.imshow(np.abs(xx), extent=[-10, 10, -10, 10], cmap='gray')\n",
    "plt.show()"
   ]
  },
  {
   "cell_type": "code",
   "execution_count": 56,
   "id": "76a55579-80aa-4a8f-903e-fe7871e7eded",
   "metadata": {},
   "outputs": [
    {
     "data": {
      "text/plain": [
       "np.float64(1.0)"
      ]
     },
     "execution_count": 56,
     "metadata": {},
     "output_type": "execute_result"
    }
   ],
   "source": [
    "np.fabs(-1)"
   ]
  },
  {
   "cell_type": "code",
   "execution_count": 57,
   "id": "b9f47d25-60d3-4092-bd95-073bcfa2350d",
   "metadata": {},
   "outputs": [
    {
     "data": {
      "text/plain": [
       "array([-1.,  1.])"
      ]
     },
     "execution_count": 57,
     "metadata": {},
     "output_type": "execute_result"
    }
   ],
   "source": [
    "np.sign([-5., 4.5])"
   ]
  },
  {
   "cell_type": "code",
   "execution_count": 58,
   "id": "49409a35-b32a-4c2e-9d37-728862145268",
   "metadata": {},
   "outputs": [
    {
     "data": {
      "text/plain": [
       "array([0. , 0.5, 1. ])"
      ]
     },
     "execution_count": 58,
     "metadata": {},
     "output_type": "execute_result"
    }
   ],
   "source": [
    "np.heaviside([-1.5, 0, 2.0], 0.5)"
   ]
  },
  {
   "cell_type": "code",
   "execution_count": 59,
   "id": "fe658df8-39d8-476c-a146-cbfd2b081c2b",
   "metadata": {},
   "outputs": [
    {
     "data": {
      "text/plain": [
       "np.float64(1.7976931348623157e+308)"
      ]
     },
     "execution_count": 59,
     "metadata": {},
     "output_type": "execute_result"
    }
   ],
   "source": [
    "np.nan_to_num(np.inf)"
   ]
  },
  {
   "cell_type": "code",
   "execution_count": 60,
   "id": "7c02d379-e382-45a5-95f2-3c465d7e1080",
   "metadata": {},
   "outputs": [
    {
     "data": {
      "text/plain": [
       "array([2.1, 5.2])"
      ]
     },
     "execution_count": 60,
     "metadata": {},
     "output_type": "execute_result"
    }
   ],
   "source": [
    "np.real_if_close([2.1 + 4e-14j, 5.2 + 3e-15j], tol=1000)"
   ]
  },
  {
   "cell_type": "code",
   "execution_count": 61,
   "id": "8df2e2f8-5340-4750-8e2b-501acca5d704",
   "metadata": {},
   "outputs": [
    {
     "data": {
      "text/plain": [
       "np.float64(1.0)"
      ]
     },
     "execution_count": 61,
     "metadata": {},
     "output_type": "execute_result"
    }
   ],
   "source": [
    "xp = [1, 2, 3]\n",
    "\n",
    "fp = [3, 2, 0]\n",
    "\n",
    "np.interp(2.5, xp, fp)"
   ]
  },
  {
   "cell_type": "code",
   "execution_count": 62,
   "id": "62ccfe5c-3960-48fa-964d-ce739be33f80",
   "metadata": {},
   "outputs": [
    {
     "data": {
      "image/png": "[encoded data removed]",
      "text/plain": [
       "<Figure size 640x480 with 1 Axes>"
      ]
     },
     "metadata": {},
     "output_type": "display_data"
    }
   ],
   "source": [
    "x = np.linspace(0, 2*np.pi, 10)\n",
    "\n",
    "y = np.sin(x)\n",
    "\n",
    "xvals = np.linspace(0, 2*np.pi, 50)\n",
    "\n",
    "yinterp = np.interp(xvals, x, y)\n",
    "plt.plot(x, y, 'o')\n",
    "plt.plot(xvals, yinterp, '-x')\n",
    "plt.show()"
   ]
  },
  {
   "cell_type": "code",
   "execution_count": 63,
   "id": "95f5da4a-c1c2-4b75-87ab-9545adbb69af",
   "metadata": {},
   "outputs": [
    {
     "data": {
      "text/plain": [
       "np.uint8(10)"
      ]
     },
     "execution_count": 63,
     "metadata": {},
     "output_type": "execute_result"
    }
   ],
   "source": [
    "np.bitwise_count(1023)"
   ]
  },
  {
   "cell_type": "code",
   "execution_count": 64,
   "id": "fb74dbf7-aba3-4a89-bde9-fe59eb88256c",
   "metadata": {},
   "outputs": [
    {
     "data": {
      "text/plain": [
       "(3, 2)"
      ]
     },
     "execution_count": 64,
     "metadata": {},
     "output_type": "execute_result"
    }
   ],
   "source": [
    "np.broadcast_shapes((1, 2), (3, 1), (3, 2))"
   ]
  },
  {
   "cell_type": "code",
   "execution_count": 65,
   "id": "973b2985-976a-4b1c-83f8-13d7b86ada58",
   "metadata": {},
   "outputs": [],
   "source": [
    "a = np.array([[1 + 2j, 3, -4], [-5j, 6, 0]], dtype=np.complex64)"
   ]
  },
  {
   "cell_type": "code",
   "execution_count": 66,
   "id": "09368059-b048-4c85-9a14-58b61489464d",
   "metadata": {},
   "outputs": [
    {
     "name": "stdout",
     "output_type": "stream",
     "text": [
      "class:  ndarray\n",
      "shape:  (2, 3)\n",
      "strides:  (24, 8)\n",
      "itemsize:  8\n",
      "aligned:  True\n",
      "contiguous:  True\n",
      "fortran:  False\n",
      "data pointer: 0x29434490270\n",
      "byteorder:  little\n",
      "byteswap:  False\n",
      "type: complex64\n"
     ]
    }
   ],
   "source": [
    "np.info(a)"
   ]
  },
  {
   "cell_type": "code",
   "execution_count": 67,
   "id": "ab3f52aa-71d8-4384-9feb-77e22f124a64",
   "metadata": {},
   "outputs": [
    {
     "data": {
      "text/latex": [
       "$x \\mapsto \\text{3.0} + \\text{2.0}\\,x + \\text{1.0}\\,x^{2}$"
      ],
      "text/plain": [
       "Polynomial([3., 2., 1.], domain=[-1.,  1.], window=[-1.,  1.], symbol='x')"
      ]
     },
     "execution_count": 67,
     "metadata": {},
     "output_type": "execute_result"
    }
   ],
   "source": [
    "p1d = np.poly1d([1, 2, 3])\n",
    "p = np.polynomial.Polynomial(p1d.coef[::-1])\n",
    "p"
   ]
  },
  {
   "cell_type": "code",
   "execution_count": 68,
   "id": "aae6ef3a-9bf0-4528-8f51-0235c96777c8",
   "metadata": {},
   "outputs": [
    {
     "data": {
      "text/plain": [
       "array([4., 4., 4.])"
      ]
     },
     "execution_count": 68,
     "metadata": {},
     "output_type": "execute_result"
    }
   ],
   "source": [
    "from numpy.polynomial import polynomial as P\n",
    "\n",
    "c1 = (1, 2, 3)\n",
    "\n",
    "c2 = (3, 2, 1)\n",
    "\n",
    "sum = P.polyadd(c1,c2); sum"
   ]
  },
  {
   "cell_type": "code",
   "execution_count": 69,
   "id": "b3cb8a3c-df23-4896-a881-1cdae8feb5bd",
   "metadata": {},
   "outputs": [
    {
     "data": {
      "text/plain": [
       "array([-2.,  0.,  2.])"
      ]
     },
     "execution_count": 69,
     "metadata": {},
     "output_type": "execute_result"
    }
   ],
   "source": [
    "from numpy.polynomial import polynomial as P\n",
    "\n",
    "c1 = (1, 2, 3)\n",
    "\n",
    "c2 = (3, 2, 1)\n",
    "\n",
    "P.polysub(c1,c2)"
   ]
  },
  {
   "cell_type": "code",
   "execution_count": 70,
   "id": "8e90b06b-18fb-4cd3-9c77-eaf29ffa6614",
   "metadata": {},
   "outputs": [
    {
     "data": {
      "text/plain": [
       "array([0., 1., 2., 3.])"
      ]
     },
     "execution_count": 70,
     "metadata": {},
     "output_type": "execute_result"
    }
   ],
   "source": [
    "from numpy.polynomial import polynomial as P\n",
    "\n",
    "c = (1, 2, 3)\n",
    "\n",
    "P.polymulx(c)"
   ]
  },
  {
   "cell_type": "code",
   "execution_count": 71,
   "id": "e38a0e44-b132-4a3b-aba1-a1c8b02448bb",
   "metadata": {},
   "outputs": [
    {
     "data": {
      "text/plain": [
       "(array([3.]), array([-8., -4.]))"
      ]
     },
     "execution_count": 71,
     "metadata": {},
     "output_type": "execute_result"
    }
   ],
   "source": [
    "from numpy.polynomial import polynomial as P\n",
    "\n",
    "c1 = (1, 2, 3)\n",
    "\n",
    "c2 = (3, 2, 1)\n",
    "\n",
    "P.polydiv(c1, c2)"
   ]
  },
  {
   "cell_type": "code",
   "execution_count": 72,
   "id": "0f18881e-a6fa-4193-9170-11ca2d568187",
   "metadata": {},
   "outputs": [
    {
     "data": {
      "text/plain": [
       "array([ 1.,  4., 10., 12.,  9.])"
      ]
     },
     "execution_count": 72,
     "metadata": {},
     "output_type": "execute_result"
    }
   ],
   "source": [
    "from numpy.polynomial import polynomial as P\n",
    "\n",
    "P.polypow([1, 2, 3], 2)"
   ]
  },
  {
   "cell_type": "code",
   "execution_count": 73,
   "id": "8642ff20-cd58-4328-99f5-af8feec30ed7",
   "metadata": {},
   "outputs": [
    {
     "data": {
      "text/plain": [
       "np.float64(6.0)"
      ]
     },
     "execution_count": 73,
     "metadata": {},
     "output_type": "execute_result"
    }
   ],
   "source": [
    "from numpy.polynomial.polynomial import polyval\n",
    "\n",
    "polyval(1, [1,2,3])"
   ]
  },
  {
   "cell_type": "code",
   "execution_count": 74,
   "id": "ca910d82-b6e4-4717-b2ce-2ccf90298b1e",
   "metadata": {},
   "outputs": [
    {
     "data": {
      "text/plain": [
       "np.float64(21.0)"
      ]
     },
     "execution_count": 74,
     "metadata": {},
     "output_type": "execute_result"
    }
   ],
   "source": [
    "from numpy.polynomial import polynomial as P\n",
    "\n",
    "c = ((1, 2, 3), (4, 5, 6))\n",
    "\n",
    "P.polyval2d(1, 1, c)"
   ]
  },
  {
   "cell_type": "code",
   "execution_count": 75,
   "id": "b0ca843c-64a7-47f7-a9d4-49a48324c17e",
   "metadata": {},
   "outputs": [
    {
     "data": {
      "text/plain": [
       "np.float64(45.0)"
      ]
     },
     "execution_count": 75,
     "metadata": {},
     "output_type": "execute_result"
    }
   ],
   "source": [
    "from numpy.polynomial import polynomial as P\n",
    "\n",
    "c = ((1, 2, 3), (4, 5, 6), (7, 8, 9))\n",
    "\n",
    "P.polyval3d(1, 1, 1, c)"
   ]
  },
  {
   "cell_type": "code",
   "execution_count": 76,
   "id": "484c8ddb-b4e5-4372-b2d0-f7bfbbcacade",
   "metadata": {},
   "outputs": [
    {
     "data": {
      "text/plain": [
       "array([[ 1.,  6.],\n",
       "       [ 5., 21.]])"
      ]
     },
     "execution_count": 76,
     "metadata": {},
     "output_type": "execute_result"
    }
   ],
   "source": [
    "from numpy.polynomial import polynomial as P\n",
    "\n",
    "c = ((1, 2, 3), (4, 5, 6))\n",
    "\n",
    "P.polygrid2d([0, 1], [0, 1], c)"
   ]
  },
  {
   "cell_type": "code",
   "execution_count": 77,
   "id": "41d5dc4f-d72b-4002-80c9-d90317128844",
   "metadata": {},
   "outputs": [
    {
     "data": {
      "text/plain": [
       "array([ 2.,  6., 12.])"
      ]
     },
     "execution_count": 77,
     "metadata": {},
     "output_type": "execute_result"
    }
   ],
   "source": [
    "from numpy.polynomial import polynomial as P\n",
    "\n",
    "c = (1, 2, 3, 4)\n",
    "\n",
    "P.polyder(c)"
   ]
  },
  {
   "cell_type": "code",
   "execution_count": 78,
   "id": "ecc17e94-3136-466e-9526-07980a496b93",
   "metadata": {},
   "outputs": [
    {
     "data": {
      "text/plain": [
       "array([0., 1., 1., 1.])"
      ]
     },
     "execution_count": 78,
     "metadata": {},
     "output_type": "execute_result"
    }
   ],
   "source": [
    "from numpy.polynomial import polynomial as P\n",
    "\n",
    "c = (1, 2, 3)\n",
    "\n",
    "P.polyint(c)"
   ]
  },
  {
   "cell_type": "code",
   "execution_count": 79,
   "id": "0a8ed452-2308-48d2-a4a1-8feb9546d777",
   "metadata": {},
   "outputs": [
    {
     "data": {
      "text/plain": [
       "array([ 0., -1.,  0.,  1.])"
      ]
     },
     "execution_count": 79,
     "metadata": {},
     "output_type": "execute_result"
    }
   ],
   "source": [
    "from numpy.polynomial import polynomial as P\n",
    "\n",
    "P.polyfromroots((-1,0,1))"
   ]
  },
  {
   "cell_type": "code",
   "execution_count": 80,
   "id": "eac82103-6ef0-4d61-8ec4-c66cedf3143d",
   "metadata": {},
   "outputs": [
    {
     "data": {
      "text/plain": [
       "array([-1.,  0.,  1.])"
      ]
     },
     "execution_count": 80,
     "metadata": {},
     "output_type": "execute_result"
    }
   ],
   "source": [
    "import numpy.polynomial.polynomial as poly\n",
    "\n",
    "poly.polyroots(poly.polyfromroots((-1,0,1)))"
   ]
  },
  {
   "cell_type": "code",
   "execution_count": 81,
   "id": "34de81b6-31e4-4f80-88c9-61d242d6c5c6",
   "metadata": {},
   "outputs": [],
   "source": [
    "I = np.eye(2)"
   ]
  },
  {
   "cell_type": "code",
   "execution_count": 82,
   "id": "2887c6e1-1a10-42d3-a0ed-e9dd0f9a5228",
   "metadata": {},
   "outputs": [
    {
     "data": {
      "text/plain": [
       "array([[1., 0.],\n",
       "       [0., 1.]])"
      ]
     },
     "execution_count": 82,
     "metadata": {},
     "output_type": "execute_result"
    }
   ],
   "source": [
    "I"
   ]
  },
  {
   "cell_type": "code",
   "execution_count": 83,
   "id": "7be4870e-8e26-4592-8426-f98f977dc239",
   "metadata": {},
   "outputs": [
    {
     "data": {
      "text/plain": [
       "np.float64(10.000000000000002)"
      ]
     },
     "execution_count": 83,
     "metadata": {},
     "output_type": "execute_result"
    }
   ],
   "source": [
    "A = np.array([[4, 7],\n",
    "              [2, 6]])\n",
    "np.linalg.det(A)"
   ]
  },
  {
   "cell_type": "code",
   "execution_count": 84,
   "id": "75c0331f-058e-4dde-ba26-d76c0b52f184",
   "metadata": {},
   "outputs": [
    {
     "data": {
      "text/plain": [
       "array([[ 0.6, -0.7],\n",
       "       [-0.2,  0.4]])"
      ]
     },
     "execution_count": 84,
     "metadata": {},
     "output_type": "execute_result"
    }
   ],
   "source": [
    "A_inv = np.linalg.inv(A)\n",
    "A_inv"
   ]
  },
  {
   "cell_type": "code",
   "execution_count": 85,
   "id": "1fba4326-c870-4396-a83d-ff2549f4bfe2",
   "metadata": {},
   "outputs": [
    {
     "data": {
      "text/plain": [
       "array([[4, 2],\n",
       "       [7, 6]])"
      ]
     },
     "execution_count": 85,
     "metadata": {},
     "output_type": "execute_result"
    }
   ],
   "source": [
    "np.transpose(A)"
   ]
  },
  {
   "cell_type": "code",
   "execution_count": 86,
   "id": "9de8a866-4658-42dc-bcb5-c3bc4a6e20a8",
   "metadata": {},
   "outputs": [
    {
     "data": {
      "text/plain": [
       "array([0., 0., 2.])"
      ]
     },
     "execution_count": 86,
     "metadata": {},
     "output_type": "execute_result"
    }
   ],
   "source": [
    "A = np.array([[1, 2, 3],\n",
    "              [2, 5, 2],\n",
    "              [6, -3, 1]])\n",
    "b = np.array([6, 4, 2])\n",
    "x = np.linalg.solve(A, b)\n",
    "x"
   ]
  },
  {
   "cell_type": "code",
   "execution_count": 87,
   "id": "53b00ec8-4a17-4d3f-8af6-4b5918ef34ad",
   "metadata": {},
   "outputs": [
    {
     "data": {
      "text/plain": [
       "array([ True,  True,  True])"
      ]
     },
     "execution_count": 87,
     "metadata": {},
     "output_type": "execute_result"
    }
   ],
   "source": [
    "A @ x == b"
   ]
  },
  {
   "cell_type": "code",
   "execution_count": 89,
   "id": "de7442cd-5903-43e8-9fcf-bb6b61b99a5f",
   "metadata": {},
   "outputs": [],
   "source": [
    "from pulp import *"
   ]
  },
  {
   "cell_type": "code",
   "execution_count": 91,
   "id": "25fdf7c2-1e0e-463d-880a-12f54053a126",
   "metadata": {},
   "outputs": [
    {
     "ename": "PulpSolverError",
     "evalue": "PuLP: cannot execute glpsol.exe",
     "output_type": "error",
     "traceback": [
      "\u001b[1;31m---------------------------------------------------------------------------\u001b[0m",
      "\u001b[1;31mPulpSolverError\u001b[0m                           Traceback (most recent call last)",
      "Cell \u001b[1;32mIn[91], line 9\u001b[0m\n\u001b[0;32m      7\u001b[0m prob \u001b[38;5;241m+\u001b[39m\u001b[38;5;241m=\u001b[39m x2\u001b[38;5;241m>\u001b[39m\u001b[38;5;241m=\u001b[39m\u001b[38;5;241m0\u001b[39m\n\u001b[0;32m      8\u001b[0m prob \u001b[38;5;241m+\u001b[39m\u001b[38;5;241m=\u001b[39m \u001b[38;5;241m50\u001b[39m\u001b[38;5;241m*\u001b[39mx1\u001b[38;5;241m+\u001b[39m\u001b[38;5;241m40\u001b[39m\u001b[38;5;241m*\u001b[39mx2\n\u001b[1;32m----> 9\u001b[0m status \u001b[38;5;241m=\u001b[39m prob\u001b[38;5;241m.\u001b[39msolve(GLPK(msg\u001b[38;5;241m=\u001b[39m\u001b[38;5;241m0\u001b[39m))\n\u001b[0;32m     10\u001b[0m LpStatus[status]\n",
      "File \u001b[1;32m~\\anaconda3\\Lib\\site-packages\\pulp\\pulp.py:2058\u001b[0m, in \u001b[0;36mLpProblem.solve\u001b[1;34m(self, solver, **kwargs)\u001b[0m\n\u001b[0;32m   2056\u001b[0m \u001b[38;5;66;03m# time it\u001b[39;00m\n\u001b[0;32m   2057\u001b[0m \u001b[38;5;28mself\u001b[39m\u001b[38;5;241m.\u001b[39mstartClock()\n\u001b[1;32m-> 2058\u001b[0m status \u001b[38;5;241m=\u001b[39m solver\u001b[38;5;241m.\u001b[39mactualSolve(\u001b[38;5;28mself\u001b[39m, \u001b[38;5;241m*\u001b[39m\u001b[38;5;241m*\u001b[39mkwargs)\n\u001b[0;32m   2059\u001b[0m \u001b[38;5;28mself\u001b[39m\u001b[38;5;241m.\u001b[39mstopClock()\n\u001b[0;32m   2060\u001b[0m \u001b[38;5;28mself\u001b[39m\u001b[38;5;241m.\u001b[39mrestoreObjective(wasNone, dummyVar)\n",
      "File \u001b[1;32m~\\anaconda3\\Lib\\site-packages\\pulp\\apis\\glpk_api.py:85\u001b[0m, in \u001b[0;36mGLPK_CMD.actualSolve\u001b[1;34m(self, lp)\u001b[0m\n\u001b[0;32m     83\u001b[0m \u001b[38;5;250m\u001b[39m\u001b[38;5;124;03m\"\"\"Solve a well formulated lp problem\"\"\"\u001b[39;00m\n\u001b[0;32m     84\u001b[0m \u001b[38;5;28;01mif\u001b[39;00m \u001b[38;5;129;01mnot\u001b[39;00m \u001b[38;5;28mself\u001b[39m\u001b[38;5;241m.\u001b[39mexecutable(\u001b[38;5;28mself\u001b[39m\u001b[38;5;241m.\u001b[39mpath):\n\u001b[1;32m---> 85\u001b[0m     \u001b[38;5;28;01mraise\u001b[39;00m PulpSolverError(\u001b[38;5;124m\"\u001b[39m\u001b[38;5;124mPuLP: cannot execute \u001b[39m\u001b[38;5;124m\"\u001b[39m \u001b[38;5;241m+\u001b[39m \u001b[38;5;28mself\u001b[39m\u001b[38;5;241m.\u001b[39mpath)\n\u001b[0;32m     86\u001b[0m tmpLp, tmpOut, tmpSol \u001b[38;5;241m=\u001b[39m \u001b[38;5;28mself\u001b[39m\u001b[38;5;241m.\u001b[39mcreate_tmp_files(lp\u001b[38;5;241m.\u001b[39mname, \u001b[38;5;124m\"\u001b[39m\u001b[38;5;124mlp\u001b[39m\u001b[38;5;124m\"\u001b[39m, \u001b[38;5;124m\"\u001b[39m\u001b[38;5;124mout\u001b[39m\u001b[38;5;124m\"\u001b[39m, \u001b[38;5;124m\"\u001b[39m\u001b[38;5;124msol\u001b[39m\u001b[38;5;124m\"\u001b[39m)\n\u001b[0;32m     87\u001b[0m lp\u001b[38;5;241m.\u001b[39mwriteLP(tmpLp, writeSOS\u001b[38;5;241m=\u001b[39m\u001b[38;5;241m0\u001b[39m)\n",
      "\u001b[1;31mPulpSolverError\u001b[0m: PuLP: cannot execute glpsol.exe"
     ]
    }
   ],
   "source": [
    "x1 = LpVariable(\"x1\", 0, 800)\n",
    "x2 = LpVariable(\"x2\", 0, 1000)\n",
    "prob = LpProblem(\"problem\", LpMaximize)\n",
    "prob += x1+1.5*x2 <= 750\n",
    "prob += 2*x1+x2 <= 1000\n",
    "prob += x1>=0\n",
    "prob += x2>=0\n",
    "prob += 50*x1+40*x2\n",
    "status = prob.solve(GLPK(msg=0))\n",
    "LpStatus[status]"
   ]
  },
  {
   "cell_type": "code",
   "execution_count": 93,
   "id": "458eb77e-d539-4aef-85b5-59240c2661eb",
   "metadata": {},
   "outputs": [],
   "source": [
    "from cvxopt import matrix, solvers"
   ]
  },
  {
   "cell_type": "code",
   "execution_count": 94,
   "id": "a6d48e46-50ab-4693-b54f-ce32ca80192d",
   "metadata": {},
   "outputs": [
    {
     "name": "stdout",
     "output_type": "stream",
     "text": [
      "     pcost       dcost       gap    pres   dres   k/t\n",
      " 0: -2.5472e+04 -3.6797e+04  5e+03  0e+00  3e-01  1e+00\n",
      " 1: -2.8720e+04 -2.9111e+04  1e+02  5e-16  9e-03  2e+01\n",
      " 2: -2.8750e+04 -2.8754e+04  1e+00  3e-16  9e-05  2e-01\n",
      " 3: -2.8750e+04 -2.8750e+04  1e-02  4e-17  9e-07  2e-03\n",
      " 4: -2.8750e+04 -2.8750e+04  1e-04  2e-16  9e-09  2e-05\n",
      "Optimal solution found.\n"
     ]
    }
   ],
   "source": [
    "A = matrix([[-1., -2., 1., 0.], # columna de x1\n",
    "            [-1.5, -1., 0., 1.]]) # columna de x2\n",
    "b = matrix([750., 1000., 0., 0.])\n",
    "c = matrix([50., 40.])\n",
    "sol=solvers.lp(c,A,b)"
   ]
  },
  {
   "cell_type": "code",
   "execution_count": 95,
   "id": "5889dbf9-21ab-4fb5-b34e-a790c98e07b5",
   "metadata": {},
   "outputs": [],
   "source": [
    "import pandas as pd"
   ]
  },
  {
   "cell_type": "code",
   "execution_count": 97,
   "id": "4429a7c2-246a-44b5-a6dd-9a478dc148c8",
   "metadata": {},
   "outputs": [
    {
     "data": {
      "text/plain": [
       "a     1\n",
       "b     2\n",
       "c     3\n",
       "d     4\n",
       "e     5\n",
       "f     6\n",
       "g     7\n",
       "i     8\n",
       "j     9\n",
       "h    10\n",
       "dtype: int64"
      ]
     },
     "execution_count": 97,
     "metadata": {},
     "output_type": "execute_result"
    }
   ],
   "source": [
    "serie = pd.Series([1,2,3,4,5,6,7,8,9,10],index=['a','b','c','d','e','f','g','i','j','h'])\n",
    "serie"
   ]
  },
  {
   "cell_type": "code",
   "execution_count": 98,
   "id": "cdb4a44d-238a-4a9a-9628-fb197853bd6f",
   "metadata": {},
   "outputs": [
    {
     "data": {
      "text/plain": [
       "a     1\n",
       "b     2\n",
       "c     3\n",
       "d     4\n",
       "e     5\n",
       "f     6\n",
       "g     7\n",
       "i     8\n",
       "j     9\n",
       "h    10\n",
       "dtype: int64"
      ]
     },
     "execution_count": 98,
     "metadata": {},
     "output_type": "execute_result"
    }
   ],
   "source": [
    "diccionario={'a':1,'b':2,'c':3,'d':4,'e':5,'f':6,'g':7,'i':8,'j':9,'h':10}\n",
    "serie = pd.Series(diccionario)\n",
    "serie"
   ]
  },
  {
   "cell_type": "code",
   "execution_count": 99,
   "id": "f16402c9-fe51-4ba6-bb02-0095af918064",
   "metadata": {},
   "outputs": [
    {
     "name": "stdout",
     "output_type": "stream",
     "text": [
      "0    22\n",
      "1    36\n",
      "2    57\n",
      "3    98\n",
      "4    52\n",
      "5    32\n",
      "6    45\n",
      "dtype: int64\n"
     ]
    }
   ],
   "source": [
    "mylist = [22,36,57,98,52,32,45]\n",
    "myarray = np.array(mylist)\n",
    "mySerie1 = pd.Series(data=myarray)\n",
    "print(mySerie1)"
   ]
  },
  {
   "cell_type": "code",
   "execution_count": 101,
   "id": "a1fffc72-944b-4230-a8db-c8e855bfe113",
   "metadata": {},
   "outputs": [
    {
     "name": "stdout",
     "output_type": "stream",
     "text": [
      "    0   1\n",
      "0  22  22\n",
      "1  36  36\n",
      "2  57  57\n",
      "3  98  98\n",
      "4  52  52\n",
      "5  32  32\n",
      "6  45  45\n"
     ]
    }
   ],
   "source": [
    "mylist = [22,36,57,98,52,32,45]\n",
    "myarray = np.array(mylist)\n",
    "mySerie1 = pd.Series(data=myarray)\n",
    "mySerie2 = pd.Series(data=myarray)\n",
    "mySerieCon = pd.concat([mySerie1,mySerie2],axis=1)\n",
    "print(mySerieCon)"
   ]
  },
  {
   "cell_type": "code",
   "execution_count": 102,
   "id": "c8473ecc-32bc-443c-869d-e7032edb091b",
   "metadata": {},
   "outputs": [
    {
     "data": {
      "text/plain": [
       "count     7.000000\n",
       "mean     48.857143\n",
       "std      24.754990\n",
       "min      22.000000\n",
       "25%      34.000000\n",
       "50%      45.000000\n",
       "75%      54.500000\n",
       "max      98.000000\n",
       "dtype: float64"
      ]
     },
     "execution_count": 102,
     "metadata": {},
     "output_type": "execute_result"
    }
   ],
   "source": [
    "mylist = [22,36,57,98,52,32,45]\n",
    "myarray = np.array(mylist)\n",
    "mySerie1 = pd.Series(data=myarray)\n",
    "mySerie1.describe()"
   ]
  },
  {
   "cell_type": "code",
   "execution_count": 103,
   "id": "1ebf4dac-a4f7-48a3-bb29-17f74462fb4a",
   "metadata": {},
   "outputs": [
    {
     "data": {
      "text/plain": [
       "count     7.000000\n",
       "mean     48.857143\n",
       "std      24.754990\n",
       "min      22.000000\n",
       "50%      45.000000\n",
       "max      98.000000\n",
       "dtype: float64"
      ]
     },
     "execution_count": 103,
     "metadata": {},
     "output_type": "execute_result"
    }
   ],
   "source": [
    "mySerie1.describe(percentiles=[0.5])"
   ]
  },
  {
   "cell_type": "code",
   "execution_count": 108,
   "id": "c2b21dd2-3938-4fc9-8506-e3005df68d5d",
   "metadata": {},
   "outputs": [
    {
     "data": {
      "text/plain": [
       "0    22\n",
       "1    32\n",
       "2    36\n",
       "3    45\n",
       "4    52\n",
       "5    57\n",
       "6    98\n",
       "dtype: int64"
      ]
     },
     "execution_count": 108,
     "metadata": {},
     "output_type": "execute_result"
    }
   ],
   "source": [
    "mySerie1.mode()"
   ]
  },
  {
   "cell_type": "code",
   "execution_count": 105,
   "id": "2d2ca8bd-7399-48dc-8ced-1c5e97688ced",
   "metadata": {},
   "outputs": [],
   "source": [
    "moda = pd.crosstab(index=mySerie1, columns=\"count\").to_numpy().max() "
   ]
  },
  {
   "cell_type": "code",
   "execution_count": 106,
   "id": "d32a450f-0176-4d25-bbdb-bb148815f815",
   "metadata": {},
   "outputs": [
    {
     "name": "stdout",
     "output_type": "stream",
     "text": [
      "1\n"
     ]
    }
   ],
   "source": [
    "print(moda)"
   ]
  },
  {
   "cell_type": "code",
   "execution_count": 107,
   "id": "65d168f6-2128-4304-9012-cf3b53a392d5",
   "metadata": {},
   "outputs": [
    {
     "ename": "NameError",
     "evalue": "name 'df' is not defined",
     "output_type": "error",
     "traceback": [
      "\u001b[1;31m---------------------------------------------------------------------------\u001b[0m",
      "\u001b[1;31mNameError\u001b[0m                                 Traceback (most recent call last)",
      "Cell \u001b[1;32mIn[107], line 1\u001b[0m\n\u001b[1;32m----> 1\u001b[0m pd\u001b[38;5;241m.\u001b[39mSeries(df[[\u001b[38;5;124m\"\u001b[39m\u001b[38;5;124muno\u001b[39m\u001b[38;5;124m\"\u001b[39m, \u001b[38;5;124m\"\u001b[39m\u001b[38;5;124mdos\u001b[39m\u001b[38;5;124m\"\u001b[39m, \u001b[38;5;124m\"\u001b[39m\u001b[38;5;124mtres\u001b[39m\u001b[38;5;124m\"\u001b[39m]]\u001b[38;5;241m.\u001b[39mvalues\u001b[38;5;241m.\u001b[39mflatten())\u001b[38;5;241m.\u001b[39mmode()[\u001b[38;5;241m0\u001b[39m]\n",
      "\u001b[1;31mNameError\u001b[0m: name 'df' is not defined"
     ]
    }
   ],
   "source": [
    "\n",
    "pd.Series(df[[\"uno\", \"dos\", \"tres\"]].values.flatten()).mode()[0]"
   ]
  },
  {
   "cell_type": "code",
   "execution_count": 109,
   "id": "0e537a54-426b-4f2e-b316-3a6b9eb5f8be",
   "metadata": {},
   "outputs": [],
   "source": [
    "df_exams=pd.read_csv(\"./db/StudentsPerformance.csv\")"
   ]
  },
  {
   "cell_type": "code",
   "execution_count": 110,
   "id": "6c52793f-2bad-4f3f-950f-626a5bc78288",
   "metadata": {},
   "outputs": [
    {
     "data": {
      "text/html": [
       "<div>\n",
       "<style scoped>\n",
       "    .dataframe tbody tr th:only-of-type {\n",
       "        vertical-align: middle;\n",
       "    }\n",
       "\n",
       "    .dataframe tbody tr th {\n",
       "        vertical-align: top;\n",
       "    }\n",
       "\n",
       "    .dataframe thead th {\n",
       "        text-align: right;\n",
       "    }\n",
       "</style>\n",
       "<table border=\"1\" class=\"dataframe\">\n",
       "  <thead>\n",
       "    <tr style=\"text-align: right;\">\n",
       "      <th></th>\n",
       "      <th>gender</th>\n",
       "      <th>race/ethnicity</th>\n",
       "      <th>parental level of education</th>\n",
       "      <th>lunch</th>\n",
       "      <th>test preparation course</th>\n",
       "      <th>math score</th>\n",
       "      <th>reading score</th>\n",
       "      <th>writing score</th>\n",
       "    </tr>\n",
       "  </thead>\n",
       "  <tbody>\n",
       "    <tr>\n",
       "      <th>0</th>\n",
       "      <td>female</td>\n",
       "      <td>group B</td>\n",
       "      <td>bachelor's degree</td>\n",
       "      <td>standard</td>\n",
       "      <td>none</td>\n",
       "      <td>72</td>\n",
       "      <td>72</td>\n",
       "      <td>74</td>\n",
       "    </tr>\n",
       "    <tr>\n",
       "      <th>1</th>\n",
       "      <td>female</td>\n",
       "      <td>group C</td>\n",
       "      <td>some college</td>\n",
       "      <td>standard</td>\n",
       "      <td>completed</td>\n",
       "      <td>69</td>\n",
       "      <td>90</td>\n",
       "      <td>88</td>\n",
       "    </tr>\n",
       "    <tr>\n",
       "      <th>2</th>\n",
       "      <td>female</td>\n",
       "      <td>group B</td>\n",
       "      <td>master's degree</td>\n",
       "      <td>standard</td>\n",
       "      <td>none</td>\n",
       "      <td>90</td>\n",
       "      <td>95</td>\n",
       "      <td>93</td>\n",
       "    </tr>\n",
       "    <tr>\n",
       "      <th>3</th>\n",
       "      <td>male</td>\n",
       "      <td>group A</td>\n",
       "      <td>associate's degree</td>\n",
       "      <td>free/reduced</td>\n",
       "      <td>none</td>\n",
       "      <td>47</td>\n",
       "      <td>57</td>\n",
       "      <td>44</td>\n",
       "    </tr>\n",
       "    <tr>\n",
       "      <th>4</th>\n",
       "      <td>male</td>\n",
       "      <td>group C</td>\n",
       "      <td>some college</td>\n",
       "      <td>standard</td>\n",
       "      <td>none</td>\n",
       "      <td>76</td>\n",
       "      <td>78</td>\n",
       "      <td>75</td>\n",
       "    </tr>\n",
       "    <tr>\n",
       "      <th>...</th>\n",
       "      <td>...</td>\n",
       "      <td>...</td>\n",
       "      <td>...</td>\n",
       "      <td>...</td>\n",
       "      <td>...</td>\n",
       "      <td>...</td>\n",
       "      <td>...</td>\n",
       "      <td>...</td>\n",
       "    </tr>\n",
       "    <tr>\n",
       "      <th>995</th>\n",
       "      <td>female</td>\n",
       "      <td>group E</td>\n",
       "      <td>master's degree</td>\n",
       "      <td>standard</td>\n",
       "      <td>completed</td>\n",
       "      <td>88</td>\n",
       "      <td>99</td>\n",
       "      <td>95</td>\n",
       "    </tr>\n",
       "    <tr>\n",
       "      <th>996</th>\n",
       "      <td>male</td>\n",
       "      <td>group C</td>\n",
       "      <td>high school</td>\n",
       "      <td>free/reduced</td>\n",
       "      <td>none</td>\n",
       "      <td>62</td>\n",
       "      <td>55</td>\n",
       "      <td>55</td>\n",
       "    </tr>\n",
       "    <tr>\n",
       "      <th>997</th>\n",
       "      <td>female</td>\n",
       "      <td>group C</td>\n",
       "      <td>high school</td>\n",
       "      <td>free/reduced</td>\n",
       "      <td>completed</td>\n",
       "      <td>59</td>\n",
       "      <td>71</td>\n",
       "      <td>65</td>\n",
       "    </tr>\n",
       "    <tr>\n",
       "      <th>998</th>\n",
       "      <td>female</td>\n",
       "      <td>group D</td>\n",
       "      <td>some college</td>\n",
       "      <td>standard</td>\n",
       "      <td>completed</td>\n",
       "      <td>68</td>\n",
       "      <td>78</td>\n",
       "      <td>77</td>\n",
       "    </tr>\n",
       "    <tr>\n",
       "      <th>999</th>\n",
       "      <td>female</td>\n",
       "      <td>group D</td>\n",
       "      <td>some college</td>\n",
       "      <td>free/reduced</td>\n",
       "      <td>none</td>\n",
       "      <td>77</td>\n",
       "      <td>86</td>\n",
       "      <td>86</td>\n",
       "    </tr>\n",
       "  </tbody>\n",
       "</table>\n",
       "<p>1000 rows × 8 columns</p>\n",
       "</div>"
      ],
      "text/plain": [
       "     gender race/ethnicity parental level of education         lunch  \\\n",
       "0    female        group B           bachelor's degree      standard   \n",
       "1    female        group C                some college      standard   \n",
       "2    female        group B             master's degree      standard   \n",
       "3      male        group A          associate's degree  free/reduced   \n",
       "4      male        group C                some college      standard   \n",
       "..      ...            ...                         ...           ...   \n",
       "995  female        group E             master's degree      standard   \n",
       "996    male        group C                 high school  free/reduced   \n",
       "997  female        group C                 high school  free/reduced   \n",
       "998  female        group D                some college      standard   \n",
       "999  female        group D                some college  free/reduced   \n",
       "\n",
       "    test preparation course  math score  reading score  writing score  \n",
       "0                      none          72             72             74  \n",
       "1                 completed          69             90             88  \n",
       "2                      none          90             95             93  \n",
       "3                      none          47             57             44  \n",
       "4                      none          76             78             75  \n",
       "..                      ...         ...            ...            ...  \n",
       "995               completed          88             99             95  \n",
       "996                    none          62             55             55  \n",
       "997               completed          59             71             65  \n",
       "998               completed          68             78             77  \n",
       "999                    none          77             86             86  \n",
       "\n",
       "[1000 rows x 8 columns]"
      ]
     },
     "execution_count": 110,
     "metadata": {},
     "output_type": "execute_result"
    }
   ],
   "source": [
    "df_exams"
   ]
  },
  {
   "cell_type": "code",
   "execution_count": 112,
   "id": "fcfe91e1-7cca-48f0-b8c0-ffa0fe1a32cb",
   "metadata": {},
   "outputs": [],
   "source": [
    "df_exams.reset_index(inplace=True)"
   ]
  },
  {
   "cell_type": "code",
   "execution_count": 114,
   "id": "d9de5163-8862-47b1-bfb9-f41c86512c30",
   "metadata": {},
   "outputs": [
    {
     "data": {
      "text/html": [
       "<div>\n",
       "<style scoped>\n",
       "    .dataframe tbody tr th:only-of-type {\n",
       "        vertical-align: middle;\n",
       "    }\n",
       "\n",
       "    .dataframe tbody tr th {\n",
       "        vertical-align: top;\n",
       "    }\n",
       "\n",
       "    .dataframe thead th {\n",
       "        text-align: right;\n",
       "    }\n",
       "</style>\n",
       "<table border=\"1\" class=\"dataframe\">\n",
       "  <thead>\n",
       "    <tr style=\"text-align: right;\">\n",
       "      <th></th>\n",
       "      <th>index</th>\n",
       "      <th>gender</th>\n",
       "      <th>race/ethnicity</th>\n",
       "      <th>parental level of education</th>\n",
       "      <th>lunch</th>\n",
       "      <th>test preparation course</th>\n",
       "      <th>math score</th>\n",
       "      <th>reading score</th>\n",
       "      <th>writing score</th>\n",
       "    </tr>\n",
       "  </thead>\n",
       "  <tbody>\n",
       "    <tr>\n",
       "      <th>0</th>\n",
       "      <td>0</td>\n",
       "      <td>female</td>\n",
       "      <td>group B</td>\n",
       "      <td>bachelor's degree</td>\n",
       "      <td>standard</td>\n",
       "      <td>none</td>\n",
       "      <td>72</td>\n",
       "      <td>72</td>\n",
       "      <td>74</td>\n",
       "    </tr>\n",
       "    <tr>\n",
       "      <th>1</th>\n",
       "      <td>1</td>\n",
       "      <td>female</td>\n",
       "      <td>group C</td>\n",
       "      <td>some college</td>\n",
       "      <td>standard</td>\n",
       "      <td>completed</td>\n",
       "      <td>69</td>\n",
       "      <td>90</td>\n",
       "      <td>88</td>\n",
       "    </tr>\n",
       "    <tr>\n",
       "      <th>2</th>\n",
       "      <td>2</td>\n",
       "      <td>female</td>\n",
       "      <td>group B</td>\n",
       "      <td>master's degree</td>\n",
       "      <td>standard</td>\n",
       "      <td>none</td>\n",
       "      <td>90</td>\n",
       "      <td>95</td>\n",
       "      <td>93</td>\n",
       "    </tr>\n",
       "    <tr>\n",
       "      <th>3</th>\n",
       "      <td>3</td>\n",
       "      <td>male</td>\n",
       "      <td>group A</td>\n",
       "      <td>associate's degree</td>\n",
       "      <td>free/reduced</td>\n",
       "      <td>none</td>\n",
       "      <td>47</td>\n",
       "      <td>57</td>\n",
       "      <td>44</td>\n",
       "    </tr>\n",
       "    <tr>\n",
       "      <th>4</th>\n",
       "      <td>4</td>\n",
       "      <td>male</td>\n",
       "      <td>group C</td>\n",
       "      <td>some college</td>\n",
       "      <td>standard</td>\n",
       "      <td>none</td>\n",
       "      <td>76</td>\n",
       "      <td>78</td>\n",
       "      <td>75</td>\n",
       "    </tr>\n",
       "    <tr>\n",
       "      <th>...</th>\n",
       "      <td>...</td>\n",
       "      <td>...</td>\n",
       "      <td>...</td>\n",
       "      <td>...</td>\n",
       "      <td>...</td>\n",
       "      <td>...</td>\n",
       "      <td>...</td>\n",
       "      <td>...</td>\n",
       "      <td>...</td>\n",
       "    </tr>\n",
       "    <tr>\n",
       "      <th>995</th>\n",
       "      <td>995</td>\n",
       "      <td>female</td>\n",
       "      <td>group E</td>\n",
       "      <td>master's degree</td>\n",
       "      <td>standard</td>\n",
       "      <td>completed</td>\n",
       "      <td>88</td>\n",
       "      <td>99</td>\n",
       "      <td>95</td>\n",
       "    </tr>\n",
       "    <tr>\n",
       "      <th>996</th>\n",
       "      <td>996</td>\n",
       "      <td>male</td>\n",
       "      <td>group C</td>\n",
       "      <td>high school</td>\n",
       "      <td>free/reduced</td>\n",
       "      <td>none</td>\n",
       "      <td>62</td>\n",
       "      <td>55</td>\n",
       "      <td>55</td>\n",
       "    </tr>\n",
       "    <tr>\n",
       "      <th>997</th>\n",
       "      <td>997</td>\n",
       "      <td>female</td>\n",
       "      <td>group C</td>\n",
       "      <td>high school</td>\n",
       "      <td>free/reduced</td>\n",
       "      <td>completed</td>\n",
       "      <td>59</td>\n",
       "      <td>71</td>\n",
       "      <td>65</td>\n",
       "    </tr>\n",
       "    <tr>\n",
       "      <th>998</th>\n",
       "      <td>998</td>\n",
       "      <td>female</td>\n",
       "      <td>group D</td>\n",
       "      <td>some college</td>\n",
       "      <td>standard</td>\n",
       "      <td>completed</td>\n",
       "      <td>68</td>\n",
       "      <td>78</td>\n",
       "      <td>77</td>\n",
       "    </tr>\n",
       "    <tr>\n",
       "      <th>999</th>\n",
       "      <td>999</td>\n",
       "      <td>female</td>\n",
       "      <td>group D</td>\n",
       "      <td>some college</td>\n",
       "      <td>free/reduced</td>\n",
       "      <td>none</td>\n",
       "      <td>77</td>\n",
       "      <td>86</td>\n",
       "      <td>86</td>\n",
       "    </tr>\n",
       "  </tbody>\n",
       "</table>\n",
       "<p>1000 rows × 9 columns</p>\n",
       "</div>"
      ],
      "text/plain": [
       "     index  gender race/ethnicity parental level of education         lunch  \\\n",
       "0        0  female        group B           bachelor's degree      standard   \n",
       "1        1  female        group C                some college      standard   \n",
       "2        2  female        group B             master's degree      standard   \n",
       "3        3    male        group A          associate's degree  free/reduced   \n",
       "4        4    male        group C                some college      standard   \n",
       "..     ...     ...            ...                         ...           ...   \n",
       "995    995  female        group E             master's degree      standard   \n",
       "996    996    male        group C                 high school  free/reduced   \n",
       "997    997  female        group C                 high school  free/reduced   \n",
       "998    998  female        group D                some college      standard   \n",
       "999    999  female        group D                some college  free/reduced   \n",
       "\n",
       "    test preparation course  math score  reading score  writing score  \n",
       "0                      none          72             72             74  \n",
       "1                 completed          69             90             88  \n",
       "2                      none          90             95             93  \n",
       "3                      none          47             57             44  \n",
       "4                      none          76             78             75  \n",
       "..                      ...         ...            ...            ...  \n",
       "995               completed          88             99             95  \n",
       "996                    none          62             55             55  \n",
       "997               completed          59             71             65  \n",
       "998               completed          68             78             77  \n",
       "999                    none          77             86             86  \n",
       "\n",
       "[1000 rows x 9 columns]"
      ]
     },
     "execution_count": 114,
     "metadata": {},
     "output_type": "execute_result"
    }
   ],
   "source": [
    "df_exams"
   ]
  },
  {
   "cell_type": "code",
   "execution_count": 116,
   "id": "41124848-072d-46f7-b015-83fc1eae4ffc",
   "metadata": {},
   "outputs": [
    {
     "data": {
      "text/html": [
       "<div>\n",
       "<style scoped>\n",
       "    .dataframe tbody tr th:only-of-type {\n",
       "        vertical-align: middle;\n",
       "    }\n",
       "\n",
       "    .dataframe tbody tr th {\n",
       "        vertical-align: top;\n",
       "    }\n",
       "\n",
       "    .dataframe thead th {\n",
       "        text-align: right;\n",
       "    }\n",
       "</style>\n",
       "<table border=\"1\" class=\"dataframe\">\n",
       "  <thead>\n",
       "    <tr style=\"text-align: right;\">\n",
       "      <th></th>\n",
       "      <th>gender</th>\n",
       "      <th>index</th>\n",
       "      <th>lunch</th>\n",
       "      <th>math score</th>\n",
       "      <th>parental level of education</th>\n",
       "      <th>race/ethnicity</th>\n",
       "      <th>reading score</th>\n",
       "      <th>test preparation course</th>\n",
       "      <th>writing score</th>\n",
       "    </tr>\n",
       "  </thead>\n",
       "  <tbody>\n",
       "    <tr>\n",
       "      <th>0</th>\n",
       "      <td>female</td>\n",
       "      <td>0</td>\n",
       "      <td>standard</td>\n",
       "      <td>72</td>\n",
       "      <td>bachelor's degree</td>\n",
       "      <td>group B</td>\n",
       "      <td>72</td>\n",
       "      <td>none</td>\n",
       "      <td>74</td>\n",
       "    </tr>\n",
       "    <tr>\n",
       "      <th>1</th>\n",
       "      <td>female</td>\n",
       "      <td>1</td>\n",
       "      <td>standard</td>\n",
       "      <td>69</td>\n",
       "      <td>some college</td>\n",
       "      <td>group C</td>\n",
       "      <td>90</td>\n",
       "      <td>completed</td>\n",
       "      <td>88</td>\n",
       "    </tr>\n",
       "    <tr>\n",
       "      <th>2</th>\n",
       "      <td>female</td>\n",
       "      <td>2</td>\n",
       "      <td>standard</td>\n",
       "      <td>90</td>\n",
       "      <td>master's degree</td>\n",
       "      <td>group B</td>\n",
       "      <td>95</td>\n",
       "      <td>none</td>\n",
       "      <td>93</td>\n",
       "    </tr>\n",
       "    <tr>\n",
       "      <th>3</th>\n",
       "      <td>male</td>\n",
       "      <td>3</td>\n",
       "      <td>free/reduced</td>\n",
       "      <td>47</td>\n",
       "      <td>associate's degree</td>\n",
       "      <td>group A</td>\n",
       "      <td>57</td>\n",
       "      <td>none</td>\n",
       "      <td>44</td>\n",
       "    </tr>\n",
       "    <tr>\n",
       "      <th>4</th>\n",
       "      <td>male</td>\n",
       "      <td>4</td>\n",
       "      <td>standard</td>\n",
       "      <td>76</td>\n",
       "      <td>some college</td>\n",
       "      <td>group C</td>\n",
       "      <td>78</td>\n",
       "      <td>none</td>\n",
       "      <td>75</td>\n",
       "    </tr>\n",
       "    <tr>\n",
       "      <th>...</th>\n",
       "      <td>...</td>\n",
       "      <td>...</td>\n",
       "      <td>...</td>\n",
       "      <td>...</td>\n",
       "      <td>...</td>\n",
       "      <td>...</td>\n",
       "      <td>...</td>\n",
       "      <td>...</td>\n",
       "      <td>...</td>\n",
       "    </tr>\n",
       "    <tr>\n",
       "      <th>995</th>\n",
       "      <td>female</td>\n",
       "      <td>995</td>\n",
       "      <td>standard</td>\n",
       "      <td>88</td>\n",
       "      <td>master's degree</td>\n",
       "      <td>group E</td>\n",
       "      <td>99</td>\n",
       "      <td>completed</td>\n",
       "      <td>95</td>\n",
       "    </tr>\n",
       "    <tr>\n",
       "      <th>996</th>\n",
       "      <td>male</td>\n",
       "      <td>996</td>\n",
       "      <td>free/reduced</td>\n",
       "      <td>62</td>\n",
       "      <td>high school</td>\n",
       "      <td>group C</td>\n",
       "      <td>55</td>\n",
       "      <td>none</td>\n",
       "      <td>55</td>\n",
       "    </tr>\n",
       "    <tr>\n",
       "      <th>997</th>\n",
       "      <td>female</td>\n",
       "      <td>997</td>\n",
       "      <td>free/reduced</td>\n",
       "      <td>59</td>\n",
       "      <td>high school</td>\n",
       "      <td>group C</td>\n",
       "      <td>71</td>\n",
       "      <td>completed</td>\n",
       "      <td>65</td>\n",
       "    </tr>\n",
       "    <tr>\n",
       "      <th>998</th>\n",
       "      <td>female</td>\n",
       "      <td>998</td>\n",
       "      <td>standard</td>\n",
       "      <td>68</td>\n",
       "      <td>some college</td>\n",
       "      <td>group D</td>\n",
       "      <td>78</td>\n",
       "      <td>completed</td>\n",
       "      <td>77</td>\n",
       "    </tr>\n",
       "    <tr>\n",
       "      <th>999</th>\n",
       "      <td>female</td>\n",
       "      <td>999</td>\n",
       "      <td>free/reduced</td>\n",
       "      <td>77</td>\n",
       "      <td>some college</td>\n",
       "      <td>group D</td>\n",
       "      <td>86</td>\n",
       "      <td>none</td>\n",
       "      <td>86</td>\n",
       "    </tr>\n",
       "  </tbody>\n",
       "</table>\n",
       "<p>2000 rows × 9 columns</p>\n",
       "</div>"
      ],
      "text/plain": [
       "     gender  index         lunch  math score parental level of education  \\\n",
       "0    female      0      standard          72           bachelor's degree   \n",
       "1    female      1      standard          69                some college   \n",
       "2    female      2      standard          90             master's degree   \n",
       "3      male      3  free/reduced          47          associate's degree   \n",
       "4      male      4      standard          76                some college   \n",
       "..      ...    ...           ...         ...                         ...   \n",
       "995  female    995      standard          88             master's degree   \n",
       "996    male    996  free/reduced          62                 high school   \n",
       "997  female    997  free/reduced          59                 high school   \n",
       "998  female    998      standard          68                some college   \n",
       "999  female    999  free/reduced          77                some college   \n",
       "\n",
       "    race/ethnicity  reading score test preparation course  writing score  \n",
       "0          group B             72                    none             74  \n",
       "1          group C             90               completed             88  \n",
       "2          group B             95                    none             93  \n",
       "3          group A             57                    none             44  \n",
       "4          group C             78                    none             75  \n",
       "..             ...            ...                     ...            ...  \n",
       "995        group E             99               completed             95  \n",
       "996        group C             55                    none             55  \n",
       "997        group C             71               completed             65  \n",
       "998        group D             78               completed             77  \n",
       "999        group D             86                    none             86  \n",
       "\n",
       "[2000 rows x 9 columns]"
      ]
     },
     "execution_count": 116,
     "metadata": {},
     "output_type": "execute_result"
    }
   ],
   "source": [
    "pd.concat([df_exams,df_exams],axis=0,sort=True)"
   ]
  },
  {
   "cell_type": "code",
   "execution_count": 117,
   "id": "3c5d325f-b1d7-47b5-b4e2-e3853849245e",
   "metadata": {},
   "outputs": [
    {
     "data": {
      "text/html": [
       "<div>\n",
       "<style scoped>\n",
       "    .dataframe tbody tr th:only-of-type {\n",
       "        vertical-align: middle;\n",
       "    }\n",
       "\n",
       "    .dataframe tbody tr th {\n",
       "        vertical-align: top;\n",
       "    }\n",
       "\n",
       "    .dataframe thead th {\n",
       "        text-align: right;\n",
       "    }\n",
       "</style>\n",
       "<table border=\"1\" class=\"dataframe\">\n",
       "  <thead>\n",
       "    <tr style=\"text-align: right;\">\n",
       "      <th></th>\n",
       "      <th>a</th>\n",
       "      <th>b</th>\n",
       "      <th>c</th>\n",
       "    </tr>\n",
       "  </thead>\n",
       "  <tbody>\n",
       "    <tr>\n",
       "      <th>0</th>\n",
       "      <td>foo</td>\n",
       "      <td>1</td>\n",
       "      <td>3</td>\n",
       "    </tr>\n",
       "  </tbody>\n",
       "</table>\n",
       "</div>"
      ],
      "text/plain": [
       "     a  b  c\n",
       "0  foo  1  3"
      ]
     },
     "execution_count": 117,
     "metadata": {},
     "output_type": "execute_result"
    }
   ],
   "source": [
    "df1 = pd.DataFrame({'a': ['foo', 'bar'], 'b': [1, 2]})\n",
    "\n",
    "df2 = pd.DataFrame({'a': ['foo', 'baz'], 'c': [3, 4]})\n",
    "df1.merge(df2, how='inner', on='a')"
   ]
  },
  {
   "cell_type": "code",
   "execution_count": 118,
   "id": "5f6922b9-4ed9-4f50-9bb4-a183397bf9fe",
   "metadata": {},
   "outputs": [
    {
     "data": {
      "text/html": [
       "<div>\n",
       "<style scoped>\n",
       "    .dataframe tbody tr th:only-of-type {\n",
       "        vertical-align: middle;\n",
       "    }\n",
       "\n",
       "    .dataframe tbody tr th {\n",
       "        vertical-align: top;\n",
       "    }\n",
       "\n",
       "    .dataframe thead th {\n",
       "        text-align: right;\n",
       "    }\n",
       "</style>\n",
       "<table border=\"1\" class=\"dataframe\">\n",
       "  <thead>\n",
       "    <tr style=\"text-align: right;\">\n",
       "      <th></th>\n",
       "      <th>a</th>\n",
       "      <th>b</th>\n",
       "      <th>c</th>\n",
       "    </tr>\n",
       "  </thead>\n",
       "  <tbody>\n",
       "    <tr>\n",
       "      <th>0</th>\n",
       "      <td>bar</td>\n",
       "      <td>2.0</td>\n",
       "      <td>NaN</td>\n",
       "    </tr>\n",
       "    <tr>\n",
       "      <th>1</th>\n",
       "      <td>baz</td>\n",
       "      <td>NaN</td>\n",
       "      <td>4.0</td>\n",
       "    </tr>\n",
       "    <tr>\n",
       "      <th>2</th>\n",
       "      <td>foo</td>\n",
       "      <td>1.0</td>\n",
       "      <td>3.0</td>\n",
       "    </tr>\n",
       "  </tbody>\n",
       "</table>\n",
       "</div>"
      ],
      "text/plain": [
       "     a    b    c\n",
       "0  bar  2.0  NaN\n",
       "1  baz  NaN  4.0\n",
       "2  foo  1.0  3.0"
      ]
     },
     "execution_count": 118,
     "metadata": {},
     "output_type": "execute_result"
    }
   ],
   "source": [
    "df1 = pd.DataFrame({'a': ['foo', 'bar'], 'b': [1, 2]})\n",
    "\n",
    "df2 = pd.DataFrame({'a': ['foo', 'baz'], 'c': [3, 4]})\n",
    "df1.merge(df2, how='outer', on='a')"
   ]
  },
  {
   "cell_type": "code",
   "execution_count": 119,
   "id": "7058b5e6-6c72-4a13-807d-e7286567c899",
   "metadata": {},
   "outputs": [
    {
     "data": {
      "text/html": [
       "<div>\n",
       "<style scoped>\n",
       "    .dataframe tbody tr th:only-of-type {\n",
       "        vertical-align: middle;\n",
       "    }\n",
       "\n",
       "    .dataframe tbody tr th {\n",
       "        vertical-align: top;\n",
       "    }\n",
       "\n",
       "    .dataframe thead th {\n",
       "        text-align: right;\n",
       "    }\n",
       "</style>\n",
       "<table border=\"1\" class=\"dataframe\">\n",
       "  <thead>\n",
       "    <tr style=\"text-align: right;\">\n",
       "      <th></th>\n",
       "      <th>a</th>\n",
       "      <th>b</th>\n",
       "      <th>c</th>\n",
       "    </tr>\n",
       "  </thead>\n",
       "  <tbody>\n",
       "    <tr>\n",
       "      <th>0</th>\n",
       "      <td>foo</td>\n",
       "      <td>1</td>\n",
       "      <td>3.0</td>\n",
       "    </tr>\n",
       "    <tr>\n",
       "      <th>1</th>\n",
       "      <td>bar</td>\n",
       "      <td>2</td>\n",
       "      <td>NaN</td>\n",
       "    </tr>\n",
       "  </tbody>\n",
       "</table>\n",
       "</div>"
      ],
      "text/plain": [
       "     a  b    c\n",
       "0  foo  1  3.0\n",
       "1  bar  2  NaN"
      ]
     },
     "execution_count": 119,
     "metadata": {},
     "output_type": "execute_result"
    }
   ],
   "source": [
    "df1 = pd.DataFrame({'a': ['foo', 'bar'], 'b': [1, 2]})\n",
    "\n",
    "df2 = pd.DataFrame({'a': ['foo', 'baz'], 'c': [3, 4]})\n",
    "df1.merge(df2, how='left', on='a')"
   ]
  },
  {
   "cell_type": "code",
   "execution_count": 120,
   "id": "de48da86-b90f-4d6d-88f7-0842e3fbfa18",
   "metadata": {},
   "outputs": [
    {
     "data": {
      "text/html": [
       "<div>\n",
       "<style scoped>\n",
       "    .dataframe tbody tr th:only-of-type {\n",
       "        vertical-align: middle;\n",
       "    }\n",
       "\n",
       "    .dataframe tbody tr th {\n",
       "        vertical-align: top;\n",
       "    }\n",
       "\n",
       "    .dataframe thead th {\n",
       "        text-align: right;\n",
       "    }\n",
       "</style>\n",
       "<table border=\"1\" class=\"dataframe\">\n",
       "  <thead>\n",
       "    <tr style=\"text-align: right;\">\n",
       "      <th></th>\n",
       "      <th>a</th>\n",
       "      <th>b</th>\n",
       "      <th>c</th>\n",
       "    </tr>\n",
       "  </thead>\n",
       "  <tbody>\n",
       "    <tr>\n",
       "      <th>0</th>\n",
       "      <td>foo</td>\n",
       "      <td>1.0</td>\n",
       "      <td>3</td>\n",
       "    </tr>\n",
       "    <tr>\n",
       "      <th>1</th>\n",
       "      <td>baz</td>\n",
       "      <td>NaN</td>\n",
       "      <td>4</td>\n",
       "    </tr>\n",
       "  </tbody>\n",
       "</table>\n",
       "</div>"
      ],
      "text/plain": [
       "     a    b  c\n",
       "0  foo  1.0  3\n",
       "1  baz  NaN  4"
      ]
     },
     "execution_count": 120,
     "metadata": {},
     "output_type": "execute_result"
    }
   ],
   "source": [
    "df1 = pd.DataFrame({'a': ['foo', 'bar'], 'b': [1, 2]})\n",
    "\n",
    "df2 = pd.DataFrame({'a': ['foo', 'baz'], 'c': [3, 4]})\n",
    "df1.merge(df2, how='right', on='a')"
   ]
  },
  {
   "cell_type": "code",
   "execution_count": 123,
   "id": "200f2a55-c45b-4fda-a94b-260134d56662",
   "metadata": {},
   "outputs": [
    {
     "data": {
      "text/html": [
       "<div>\n",
       "<style scoped>\n",
       "    .dataframe tbody tr th:only-of-type {\n",
       "        vertical-align: middle;\n",
       "    }\n",
       "\n",
       "    .dataframe tbody tr th {\n",
       "        vertical-align: top;\n",
       "    }\n",
       "\n",
       "    .dataframe thead th {\n",
       "        text-align: right;\n",
       "    }\n",
       "</style>\n",
       "<table border=\"1\" class=\"dataframe\">\n",
       "  <thead>\n",
       "    <tr style=\"text-align: right;\">\n",
       "      <th></th>\n",
       "      <th>key_caller</th>\n",
       "      <th>A</th>\n",
       "      <th>key_other</th>\n",
       "      <th>B</th>\n",
       "    </tr>\n",
       "  </thead>\n",
       "  <tbody>\n",
       "    <tr>\n",
       "      <th>0</th>\n",
       "      <td>K0</td>\n",
       "      <td>A0</td>\n",
       "      <td>K0</td>\n",
       "      <td>B0</td>\n",
       "    </tr>\n",
       "    <tr>\n",
       "      <th>1</th>\n",
       "      <td>K1</td>\n",
       "      <td>A1</td>\n",
       "      <td>K1</td>\n",
       "      <td>B1</td>\n",
       "    </tr>\n",
       "    <tr>\n",
       "      <th>2</th>\n",
       "      <td>K2</td>\n",
       "      <td>A2</td>\n",
       "      <td>K2</td>\n",
       "      <td>B2</td>\n",
       "    </tr>\n",
       "    <tr>\n",
       "      <th>3</th>\n",
       "      <td>K3</td>\n",
       "      <td>A3</td>\n",
       "      <td>NaN</td>\n",
       "      <td>NaN</td>\n",
       "    </tr>\n",
       "    <tr>\n",
       "      <th>4</th>\n",
       "      <td>K4</td>\n",
       "      <td>A4</td>\n",
       "      <td>NaN</td>\n",
       "      <td>NaN</td>\n",
       "    </tr>\n",
       "    <tr>\n",
       "      <th>5</th>\n",
       "      <td>K5</td>\n",
       "      <td>A5</td>\n",
       "      <td>NaN</td>\n",
       "      <td>NaN</td>\n",
       "    </tr>\n",
       "  </tbody>\n",
       "</table>\n",
       "</div>"
      ],
      "text/plain": [
       "  key_caller   A key_other    B\n",
       "0         K0  A0        K0   B0\n",
       "1         K1  A1        K1   B1\n",
       "2         K2  A2        K2   B2\n",
       "3         K3  A3       NaN  NaN\n",
       "4         K4  A4       NaN  NaN\n",
       "5         K5  A5       NaN  NaN"
      ]
     },
     "execution_count": 123,
     "metadata": {},
     "output_type": "execute_result"
    }
   ],
   "source": [
    "df = pd.DataFrame({'key': ['K0', 'K1', 'K2', 'K3', 'K4', 'K5'],\n",
    "\n",
    "                   'A': ['A0', 'A1', 'A2', 'A3', 'A4', 'A5']})\n",
    "other = pd.DataFrame({'key': ['K0', 'K1', 'K2'],\n",
    "\n",
    "                      'B': ['B0', 'B1', 'B2']})\n",
    "df.join(other, lsuffix='_caller', rsuffix='_other')"
   ]
  },
  {
   "cell_type": "code",
   "execution_count": 124,
   "id": "b5a1cac5-e94b-461b-9c7e-51482e1bae81",
   "metadata": {},
   "outputs": [
    {
     "data": {
      "text/html": [
       "<div>\n",
       "<style scoped>\n",
       "    .dataframe tbody tr th:only-of-type {\n",
       "        vertical-align: middle;\n",
       "    }\n",
       "\n",
       "    .dataframe tbody tr th {\n",
       "        vertical-align: top;\n",
       "    }\n",
       "\n",
       "    .dataframe thead th {\n",
       "        text-align: right;\n",
       "    }\n",
       "</style>\n",
       "<table border=\"1\" class=\"dataframe\">\n",
       "  <thead>\n",
       "    <tr style=\"text-align: right;\">\n",
       "      <th></th>\n",
       "      <th>A</th>\n",
       "      <th>B</th>\n",
       "    </tr>\n",
       "    <tr>\n",
       "      <th>key</th>\n",
       "      <th></th>\n",
       "      <th></th>\n",
       "    </tr>\n",
       "  </thead>\n",
       "  <tbody>\n",
       "    <tr>\n",
       "      <th>K0</th>\n",
       "      <td>A0</td>\n",
       "      <td>B0</td>\n",
       "    </tr>\n",
       "    <tr>\n",
       "      <th>K1</th>\n",
       "      <td>A1</td>\n",
       "      <td>B1</td>\n",
       "    </tr>\n",
       "    <tr>\n",
       "      <th>K2</th>\n",
       "      <td>A2</td>\n",
       "      <td>B2</td>\n",
       "    </tr>\n",
       "    <tr>\n",
       "      <th>K3</th>\n",
       "      <td>A3</td>\n",
       "      <td>NaN</td>\n",
       "    </tr>\n",
       "    <tr>\n",
       "      <th>K4</th>\n",
       "      <td>A4</td>\n",
       "      <td>NaN</td>\n",
       "    </tr>\n",
       "    <tr>\n",
       "      <th>K5</th>\n",
       "      <td>A5</td>\n",
       "      <td>NaN</td>\n",
       "    </tr>\n",
       "  </tbody>\n",
       "</table>\n",
       "</div>"
      ],
      "text/plain": [
       "      A    B\n",
       "key         \n",
       "K0   A0   B0\n",
       "K1   A1   B1\n",
       "K2   A2   B2\n",
       "K3   A3  NaN\n",
       "K4   A4  NaN\n",
       "K5   A5  NaN"
      ]
     },
     "execution_count": 124,
     "metadata": {},
     "output_type": "execute_result"
    }
   ],
   "source": [
    "df.set_index('key').join(other.set_index('key'))"
   ]
  },
  {
   "cell_type": "code",
   "execution_count": 125,
   "id": "ff8459f3-4138-4986-838c-ef7af2bfc6e1",
   "metadata": {},
   "outputs": [
    {
     "data": {
      "text/html": [
       "<div>\n",
       "<style scoped>\n",
       "    .dataframe tbody tr th:only-of-type {\n",
       "        vertical-align: middle;\n",
       "    }\n",
       "\n",
       "    .dataframe tbody tr th {\n",
       "        vertical-align: top;\n",
       "    }\n",
       "\n",
       "    .dataframe thead th {\n",
       "        text-align: right;\n",
       "    }\n",
       "</style>\n",
       "<table border=\"1\" class=\"dataframe\">\n",
       "  <thead>\n",
       "    <tr style=\"text-align: right;\">\n",
       "      <th></th>\n",
       "      <th>key</th>\n",
       "      <th>A</th>\n",
       "      <th>B</th>\n",
       "    </tr>\n",
       "  </thead>\n",
       "  <tbody>\n",
       "    <tr>\n",
       "      <th>0</th>\n",
       "      <td>K0</td>\n",
       "      <td>A0</td>\n",
       "      <td>B0</td>\n",
       "    </tr>\n",
       "    <tr>\n",
       "      <th>1</th>\n",
       "      <td>K1</td>\n",
       "      <td>A1</td>\n",
       "      <td>B1</td>\n",
       "    </tr>\n",
       "    <tr>\n",
       "      <th>2</th>\n",
       "      <td>K2</td>\n",
       "      <td>A2</td>\n",
       "      <td>B2</td>\n",
       "    </tr>\n",
       "    <tr>\n",
       "      <th>3</th>\n",
       "      <td>K3</td>\n",
       "      <td>A3</td>\n",
       "      <td>NaN</td>\n",
       "    </tr>\n",
       "    <tr>\n",
       "      <th>4</th>\n",
       "      <td>K4</td>\n",
       "      <td>A4</td>\n",
       "      <td>NaN</td>\n",
       "    </tr>\n",
       "    <tr>\n",
       "      <th>5</th>\n",
       "      <td>K5</td>\n",
       "      <td>A5</td>\n",
       "      <td>NaN</td>\n",
       "    </tr>\n",
       "  </tbody>\n",
       "</table>\n",
       "</div>"
      ],
      "text/plain": [
       "  key   A    B\n",
       "0  K0  A0   B0\n",
       "1  K1  A1   B1\n",
       "2  K2  A2   B2\n",
       "3  K3  A3  NaN\n",
       "4  K4  A4  NaN\n",
       "5  K5  A5  NaN"
      ]
     },
     "execution_count": 125,
     "metadata": {},
     "output_type": "execute_result"
    }
   ],
   "source": [
    "df.join(other.set_index('key'), on='key')"
   ]
  },
  {
   "cell_type": "code",
   "execution_count": 126,
   "id": "cf298687-a814-40a4-8e07-335503ca1d76",
   "metadata": {},
   "outputs": [
    {
     "data": {
      "text/html": [
       "<div>\n",
       "<style scoped>\n",
       "    .dataframe tbody tr th:only-of-type {\n",
       "        vertical-align: middle;\n",
       "    }\n",
       "\n",
       "    .dataframe tbody tr th {\n",
       "        vertical-align: top;\n",
       "    }\n",
       "\n",
       "    .dataframe thead th {\n",
       "        text-align: right;\n",
       "    }\n",
       "</style>\n",
       "<table border=\"1\" class=\"dataframe\">\n",
       "  <thead>\n",
       "    <tr style=\"text-align: right;\">\n",
       "      <th></th>\n",
       "      <th>key</th>\n",
       "      <th>A</th>\n",
       "      <th>B</th>\n",
       "    </tr>\n",
       "  </thead>\n",
       "  <tbody>\n",
       "    <tr>\n",
       "      <th>0</th>\n",
       "      <td>K0</td>\n",
       "      <td>A0</td>\n",
       "      <td>B0</td>\n",
       "    </tr>\n",
       "    <tr>\n",
       "      <th>1</th>\n",
       "      <td>K1</td>\n",
       "      <td>A1</td>\n",
       "      <td>B1</td>\n",
       "    </tr>\n",
       "    <tr>\n",
       "      <th>2</th>\n",
       "      <td>K1</td>\n",
       "      <td>A2</td>\n",
       "      <td>B1</td>\n",
       "    </tr>\n",
       "    <tr>\n",
       "      <th>3</th>\n",
       "      <td>K3</td>\n",
       "      <td>A3</td>\n",
       "      <td>NaN</td>\n",
       "    </tr>\n",
       "    <tr>\n",
       "      <th>4</th>\n",
       "      <td>K0</td>\n",
       "      <td>A4</td>\n",
       "      <td>B0</td>\n",
       "    </tr>\n",
       "    <tr>\n",
       "      <th>5</th>\n",
       "      <td>K1</td>\n",
       "      <td>A5</td>\n",
       "      <td>B1</td>\n",
       "    </tr>\n",
       "  </tbody>\n",
       "</table>\n",
       "</div>"
      ],
      "text/plain": [
       "  key   A    B\n",
       "0  K0  A0   B0\n",
       "1  K1  A1   B1\n",
       "2  K1  A2   B1\n",
       "3  K3  A3  NaN\n",
       "4  K0  A4   B0\n",
       "5  K1  A5   B1"
      ]
     },
     "execution_count": 126,
     "metadata": {},
     "output_type": "execute_result"
    }
   ],
   "source": [
    "df = pd.DataFrame({'key': ['K0', 'K1', 'K1', 'K3', 'K0', 'K1'],\n",
    "\n",
    "                   'A': ['A0', 'A1', 'A2', 'A3', 'A4', 'A5']})\n",
    "df.join(other.set_index('key'), on='key', validate='m:1')"
   ]
  },
  {
   "cell_type": "code",
   "execution_count": 127,
   "id": "b2d53a48-ebae-449c-9e4a-39bbfa0956b7",
   "metadata": {},
   "outputs": [
    {
     "data": {
      "text/plain": [
       "Index(['key', 'A'], dtype='object')"
      ]
     },
     "execution_count": 127,
     "metadata": {},
     "output_type": "execute_result"
    }
   ],
   "source": [
    "df.columns"
   ]
  },
  {
   "cell_type": "code",
   "execution_count": 129,
   "id": "aa47c7d9-525a-4cef-a695-b805a4fd7373",
   "metadata": {},
   "outputs": [
    {
     "ename": "TypeError",
     "evalue": "Could not convert ['femalefemalefemalemalemalefemalefemalemalemalefemalemalemalefemalemalefemalefemalemalefemalemalefemalemalefemalemalefemalemalemalemalefemalemalefemalefemalefemalefemalemalemalemalefemalefemalefemalemalemalefemalefemalemalefemalemalefemalefemalefemalemalemalemalemalemalefemalefemalefemalemalemalefemalemalemalemalefemalefemalemalemalefemalemalefemalefemalemalefemalemalemalemalemalemalefemalefemalefemalemalemalemalemalefemalefemalefemalefemalefemalefemalemalemalemalefemalemalemalefemalefemalefemalemalemalefemalemalemalefemalefemalemalefemalefemalefemalemalemalefemalefemalemalefemalefemalefemalefemalefemalemalefemalemalemalefemalemalemalemalefemalemalemalemalefemalemalemalemalemalefemalemalefemalefemalefemalemalemalefemalemalemalefemalemalemalemalefemalemalemalefemalefemalemalefemalemalemalefemalemalemalefemalefemalemalefemalefemalefemalemalemalefemalefemalefemalefemalefemalefemalefemalefemalemalefemalefemalefemalemalemalemalemalemalefemalefemalemalefemalemalefemalemalemalemalefemalefemalefemalefemalemalefemalemalemalemalemalefemalefemalemalemalefemalemalemalemalefemalefemalemalemalefemalemalefemalemalefemalefemalefemalemalemalefemalemalemalefemalemalemalemalemalefemalemalemalemalefemalefemalemalemalemalemalefemalefemalemalemalefemalefemalemalemalefemalefemalemalefemalefemalefemalemalefemalefemalemalemalefemalefemalefemalefemalemalemalefemalefemalemalemalefemalefemalefemalemalemalemalefemalefemalefemalemalemalefemalemalemalemalemalemalefemalemalemalemalemalemalemalemalemalefemalemalefemalemalemalemalefemalefemalefemalemalemalefemalefemalemalefemalemalemalefemalefemalefemalefemalefemalefemalefemalemalemalemalefemalemalemalemalemalefemalefemalemalemalefemalefemalemalefemalefemalemalemalefemalemalefemalemalemalefemalemalefemalefemalefemalefemalemalefemalemalefemalefemalemalefemalefemalemalemalemalemalefemalefemalemalefemalemalefemalefemalemalefemalefemalefemalemalefemalemalemalefemalefemalefemalefemalefemalefemalemalemalefemalemalemalefemalemalefemalefemalemalemalefemalemalefemalefemalefemalefemalemalefemalefemalemalefemalemalemalemalefemalemalemalemalemalemalefemalefemalefemalefemalemalefemalemalemalemalemalemalefemalemalefemalemalemalemalemalemalemalefemalefemalefemalefemalemalefemalemalemalemalemalefemalefemalefemalemalefemalemalefemalemalefemalemalemalemalefemalefemalemalefemalefemalemalefemalemalefemalefemalefemalefemalefemalefemalemalemalefemalemalemalefemalemalemalefemalemalemalefemalemalemalefemalefemalefemalefemalefemalemalefemalefemalefemalemalefemalefemalemalefemalefemalefemalemalemalemalefemalemalemalemalefemalefemalefemalefemalefemalefemalefemalemalefemalemalemalemalemalemalefemalefemalefemalefemalefemalemalefemalemalefemalemalefemalemalemalemalemalefemalefemalefemalemalefemalemalefemalemalemalemalefemalemalemalefemalefemalemalefemalemalefemalefemalemalefemalemalemalefemalefemalemalemalemalemalefemalefemalefemalemalemalefemalefemalefemalefemalefemalefemalefemalefemalefemalefemalefemalefemalefemalemalemalemalefemalefemalefemalemalemalefemalefemalefemalefemalefemalemalemalemalefemalefemalefemalefemalemalefemalemalefemalefemalefemalefemalemalemalemalefemalemalemalemalefemalemalemalemalemalefemalemalemalefemalefemalemalemalefemalefemalemalefemalemalefemalefemalefemalemalefemalefemalefemalefemalefemalemalefemalefemalefemalefemalefemalemalemalefemalemalemalemalefemalefemalemalefemalefemalefemalemalemalefemalemalefemalefemalefemalefemalefemalefemalemalemalefemalemalemalefemalemalefemalemalemalemalemalefemalefemalefemalefemalefemalefemalefemalefemalefemalemalefemalefemalemalefemalefemalemalemalemalemalefemalemalefemalefemalemalefemalefemalemalefemalefemalemalefemalemalefemalemalemalemalefemalemalefemalemalefemalemalefemalemalefemalemalemalefemalemalemalemalefemalefemalefemalemalemalemalemalefemalemalemalemalemalefemalemalefemalemalemalefemalemalefemalefemalemalefemalemalefemalefemalemalefemalemalemalemalefemalefemalemalefemalefemalefemalefemalemalefemalefemalefemalefemalemalefemalefemalefemalemalefemalefemalefemalemalemalefemalefemalemalefemalemalefemalemalemalefemalefemalefemalemalefemalefemalemalemalemalemalefemalemalefemalemalefemalemalefemalefemalefemalefemalemalefemalefemalemalefemalefemalefemalemalefemalefemalemalefemalemalefemalemalefemalemalefemalefemalemalefemalemalefemalemalemalemalefemalemalemalefemalefemalemalemalefemalemalefemalemalemalefemalefemalemalefemalemalemalemalemalemalemalemalefemalemalemalefemalemalemalemalefemalefemalemalefemalefemalemalefemalefemalefemalemalefemalemalefemalefemalefemalemalefemalefemalemalefemalemalefemalemalefemalefemalefemalefemalemalemalefemalefemalemalemalefemalefemalefemalefemalefemalemalefemalefemalemalemalefemalemalefemalemalemalemalefemalemalefemalemalemalemalemalemalemalemalefemalemalemalemalefemalemalemalefemalefemalemalefemalemalefemalemalefemalefemalemalefemalemalemalefemalefemalemalefemalefemalefemalefemalemalefemalemalemalefemalefemalefemalemalefemalefemalefemalefemalemalemalemalefemalefemalemalemalefemalefemalemalefemalemalefemalefemalemalefemalefemalefemalemalefemalemalefemalefemalefemale'\n 'group Bgroup Cgroup Bgroup Agroup Cgroup Bgroup Bgroup Bgroup Dgroup Bgroup Cgroup Dgroup Bgroup Agroup Agroup Cgroup Cgroup Bgroup Cgroup Cgroup Dgroup Bgroup Dgroup Cgroup Dgroup Agroup Bgroup Cgroup Cgroup Dgroup Dgroup Bgroup Egroup Dgroup Egroup Egroup Dgroup Dgroup Dgroup Bgroup Cgroup Cgroup Bgroup Bgroup Egroup Bgroup Agroup Cgroup Dgroup Cgroup Egroup Egroup Cgroup Dgroup Cgroup Cgroup Egroup Dgroup Dgroup Cgroup Egroup Agroup Agroup Cgroup Dgroup Bgroup Dgroup Cgroup Bgroup Cgroup Dgroup Dgroup Agroup Cgroup Cgroup Bgroup Egroup Agroup Dgroup Egroup Bgroup Bgroup Agroup Egroup Dgroup Cgroup Cgroup Dgroup Agroup Dgroup Cgroup Cgroup Cgroup Cgroup Bgroup Cgroup Bgroup Egroup Dgroup Dgroup Bgroup Dgroup Dgroup Bgroup Cgroup Cgroup Dgroup Egroup Bgroup Bgroup Dgroup Cgroup Agroup Dgroup Egroup Cgroup Bgroup Dgroup Dgroup Cgroup Cgroup Bgroup Cgroup Dgroup Egroup Bgroup Bgroup Dgroup Dgroup Agroup Dgroup Cgroup Egroup Cgroup Dgroup Cgroup Bgroup Egroup Cgroup Dgroup Dgroup Cgroup Egroup Agroup Dgroup Cgroup Bgroup Cgroup Dgroup Egroup Agroup Agroup Bgroup Dgroup Dgroup Cgroup Egroup Bgroup Bgroup Dgroup Bgroup Egroup Bgroup Cgroup Egroup Cgroup Cgroup Bgroup Bgroup Cgroup Agroup Egroup Dgroup Cgroup Cgroup Cgroup Bgroup Cgroup Bgroup Dgroup Cgroup Cgroup Egroup Dgroup Cgroup Cgroup Egroup Dgroup Bgroup Cgroup Egroup Dgroup Bgroup Dgroup Cgroup Dgroup Cgroup Egroup Bgroup Bgroup Cgroup Dgroup Cgroup Bgroup Cgroup Dgroup Egroup Egroup Bgroup Bgroup Dgroup Cgroup Cgroup Cgroup Egroup Bgroup Egroup Cgroup Bgroup Bgroup Dgroup Bgroup Cgroup Dgroup Bgroup Egroup Cgroup Dgroup Agroup Cgroup Dgroup Cgroup Bgroup Egroup Cgroup Dgroup Dgroup Dgroup Bgroup Cgroup Dgroup Egroup Dgroup Egroup Dgroup Cgroup Egroup Bgroup Bgroup Cgroup Agroup Dgroup Bgroup Dgroup Dgroup Egroup Cgroup Cgroup Bgroup Cgroup Cgroup Cgroup Cgroup Egroup Dgroup Dgroup Cgroup Dgroup Dgroup Egroup Cgroup Cgroup Dgroup Dgroup Bgroup Cgroup Cgroup Egroup Cgroup Bgroup Dgroup Dgroup Dgroup Dgroup Bgroup Bgroup Egroup Bgroup Bgroup Egroup Cgroup Dgroup Cgroup Egroup Dgroup Bgroup Agroup Egroup Cgroup Dgroup Agroup Dgroup Cgroup Bgroup Cgroup Agroup Egroup Cgroup Bgroup Dgroup Bgroup Bgroup Dgroup Cgroup Cgroup Cgroup Dgroup Cgroup Bgroup Dgroup Cgroup Egroup Cgroup Cgroup Cgroup Cgroup Cgroup Agroup Cgroup Bgroup Cgroup Cgroup Egroup Bgroup Cgroup Bgroup Dgroup Cgroup Bgroup Dgroup Cgroup Cgroup Bgroup Dgroup Dgroup Cgroup Bgroup Cgroup Dgroup Egroup Bgroup Egroup Cgroup Cgroup Cgroup Bgroup Agroup Cgroup Dgroup Dgroup Bgroup Bgroup Cgroup Dgroup Cgroup Agroup Cgroup Cgroup Agroup Dgroup Egroup Cgroup Dgroup Dgroup Dgroup Egroup Dgroup Dgroup Agroup Agroup Bgroup Cgroup Cgroup Egroup Agroup Egroup Egroup Cgroup Dgroup Dgroup Egroup Dgroup Egroup Cgroup Cgroup Agroup Bgroup Cgroup Bgroup Dgroup Cgroup Agroup Agroup Dgroup Cgroup Cgroup Bgroup Bgroup Dgroup Dgroup Dgroup Egroup Dgroup Bgroup Cgroup Egroup Cgroup Cgroup Dgroup Egroup Cgroup Dgroup Dgroup Agroup Bgroup Cgroup Cgroup Cgroup Agroup Cgroup Cgroup Cgroup Cgroup Agroup Cgroup Cgroup Dgroup Dgroup Cgroup Dgroup Cgroup Dgroup Agroup Bgroup Agroup Cgroup Dgroup Cgroup Bgroup Bgroup Cgroup Egroup Cgroup Cgroup Cgroup Cgroup Dgroup Dgroup Egroup Bgroup Cgroup Bgroup Egroup Cgroup Agroup Cgroup Dgroup Agroup Agroup Cgroup Cgroup Cgroup Cgroup Dgroup Bgroup Dgroup Egroup Dgroup Dgroup Egroup Bgroup Dgroup Cgroup Agroup Bgroup Cgroup Dgroup Cgroup Bgroup Agroup Agroup Cgroup Cgroup Cgroup Bgroup Dgroup Cgroup Dgroup Bgroup Egroup Dgroup Bgroup Cgroup Egroup Dgroup Bgroup Agroup Bgroup Cgroup Cgroup Dgroup Agroup Dgroup Bgroup Bgroup Cgroup Dgroup Egroup Dgroup Bgroup Dgroup Cgroup Dgroup Cgroup Cgroup Egroup Cgroup Cgroup Dgroup Cgroup Cgroup Cgroup Egroup Egroup Bgroup Cgroup Cgroup Dgroup Egroup Agroup Cgroup Dgroup Cgroup Dgroup Dgroup Egroup Agroup Cgroup Cgroup Cgroup Cgroup Bgroup Bgroup Dgroup Egroup Cgroup Cgroup Cgroup Bgroup Dgroup Dgroup Cgroup Cgroup Dgroup Bgroup Bgroup Egroup Dgroup Bgroup Dgroup Bgroup Agroup Cgroup Cgroup Egroup Agroup Agroup Bgroup Bgroup Dgroup Dgroup Egroup Dgroup Dgroup Dgroup Cgroup Agroup Cgroup Cgroup Agroup Cgroup Agroup Egroup Egroup Cgroup Cgroup Bgroup Agroup Dgroup Dgroup Dgroup Cgroup Egroup Dgroup Dgroup Cgroup Cgroup Cgroup Egroup Bgroup Dgroup Cgroup Cgroup Cgroup Agroup Cgroup Egroup Dgroup Dgroup Cgroup Cgroup Bgroup Cgroup Agroup Egroup Dgroup Bgroup Dgroup Dgroup Cgroup Dgroup Bgroup Bgroup Cgroup Dgroup Agroup Bgroup Dgroup Egroup Dgroup Dgroup Dgroup Bgroup Egroup Bgroup Bgroup Dgroup Egroup Bgroup Dgroup Cgroup Agroup Dgroup Agroup Bgroup Bgroup Cgroup Dgroup Dgroup Dgroup Cgroup Cgroup Dgroup Cgroup Dgroup Cgroup Cgroup Bgroup Cgroup Dgroup Cgroup Dgroup Cgroup Cgroup Dgroup Bgroup Egroup Cgroup Dgroup Dgroup Dgroup Bgroup Bgroup Cgroup Bgroup Egroup Egroup Dgroup Agroup Egroup Cgroup Egroup Cgroup Dgroup Cgroup Dgroup Cgroup Agroup Dgroup Cgroup Egroup Bgroup Agroup Dgroup Bgroup Agroup Dgroup Cgroup Dgroup Dgroup Cgroup Egroup Dgroup Dgroup Bgroup Bgroup Cgroup Cgroup Cgroup Egroup Cgroup Dgroup Bgroup Cgroup Bgroup Egroup Egroup Egroup Dgroup Cgroup Bgroup Agroup Cgroup Dgroup Egroup Cgroup Cgroup Bgroup Dgroup Cgroup Dgroup Agroup Cgroup Cgroup Bgroup Dgroup Dgroup Cgroup Cgroup Bgroup Dgroup Egroup Cgroup Cgroup Cgroup Egroup Dgroup Egroup Dgroup Bgroup Cgroup Dgroup Dgroup Bgroup Dgroup Bgroup Cgroup Bgroup Dgroup Agroup Bgroup Dgroup Bgroup Cgroup Bgroup Bgroup Bgroup Cgroup Agroup Egroup Dgroup Bgroup Bgroup Cgroup Cgroup Bgroup Egroup Bgroup Cgroup Cgroup Bgroup Dgroup Dgroup Egroup Bgroup Egroup Dgroup Egroup Egroup Cgroup Cgroup Cgroup Egroup Bgroup Cgroup Agroup Dgroup Egroup Cgroup Bgroup Agroup Agroup Cgroup Egroup Cgroup Bgroup Agroup Dgroup Bgroup Cgroup Agroup Dgroup Egroup Bgroup Cgroup Cgroup Cgroup Cgroup Dgroup Bgroup Agroup Cgroup Agroup Bgroup Bgroup Cgroup Egroup Agroup Bgroup Cgroup Dgroup Cgroup Bgroup Bgroup Dgroup Egroup Cgroup Dgroup Cgroup Dgroup Cgroup Agroup Egroup Egroup Cgroup Bgroup Bgroup Cgroup Bgroup Cgroup Cgroup Egroup Dgroup Cgroup Cgroup Dgroup Cgroup Bgroup Egroup Cgroup Bgroup Cgroup Bgroup Egroup Cgroup Cgroup Dgroup Cgroup Dgroup Dgroup Cgroup Egroup Bgroup Dgroup Egroup Cgroup Egroup Cgroup Dgroup Dgroup Egroup Egroup Agroup Dgroup Egroup Egroup Bgroup Bgroup Dgroup Dgroup Dgroup Cgroup Agroup Dgroup Dgroup Dgroup Bgroup Dgroup Cgroup Egroup Dgroup Agroup Cgroup Cgroup Bgroup Egroup Egroup Cgroup Cgroup Bgroup Dgroup Cgroup Dgroup Bgroup Dgroup Egroup Egroup Dgroup Egroup Cgroup Cgroup Dgroup Dgroup Cgroup Cgroup Dgroup Agroup Egroup Dgroup Dgroup Cgroup Dgroup Cgroup Agroup Bgroup Cgroup Bgroup Dgroup Bgroup Egroup Egroup Dgroup Egroup Cgroup Cgroup Egroup Cgroup Dgroup Dgroup Cgroup Agroup Dgroup Egroup Cgroup Dgroup Dgroup Agroup Cgroup Egroup Bgroup Dgroup Cgroup Agroup Dgroup Agroup Cgroup Bgroup Cgroup Dgroup Cgroup Bgroup Dgroup Bgroup Agroup Cgroup Agroup Cgroup Egroup Agroup Dgroup Egroup Bgroup Dgroup Dgroup Agroup Egroup Cgroup Cgroup Dgroup D'\n \"bachelor's degreesome collegemaster's degreeassociate's degreesome collegeassociate's degreesome collegesome collegehigh schoolhigh schoolassociate's degreeassociate's degreehigh schoolsome collegemaster's degreesome high schoolhigh schoolsome high schoolmaster's degreeassociate's degreehigh schoolsome collegesome collegesome high schoolbachelor's degreemaster's degreesome collegebachelor's degreehigh schoolmaster's degreesome collegesome collegemaster's degreesome collegesome collegeassociate's degreeassociate's degreesome high schoolassociate's degreeassociate's degreeassociate's degreeassociate's degreeassociate's degreesome collegeassociate's degreeassociate's degreeassociate's degreehigh schoolassociate's degreehigh schoolsome collegeassociate's degreesome collegehigh schoolsome high schoolhigh schoolassociate's degreeassociate's degreesome collegesome high schoolbachelor's degreesome high schoolassociate's degreeassociate's degreesome high schoolsome high schoolsome high schoolsome collegeassociate's degreeassociate's degreesome collegesome collegeassociate's degreesome high schoolsome high schoolassociate's degreesome high schoolbachelor's degreesome high schoolmaster's degreeassociate's degreehigh schoolsome collegeassociate's degreehigh schoolsome collegesome collegeassociate's degreesome collegesome high schoolbachelor's degreehigh schoolhigh schoolassociate's degreesome collegeassociate's degreesome high schoolsome collegesome collegebachelor's degreesome collegebachelor's degreeassociate's degreehigh schoolsome collegesome collegemaster's degreeassociate's degreeassociate's degreesome high schoolassociate's degreehigh schoolassociate's degreesome collegebachelor's degreehigh schoolbachelor's degreebachelor's degreesome high schoolsome collegebachelor's degreeassociate's degreesome collegehigh schoolsome collegehigh schoolsome high schoolsome collegemaster's degreebachelor's degreemaster's degreesome high schoolsome collegesome collegebachelor's degreebachelor's degreesome high schoolhigh schoolassociate's degreesome collegesome high schoolsome collegesome collegehigh schoolsome collegesome collegesome high schoolassociate's degreebachelor's degreeassociate's degreesome high schoolbachelor's degreeassociate's degreebachelor's degreesome high schoolsome collegehigh schoolsome collegeassociate's degreeassociate's degreeassociate's degreesome collegemaster's degreehigh schoolmaster's degreebachelor's degreehigh schoolmaster's degreehigh schoolsome collegehigh schoolsome high schoolsome collegeassociate's degreebachelor's degreemaster's degreehigh schoolassociate's degreemaster's degreesome high schoolmaster's degreesome collegehigh schoolassociate's degreesome high schoolassociate's degreehigh schoolsome high schoolsome high schoolbachelor's degreeassociate's degreesome collegesome high schoolsome collegemaster's degreeassociate's degreesome high schoolhigh schoolsome collegebachelor's degreeassociate's degreesome collegeassociate's degreeassociate's degreesome collegesome high schoolbachelor's degreehigh schoolsome collegesome collegesome high schoolsome collegehigh schoolassociate's degreehigh schoolsome high schoolassociate's degreehigh schoolhigh schoolsome high schoolhigh schoolassociate's degreesome high schoolsome high schoolassociate's degreemaster's degreesome collegehigh schoolsome high schoolsome collegesome collegeassociate's degreebachelor's degreesome high schoolbachelor's degreeassociate's degreebachelor's degreesome high schoolsome collegeassociate's degreehigh schoolbachelor's degreehigh schoolsome collegesome high schoolassociate's degreeassociate's degreehigh schoolhigh schoolhigh schoolsome high schoolsome collegesome high schoolmaster's degreehigh schoolsome collegeassociate's degreeassociate's degreesome collegemaster's degreesome high schoolsome collegesome high schoolhigh schoolhigh schoolsome high schoolbachelor's degreehigh schoolassociate's degreesome collegebachelor's degreesome collegeassociate's degreesome collegesome collegebachelor's degreesome high schoolhigh schoolsome high schoolbachelor's degreehigh schoolhigh schoolbachelor's degreesome collegesome high schoolassociate's degreeassociate's degreesome high schoolbachelor's degreesome high schoolassociate's degreesome high schoolsome high schoolbachelor's degreehigh schoolassociate's degreesome high schoolassociate's degreehigh schoolassociate's degreesome collegesome high schoolassociate's degreeassociate's degreeassociate's degreesome collegesome collegesome high schoolassociate's degreehigh schoolassociate's degreebachelor's degreebachelor's degreeassociate's degreebachelor's degreehigh schoolmaster's degreeassociate's degreebachelor's degreeassociate's degreehigh schoolhigh schoolsome collegesome high schoolhigh schoolsome collegesome collegesome collegeassociate's degreesome high schoolhigh schoolassociate's degreeassociate's degreeassociate's degreebachelor's degreesome collegesome high schoolassociate's degreesome high schoolsome high schoolhigh schoolhigh schoolhigh schoolassociate's degreesome collegehigh schoolsome collegebachelor's degreehigh schoolassociate's degreebachelor's degreesome collegesome collegeassociate's degreesome collegebachelor's degreeassociate's degreesome collegesome collegesome collegehigh schoolsome high schoolsome collegesome high schoolsome collegebachelor's degreehigh schoolbachelor's degreesome high schoolsome high schoolsome collegesome collegesome high schoolsome collegebachelor's degreeassociate's degreesome high schoolmaster's degreesome high schoolbachelor's degreeassociate's degreeassociate's degreemaster's degreesome high schoolsome high schoolsome collegebachelor's degreeassociate's degreehigh schoolmaster's degreesome high schoolsome collegesome collegeassociate's degreesome high schoolhigh schoolhigh schoolassociate's degreesome high schoolsome high schoolsome high schoolsome collegesome collegehigh schoolhigh schoolsome high schoolassociate's degreeassociate's degreehigh schoolassociate's degreemaster's degreesome collegeassociate's degreesome high schoolbachelor's degreehigh schoolbachelor's degreeassociate's degreesome collegehigh schoolassociate's degreehigh schoolmaster's degreesome high schoolsome collegesome collegebachelor's degreesome high schoolsome high schoolsome high schoolassociate's degreehigh schoolhigh schoolsome high schoolsome high schoolsome collegeassociate's degreeassociate's degreehigh schoolsome high schoolsome collegehigh schoolsome high schoolassociate's degreesome high schoolsome high schoolsome collegehigh schoolhigh schoolassociate's degreesome collegesome collegeassociate's degreesome collegeassociate's degreebachelor's degreebachelor's degreeassociate's degreebachelor's degreehigh schoolbachelor's degreesome collegesome collegesome collegebachelor's degreesome collegeassociate's degreehigh schoolhigh schoolsome collegeassociate's degreehigh schoolassociate's degreesome high schoolassociate's degreebachelor's degreebachelor's degreeassociate's degreemaster's degreeassociate's degreehigh schoolassociate's degreesome collegehigh schoolassociate's degreehigh schoolsome collegeassociate's degreesome high schoolassociate's degreeassociate's degreeassociate's degreesome collegebachelor's degreehigh schoolhigh schoolsome collegesome collegesome high schoolsome collegemaster's degreeassociate's degreesome collegeassociate's degreemaster's degreesome high schoolhigh schoolbachelor's degreemaster's degreebachelor's degreesome collegesome high schoolsome high schoolsome high schoolmaster's degreesome high schoolsome collegesome collegesome high schoolhigh schoolsome collegeassociate's degreebachelor's degreemaster's degreehigh schoolsome collegesome high schoolhigh schoolbachelor's degreeassociate's degreeassociate's degreesome high schoolassociate's degreeassociate's degreehigh schoolbachelor's degreeassociate's degreehigh schoolbachelor's degreeassociate's degreehigh schoolassociate's degreeassociate's degreeassociate's degreemaster's degreesome high schoolsome high schoolhigh schoolhigh schoolmaster's degreesome high schoolbachelor's degreeassociate's degreesome collegeassociate's degreesome collegeassociate's degreemaster's degreeassociate's degreesome high schoolsome collegesome collegebachelor's degreesome collegebachelor's degreeassociate's degreebachelor's degreemaster's degreehigh schoolbachelor's degreesome collegebachelor's degreesome collegehigh schoolhigh schoolassociate's degreesome collegehigh schoolsome collegemaster's degreesome high schoolsome high schoolbachelor's degreeassociate's degreesome collegeassociate's degreehigh schoolbachelor's degreesome collegesome high schoolsome collegesome high schoolbachelor's degreehigh schoolbachelor's degreebachelor's degreehigh schoolsome high schoolhigh schoolsome high schoolmaster's degreehigh schoolsome collegehigh schoolmaster's degreesome high schoolassociate's degreemaster's degreesome collegeassociate's degreesome collegesome collegebachelor's degreeassociate's degreeassociate's degreehigh schoolbachelor's degreebachelor's degreemaster's degreeassociate's degreehigh schoolbachelor's degreehigh schoolsome collegebachelor's degreesome collegeassociate's degreeassociate's degreesome collegesome high schoolsome collegehigh schoolbachelor's degreehigh schoolsome high schoolhigh schoolhigh schoolsome high schoolsome collegeassociate's degreehigh schoolassociate's degreesome high schoolhigh schoolhigh schoolbachelor's degreeassociate's degreehigh schoolhigh schoolsome collegesome high schoolhigh schoolsome collegeassociate's degreesome high schoolsome collegeassociate's degreesome high schoolassociate's degreeassociate's degreesome collegesome high schoolsome collegehigh schoolassociate's degreesome high schoolsome collegebachelor's degreesome collegeassociate's degreehigh schoolassociate's degreesome collegeassociate's degreehigh schoolsome collegesome collegesome high schoolassociate's degreesome collegehigh schoolhigh schoolhigh schoolsome high schoolsome collegemaster's degreesome collegeassociate's degreehigh schoolsome collegeassociate's degreeassociate's degreebachelor's degreeassociate's degreesome high schoolsome collegeassociate's degreebachelor's degreeassociate's degreehigh schoolbachelor's degreesome high schoolbachelor's degreesome collegesome high schoolbachelor's degreehigh schoolsome collegehigh schoolassociate's degreesome collegesome high schoolsome collegemaster's degreesome high schoolassociate's degreeassociate's degreeassociate's degreehigh schoolassociate's degreesome collegesome high schoolsome high schoolhigh schoolsome collegesome collegeassociate's degreesome high schoolhigh schoolsome collegeassociate's degreesome high schoolsome collegesome high schoolsome collegemaster's degreeassociate's degreesome collegeassociate's degreehigh schoolbachelor's degreeassociate's degreehigh schoolassociate's degreesome collegeassociate's degreehigh schoolsome collegebachelor's degreesome collegesome high schoolsome collegemaster's degreesome high schoolassociate's degreeassociate's degreesome collegebachelor's degreesome collegesome collegehigh schoolsome high schoolsome high schoolhigh schoolsome collegehigh schoolhigh schoolhigh schoolsome high schoolsome collegehigh schoolbachelor's degreesome high schoolbachelor's degreesome collegesome high schoolhigh schoolsome collegesome collegeassociate's degreeassociate's degreemaster's degreehigh schoolassociate's degreebachelor's degreesome high schoolsome high schoolsome collegeassociate's degreemaster's degreehigh schoolsome collegehigh schoolsome high schoolhigh schoolassociate's degreehigh schoolassociate's degreesome collegeassociate's degreesome high schoolsome high schoolassociate's degreesome collegesome collegesome collegesome collegehigh schoolhigh schoolbachelor's degreesome high schoolhigh schoolmaster's degreesome high schoolhigh schoolsome high schoolbachelor's degreebachelor's degreehigh schoolsome high schoolsome high schoolbachelor's degreesome collegehigh schoolsome high schoolhigh schoolassociate's degreesome high schoolsome high schoolsome high schoolsome collegebachelor's degreebachelor's degreehigh schoolsome collegehigh schoolhigh schoolhigh schoolassociate's degreeassociate's degreehigh schoolsome high schoolhigh schoolsome collegesome high schoolmaster's degreemaster's degreehigh schoolhigh schoolassociate's degreemaster's degreehigh schoolsome collegesome high schoolsome high schoolbachelor's degreesome collegebachelor's degreehigh schoolassociate's degreeassociate's degreemaster's degreebachelor's degreesome collegeassociate's degreesome collegehigh schoolassociate's degreeassociate's degreeassociate's degreehigh schoolsome collegeassociate's degreeassociate's degreebachelor's degreesome collegesome collegesome high schoolsome high schoolassociate's degreebachelor's degreebachelor's degreehigh schoolbachelor's degreeassociate's degreeassociate's degreeassociate's degreehigh schoolsome collegehigh schoolsome collegeassociate's degreemaster's degreesome high schoolassociate's degreesome high schoolhigh schoolsome high schoolassociate's degreesome high schoolmaster's degreemaster's degreehigh schoolbachelor's degreesome high schoolsome collegehigh schoolsome collegebachelor's degreebachelor's degreebachelor's degreesome collegebachelor's degreebachelor's degreeassociate's degreesome collegebachelor's degreehigh schoolassociate's degreesome collegehigh schoolhigh schoolhigh schoolassociate's degreehigh schoolsome high schoolassociate's degreehigh schoolassociate's degreesome high schoolsome collegesome collegeassociate's degreebachelor's degreeassociate's degreesome collegeassociate's degreehigh schoolsome collegesome high schoolmaster's degreemaster's degreehigh schoolsome high schoolhigh schoolassociate's degreehigh schoolsome collegesome high schoolhigh schoolhigh schoolsome collegesome high schoolhigh schoolsome collegeassociate's degreesome collegemaster's degreehigh schoolhigh schoolsome collegesome high schoolassociate's degreesome high schoolsome collegesome collegesome high schoolsome collegeassociate's degreebachelor's degreebachelor's degreesome high schoolhigh schoolsome collegesome collegesome collegesome collegeassociate's degreehigh schoolassociate's degreehigh schoolsome high schoolsome high schoolsome collegesome high schoolhigh schoolassociate's degreesome high schoolsome high schoolsome collegehigh schoolsome high schoolassociate's degreebachelor's degreehigh schoolmaster's degreehigh schoolhigh schoolsome collegesome college\"\n 'standardstandardstandardfree/reducedstandardstandardstandardfree/reducedfree/reducedfree/reducedstandardstandardstandardstandardstandardstandardstandardfree/reducedfree/reducedfree/reducedstandardfree/reducedstandardstandardfree/reducedfree/reducedstandardstandardstandardstandardstandardstandardfree/reducedstandardstandardstandardstandardfree/reducedfree/reducedfree/reducedfree/reducedstandardstandardfree/reducedfree/reducedstandardstandardstandardfree/reducedstandardstandardfree/reducedstandardstandardfree/reducedfree/reducedstandardstandardstandardfree/reducedfree/reducedfree/reducedfree/reducedstandardstandardstandardfree/reducedstandardfree/reducedstandardfree/reducedstandardfree/reducedfree/reducedstandardfree/reducedstandardstandardstandardstandardstandardfree/reducedfree/reducedstandardfree/reducedstandardfree/reducedstandardstandardstandardstandardfree/reducedstandardfree/reducedstandardfree/reducedstandardstandardfree/reducedstandardstandardstandardstandardstandardstandardstandardstandardstandardfree/reducedstandardfree/reducedstandardstandardstandardstandardstandardfree/reducedstandardstandardstandardstandardstandardstandardfree/reducedstandardstandardstandardstandardstandardstandardstandardfree/reducedfree/reducedstandardfree/reducedstandardstandardstandardstandardstandardstandardfree/reducedfree/reducedstandardstandardfree/reducedstandardfree/reducedstandardfree/reducedstandardstandardstandardstandardstandardstandardfree/reducedfree/reducedstandardfree/reducedfree/reducedfree/reducedfree/reducedstandardstandardstandardfree/reducedfree/reducedstandardfree/reducedstandardstandardstandardstandardfree/reducedstandardfree/reducedstandardfree/reducedstandardfree/reducedfree/reducedstandardstandardfree/reducedfree/reducedstandardstandardfree/reducedstandardstandardstandardstandardstandardstandardstandardfree/reducedfree/reducedfree/reducedfree/reducedstandardfree/reducedstandardstandardstandardstandardstandardstandardfree/reducedfree/reducedfree/reducedfree/reducedfree/reducedfree/reducedstandardstandardfree/reducedfree/reducedfree/reducedstandardstandardstandardfree/reducedstandardstandardfree/reducedstandardstandardfree/reducedstandardstandardstandardstandardstandardstandardstandardfree/reducedstandardstandardstandardfree/reducedstandardstandardstandardstandardstandardstandardstandardstandardstandardstandardfree/reducedstandardstandardstandardstandardfree/reducedstandardstandardfree/reducedfree/reducedstandardfree/reducedstandardstandardfree/reducedstandardstandardstandardfree/reducedstandardstandardfree/reducedstandardstandardstandardstandardstandardfree/reducedfree/reducedstandardstandardfree/reducedfree/reducedstandardstandardstandardstandardfree/reducedstandardstandardstandardstandardstandardfree/reducedfree/reducedstandardstandardfree/reducedfree/reducedfree/reducedfree/reducedstandardstandardstandardstandardstandardstandardfree/reducedfree/reducedstandardstandardstandardfree/reducedstandardstandardstandardstandardstandardfree/reducedfree/reducedstandardstandardfree/reducedfree/reducedstandardstandardfree/reducedstandardstandardstandardstandardstandardstandardstandardfree/reducedstandardstandardfree/reducedfree/reducedfree/reducedstandardstandardstandardstandardstandardstandardstandardfree/reducedstandardstandardstandardstandardstandardstandardstandardstandardfree/reducedfree/reducedstandardstandardstandardstandardfree/reducedstandardfree/reducedstandardfree/reducedfree/reducedstandardstandardfree/reducedstandardstandardstandardfree/reducedstandardfree/reducedstandardstandardstandardstandardfree/reducedfree/reducedfree/reducedstandardstandardfree/reducedstandardstandardfree/reducedstandardstandardstandardstandardfree/reducedfree/reducedstandardstandardstandardstandardstandardfree/reducedstandardstandardstandardstandardstandardfree/reducedstandardstandardstandardstandardstandardfree/reducedstandardstandardstandardstandardfree/reducedfree/reducedstandardfree/reducedstandardfree/reducedfree/reducedstandardfree/reducedfree/reducedfree/reducedfree/reducedstandardstandardfree/reducedstandardfree/reducedstandardfree/reducedstandardstandardstandardstandardfree/reducedstandardfree/reducedstandardfree/reducedstandardstandardstandardfree/reducedstandardfree/reducedfree/reducedfree/reducedfree/reducedstandardfree/reducedstandardstandardfree/reducedfree/reducedstandardfree/reducedstandardstandardfree/reducedfree/reducedfree/reducedstandardstandardstandardstandardstandardstandardstandardstandardstandardstandardstandardstandardfree/reducedfree/reducedstandardstandardstandardfree/reducedfree/reducedstandardfree/reducedfree/reducedstandardstandardstandardstandardstandardstandardfree/reducedstandardstandardstandardstandardfree/reducedstandardfree/reducedstandardstandardfree/reducedstandardstandardstandardstandardfree/reducedstandardfree/reducedstandardstandardstandardstandardfree/reducedstandardstandardstandardfree/reducedstandardstandardfree/reducedfree/reducedfree/reducedstandardstandardstandardstandardstandardstandardfree/reducedstandardstandardstandardstandardstandardfree/reducedstandardstandardstandardfree/reducedstandardstandardfree/reducedstandardfree/reducedfree/reducedstandardfree/reducedstandardfree/reducedstandardfree/reducedfree/reducedstandardstandardstandardstandardfree/reducedfree/reducedstandardfree/reducedfree/reducedfree/reducedfree/reducedstandardstandardstandardfree/reducedstandardfree/reducedstandardstandardfree/reducedstandardstandardstandardfree/reducedstandardstandardstandardstandardfree/reducedstandardstandardfree/reducedstandardstandardstandardstandardstandardfree/reducedstandardstandardstandardstandardstandardstandardfree/reducedfree/reducedstandardstandardfree/reducedstandardstandardfree/reducedstandardstandardstandardstandardstandardstandardstandardstandardfree/reducedfree/reducedfree/reducedfree/reducedstandardfree/reducedstandardfree/reducedstandardfree/reducedstandardstandardstandardstandardstandardstandardstandardfree/reducedstandardstandardstandardstandardfree/reducedfree/reducedstandardstandardstandardstandardfree/reducedstandardstandardfree/reducedstandardstandardstandardstandardstandardfree/reducedstandardfree/reducedstandardfree/reducedstandardfree/reducedstandardstandardfree/reducedfree/reducedfree/reducedstandardstandardfree/reducedfree/reducedstandardstandardstandardstandardstandardstandardfree/reducedfree/reducedstandardstandardstandardfree/reducedstandardstandardstandardfree/reducedfree/reducedfree/reducedstandardfree/reducedfree/reducedstandardstandardfree/reducedstandardstandardstandardfree/reducedstandardstandardstandardstandardfree/reducedfree/reducedstandardstandardstandardfree/reducedstandardstandardstandardstandardstandardfree/reducedstandardstandardstandardfree/reducedfree/reducedfree/reducedfree/reducedstandardstandardstandardstandardstandardfree/reducedstandardfree/reducedfree/reducedstandardstandardfree/reducedstandardstandardfree/reducedstandardfree/reducedstandardfree/reducedstandardstandardfree/reducedstandardstandardstandardfree/reducedstandardstandardstandardfree/reducedstandardfree/reducedstandardstandardfree/reducedfree/reducedstandardfree/reducedstandardstandardstandardstandardstandardstandardstandardstandardfree/reducedstandardstandardfree/reducedfree/reducedstandardfree/reducedstandardfree/reducedstandardstandardfree/reducedstandardfree/reducedstandardstandardstandardfree/reducedstandardfree/reducedfree/reducedstandardfree/reducedfree/reducedstandardstandardfree/reducedstandardfree/reducedstandardstandardstandardstandardstandardstandardstandardfree/reducedfree/reducedfree/reducedstandardstandardstandardfree/reducedstandardstandardstandardstandardstandardfree/reducedfree/reducedstandardstandardfree/reducedfree/reducedfree/reducedfree/reducedstandardfree/reducedstandardfree/reducedstandardfree/reducedfree/reducedstandardstandardstandardstandardstandardstandardfree/reducedstandardfree/reducedstandardfree/reducedfree/reducedfree/reducedstandardstandardstandardstandardstandardstandardstandardstandardstandardstandardstandardfree/reducedstandardstandardfree/reducedstandardfree/reducedfree/reducedstandardstandardstandardfree/reducedstandardfree/reducedfree/reducedstandardstandardstandardfree/reducedfree/reducedfree/reducedstandardstandardstandardstandardstandardstandardfree/reducedfree/reducedstandardstandardstandardfree/reducedfree/reducedfree/reducedstandardstandardfree/reducedstandardstandardfree/reducedfree/reducedfree/reducedstandardstandardstandardstandardfree/reducedfree/reducedfree/reducedstandardstandardstandardfree/reducedstandardfree/reducedstandardstandardfree/reducedfree/reducedstandardstandardstandardstandardstandardfree/reducedfree/reducedstandardfree/reducedfree/reducedstandardfree/reducedfree/reducedfree/reducedfree/reducedfree/reducedfree/reducedfree/reducedfree/reducedstandardfree/reducedstandardfree/reducedstandardstandardfree/reducedstandardstandardfree/reducedstandardstandardstandardfree/reducedfree/reducedfree/reducedstandardstandardfree/reducedstandardstandardstandardstandardstandardstandardstandardstandardfree/reducedstandardfree/reducedstandardstandardstandardstandardstandardstandardstandardstandardfree/reducedfree/reducedstandardstandardfree/reducedstandardstandardstandardfree/reducedstandardstandardstandardstandardstandardstandardstandardfree/reducedfree/reducedfree/reducedstandardfree/reducedfree/reducedstandardstandardfree/reducedfree/reducedstandardfree/reduced'\n 'nonecompletednonenonenonenonecompletednonecompletednonenonenonenonecompletednonenonenonenonecompletednonenonecompletednonenonecompletednonenonenonenonenonenonenonenonenonenonecompletednonenonecompletednonenonenonenonecompletednonenonecompletednonecompletedcompletednonecompletednonenonecompletednonecompletednonecompletednonecompletednonenonenonenonenonenonenonenonenonecompletedcompletednonenonenonenonenonecompletedcompletednonenonenonecompletednonenonenonenonenonenonenonenonenonenonecompletednonecompletedcompletedcompletednonenonenonecompletednonecompletedcompletednonenonecompletednonenonecompletednonenonenonecompletednonenonenonenonenonecompletedcompletedcompletednonenonenonenonecompletednonenonenonecompletedcompletedcompletedcompletednonecompletednonenonecompletednonenonecompletednonenonenonenonenonecompletedcompletedcompletednonecompletednonenonecompletedcompletednonecompletednonecompletedcompletednonenonenonecompletedcompletedcompletedcompletedcompletedcompletednonenonenonecompletedcompletedcompletedcompletedcompletedcompletedcompletednonenonenonecompletedcompletednonecompletednonenonenonecompletednonecompletedcompletednonecompletednonenonenonecompletednonenonenonenonecompletednonecompletednonenonecompletednonenonecompletedcompletedcompletedcompletednonenonecompletedcompletednonenonenonecompletednonenonenonenonecompletednonenonenonenonecompletednonenonecompletednonenonecompletednonenonenonenonenonenonecompletednonenonecompletednonecompletednonenonenonenonecompletednonecompletedcompletedcompletednonenonenonenonenonenonecompletednonenonenonenonenonecompletednonecompletedcompletednonenonenonenonenonecompletednonecompletedcompletednonenonecompletednonenonecompletednonecompletednonecompletedcompletedcompletednonecompletednonecompletednonecompletednonecompletednonenonenonenonenonecompletedcompletedcompletednonecompletednonenonenonecompletednonenonenonenonenonenonenonecompletednonenonenonecompletednonenonenonecompletednonenonecompletednonenonecompletedcompletednonenonenonecompletednonenonenonenonecompletednonenonenonenonecompletednonenonenonecompletednonenonenonecompletedcompletednonenonenonenonecompletednonecompletednonenonenonecompletednonenonenonecompletednonenonenonenonenonenonenonenonecompletednonenonecompletedcompletednonenonenonenonenonecompletednonenonecompletednonenonecompletednonecompletedcompletedcompletedcompletednonecompletedcompletednonecompletednonenonecompletedcompletedcompletedcompletedcompletednonenonenonenonenonenonenonenonenonenonenonecompletednonenonenonecompletedcompletednonenonenonenonecompletednonecompletednonenonecompletednonenonenonenonenonenonenonenonecompletednonenonenonenonecompletednonenonecompletedcompletednonecompletednonecompletednonecompletedcompletedcompletednonenonenonecompletednonenonenonenonenonenonenonecompletedcompletednonenonenonenonenonecompletednonecompletednonenonenonecompletednonecompletednonenonenonenonenonenonenonenonenonecompletedcompletedcompletednonecompletedcompletedcompletednonenonenonenonecompletednonecompletednonenonenonecompletednonecompletedcompletedcompletedcompletedcompletednonecompletedcompletedcompletedcompletednonenonenonecompletedcompletedcompletednonenonenonecompletednonenonenonenonecompletednonenonenonecompletednonecompletedcompletednonenonecompletedcompletednonenonecompletednonenonecompletednonecompletedcompletednonecompletednonenonenonenonecompletednonenonenonenonenonenonenonenonenonenonecompletedcompletednonenonenonenonenonenonenonenonecompletednonenonenonenonenonecompletednonecompletednonenonenonenonenonenonecompletednonenonecompletedcompletednonecompletedcompletednonenonecompletednonenonecompletednonenonenonecompletedcompletednonenonenonecompletednonecompletednonecompletednonenonenonecompletedcompletedcompletedcompletedcompletednonenonenonenonenonenonenonenonenonenonenonecompletedcompletednonenonecompletednonenonenonecompletedcompletedcompletedcompletedcompletednonenonenonenonenonecompletedcompletedcompletedcompletednonenonenonenonenonecompletednonenonenonecompletednonecompletednonecompletednonecompletednonecompletednonenonenonenonecompletedcompletedcompletednonenonecompletedcompletedcompletedcompletednonecompletednonecompletedcompletednonenonecompletedcompletedcompletednonenonecompletednonecompletednonenonenonenonecompletednonenonenonenonenonecompletednonenonenonenonenonecompletedcompletednonecompletedcompletednonenonenonecompletedcompletedcompletednonenonecompletednonenonenonecompletedcompletednonenonenonenonecompletednonenonenonenonenonecompletedcompletednonenonecompletedcompletedcompletedcompletednonenonenonenonenonenonenonecompletednonecompletednonenonenonenonecompletedcompletednonenonenonenonenonenonenonenonenonenonecompletedcompletednonecompletednonecompletednonenonecompletednonecompletednonenonenonecompletednonecompletednonenonecompletednonecompletednonecompletednonecompletedcompletednonenonenonecompletedcompletedcompletednonecompletednonenonenonenonenonenonenonenonenonenonenonecompletednonenonenonecompletedcompletednonecompletednonenonecompletednonenonecompletedcompletednonenonenonenonenonenonenonecompletedcompletednonenonenonecompletedcompletednonenonenonecompletednonenonecompletednonenonenonecompletedcompletedcompletednonenonecompletedcompletednonenonenonecompletednonecompletednonenonecompletedcompletednonenonecompletednonecompletedcompletednonenonenonenonenonecompletednonecompletedcompletednonecompletednonecompletedcompletedcompletednonenonenonecompletedcompletedcompletednonenonecompletednonenonenonenonecompletedcompletednonecompletednonecompletednonenonenonenonenonenonenonenonenonecompletednonenonecompletednonenonenonenonecompletedcompletednonenonecompletedcompletednonecompletednonenonenonecompletedcompletednonenonenonecompletednonecompletedcompletedcompletednonenonenonecompletednonecompletedcompletednone'] to numeric",
     "output_type": "error",
     "traceback": [
      "\u001b[1;31m---------------------------------------------------------------------------\u001b[0m",
      "\u001b[1;31mTypeError\u001b[0m                                 Traceback (most recent call last)",
      "Cell \u001b[1;32mIn[129], line 1\u001b[0m\n\u001b[1;32m----> 1\u001b[0m df_exams\u001b[38;5;241m.\u001b[39mmean()\n",
      "File \u001b[1;32m~\\anaconda3\\Lib\\site-packages\\pandas\\core\\frame.py:11693\u001b[0m, in \u001b[0;36mDataFrame.mean\u001b[1;34m(self, axis, skipna, numeric_only, **kwargs)\u001b[0m\n\u001b[0;32m  11685\u001b[0m \u001b[38;5;129m@doc\u001b[39m(make_doc(\u001b[38;5;124m\"\u001b[39m\u001b[38;5;124mmean\u001b[39m\u001b[38;5;124m\"\u001b[39m, ndim\u001b[38;5;241m=\u001b[39m\u001b[38;5;241m2\u001b[39m))\n\u001b[0;32m  11686\u001b[0m \u001b[38;5;28;01mdef\u001b[39;00m\u001b[38;5;250m \u001b[39m\u001b[38;5;21mmean\u001b[39m(\n\u001b[0;32m  11687\u001b[0m     \u001b[38;5;28mself\u001b[39m,\n\u001b[1;32m   (...)\u001b[0m\n\u001b[0;32m  11691\u001b[0m     \u001b[38;5;241m*\u001b[39m\u001b[38;5;241m*\u001b[39mkwargs,\n\u001b[0;32m  11692\u001b[0m ):\n\u001b[1;32m> 11693\u001b[0m     result \u001b[38;5;241m=\u001b[39m \u001b[38;5;28msuper\u001b[39m()\u001b[38;5;241m.\u001b[39mmean(axis, skipna, numeric_only, \u001b[38;5;241m*\u001b[39m\u001b[38;5;241m*\u001b[39mkwargs)\n\u001b[0;32m  11694\u001b[0m     \u001b[38;5;28;01mif\u001b[39;00m \u001b[38;5;28misinstance\u001b[39m(result, Series):\n\u001b[0;32m  11695\u001b[0m         result \u001b[38;5;241m=\u001b[39m result\u001b[38;5;241m.\u001b[39m__finalize__(\u001b[38;5;28mself\u001b[39m, method\u001b[38;5;241m=\u001b[39m\u001b[38;5;124m\"\u001b[39m\u001b[38;5;124mmean\u001b[39m\u001b[38;5;124m\"\u001b[39m)\n",
      "File \u001b[1;32m~\\anaconda3\\Lib\\site-packages\\pandas\\core\\generic.py:12420\u001b[0m, in \u001b[0;36mNDFrame.mean\u001b[1;34m(self, axis, skipna, numeric_only, **kwargs)\u001b[0m\n\u001b[0;32m  12413\u001b[0m \u001b[38;5;28;01mdef\u001b[39;00m\u001b[38;5;250m \u001b[39m\u001b[38;5;21mmean\u001b[39m(\n\u001b[0;32m  12414\u001b[0m     \u001b[38;5;28mself\u001b[39m,\n\u001b[0;32m  12415\u001b[0m     axis: Axis \u001b[38;5;241m|\u001b[39m \u001b[38;5;28;01mNone\u001b[39;00m \u001b[38;5;241m=\u001b[39m \u001b[38;5;241m0\u001b[39m,\n\u001b[1;32m   (...)\u001b[0m\n\u001b[0;32m  12418\u001b[0m     \u001b[38;5;241m*\u001b[39m\u001b[38;5;241m*\u001b[39mkwargs,\n\u001b[0;32m  12419\u001b[0m ) \u001b[38;5;241m-\u001b[39m\u001b[38;5;241m>\u001b[39m Series \u001b[38;5;241m|\u001b[39m \u001b[38;5;28mfloat\u001b[39m:\n\u001b[1;32m> 12420\u001b[0m     \u001b[38;5;28;01mreturn\u001b[39;00m \u001b[38;5;28mself\u001b[39m\u001b[38;5;241m.\u001b[39m_stat_function(\n\u001b[0;32m  12421\u001b[0m         \u001b[38;5;124m\"\u001b[39m\u001b[38;5;124mmean\u001b[39m\u001b[38;5;124m\"\u001b[39m, nanops\u001b[38;5;241m.\u001b[39mnanmean, axis, skipna, numeric_only, \u001b[38;5;241m*\u001b[39m\u001b[38;5;241m*\u001b[39mkwargs\n\u001b[0;32m  12422\u001b[0m     )\n",
      "File \u001b[1;32m~\\anaconda3\\Lib\\site-packages\\pandas\\core\\generic.py:12377\u001b[0m, in \u001b[0;36mNDFrame._stat_function\u001b[1;34m(self, name, func, axis, skipna, numeric_only, **kwargs)\u001b[0m\n\u001b[0;32m  12373\u001b[0m nv\u001b[38;5;241m.\u001b[39mvalidate_func(name, (), kwargs)\n\u001b[0;32m  12375\u001b[0m validate_bool_kwarg(skipna, \u001b[38;5;124m\"\u001b[39m\u001b[38;5;124mskipna\u001b[39m\u001b[38;5;124m\"\u001b[39m, none_allowed\u001b[38;5;241m=\u001b[39m\u001b[38;5;28;01mFalse\u001b[39;00m)\n\u001b[1;32m> 12377\u001b[0m \u001b[38;5;28;01mreturn\u001b[39;00m \u001b[38;5;28mself\u001b[39m\u001b[38;5;241m.\u001b[39m_reduce(\n\u001b[0;32m  12378\u001b[0m     func, name\u001b[38;5;241m=\u001b[39mname, axis\u001b[38;5;241m=\u001b[39maxis, skipna\u001b[38;5;241m=\u001b[39mskipna, numeric_only\u001b[38;5;241m=\u001b[39mnumeric_only\n\u001b[0;32m  12379\u001b[0m )\n",
      "File \u001b[1;32m~\\anaconda3\\Lib\\site-packages\\pandas\\core\\frame.py:11562\u001b[0m, in \u001b[0;36mDataFrame._reduce\u001b[1;34m(self, op, name, axis, skipna, numeric_only, filter_type, **kwds)\u001b[0m\n\u001b[0;32m  11558\u001b[0m     df \u001b[38;5;241m=\u001b[39m df\u001b[38;5;241m.\u001b[39mT\n\u001b[0;32m  11560\u001b[0m \u001b[38;5;66;03m# After possibly _get_data and transposing, we are now in the\u001b[39;00m\n\u001b[0;32m  11561\u001b[0m \u001b[38;5;66;03m#  simple case where we can use BlockManager.reduce\u001b[39;00m\n\u001b[1;32m> 11562\u001b[0m res \u001b[38;5;241m=\u001b[39m df\u001b[38;5;241m.\u001b[39m_mgr\u001b[38;5;241m.\u001b[39mreduce(blk_func)\n\u001b[0;32m  11563\u001b[0m out \u001b[38;5;241m=\u001b[39m df\u001b[38;5;241m.\u001b[39m_constructor_from_mgr(res, axes\u001b[38;5;241m=\u001b[39mres\u001b[38;5;241m.\u001b[39maxes)\u001b[38;5;241m.\u001b[39miloc[\u001b[38;5;241m0\u001b[39m]\n\u001b[0;32m  11564\u001b[0m \u001b[38;5;28;01mif\u001b[39;00m out_dtype \u001b[38;5;129;01mis\u001b[39;00m \u001b[38;5;129;01mnot\u001b[39;00m \u001b[38;5;28;01mNone\u001b[39;00m \u001b[38;5;129;01mand\u001b[39;00m out\u001b[38;5;241m.\u001b[39mdtype \u001b[38;5;241m!=\u001b[39m \u001b[38;5;124m\"\u001b[39m\u001b[38;5;124mboolean\u001b[39m\u001b[38;5;124m\"\u001b[39m:\n",
      "File \u001b[1;32m~\\anaconda3\\Lib\\site-packages\\pandas\\core\\internals\\managers.py:1500\u001b[0m, in \u001b[0;36mBlockManager.reduce\u001b[1;34m(self, func)\u001b[0m\n\u001b[0;32m   1498\u001b[0m res_blocks: \u001b[38;5;28mlist\u001b[39m[Block] \u001b[38;5;241m=\u001b[39m []\n\u001b[0;32m   1499\u001b[0m \u001b[38;5;28;01mfor\u001b[39;00m blk \u001b[38;5;129;01min\u001b[39;00m \u001b[38;5;28mself\u001b[39m\u001b[38;5;241m.\u001b[39mblocks:\n\u001b[1;32m-> 1500\u001b[0m     nbs \u001b[38;5;241m=\u001b[39m blk\u001b[38;5;241m.\u001b[39mreduce(func)\n\u001b[0;32m   1501\u001b[0m     res_blocks\u001b[38;5;241m.\u001b[39mextend(nbs)\n\u001b[0;32m   1503\u001b[0m index \u001b[38;5;241m=\u001b[39m Index([\u001b[38;5;28;01mNone\u001b[39;00m])  \u001b[38;5;66;03m# placeholder\u001b[39;00m\n",
      "File \u001b[1;32m~\\anaconda3\\Lib\\site-packages\\pandas\\core\\internals\\blocks.py:404\u001b[0m, in \u001b[0;36mBlock.reduce\u001b[1;34m(self, func)\u001b[0m\n\u001b[0;32m    398\u001b[0m \u001b[38;5;129m@final\u001b[39m\n\u001b[0;32m    399\u001b[0m \u001b[38;5;28;01mdef\u001b[39;00m\u001b[38;5;250m \u001b[39m\u001b[38;5;21mreduce\u001b[39m(\u001b[38;5;28mself\u001b[39m, func) \u001b[38;5;241m-\u001b[39m\u001b[38;5;241m>\u001b[39m \u001b[38;5;28mlist\u001b[39m[Block]:\n\u001b[0;32m    400\u001b[0m     \u001b[38;5;66;03m# We will apply the function and reshape the result into a single-row\u001b[39;00m\n\u001b[0;32m    401\u001b[0m     \u001b[38;5;66;03m#  Block with the same mgr_locs; squeezing will be done at a higher level\u001b[39;00m\n\u001b[0;32m    402\u001b[0m     \u001b[38;5;28;01massert\u001b[39;00m \u001b[38;5;28mself\u001b[39m\u001b[38;5;241m.\u001b[39mndim \u001b[38;5;241m==\u001b[39m \u001b[38;5;241m2\u001b[39m\n\u001b[1;32m--> 404\u001b[0m     result \u001b[38;5;241m=\u001b[39m func(\u001b[38;5;28mself\u001b[39m\u001b[38;5;241m.\u001b[39mvalues)\n\u001b[0;32m    406\u001b[0m     \u001b[38;5;28;01mif\u001b[39;00m \u001b[38;5;28mself\u001b[39m\u001b[38;5;241m.\u001b[39mvalues\u001b[38;5;241m.\u001b[39mndim \u001b[38;5;241m==\u001b[39m \u001b[38;5;241m1\u001b[39m:\n\u001b[0;32m    407\u001b[0m         res_values \u001b[38;5;241m=\u001b[39m result\n",
      "File \u001b[1;32m~\\anaconda3\\Lib\\site-packages\\pandas\\core\\frame.py:11481\u001b[0m, in \u001b[0;36mDataFrame._reduce.<locals>.blk_func\u001b[1;34m(values, axis)\u001b[0m\n\u001b[0;32m  11479\u001b[0m         \u001b[38;5;28;01mreturn\u001b[39;00m np\u001b[38;5;241m.\u001b[39marray([result])\n\u001b[0;32m  11480\u001b[0m \u001b[38;5;28;01melse\u001b[39;00m:\n\u001b[1;32m> 11481\u001b[0m     \u001b[38;5;28;01mreturn\u001b[39;00m op(values, axis\u001b[38;5;241m=\u001b[39maxis, skipna\u001b[38;5;241m=\u001b[39mskipna, \u001b[38;5;241m*\u001b[39m\u001b[38;5;241m*\u001b[39mkwds)\n",
      "File \u001b[1;32m~\\anaconda3\\Lib\\site-packages\\pandas\\core\\nanops.py:147\u001b[0m, in \u001b[0;36mbottleneck_switch.__call__.<locals>.f\u001b[1;34m(values, axis, skipna, **kwds)\u001b[0m\n\u001b[0;32m    145\u001b[0m         result \u001b[38;5;241m=\u001b[39m alt(values, axis\u001b[38;5;241m=\u001b[39maxis, skipna\u001b[38;5;241m=\u001b[39mskipna, \u001b[38;5;241m*\u001b[39m\u001b[38;5;241m*\u001b[39mkwds)\n\u001b[0;32m    146\u001b[0m \u001b[38;5;28;01melse\u001b[39;00m:\n\u001b[1;32m--> 147\u001b[0m     result \u001b[38;5;241m=\u001b[39m alt(values, axis\u001b[38;5;241m=\u001b[39maxis, skipna\u001b[38;5;241m=\u001b[39mskipna, \u001b[38;5;241m*\u001b[39m\u001b[38;5;241m*\u001b[39mkwds)\n\u001b[0;32m    149\u001b[0m \u001b[38;5;28;01mreturn\u001b[39;00m result\n",
      "File \u001b[1;32m~\\anaconda3\\Lib\\site-packages\\pandas\\core\\nanops.py:404\u001b[0m, in \u001b[0;36m_datetimelike_compat.<locals>.new_func\u001b[1;34m(values, axis, skipna, mask, **kwargs)\u001b[0m\n\u001b[0;32m    401\u001b[0m \u001b[38;5;28;01mif\u001b[39;00m datetimelike \u001b[38;5;129;01mand\u001b[39;00m mask \u001b[38;5;129;01mis\u001b[39;00m \u001b[38;5;28;01mNone\u001b[39;00m:\n\u001b[0;32m    402\u001b[0m     mask \u001b[38;5;241m=\u001b[39m isna(values)\n\u001b[1;32m--> 404\u001b[0m result \u001b[38;5;241m=\u001b[39m func(values, axis\u001b[38;5;241m=\u001b[39maxis, skipna\u001b[38;5;241m=\u001b[39mskipna, mask\u001b[38;5;241m=\u001b[39mmask, \u001b[38;5;241m*\u001b[39m\u001b[38;5;241m*\u001b[39mkwargs)\n\u001b[0;32m    406\u001b[0m \u001b[38;5;28;01mif\u001b[39;00m datetimelike:\n\u001b[0;32m    407\u001b[0m     result \u001b[38;5;241m=\u001b[39m _wrap_results(result, orig_values\u001b[38;5;241m.\u001b[39mdtype, fill_value\u001b[38;5;241m=\u001b[39miNaT)\n",
      "File \u001b[1;32m~\\anaconda3\\Lib\\site-packages\\pandas\\core\\nanops.py:720\u001b[0m, in \u001b[0;36mnanmean\u001b[1;34m(values, axis, skipna, mask)\u001b[0m\n\u001b[0;32m    718\u001b[0m count \u001b[38;5;241m=\u001b[39m _get_counts(values\u001b[38;5;241m.\u001b[39mshape, mask, axis, dtype\u001b[38;5;241m=\u001b[39mdtype_count)\n\u001b[0;32m    719\u001b[0m the_sum \u001b[38;5;241m=\u001b[39m values\u001b[38;5;241m.\u001b[39msum(axis, dtype\u001b[38;5;241m=\u001b[39mdtype_sum)\n\u001b[1;32m--> 720\u001b[0m the_sum \u001b[38;5;241m=\u001b[39m _ensure_numeric(the_sum)\n\u001b[0;32m    722\u001b[0m \u001b[38;5;28;01mif\u001b[39;00m axis \u001b[38;5;129;01mis\u001b[39;00m \u001b[38;5;129;01mnot\u001b[39;00m \u001b[38;5;28;01mNone\u001b[39;00m \u001b[38;5;129;01mand\u001b[39;00m \u001b[38;5;28mgetattr\u001b[39m(the_sum, \u001b[38;5;124m\"\u001b[39m\u001b[38;5;124mndim\u001b[39m\u001b[38;5;124m\"\u001b[39m, \u001b[38;5;28;01mFalse\u001b[39;00m):\n\u001b[0;32m    723\u001b[0m     count \u001b[38;5;241m=\u001b[39m cast(np\u001b[38;5;241m.\u001b[39mndarray, count)\n",
      "File \u001b[1;32m~\\anaconda3\\Lib\\site-packages\\pandas\\core\\nanops.py:1686\u001b[0m, in \u001b[0;36m_ensure_numeric\u001b[1;34m(x)\u001b[0m\n\u001b[0;32m   1683\u001b[0m inferred \u001b[38;5;241m=\u001b[39m lib\u001b[38;5;241m.\u001b[39minfer_dtype(x)\n\u001b[0;32m   1684\u001b[0m \u001b[38;5;28;01mif\u001b[39;00m inferred \u001b[38;5;129;01min\u001b[39;00m [\u001b[38;5;124m\"\u001b[39m\u001b[38;5;124mstring\u001b[39m\u001b[38;5;124m\"\u001b[39m, \u001b[38;5;124m\"\u001b[39m\u001b[38;5;124mmixed\u001b[39m\u001b[38;5;124m\"\u001b[39m]:\n\u001b[0;32m   1685\u001b[0m     \u001b[38;5;66;03m# GH#44008, GH#36703 avoid casting e.g. strings to numeric\u001b[39;00m\n\u001b[1;32m-> 1686\u001b[0m     \u001b[38;5;28;01mraise\u001b[39;00m \u001b[38;5;167;01mTypeError\u001b[39;00m(\u001b[38;5;124mf\u001b[39m\u001b[38;5;124m\"\u001b[39m\u001b[38;5;124mCould not convert \u001b[39m\u001b[38;5;132;01m{\u001b[39;00mx\u001b[38;5;132;01m}\u001b[39;00m\u001b[38;5;124m to numeric\u001b[39m\u001b[38;5;124m\"\u001b[39m)\n\u001b[0;32m   1687\u001b[0m \u001b[38;5;28;01mtry\u001b[39;00m:\n\u001b[0;32m   1688\u001b[0m     x \u001b[38;5;241m=\u001b[39m x\u001b[38;5;241m.\u001b[39mastype(np\u001b[38;5;241m.\u001b[39mcomplex128)\n",
      "\u001b[1;31mTypeError\u001b[0m: Could not convert ['femalefemalefemalemalemalefemalefemalemalemalefemalemalemalefemalemalefemalefemalemalefemalemalefemalemalefemalemalefemalemalemalemalefemalemalefemalefemalefemalefemalemalemalemalefemalefemalefemalemalemalefemalefemalemalefemalemalefemalefemalefemalemalemalemalemalemalefemalefemalefemalemalemalefemalemalemalemalefemalefemalemalemalefemalemalefemalefemalemalefemalemalemalemalemalemalefemalefemalefemalemalemalemalemalefemalefemalefemalefemalefemalefemalemalemalemalefemalemalemalefemalefemalefemalemalemalefemalemalemalefemalefemalemalefemalefemalefemalemalemalefemalefemalemalefemalefemalefemalefemalefemalemalefemalemalemalefemalemalemalemalefemalemalemalemalefemalemalemalemalemalefemalemalefemalefemalefemalemalemalefemalemalemalefemalemalemalemalefemalemalemalefemalefemalemalefemalemalemalefemalemalemalefemalefemalemalefemalefemalefemalemalemalefemalefemalefemalefemalefemalefemalefemalefemalemalefemalefemalefemalemalemalemalemalemalefemalefemalemalefemalemalefemalemalemalemalefemalefemalefemalefemalemalefemalemalemalemalemalefemalefemalemalemalefemalemalemalemalefemalefemalemalemalefemalemalefemalemalefemalefemalefemalemalemalefemalemalemalefemalemalemalemalemalefemalemalemalemalefemalefemalemalemalemalemalefemalefemalemalemalefemalefemalemalemalefemalefemalemalefemalefemalefemalemalefemalefemalemalemalefemalefemalefemalefemalemalemalefemalefemalemalemalefemalefemalefemalemalemalemalefemalefemalefemalemalemalefemalemalemalemalemalemalefemalemalemalemalemalemalemalemalemalefemalemalefemalemalemalemalefemalefemalefemalemalemalefemalefemalemalefemalemalemalefemalefemalefemalefemalefemalefemalefemalemalemalemalefemalemalemalemalemalefemalefemalemalemalefemalefemalemalefemalefemalemalemalefemalemalefemalemalemalefemalemalefemalefemalefemalefemalemalefemalemalefemalefemalemalefemalefemalemalemalemalemalefemalefemalemalefemalemalefemalefemalemalefemalefemalefemalemalefemalemalemalefemalefemalefemalefemalefemalefemalemalemalefemalemalemalefemalemalefemalefemalemalemalefemalemalefemalefemalefemalefemalemalefemalefemalemalefemalemalemalemalefemalemalemalemalemalemalefemalefemalefemalefemalemalefemalemalemalemalemalemalefemalemalefemalemalemalemalemalemalemalefemalefemalefemalefemalemalefemalemalemalemalemalefemalefemalefemalemalefemalemalefemalemalefemalemalemalemalefemalefemalemalefemalefemalemalefemalemalefemalefemalefemalefemalefemalefemalemalemalefemalemalemalefemalemalemalefemalemalemalefemalemalemalefemalefemalefemalefemalefemalemalefemalefemalefemalemalefemalefemalemalefemalefemalefemalemalemalemalefemalemalemalemalefemalefemalefemalefemalefemalefemalefemalemalefemalemalemalemalemalemalefemalefemalefemalefemalefemalemalefemalemalefemalemalefemalemalemalemalemalefemalefemalefemalemalefemalemalefemalemalemalemalefemalemalemalefemalefemalemalefemalemalefemalefemalemalefemalemalemalefemalefemalemalemalemalemalefemalefemalefemalemalemalefemalefemalefemalefemalefemalefemalefemalefemalefemalefemalefemalefemalefemalemalemalemalefemalefemalefemalemalemalefemalefemalefemalefemalefemalemalemalemalefemalefemalefemalefemalemalefemalemalefemalefemalefemalefemalemalemalemalefemalemalemalemalefemalemalemalemalemalefemalemalemalefemalefemalemalemalefemalefemalemalefemalemalefemalefemalefemalemalefemalefemalefemalefemalefemalemalefemalefemalefemalefemalefemalemalemalefemalemalemalemalefemalefemalemalefemalefemalefemalemalemalefemalemalefemalefemalefemalefemalefemalefemalemalemalefemalemalemalefemalemalefemalemalemalemalemalefemalefemalefemalefemalefemalefemalefemalefemalefemalemalefemalefemalemalefemalefemalemalemalemalemalefemalemalefemalefemalemalefemalefemalemalefemalefemalemalefemalemalefemalemalemalemalefemalemalefemalemalefemalemalefemalemalefemalemalemalefemalemalemalemalefemalefemalefemalemalemalemalemalefemalemalemalemalemalefemalemalefemalemalemalefemalemalefemalefemalemalefemalemalefemalefemalemalefemalemalemalemalefemalefemalemalefemalefemalefemalefemalemalefemalefemalefemalefemalemalefemalefemalefemalemalefemalefemalefemalemalemalefemalefemalemalefemalemalefemalemalemalefemalefemalefemalemalefemalefemalemalemalemalemalefemalemalefemalemalefemalemalefemalefemalefemalefemalemalefemalefemalemalefemalefemalefemalemalefemalefemalemalefemalemalefemalemalefemalemalefemalefemalemalefemalemalefemalemalemalemalefemalemalemalefemalefemalemalemalefemalemalefemalemalemalefemalefemalemalefemalemalemalemalemalemalemalemalefemalemalemalefemalemalemalemalefemalefemalemalefemalefemalemalefemalefemalefemalemalefemalemalefemalefemalefemalemalefemalefemalemalefemalemalefemalemalefemalefemalefemalefemalemalemalefemalefemalemalemalefemalefemalefemalefemalefemalemalefemalefemalemalemalefemalemalefemalemalemalemalefemalemalefemalemalemalemalemalemalemalemalefemalemalemalemalefemalemalemalefemalefemalemalefemalemalefemalemalefemalefemalemalefemalemalemalefemalefemalemalefemalefemalefemalefemalemalefemalemalemalefemalefemalefemalemalefemalefemalefemalefemalemalemalemalefemalefemalemalemalefemalefemalemalefemalemalefemalefemalemalefemalefemalefemalemalefemalemalefemalefemalefemale'\n 'group Bgroup Cgroup Bgroup Agroup Cgroup Bgroup Bgroup Bgroup Dgroup Bgroup Cgroup Dgroup Bgroup Agroup Agroup Cgroup Cgroup Bgroup Cgroup Cgroup Dgroup Bgroup Dgroup Cgroup Dgroup Agroup Bgroup Cgroup Cgroup Dgroup Dgroup Bgroup Egroup Dgroup Egroup Egroup Dgroup Dgroup Dgroup Bgroup Cgroup Cgroup Bgroup Bgroup Egroup Bgroup Agroup Cgroup Dgroup Cgroup Egroup Egroup Cgroup Dgroup Cgroup Cgroup Egroup Dgroup Dgroup Cgroup Egroup Agroup Agroup Cgroup Dgroup Bgroup Dgroup Cgroup Bgroup Cgroup Dgroup Dgroup Agroup Cgroup Cgroup Bgroup Egroup Agroup Dgroup Egroup Bgroup Bgroup Agroup Egroup Dgroup Cgroup Cgroup Dgroup Agroup Dgroup Cgroup Cgroup Cgroup Cgroup Bgroup Cgroup Bgroup Egroup Dgroup Dgroup Bgroup Dgroup Dgroup Bgroup Cgroup Cgroup Dgroup Egroup Bgroup Bgroup Dgroup Cgroup Agroup Dgroup Egroup Cgroup Bgroup Dgroup Dgroup Cgroup Cgroup Bgroup Cgroup Dgroup Egroup Bgroup Bgroup Dgroup Dgroup Agroup Dgroup Cgroup Egroup Cgroup Dgroup Cgroup Bgroup Egroup Cgroup Dgroup Dgroup Cgroup Egroup Agroup Dgroup Cgroup Bgroup Cgroup Dgroup Egroup Agroup Agroup Bgroup Dgroup Dgroup Cgroup Egroup Bgroup Bgroup Dgroup Bgroup Egroup Bgroup Cgroup Egroup Cgroup Cgroup Bgroup Bgroup Cgroup Agroup Egroup Dgroup Cgroup Cgroup Cgroup Bgroup Cgroup Bgroup Dgroup Cgroup Cgroup Egroup Dgroup Cgroup Cgroup Egroup Dgroup Bgroup Cgroup Egroup Dgroup Bgroup Dgroup Cgroup Dgroup Cgroup Egroup Bgroup Bgroup Cgroup Dgroup Cgroup Bgroup Cgroup Dgroup Egroup Egroup Bgroup Bgroup Dgroup Cgroup Cgroup Cgroup Egroup Bgroup Egroup Cgroup Bgroup Bgroup Dgroup Bgroup Cgroup Dgroup Bgroup Egroup Cgroup Dgroup Agroup Cgroup Dgroup Cgroup Bgroup Egroup Cgroup Dgroup Dgroup Dgroup Bgroup Cgroup Dgroup Egroup Dgroup Egroup Dgroup Cgroup Egroup Bgroup Bgroup Cgroup Agroup Dgroup Bgroup Dgroup Dgroup Egroup Cgroup Cgroup Bgroup Cgroup Cgroup Cgroup Cgroup Egroup Dgroup Dgroup Cgroup Dgroup Dgroup Egroup Cgroup Cgroup Dgroup Dgroup Bgroup Cgroup Cgroup Egroup Cgroup Bgroup Dgroup Dgroup Dgroup Dgroup Bgroup Bgroup Egroup Bgroup Bgroup Egroup Cgroup Dgroup Cgroup Egroup Dgroup Bgroup Agroup Egroup Cgroup Dgroup Agroup Dgroup Cgroup Bgroup Cgroup Agroup Egroup Cgroup Bgroup Dgroup Bgroup Bgroup Dgroup Cgroup Cgroup Cgroup Dgroup Cgroup Bgroup Dgroup Cgroup Egroup Cgroup Cgroup Cgroup Cgroup Cgroup Agroup Cgroup Bgroup Cgroup Cgroup Egroup Bgroup Cgroup Bgroup Dgroup Cgroup Bgroup Dgroup Cgroup Cgroup Bgroup Dgroup Dgroup Cgroup Bgroup Cgroup Dgroup Egroup Bgroup Egroup Cgroup Cgroup Cgroup Bgroup Agroup Cgroup Dgroup Dgroup Bgroup Bgroup Cgroup Dgroup Cgroup Agroup Cgroup Cgroup Agroup Dgroup Egroup Cgroup Dgroup Dgroup Dgroup Egroup Dgroup Dgroup Agroup Agroup Bgroup Cgroup Cgroup Egroup Agroup Egroup Egroup Cgroup Dgroup Dgroup Egroup Dgroup Egroup Cgroup Cgroup Agroup Bgroup Cgroup Bgroup Dgroup Cgroup Agroup Agroup Dgroup Cgroup Cgroup Bgroup Bgroup Dgroup Dgroup Dgroup Egroup Dgroup Bgroup Cgroup Egroup Cgroup Cgroup Dgroup Egroup Cgroup Dgroup Dgroup Agroup Bgroup Cgroup Cgroup Cgroup Agroup Cgroup Cgroup Cgroup Cgroup Agroup Cgroup Cgroup Dgroup Dgroup Cgroup Dgroup Cgroup Dgroup Agroup Bgroup Agroup Cgroup Dgroup Cgroup Bgroup Bgroup Cgroup Egroup Cgroup Cgroup Cgroup Cgroup Dgroup Dgroup Egroup Bgroup Cgroup Bgroup Egroup Cgroup Agroup Cgroup Dgroup Agroup Agroup Cgroup Cgroup Cgroup Cgroup Dgroup Bgroup Dgroup Egroup Dgroup Dgroup Egroup Bgroup Dgroup Cgroup Agroup Bgroup Cgroup Dgroup Cgroup Bgroup Agroup Agroup Cgroup Cgroup Cgroup Bgroup Dgroup Cgroup Dgroup Bgroup Egroup Dgroup Bgroup Cgroup Egroup Dgroup Bgroup Agroup Bgroup Cgroup Cgroup Dgroup Agroup Dgroup Bgroup Bgroup Cgroup Dgroup Egroup Dgroup Bgroup Dgroup Cgroup Dgroup Cgroup Cgroup Egroup Cgroup Cgroup Dgroup Cgroup Cgroup Cgroup Egroup Egroup Bgroup Cgroup Cgroup Dgroup Egroup Agroup Cgroup Dgroup Cgroup Dgroup Dgroup Egroup Agroup Cgroup Cgroup Cgroup Cgroup Bgroup Bgroup Dgroup Egroup Cgroup Cgroup Cgroup Bgroup Dgroup Dgroup Cgroup Cgroup Dgroup Bgroup Bgroup Egroup Dgroup Bgroup Dgroup Bgroup Agroup Cgroup Cgroup Egroup Agroup Agroup Bgroup Bgroup Dgroup Dgroup Egroup Dgroup Dgroup Dgroup Cgroup Agroup Cgroup Cgroup Agroup Cgroup Agroup Egroup Egroup Cgroup Cgroup Bgroup Agroup Dgroup Dgroup Dgroup Cgroup Egroup Dgroup Dgroup Cgroup Cgroup Cgroup Egroup Bgroup Dgroup Cgroup Cgroup Cgroup Agroup Cgroup Egroup Dgroup Dgroup Cgroup Cgroup Bgroup Cgroup Agroup Egroup Dgroup Bgroup Dgroup Dgroup Cgroup Dgroup Bgroup Bgroup Cgroup Dgroup Agroup Bgroup Dgroup Egroup Dgroup Dgroup Dgroup Bgroup Egroup Bgroup Bgroup Dgroup Egroup Bgroup Dgroup Cgroup Agroup Dgroup Agroup Bgroup Bgroup Cgroup Dgroup Dgroup Dgroup Cgroup Cgroup Dgroup Cgroup Dgroup Cgroup Cgroup Bgroup Cgroup Dgroup Cgroup Dgroup Cgroup Cgroup Dgroup Bgroup Egroup Cgroup Dgroup Dgroup Dgroup Bgroup Bgroup Cgroup Bgroup Egroup Egroup Dgroup Agroup Egroup Cgroup Egroup Cgroup Dgroup Cgroup Dgroup Cgroup Agroup Dgroup Cgroup Egroup Bgroup Agroup Dgroup Bgroup Agroup Dgroup Cgroup Dgroup Dgroup Cgroup Egroup Dgroup Dgroup Bgroup Bgroup Cgroup Cgroup Cgroup Egroup Cgroup Dgroup Bgroup Cgroup Bgroup Egroup Egroup Egroup Dgroup Cgroup Bgroup Agroup Cgroup Dgroup Egroup Cgroup Cgroup Bgroup Dgroup Cgroup Dgroup Agroup Cgroup Cgroup Bgroup Dgroup Dgroup Cgroup Cgroup Bgroup Dgroup Egroup Cgroup Cgroup Cgroup Egroup Dgroup Egroup Dgroup Bgroup Cgroup Dgroup Dgroup Bgroup Dgroup Bgroup Cgroup Bgroup Dgroup Agroup Bgroup Dgroup Bgroup Cgroup Bgroup Bgroup Bgroup Cgroup Agroup Egroup Dgroup Bgroup Bgroup Cgroup Cgroup Bgroup Egroup Bgroup Cgroup Cgroup Bgroup Dgroup Dgroup Egroup Bgroup Egroup Dgroup Egroup Egroup Cgroup Cgroup Cgroup Egroup Bgroup Cgroup Agroup Dgroup Egroup Cgroup Bgroup Agroup Agroup Cgroup Egroup Cgroup Bgroup Agroup Dgroup Bgroup Cgroup Agroup Dgroup Egroup Bgroup Cgroup Cgroup Cgroup Cgroup Dgroup Bgroup Agroup Cgroup Agroup Bgroup Bgroup Cgroup Egroup Agroup Bgroup Cgroup Dgroup Cgroup Bgroup Bgroup Dgroup Egroup Cgroup Dgroup Cgroup Dgroup Cgroup Agroup Egroup Egroup Cgroup Bgroup Bgroup Cgroup Bgroup Cgroup Cgroup Egroup Dgroup Cgroup Cgroup Dgroup Cgroup Bgroup Egroup Cgroup Bgroup Cgroup Bgroup Egroup Cgroup Cgroup Dgroup Cgroup Dgroup Dgroup Cgroup Egroup Bgroup Dgroup Egroup Cgroup Egroup Cgroup Dgroup Dgroup Egroup Egroup Agroup Dgroup Egroup Egroup Bgroup Bgroup Dgroup Dgroup Dgroup Cgroup Agroup Dgroup Dgroup Dgroup Bgroup Dgroup Cgroup Egroup Dgroup Agroup Cgroup Cgroup Bgroup Egroup Egroup Cgroup Cgroup Bgroup Dgroup Cgroup Dgroup Bgroup Dgroup Egroup Egroup Dgroup Egroup Cgroup Cgroup Dgroup Dgroup Cgroup Cgroup Dgroup Agroup Egroup Dgroup Dgroup Cgroup Dgroup Cgroup Agroup Bgroup Cgroup Bgroup Dgroup Bgroup Egroup Egroup Dgroup Egroup Cgroup Cgroup Egroup Cgroup Dgroup Dgroup Cgroup Agroup Dgroup Egroup Cgroup Dgroup Dgroup Agroup Cgroup Egroup Bgroup Dgroup Cgroup Agroup Dgroup Agroup Cgroup Bgroup Cgroup Dgroup Cgroup Bgroup Dgroup Bgroup Agroup Cgroup Agroup Cgroup Egroup Agroup Dgroup Egroup Bgroup Dgroup Dgroup Agroup Egroup Cgroup Cgroup Dgroup D'\n \"bachelor's degreesome collegemaster's degreeassociate's degreesome collegeassociate's degreesome collegesome collegehigh schoolhigh schoolassociate's degreeassociate's degreehigh schoolsome collegemaster's degreesome high schoolhigh schoolsome high schoolmaster's degreeassociate's degreehigh schoolsome collegesome collegesome high schoolbachelor's degreemaster's degreesome collegebachelor's degreehigh schoolmaster's degreesome collegesome collegemaster's degreesome collegesome collegeassociate's degreeassociate's degreesome high schoolassociate's degreeassociate's degreeassociate's degreeassociate's degreeassociate's degreesome collegeassociate's degreeassociate's degreeassociate's degreehigh schoolassociate's degreehigh schoolsome collegeassociate's degreesome collegehigh schoolsome high schoolhigh schoolassociate's degreeassociate's degreesome collegesome high schoolbachelor's degreesome high schoolassociate's degreeassociate's degreesome high schoolsome high schoolsome high schoolsome collegeassociate's degreeassociate's degreesome collegesome collegeassociate's degreesome high schoolsome high schoolassociate's degreesome high schoolbachelor's degreesome high schoolmaster's degreeassociate's degreehigh schoolsome collegeassociate's degreehigh schoolsome collegesome collegeassociate's degreesome collegesome high schoolbachelor's degreehigh schoolhigh schoolassociate's degreesome collegeassociate's degreesome high schoolsome collegesome collegebachelor's degreesome collegebachelor's degreeassociate's degreehigh schoolsome collegesome collegemaster's degreeassociate's degreeassociate's degreesome high schoolassociate's degreehigh schoolassociate's degreesome collegebachelor's degreehigh schoolbachelor's degreebachelor's degreesome high schoolsome collegebachelor's degreeassociate's degreesome collegehigh schoolsome collegehigh schoolsome high schoolsome collegemaster's degreebachelor's degreemaster's degreesome high schoolsome collegesome collegebachelor's degreebachelor's degreesome high schoolhigh schoolassociate's degreesome collegesome high schoolsome collegesome collegehigh schoolsome collegesome collegesome high schoolassociate's degreebachelor's degreeassociate's degreesome high schoolbachelor's degreeassociate's degreebachelor's degreesome high schoolsome collegehigh schoolsome collegeassociate's degreeassociate's degreeassociate's degreesome collegemaster's degreehigh schoolmaster's degreebachelor's degreehigh schoolmaster's degreehigh schoolsome collegehigh schoolsome high schoolsome collegeassociate's degreebachelor's degreemaster's degreehigh schoolassociate's degreemaster's degreesome high schoolmaster's degreesome collegehigh schoolassociate's degreesome high schoolassociate's degreehigh schoolsome high schoolsome high schoolbachelor's degreeassociate's degreesome collegesome high schoolsome collegemaster's degreeassociate's degreesome high schoolhigh schoolsome collegebachelor's degreeassociate's degreesome collegeassociate's degreeassociate's degreesome collegesome high schoolbachelor's degreehigh schoolsome collegesome collegesome high schoolsome collegehigh schoolassociate's degreehigh schoolsome high schoolassociate's degreehigh schoolhigh schoolsome high schoolhigh schoolassociate's degreesome high schoolsome high schoolassociate's degreemaster's degreesome collegehigh schoolsome high schoolsome collegesome collegeassociate's degreebachelor's degreesome high schoolbachelor's degreeassociate's degreebachelor's degreesome high schoolsome collegeassociate's degreehigh schoolbachelor's degreehigh schoolsome collegesome high schoolassociate's degreeassociate's degreehigh schoolhigh schoolhigh schoolsome high schoolsome collegesome high schoolmaster's degreehigh schoolsome collegeassociate's degreeassociate's degreesome collegemaster's degreesome high schoolsome collegesome high schoolhigh schoolhigh schoolsome high schoolbachelor's degreehigh schoolassociate's degreesome collegebachelor's degreesome collegeassociate's degreesome collegesome collegebachelor's degreesome high schoolhigh schoolsome high schoolbachelor's degreehigh schoolhigh schoolbachelor's degreesome collegesome high schoolassociate's degreeassociate's degreesome high schoolbachelor's degreesome high schoolassociate's degreesome high schoolsome high schoolbachelor's degreehigh schoolassociate's degreesome high schoolassociate's degreehigh schoolassociate's degreesome collegesome high schoolassociate's degreeassociate's degreeassociate's degreesome collegesome collegesome high schoolassociate's degreehigh schoolassociate's degreebachelor's degreebachelor's degreeassociate's degreebachelor's degreehigh schoolmaster's degreeassociate's degreebachelor's degreeassociate's degreehigh schoolhigh schoolsome collegesome high schoolhigh schoolsome collegesome collegesome collegeassociate's degreesome high schoolhigh schoolassociate's degreeassociate's degreeassociate's degreebachelor's degreesome collegesome high schoolassociate's degreesome high schoolsome high schoolhigh schoolhigh schoolhigh schoolassociate's degreesome collegehigh schoolsome collegebachelor's degreehigh schoolassociate's degreebachelor's degreesome collegesome collegeassociate's degreesome collegebachelor's degreeassociate's degreesome collegesome collegesome collegehigh schoolsome high schoolsome collegesome high schoolsome collegebachelor's degreehigh schoolbachelor's degreesome high schoolsome high schoolsome collegesome collegesome high schoolsome collegebachelor's degreeassociate's degreesome high schoolmaster's degreesome high schoolbachelor's degreeassociate's degreeassociate's degreemaster's degreesome high schoolsome high schoolsome collegebachelor's degreeassociate's degreehigh schoolmaster's degreesome high schoolsome collegesome collegeassociate's degreesome high schoolhigh schoolhigh schoolassociate's degreesome high schoolsome high schoolsome high schoolsome collegesome collegehigh schoolhigh schoolsome high schoolassociate's degreeassociate's degreehigh schoolassociate's degreemaster's degreesome collegeassociate's degreesome high schoolbachelor's degreehigh schoolbachelor's degreeassociate's degreesome collegehigh schoolassociate's degreehigh schoolmaster's degreesome high schoolsome collegesome collegebachelor's degreesome high schoolsome high schoolsome high schoolassociate's degreehigh schoolhigh schoolsome high schoolsome high schoolsome collegeassociate's degreeassociate's degreehigh schoolsome high schoolsome collegehigh schoolsome high schoolassociate's degreesome high schoolsome high schoolsome collegehigh schoolhigh schoolassociate's degreesome collegesome collegeassociate's degreesome collegeassociate's degreebachelor's degreebachelor's degreeassociate's degreebachelor's degreehigh schoolbachelor's degreesome collegesome collegesome collegebachelor's degreesome collegeassociate's degreehigh schoolhigh schoolsome collegeassociate's degreehigh schoolassociate's degreesome high schoolassociate's degreebachelor's degreebachelor's degreeassociate's degreemaster's degreeassociate's degreehigh schoolassociate's degreesome collegehigh schoolassociate's degreehigh schoolsome collegeassociate's degreesome high schoolassociate's degreeassociate's degreeassociate's degreesome collegebachelor's degreehigh schoolhigh schoolsome collegesome collegesome high schoolsome collegemaster's degreeassociate's degreesome collegeassociate's degreemaster's degreesome high schoolhigh schoolbachelor's degreemaster's degreebachelor's degreesome collegesome high schoolsome high schoolsome high schoolmaster's degreesome high schoolsome collegesome collegesome high schoolhigh schoolsome collegeassociate's degreebachelor's degreemaster's degreehigh schoolsome collegesome high schoolhigh schoolbachelor's degreeassociate's degreeassociate's degreesome high schoolassociate's degreeassociate's degreehigh schoolbachelor's degreeassociate's degreehigh schoolbachelor's degreeassociate's degreehigh schoolassociate's degreeassociate's degreeassociate's degreemaster's degreesome high schoolsome high schoolhigh schoolhigh schoolmaster's degreesome high schoolbachelor's degreeassociate's degreesome collegeassociate's degreesome collegeassociate's degreemaster's degreeassociate's degreesome high schoolsome collegesome collegebachelor's degreesome collegebachelor's degreeassociate's degreebachelor's degreemaster's degreehigh schoolbachelor's degreesome collegebachelor's degreesome collegehigh schoolhigh schoolassociate's degreesome collegehigh schoolsome collegemaster's degreesome high schoolsome high schoolbachelor's degreeassociate's degreesome collegeassociate's degreehigh schoolbachelor's degreesome collegesome high schoolsome collegesome high schoolbachelor's degreehigh schoolbachelor's degreebachelor's degreehigh schoolsome high schoolhigh schoolsome high schoolmaster's degreehigh schoolsome collegehigh schoolmaster's degreesome high schoolassociate's degreemaster's degreesome collegeassociate's degreesome collegesome collegebachelor's degreeassociate's degreeassociate's degreehigh schoolbachelor's degreebachelor's degreemaster's degreeassociate's degreehigh schoolbachelor's degreehigh schoolsome collegebachelor's degreesome collegeassociate's degreeassociate's degreesome collegesome high schoolsome collegehigh schoolbachelor's degreehigh schoolsome high schoolhigh schoolhigh schoolsome high schoolsome collegeassociate's degreehigh schoolassociate's degreesome high schoolhigh schoolhigh schoolbachelor's degreeassociate's degreehigh schoolhigh schoolsome collegesome high schoolhigh schoolsome collegeassociate's degreesome high schoolsome collegeassociate's degreesome high schoolassociate's degreeassociate's degreesome collegesome high schoolsome collegehigh schoolassociate's degreesome high schoolsome collegebachelor's degreesome collegeassociate's degreehigh schoolassociate's degreesome collegeassociate's degreehigh schoolsome collegesome collegesome high schoolassociate's degreesome collegehigh schoolhigh schoolhigh schoolsome high schoolsome collegemaster's degreesome collegeassociate's degreehigh schoolsome collegeassociate's degreeassociate's degreebachelor's degreeassociate's degreesome high schoolsome collegeassociate's degreebachelor's degreeassociate's degreehigh schoolbachelor's degreesome high schoolbachelor's degreesome collegesome high schoolbachelor's degreehigh schoolsome collegehigh schoolassociate's degreesome collegesome high schoolsome collegemaster's degreesome high schoolassociate's degreeassociate's degreeassociate's degreehigh schoolassociate's degreesome collegesome high schoolsome high schoolhigh schoolsome collegesome collegeassociate's degreesome high schoolhigh schoolsome collegeassociate's degreesome high schoolsome collegesome high schoolsome collegemaster's degreeassociate's degreesome collegeassociate's degreehigh schoolbachelor's degreeassociate's degreehigh schoolassociate's degreesome collegeassociate's degreehigh schoolsome collegebachelor's degreesome collegesome high schoolsome collegemaster's degreesome high schoolassociate's degreeassociate's degreesome collegebachelor's degreesome collegesome collegehigh schoolsome high schoolsome high schoolhigh schoolsome collegehigh schoolhigh schoolhigh schoolsome high schoolsome collegehigh schoolbachelor's degreesome high schoolbachelor's degreesome collegesome high schoolhigh schoolsome collegesome collegeassociate's degreeassociate's degreemaster's degreehigh schoolassociate's degreebachelor's degreesome high schoolsome high schoolsome collegeassociate's degreemaster's degreehigh schoolsome collegehigh schoolsome high schoolhigh schoolassociate's degreehigh schoolassociate's degreesome collegeassociate's degreesome high schoolsome high schoolassociate's degreesome collegesome collegesome collegesome collegehigh schoolhigh schoolbachelor's degreesome high schoolhigh schoolmaster's degreesome high schoolhigh schoolsome high schoolbachelor's degreebachelor's degreehigh schoolsome high schoolsome high schoolbachelor's degreesome collegehigh schoolsome high schoolhigh schoolassociate's degreesome high schoolsome high schoolsome high schoolsome collegebachelor's degreebachelor's degreehigh schoolsome collegehigh schoolhigh schoolhigh schoolassociate's degreeassociate's degreehigh schoolsome high schoolhigh schoolsome collegesome high schoolmaster's degreemaster's degreehigh schoolhigh schoolassociate's degreemaster's degreehigh schoolsome collegesome high schoolsome high schoolbachelor's degreesome collegebachelor's degreehigh schoolassociate's degreeassociate's degreemaster's degreebachelor's degreesome collegeassociate's degreesome collegehigh schoolassociate's degreeassociate's degreeassociate's degreehigh schoolsome collegeassociate's degreeassociate's degreebachelor's degreesome collegesome collegesome high schoolsome high schoolassociate's degreebachelor's degreebachelor's degreehigh schoolbachelor's degreeassociate's degreeassociate's degreeassociate's degreehigh schoolsome collegehigh schoolsome collegeassociate's degreemaster's degreesome high schoolassociate's degreesome high schoolhigh schoolsome high schoolassociate's degreesome high schoolmaster's degreemaster's degreehigh schoolbachelor's degreesome high schoolsome collegehigh schoolsome collegebachelor's degreebachelor's degreebachelor's degreesome collegebachelor's degreebachelor's degreeassociate's degreesome collegebachelor's degreehigh schoolassociate's degreesome collegehigh schoolhigh schoolhigh schoolassociate's degreehigh schoolsome high schoolassociate's degreehigh schoolassociate's degreesome high schoolsome collegesome collegeassociate's degreebachelor's degreeassociate's degreesome collegeassociate's degreehigh schoolsome collegesome high schoolmaster's degreemaster's degreehigh schoolsome high schoolhigh schoolassociate's degreehigh schoolsome collegesome high schoolhigh schoolhigh schoolsome collegesome high schoolhigh schoolsome collegeassociate's degreesome collegemaster's degreehigh schoolhigh schoolsome collegesome high schoolassociate's degreesome high schoolsome collegesome collegesome high schoolsome collegeassociate's degreebachelor's degreebachelor's degreesome high schoolhigh schoolsome collegesome collegesome collegesome collegeassociate's degreehigh schoolassociate's degreehigh schoolsome high schoolsome high schoolsome collegesome high schoolhigh schoolassociate's degreesome high schoolsome high schoolsome collegehigh schoolsome high schoolassociate's degreebachelor's degreehigh schoolmaster's degreehigh schoolhigh schoolsome collegesome college\"\n 'standardstandardstandardfree/reducedstandardstandardstandardfree/reducedfree/reducedfree/reducedstandardstandardstandardstandardstandardstandardstandardfree/reducedfree/reducedfree/reducedstandardfree/reducedstandardstandardfree/reducedfree/reducedstandardstandardstandardstandardstandardstandardfree/reducedstandardstandardstandardstandardfree/reducedfree/reducedfree/reducedfree/reducedstandardstandardfree/reducedfree/reducedstandardstandardstandardfree/reducedstandardstandardfree/reducedstandardstandardfree/reducedfree/reducedstandardstandardstandardfree/reducedfree/reducedfree/reducedfree/reducedstandardstandardstandardfree/reducedstandardfree/reducedstandardfree/reducedstandardfree/reducedfree/reducedstandardfree/reducedstandardstandardstandardstandardstandardfree/reducedfree/reducedstandardfree/reducedstandardfree/reducedstandardstandardstandardstandardfree/reducedstandardfree/reducedstandardfree/reducedstandardstandardfree/reducedstandardstandardstandardstandardstandardstandardstandardstandardstandardfree/reducedstandardfree/reducedstandardstandardstandardstandardstandardfree/reducedstandardstandardstandardstandardstandardstandardfree/reducedstandardstandardstandardstandardstandardstandardstandardfree/reducedfree/reducedstandardfree/reducedstandardstandardstandardstandardstandardstandardfree/reducedfree/reducedstandardstandardfree/reducedstandardfree/reducedstandardfree/reducedstandardstandardstandardstandardstandardstandardfree/reducedfree/reducedstandardfree/reducedfree/reducedfree/reducedfree/reducedstandardstandardstandardfree/reducedfree/reducedstandardfree/reducedstandardstandardstandardstandardfree/reducedstandardfree/reducedstandardfree/reducedstandardfree/reducedfree/reducedstandardstandardfree/reducedfree/reducedstandardstandardfree/reducedstandardstandardstandardstandardstandardstandardstandardfree/reducedfree/reducedfree/reducedfree/reducedstandardfree/reducedstandardstandardstandardstandardstandardstandardfree/reducedfree/reducedfree/reducedfree/reducedfree/reducedfree/reducedstandardstandardfree/reducedfree/reducedfree/reducedstandardstandardstandardfree/reducedstandardstandardfree/reducedstandardstandardfree/reducedstandardstandardstandardstandardstandardstandardstandardfree/reducedstandardstandardstandardfree/reducedstandardstandardstandardstandardstandardstandardstandardstandardstandardstandardfree/reducedstandardstandardstandardstandardfree/reducedstandardstandardfree/reducedfree/reducedstandardfree/reducedstandardstandardfree/reducedstandardstandardstandardfree/reducedstandardstandardfree/reducedstandardstandardstandardstandardstandardfree/reducedfree/reducedstandardstandardfree/reducedfree/reducedstandardstandardstandardstandardfree/reducedstandardstandardstandardstandardstandardfree/reducedfree/reducedstandardstandardfree/reducedfree/reducedfree/reducedfree/reducedstandardstandardstandardstandardstandardstandardfree/reducedfree/reducedstandardstandardstandardfree/reducedstandardstandardstandardstandardstandardfree/reducedfree/reducedstandardstandardfree/reducedfree/reducedstandardstandardfree/reducedstandardstandardstandardstandardstandardstandardstandardfree/reducedstandardstandardfree/reducedfree/reducedfree/reducedstandardstandardstandardstandardstandardstandardstandardfree/reducedstandardstandardstandardstandardstandardstandardstandardstandardfree/reducedfree/reducedstandardstandardstandardstandardfree/reducedstandardfree/reducedstandardfree/reducedfree/reducedstandardstandardfree/reducedstandardstandardstandardfree/reducedstandardfree/reducedstandardstandardstandardstandardfree/reducedfree/reducedfree/reducedstandardstandardfree/reducedstandardstandardfree/reducedstandardstandardstandardstandardfree/reducedfree/reducedstandardstandardstandardstandardstandardfree/reducedstandardstandardstandardstandardstandardfree/reducedstandardstandardstandardstandardstandardfree/reducedstandardstandardstandardstandardfree/reducedfree/reducedstandardfree/reducedstandardfree/reducedfree/reducedstandardfree/reducedfree/reducedfree/reducedfree/reducedstandardstandardfree/reducedstandardfree/reducedstandardfree/reducedstandardstandardstandardstandardfree/reducedstandardfree/reducedstandardfree/reducedstandardstandardstandardfree/reducedstandardfree/reducedfree/reducedfree/reducedfree/reducedstandardfree/reducedstandardstandardfree/reducedfree/reducedstandardfree/reducedstandardstandardfree/reducedfree/reducedfree/reducedstandardstandardstandardstandardstandardstandardstandardstandardstandardstandardstandardstandardfree/reducedfree/reducedstandardstandardstandardfree/reducedfree/reducedstandardfree/reducedfree/reducedstandardstandardstandardstandardstandardstandardfree/reducedstandardstandardstandardstandardfree/reducedstandardfree/reducedstandardstandardfree/reducedstandardstandardstandardstandardfree/reducedstandardfree/reducedstandardstandardstandardstandardfree/reducedstandardstandardstandardfree/reducedstandardstandardfree/reducedfree/reducedfree/reducedstandardstandardstandardstandardstandardstandardfree/reducedstandardstandardstandardstandardstandardfree/reducedstandardstandardstandardfree/reducedstandardstandardfree/reducedstandardfree/reducedfree/reducedstandardfree/reducedstandardfree/reducedstandardfree/reducedfree/reducedstandardstandardstandardstandardfree/reducedfree/reducedstandardfree/reducedfree/reducedfree/reducedfree/reducedstandardstandardstandardfree/reducedstandardfree/reducedstandardstandardfree/reducedstandardstandardstandardfree/reducedstandardstandardstandardstandardfree/reducedstandardstandardfree/reducedstandardstandardstandardstandardstandardfree/reducedstandardstandardstandardstandardstandardstandardfree/reducedfree/reducedstandardstandardfree/reducedstandardstandardfree/reducedstandardstandardstandardstandardstandardstandardstandardstandardfree/reducedfree/reducedfree/reducedfree/reducedstandardfree/reducedstandardfree/reducedstandardfree/reducedstandardstandardstandardstandardstandardstandardstandardfree/reducedstandardstandardstandardstandardfree/reducedfree/reducedstandardstandardstandardstandardfree/reducedstandardstandardfree/reducedstandardstandardstandardstandardstandardfree/reducedstandardfree/reducedstandardfree/reducedstandardfree/reducedstandardstandardfree/reducedfree/reducedfree/reducedstandardstandardfree/reducedfree/reducedstandardstandardstandardstandardstandardstandardfree/reducedfree/reducedstandardstandardstandardfree/reducedstandardstandardstandardfree/reducedfree/reducedfree/reducedstandardfree/reducedfree/reducedstandardstandardfree/reducedstandardstandardstandardfree/reducedstandardstandardstandardstandardfree/reducedfree/reducedstandardstandardstandardfree/reducedstandardstandardstandardstandardstandardfree/reducedstandardstandardstandardfree/reducedfree/reducedfree/reducedfree/reducedstandardstandardstandardstandardstandardfree/reducedstandardfree/reducedfree/reducedstandardstandardfree/reducedstandardstandardfree/reducedstandardfree/reducedstandardfree/reducedstandardstandardfree/reducedstandardstandardstandardfree/reducedstandardstandardstandardfree/reducedstandardfree/reducedstandardstandardfree/reducedfree/reducedstandardfree/reducedstandardstandardstandardstandardstandardstandardstandardstandardfree/reducedstandardstandardfree/reducedfree/reducedstandardfree/reducedstandardfree/reducedstandardstandardfree/reducedstandardfree/reducedstandardstandardstandardfree/reducedstandardfree/reducedfree/reducedstandardfree/reducedfree/reducedstandardstandardfree/reducedstandardfree/reducedstandardstandardstandardstandardstandardstandardstandardfree/reducedfree/reducedfree/reducedstandardstandardstandardfree/reducedstandardstandardstandardstandardstandardfree/reducedfree/reducedstandardstandardfree/reducedfree/reducedfree/reducedfree/reducedstandardfree/reducedstandardfree/reducedstandardfree/reducedfree/reducedstandardstandardstandardstandardstandardstandardfree/reducedstandardfree/reducedstandardfree/reducedfree/reducedfree/reducedstandardstandardstandardstandardstandardstandardstandardstandardstandardstandardstandardfree/reducedstandardstandardfree/reducedstandardfree/reducedfree/reducedstandardstandardstandardfree/reducedstandardfree/reducedfree/reducedstandardstandardstandardfree/reducedfree/reducedfree/reducedstandardstandardstandardstandardstandardstandardfree/reducedfree/reducedstandardstandardstandardfree/reducedfree/reducedfree/reducedstandardstandardfree/reducedstandardstandardfree/reducedfree/reducedfree/reducedstandardstandardstandardstandardfree/reducedfree/reducedfree/reducedstandardstandardstandardfree/reducedstandardfree/reducedstandardstandardfree/reducedfree/reducedstandardstandardstandardstandardstandardfree/reducedfree/reducedstandardfree/reducedfree/reducedstandardfree/reducedfree/reducedfree/reducedfree/reducedfree/reducedfree/reducedfree/reducedfree/reducedstandardfree/reducedstandardfree/reducedstandardstandardfree/reducedstandardstandardfree/reducedstandardstandardstandardfree/reducedfree/reducedfree/reducedstandardstandardfree/reducedstandardstandardstandardstandardstandardstandardstandardstandardfree/reducedstandardfree/reducedstandardstandardstandardstandardstandardstandardstandardstandardfree/reducedfree/reducedstandardstandardfree/reducedstandardstandardstandardfree/reducedstandardstandardstandardstandardstandardstandardstandardfree/reducedfree/reducedfree/reducedstandardfree/reducedfree/reducedstandardstandardfree/reducedfree/reducedstandardfree/reduced'\n 'nonecompletednonenonenonenonecompletednonecompletednonenonenonenonecompletednonenonenonenonecompletednonenonecompletednonenonecompletednonenonenonenonenonenonenonenonenonenonecompletednonenonecompletednonenonenonenonecompletednonenonecompletednonecompletedcompletednonecompletednonenonecompletednonecompletednonecompletednonecompletednonenonenonenonenonenonenonenonenonecompletedcompletednonenonenonenonenonecompletedcompletednonenonenonecompletednonenonenonenonenonenonenonenonenonenonecompletednonecompletedcompletedcompletednonenonenonecompletednonecompletedcompletednonenonecompletednonenonecompletednonenonenonecompletednonenonenonenonenonecompletedcompletedcompletednonenonenonenonecompletednonenonenonecompletedcompletedcompletedcompletednonecompletednonenonecompletednonenonecompletednonenonenonenonenonecompletedcompletedcompletednonecompletednonenonecompletedcompletednonecompletednonecompletedcompletednonenonenonecompletedcompletedcompletedcompletedcompletedcompletednonenonenonecompletedcompletedcompletedcompletedcompletedcompletedcompletednonenonenonecompletedcompletednonecompletednonenonenonecompletednonecompletedcompletednonecompletednonenonenonecompletednonenonenonenonecompletednonecompletednonenonecompletednonenonecompletedcompletedcompletedcompletednonenonecompletedcompletednonenonenonecompletednonenonenonenonecompletednonenonenonenonecompletednonenonecompletednonenonecompletednonenonenonenonenonenonecompletednonenonecompletednonecompletednonenonenonenonecompletednonecompletedcompletedcompletednonenonenonenonenonenonecompletednonenonenonenonenonecompletednonecompletedcompletednonenonenonenonenonecompletednonecompletedcompletednonenonecompletednonenonecompletednonecompletednonecompletedcompletedcompletednonecompletednonecompletednonecompletednonecompletednonenonenonenonenonecompletedcompletedcompletednonecompletednonenonenonecompletednonenonenonenonenonenonenonecompletednonenonenonecompletednonenonenonecompletednonenonecompletednonenonecompletedcompletednonenonenonecompletednonenonenonenonecompletednonenonenonenonecompletednonenonenonecompletednonenonenonecompletedcompletednonenonenonenonecompletednonecompletednonenonenonecompletednonenonenonecompletednonenonenonenonenonenonenonenonecompletednonenonecompletedcompletednonenonenonenonenonecompletednonenonecompletednonenonecompletednonecompletedcompletedcompletedcompletednonecompletedcompletednonecompletednonenonecompletedcompletedcompletedcompletedcompletednonenonenonenonenonenonenonenonenonenonenonecompletednonenonenonecompletedcompletednonenonenonenonecompletednonecompletednonenonecompletednonenonenonenonenonenonenonenonecompletednonenonenonenonecompletednonenonecompletedcompletednonecompletednonecompletednonecompletedcompletedcompletednonenonenonecompletednonenonenonenonenonenonenonecompletedcompletednonenonenonenonenonecompletednonecompletednonenonenonecompletednonecompletednonenonenonenonenonenonenonenonenonecompletedcompletedcompletednonecompletedcompletedcompletednonenonenonenonecompletednonecompletednonenonenonecompletednonecompletedcompletedcompletedcompletedcompletednonecompletedcompletedcompletedcompletednonenonenonecompletedcompletedcompletednonenonenonecompletednonenonenonenonecompletednonenonenonecompletednonecompletedcompletednonenonecompletedcompletednonenonecompletednonenonecompletednonecompletedcompletednonecompletednonenonenonenonecompletednonenonenonenonenonenonenonenonenonenonecompletedcompletednonenonenonenonenonenonenonenonecompletednonenonenonenonenonecompletednonecompletednonenonenonenonenonenonecompletednonenonecompletedcompletednonecompletedcompletednonenonecompletednonenonecompletednonenonenonecompletedcompletednonenonenonecompletednonecompletednonecompletednonenonenonecompletedcompletedcompletedcompletedcompletednonenonenonenonenonenonenonenonenonenonenonecompletedcompletednonenonecompletednonenonenonecompletedcompletedcompletedcompletedcompletednonenonenonenonenonecompletedcompletedcompletedcompletednonenonenonenonenonecompletednonenonenonecompletednonecompletednonecompletednonecompletednonecompletednonenonenonenonecompletedcompletedcompletednonenonecompletedcompletedcompletedcompletednonecompletednonecompletedcompletednonenonecompletedcompletedcompletednonenonecompletednonecompletednonenonenonenonecompletednonenonenonenonenonecompletednonenonenonenonenonecompletedcompletednonecompletedcompletednonenonenonecompletedcompletedcompletednonenonecompletednonenonenonecompletedcompletednonenonenonenonecompletednonenonenonenonenonecompletedcompletednonenonecompletedcompletedcompletedcompletednonenonenonenonenonenonenonecompletednonecompletednonenonenonenonecompletedcompletednonenonenonenonenonenonenonenonenonenonecompletedcompletednonecompletednonecompletednonenonecompletednonecompletednonenonenonecompletednonecompletednonenonecompletednonecompletednonecompletednonecompletedcompletednonenonenonecompletedcompletedcompletednonecompletednonenonenonenonenonenonenonenonenonenonenonecompletednonenonenonecompletedcompletednonecompletednonenonecompletednonenonecompletedcompletednonenonenonenonenonenonenonecompletedcompletednonenonenonecompletedcompletednonenonenonecompletednonenonecompletednonenonenonecompletedcompletedcompletednonenonecompletedcompletednonenonenonecompletednonecompletednonenonecompletedcompletednonenonecompletednonecompletedcompletednonenonenonenonenonecompletednonecompletedcompletednonecompletednonecompletedcompletedcompletednonenonenonecompletedcompletedcompletednonenonecompletednonenonenonenonecompletedcompletednonecompletednonecompletednonenonenonenonenonenonenonenonenonecompletednonenonecompletednonenonenonenonecompletedcompletednonenonecompletedcompletednonecompletednonenonenonecompletedcompletednonenonenonecompletednonecompletedcompletedcompletednonenonenonecompletednonecompletedcompletednone'] to numeric"
     ]
    }
   ],
   "source": [
    "df_exams.mean()"
   ]
  },
  {
   "cell_type": "code",
   "execution_count": 130,
   "id": "c919c49e-735a-402e-892f-9688cdfc5158",
   "metadata": {},
   "outputs": [
    {
     "data": {
      "text/html": [
       "<div>\n",
       "<style scoped>\n",
       "    .dataframe tbody tr th:only-of-type {\n",
       "        vertical-align: middle;\n",
       "    }\n",
       "\n",
       "    .dataframe tbody tr th {\n",
       "        vertical-align: top;\n",
       "    }\n",
       "\n",
       "    .dataframe thead th {\n",
       "        text-align: right;\n",
       "    }\n",
       "</style>\n",
       "<table border=\"1\" class=\"dataframe\">\n",
       "  <thead>\n",
       "    <tr style=\"text-align: right;\">\n",
       "      <th></th>\n",
       "      <th>index</th>\n",
       "      <th>math score</th>\n",
       "      <th>reading score</th>\n",
       "      <th>writing score</th>\n",
       "    </tr>\n",
       "  </thead>\n",
       "  <tbody>\n",
       "    <tr>\n",
       "      <th>count</th>\n",
       "      <td>1000.000000</td>\n",
       "      <td>1000.00000</td>\n",
       "      <td>1000.000000</td>\n",
       "      <td>1000.000000</td>\n",
       "    </tr>\n",
       "    <tr>\n",
       "      <th>mean</th>\n",
       "      <td>499.500000</td>\n",
       "      <td>66.08900</td>\n",
       "      <td>69.169000</td>\n",
       "      <td>68.054000</td>\n",
       "    </tr>\n",
       "    <tr>\n",
       "      <th>std</th>\n",
       "      <td>288.819436</td>\n",
       "      <td>15.16308</td>\n",
       "      <td>14.600192</td>\n",
       "      <td>15.195657</td>\n",
       "    </tr>\n",
       "    <tr>\n",
       "      <th>min</th>\n",
       "      <td>0.000000</td>\n",
       "      <td>0.00000</td>\n",
       "      <td>17.000000</td>\n",
       "      <td>10.000000</td>\n",
       "    </tr>\n",
       "    <tr>\n",
       "      <th>25%</th>\n",
       "      <td>249.750000</td>\n",
       "      <td>57.00000</td>\n",
       "      <td>59.000000</td>\n",
       "      <td>57.750000</td>\n",
       "    </tr>\n",
       "    <tr>\n",
       "      <th>50%</th>\n",
       "      <td>499.500000</td>\n",
       "      <td>66.00000</td>\n",
       "      <td>70.000000</td>\n",
       "      <td>69.000000</td>\n",
       "    </tr>\n",
       "    <tr>\n",
       "      <th>75%</th>\n",
       "      <td>749.250000</td>\n",
       "      <td>77.00000</td>\n",
       "      <td>79.000000</td>\n",
       "      <td>79.000000</td>\n",
       "    </tr>\n",
       "    <tr>\n",
       "      <th>max</th>\n",
       "      <td>999.000000</td>\n",
       "      <td>100.00000</td>\n",
       "      <td>100.000000</td>\n",
       "      <td>100.000000</td>\n",
       "    </tr>\n",
       "  </tbody>\n",
       "</table>\n",
       "</div>"
      ],
      "text/plain": [
       "             index  math score  reading score  writing score\n",
       "count  1000.000000  1000.00000    1000.000000    1000.000000\n",
       "mean    499.500000    66.08900      69.169000      68.054000\n",
       "std     288.819436    15.16308      14.600192      15.195657\n",
       "min       0.000000     0.00000      17.000000      10.000000\n",
       "25%     249.750000    57.00000      59.000000      57.750000\n",
       "50%     499.500000    66.00000      70.000000      69.000000\n",
       "75%     749.250000    77.00000      79.000000      79.000000\n",
       "max     999.000000   100.00000     100.000000     100.000000"
      ]
     },
     "execution_count": 130,
     "metadata": {},
     "output_type": "execute_result"
    }
   ],
   "source": [
    "df_exams.describe()"
   ]
  },
  {
   "cell_type": "code",
   "execution_count": 131,
   "id": "48f0effd-158b-44d1-b3ec-beab861b17a0",
   "metadata": {},
   "outputs": [
    {
     "data": {
      "text/plain": [
       "0       77\n",
       "1       95\n",
       "2      100\n",
       "3       62\n",
       "4       83\n",
       "      ... \n",
       "995    104\n",
       "996     60\n",
       "997     76\n",
       "998     83\n",
       "999     91\n",
       "Name: reading score, Length: 1000, dtype: int64"
      ]
     },
     "execution_count": 131,
     "metadata": {},
     "output_type": "execute_result"
    }
   ],
   "source": [
    "def suma(x):\n",
    "    return x + 5\n",
    "df_exams['reading score'].apply(suma)"
   ]
  },
  {
   "cell_type": "code",
   "execution_count": 132,
   "id": "71c8ff72-f723-4eba-8f05-cde0aae9bdc5",
   "metadata": {},
   "outputs": [
    {
     "data": {
      "text/html": [
       "<div>\n",
       "<style scoped>\n",
       "    .dataframe tbody tr th:only-of-type {\n",
       "        vertical-align: middle;\n",
       "    }\n",
       "\n",
       "    .dataframe tbody tr th {\n",
       "        vertical-align: top;\n",
       "    }\n",
       "\n",
       "    .dataframe thead th {\n",
       "        text-align: right;\n",
       "    }\n",
       "</style>\n",
       "<table border=\"1\" class=\"dataframe\">\n",
       "  <thead>\n",
       "    <tr style=\"text-align: right;\">\n",
       "      <th></th>\n",
       "      <th>index</th>\n",
       "      <th>gender</th>\n",
       "      <th>race/ethnicity</th>\n",
       "      <th>parental level of education</th>\n",
       "      <th>lunch</th>\n",
       "      <th>test preparation course</th>\n",
       "      <th>math score</th>\n",
       "      <th>reading score</th>\n",
       "      <th>writing score</th>\n",
       "    </tr>\n",
       "  </thead>\n",
       "  <tbody>\n",
       "    <tr>\n",
       "      <th>0</th>\n",
       "      <td>0</td>\n",
       "      <td>female</td>\n",
       "      <td>group B</td>\n",
       "      <td>bachelor's degree</td>\n",
       "      <td>standard</td>\n",
       "      <td>none</td>\n",
       "      <td>72</td>\n",
       "      <td>72</td>\n",
       "      <td>74</td>\n",
       "    </tr>\n",
       "    <tr>\n",
       "      <th>1</th>\n",
       "      <td>1</td>\n",
       "      <td>female</td>\n",
       "      <td>group C</td>\n",
       "      <td>some college</td>\n",
       "      <td>standard</td>\n",
       "      <td>completed</td>\n",
       "      <td>69</td>\n",
       "      <td>90</td>\n",
       "      <td>88</td>\n",
       "    </tr>\n",
       "    <tr>\n",
       "      <th>2</th>\n",
       "      <td>2</td>\n",
       "      <td>female</td>\n",
       "      <td>group B</td>\n",
       "      <td>master's degree</td>\n",
       "      <td>standard</td>\n",
       "      <td>none</td>\n",
       "      <td>90</td>\n",
       "      <td>95</td>\n",
       "      <td>93</td>\n",
       "    </tr>\n",
       "    <tr>\n",
       "      <th>3</th>\n",
       "      <td>3</td>\n",
       "      <td>male</td>\n",
       "      <td>group A</td>\n",
       "      <td>associate's degree</td>\n",
       "      <td>free/reduced</td>\n",
       "      <td>none</td>\n",
       "      <td>47</td>\n",
       "      <td>57</td>\n",
       "      <td>44</td>\n",
       "    </tr>\n",
       "    <tr>\n",
       "      <th>4</th>\n",
       "      <td>4</td>\n",
       "      <td>male</td>\n",
       "      <td>group C</td>\n",
       "      <td>some college</td>\n",
       "      <td>standard</td>\n",
       "      <td>none</td>\n",
       "      <td>76</td>\n",
       "      <td>78</td>\n",
       "      <td>75</td>\n",
       "    </tr>\n",
       "    <tr>\n",
       "      <th>...</th>\n",
       "      <td>...</td>\n",
       "      <td>...</td>\n",
       "      <td>...</td>\n",
       "      <td>...</td>\n",
       "      <td>...</td>\n",
       "      <td>...</td>\n",
       "      <td>...</td>\n",
       "      <td>...</td>\n",
       "      <td>...</td>\n",
       "    </tr>\n",
       "    <tr>\n",
       "      <th>995</th>\n",
       "      <td>995</td>\n",
       "      <td>female</td>\n",
       "      <td>group E</td>\n",
       "      <td>master's degree</td>\n",
       "      <td>standard</td>\n",
       "      <td>completed</td>\n",
       "      <td>88</td>\n",
       "      <td>99</td>\n",
       "      <td>95</td>\n",
       "    </tr>\n",
       "    <tr>\n",
       "      <th>996</th>\n",
       "      <td>996</td>\n",
       "      <td>male</td>\n",
       "      <td>group C</td>\n",
       "      <td>high school</td>\n",
       "      <td>free/reduced</td>\n",
       "      <td>none</td>\n",
       "      <td>62</td>\n",
       "      <td>55</td>\n",
       "      <td>55</td>\n",
       "    </tr>\n",
       "    <tr>\n",
       "      <th>997</th>\n",
       "      <td>997</td>\n",
       "      <td>female</td>\n",
       "      <td>group C</td>\n",
       "      <td>high school</td>\n",
       "      <td>free/reduced</td>\n",
       "      <td>completed</td>\n",
       "      <td>59</td>\n",
       "      <td>71</td>\n",
       "      <td>65</td>\n",
       "    </tr>\n",
       "    <tr>\n",
       "      <th>998</th>\n",
       "      <td>998</td>\n",
       "      <td>female</td>\n",
       "      <td>group D</td>\n",
       "      <td>some college</td>\n",
       "      <td>standard</td>\n",
       "      <td>completed</td>\n",
       "      <td>68</td>\n",
       "      <td>78</td>\n",
       "      <td>77</td>\n",
       "    </tr>\n",
       "    <tr>\n",
       "      <th>999</th>\n",
       "      <td>999</td>\n",
       "      <td>female</td>\n",
       "      <td>group D</td>\n",
       "      <td>some college</td>\n",
       "      <td>free/reduced</td>\n",
       "      <td>none</td>\n",
       "      <td>77</td>\n",
       "      <td>86</td>\n",
       "      <td>86</td>\n",
       "    </tr>\n",
       "  </tbody>\n",
       "</table>\n",
       "<p>1000 rows × 9 columns</p>\n",
       "</div>"
      ],
      "text/plain": [
       "     index  gender race/ethnicity parental level of education         lunch  \\\n",
       "0        0  female        group B           bachelor's degree      standard   \n",
       "1        1  female        group C                some college      standard   \n",
       "2        2  female        group B             master's degree      standard   \n",
       "3        3    male        group A          associate's degree  free/reduced   \n",
       "4        4    male        group C                some college      standard   \n",
       "..     ...     ...            ...                         ...           ...   \n",
       "995    995  female        group E             master's degree      standard   \n",
       "996    996    male        group C                 high school  free/reduced   \n",
       "997    997  female        group C                 high school  free/reduced   \n",
       "998    998  female        group D                some college      standard   \n",
       "999    999  female        group D                some college  free/reduced   \n",
       "\n",
       "    test preparation course  math score  reading score  writing score  \n",
       "0                      none          72             72             74  \n",
       "1                 completed          69             90             88  \n",
       "2                      none          90             95             93  \n",
       "3                      none          47             57             44  \n",
       "4                      none          76             78             75  \n",
       "..                      ...         ...            ...            ...  \n",
       "995               completed          88             99             95  \n",
       "996                    none          62             55             55  \n",
       "997               completed          59             71             65  \n",
       "998               completed          68             78             77  \n",
       "999                    none          77             86             86  \n",
       "\n",
       "[1000 rows x 9 columns]"
      ]
     },
     "execution_count": 132,
     "metadata": {},
     "output_type": "execute_result"
    }
   ],
   "source": [
    "df_exams"
   ]
  },
  {
   "cell_type": "code",
   "execution_count": 133,
   "id": "b0bdd6ba-8a9d-4910-8071-91825fdeeaae",
   "metadata": {},
   "outputs": [
    {
     "data": {
      "text/plain": [
       "0      6\n",
       "1      6\n",
       "2      6\n",
       "3      4\n",
       "4      4\n",
       "      ..\n",
       "995    6\n",
       "996    4\n",
       "997    6\n",
       "998    6\n",
       "999    6\n",
       "Name: gender, Length: 1000, dtype: int64"
      ]
     },
     "execution_count": 133,
     "metadata": {},
     "output_type": "execute_result"
    }
   ],
   "source": [
    "df_exams['gender'].apply(len)"
   ]
  },
  {
   "cell_type": "code",
   "execution_count": 135,
   "id": "0db944b5-abc5-460b-be38-ca37160be32f",
   "metadata": {},
   "outputs": [
    {
     "data": {
      "text/plain": [
       "0       82\n",
       "1      100\n",
       "2      105\n",
       "3       67\n",
       "4       88\n",
       "      ... \n",
       "995    109\n",
       "996     65\n",
       "997     81\n",
       "998     88\n",
       "999     96\n",
       "Name: reading score, Length: 1000, dtype: int64"
      ]
     },
     "execution_count": 135,
     "metadata": {},
     "output_type": "execute_result"
    }
   ],
   "source": [
    "df_exams['reading score'].apply(lambda x:x+10)"
   ]
  },
  {
   "cell_type": "code",
   "execution_count": 138,
   "id": "39b637af-2639-437e-98d8-c16d1b0bf234",
   "metadata": {},
   "outputs": [],
   "source": [
    "def sumar2(x):\n",
    "    return sum(x)"
   ]
  },
  {
   "cell_type": "code",
   "execution_count": 146,
   "id": "581f9099-8c11-4728-9643-c096f5b84bdf",
   "metadata": {},
   "outputs": [
    {
     "ename": "TypeError",
     "evalue": "'numpy.ndarray' object is not callable",
     "output_type": "error",
     "traceback": [
      "\u001b[1;31m---------------------------------------------------------------------------\u001b[0m",
      "\u001b[1;31mTypeError\u001b[0m                                 Traceback (most recent call last)",
      "Cell \u001b[1;32mIn[146], line 5\u001b[0m\n\u001b[0;32m      3\u001b[0m     \u001b[38;5;28mprint\u001b[39m(\u001b[38;5;124m\"\u001b[39m\u001b[38;5;124mLa suma de los elementos es:\u001b[39m\u001b[38;5;124m\"\u001b[39m, resultado)\n\u001b[0;32m      4\u001b[0m numeros \u001b[38;5;241m=\u001b[39m [\u001b[38;5;241m1\u001b[39m, \u001b[38;5;241m2\u001b[39m, \u001b[38;5;241m3\u001b[39m, \u001b[38;5;241m4\u001b[39m, \u001b[38;5;241m5\u001b[39m]\n\u001b[1;32m----> 5\u001b[0m calcular_suma(numeros)\n",
      "Cell \u001b[1;32mIn[146], line 2\u001b[0m, in \u001b[0;36mcalcular_suma\u001b[1;34m(lista)\u001b[0m\n\u001b[0;32m      1\u001b[0m \u001b[38;5;28;01mdef\u001b[39;00m\u001b[38;5;250m \u001b[39m\u001b[38;5;21mcalcular_suma\u001b[39m(lista):\n\u001b[1;32m----> 2\u001b[0m     resultado \u001b[38;5;241m=\u001b[39m \u001b[38;5;28msum\u001b[39m(lista)\n\u001b[0;32m      3\u001b[0m     \u001b[38;5;28mprint\u001b[39m(\u001b[38;5;124m\"\u001b[39m\u001b[38;5;124mLa suma de los elementos es:\u001b[39m\u001b[38;5;124m\"\u001b[39m, resultado)\n",
      "\u001b[1;31mTypeError\u001b[0m: 'numpy.ndarray' object is not callable"
     ]
    }
   ],
   "source": [
    "\n",
    "def calcular_suma(lista):\n",
    "    resultado = sum(lista)\n",
    "    print(\"La suma de los elementos es:\", resultado)\n",
    "numeros = [1, 2, 3, 4, 5]\n",
    "calcular_suma(numeros)"
   ]
  },
  {
   "cell_type": "code",
   "execution_count": 143,
   "id": "c4ac6b98-d9f0-4638-9007-73be5bc29877",
   "metadata": {},
   "outputs": [
    {
     "ename": "TypeError",
     "evalue": "'numpy.ndarray' object is not callable",
     "output_type": "error",
     "traceback": [
      "\u001b[1;31m---------------------------------------------------------------------------\u001b[0m",
      "\u001b[1;31mTypeError\u001b[0m                                 Traceback (most recent call last)",
      "Cell \u001b[1;32mIn[143], line 2\u001b[0m\n\u001b[0;32m      1\u001b[0m a \u001b[38;5;241m=\u001b[39m (\u001b[38;5;241m1\u001b[39m, \u001b[38;5;241m2\u001b[39m, \u001b[38;5;241m3\u001b[39m, \u001b[38;5;241m4\u001b[39m, \u001b[38;5;241m5\u001b[39m)\n\u001b[1;32m----> 2\u001b[0m x \u001b[38;5;241m=\u001b[39m \u001b[38;5;28msum\u001b[39m(a)\n",
      "\u001b[1;31mTypeError\u001b[0m: 'numpy.ndarray' object is not callable"
     ]
    }
   ],
   "source": [
    "a = (1, 2, 3, 4, 5)\n",
    "x = sum(a)"
   ]
  },
  {
   "cell_type": "code",
   "execution_count": null,
   "id": "1eeaff40-543f-4e05-816d-1f2f3324c937",
   "metadata": {},
   "outputs": [],
   "source": []
  }
 ],
 "metadata": {
  "kernelspec": {
   "display_name": "Python [conda env:base] *",
   "language": "python",
   "name": "conda-base-py"
  },
  "language_info": {
   "codemirror_mode": {
    "name": "ipython",
    "version": 3
   },
   "file_extension": ".py",
   "mimetype": "text/x-python",
   "name": "python",
   "nbconvert_exporter": "python",
   "pygments_lexer": "ipython3",
   "version": "3.13.5"
  }
 },
 "nbformat": 4,
 "nbformat_minor": 5
}
