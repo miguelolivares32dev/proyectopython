{
 "cells": [
  {
   "cell_type": "code",
   "execution_count": 1,
   "id": "e92859c1",
   "metadata": {},
   "outputs": [
    {
     "name": "stdout",
     "output_type": "stream",
     "text": [
      "hello world\n"
     ]
    }
   ],
   "source": [
    "print(\"hello world\")"
   ]
  },
  {
   "cell_type": "code",
   "execution_count": 1,
   "id": "2855e3e5",
   "metadata": {},
   "outputs": [
    {
     "name": "stdout",
     "output_type": "stream",
     "text": [
      "6\n",
      "10\n",
      "15\n"
     ]
    }
   ],
   "source": [
    "def sum_of_integers(n):\n",
    "  if n < 1:\n",
    "    return 0\n",
    "\n",
    "\n",
    "  i = 1\n",
    "  sum = 0\n",
    "  while i<=n:\n",
    "    sum = sum + i\n",
    "    i = i + 1\n",
    "\n",
    "\n",
    "  return sum\n",
    "\n",
    "\n",
    "print(sum_of_integers(3))  # should print 6\n",
    "print(sum_of_integers(4))  # should print 10\n",
    "print(sum_of_integers(5))  # should print 15"
   ]
  },
  {
   "cell_type": "code",
   "execution_count": 2,
   "id": "b245e272",
   "metadata": {},
   "outputs": [
    {
     "name": "stdout",
     "output_type": "stream",
     "text": [
      "3x1=3\n",
      "3x2=6\n",
      "3x3=9\n",
      "3x4=12\n",
      "3x5=15\n",
      "3x6=18\n",
      "3x7=21\n",
      "3x8=24\n",
      "5x1=5\n",
      "5x2=10\n",
      "5x3=15\n",
      "5x4=20\n",
      "5x5=25\n",
      "8x1=8\n",
      "8x2=16\n",
      "8x3=24\n"
     ]
    }
   ],
   "source": [
    "def multiplication_table(number):\n",
    "    # Initialize the appropriate variable\n",
    "    multiplier = 1\n",
    "\n",
    "\n",
    "    # Complete the while loop condition.\n",
    "    while True:\n",
    "        result = number * multiplier \n",
    "        if  result > 25:\n",
    "            # Enter the action to take if the result > 25\n",
    "            break\n",
    "        print(str(number) + \"x\" + str(multiplier) + \"=\" + str(result))\n",
    "        \n",
    "        # Increment the appropriate variable\n",
    "        multiplier  += 1\n",
    "\n",
    "\n",
    "\n",
    "\n",
    "multiplication_table(3) \n",
    "# Should print: \n",
    "# 3x1=3 \n",
    "# 3x2=6 \n",
    "# 3x3=9 \n",
    "# 3x4=12 \n",
    "# 3x5=15\n",
    "\n",
    "\n",
    "multiplication_table(5) \n",
    "# Should print: \n",
    "# 5x1=5\n",
    "# 5x2=10\n",
    "# 5x3=15\n",
    "# 5x4=20\n",
    "# 5x5=25\n",
    "\n",
    "\n",
    "multiplication_table(8) \n",
    "# Should print:\n",
    "# 8x1=8\n",
    "# 8x2=16\n",
    "# 8x3=24"
   ]
  },
  {
   "cell_type": "code",
   "execution_count": 3,
   "id": "d4afa90f",
   "metadata": {},
   "outputs": [
    {
     "name": "stdout",
     "output_type": "stream",
     "text": [
      "0\n",
      "1\n",
      "2\n",
      "3\n",
      "4\n"
     ]
    }
   ],
   "source": [
    "for x in range(5):\n",
    "    print(x)"
   ]
  },
  {
   "cell_type": "code",
   "execution_count": 4,
   "id": "a5d9854b",
   "metadata": {},
   "outputs": [
    {
     "name": "stdout",
     "output_type": "stream",
     "text": [
      "Hi Taylor\n",
      "Hi Alex\n",
      "Hi Pat\n",
      "Hi Eli\n"
     ]
    }
   ],
   "source": [
    "friends = ['Taylor', 'Alex', 'Pat', 'Eli']\n",
    "for friend in friends:\n",
    "    print(\"Hi \" + friend)"
   ]
  },
  {
   "cell_type": "code",
   "execution_count": 5,
   "id": "e88c8ac3",
   "metadata": {},
   "outputs": [
    {
     "name": "stdout",
     "output_type": "stream",
     "text": [
      "Total sum: 219 - Average: 43.8\n"
     ]
    }
   ],
   "source": [
    "values = [ 23, 52, 59, 37, 48 ]\n",
    "sum = 0\n",
    "length = 0\n",
    "for value in values:\n",
    "    sum += value\n",
    "    length += 1\n",
    "\n",
    "print(\"Total sum: \" + str(sum) + \" - Average: \" + str(sum/length))"
   ]
  }
 ],
 "metadata": {
  "kernelspec": {
   "display_name": "base",
   "language": "python",
   "name": "python3"
  },
  "language_info": {
   "codemirror_mode": {
    "name": "ipython",
    "version": 3
   },
   "file_extension": ".py",
   "mimetype": "text/x-python",
   "name": "python",
   "nbconvert_exporter": "python",
   "pygments_lexer": "ipython3",
   "version": "3.13.5"
  }
 },
 "nbformat": 4,
 "nbformat_minor": 5
}
