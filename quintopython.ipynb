{
 "cells": [
  {
   "cell_type": "code",
   "execution_count": 1,
   "id": "be9f7e13-ca61-4050-9914-f91410e59691",
   "metadata": {},
   "outputs": [
    {
     "name": "stdout",
     "output_type": "stream",
     "text": [
      "alex\n",
      "miguel\n"
     ]
    }
   ],
   "source": [
    "friends = ['alex','miguel']\n",
    "for texto in friends:\n",
    "    print(texto)"
   ]
  },
  {
   "cell_type": "code",
   "execution_count": 2,
   "id": "c0a85156-3b63-42eb-ac2e-190814e2f031",
   "metadata": {},
   "outputs": [
    {
     "name": "stdout",
     "output_type": "stream",
     "text": [
      "Hi Taylor\n",
      "Hi Alex\n",
      "Hi Pat\n",
      "Hi Eli\n"
     ]
    }
   ],
   "source": [
    "friends = ['Taylor', 'Alex', 'Pat', 'Eli']\n",
    "for friend in friends:\n",
    "    print(\"Hi \" + friend)"
   ]
  },
  {
   "cell_type": "code",
   "execution_count": 3,
   "id": "bccde5e0-a8a6-417a-a776-ac71ad7e6d9c",
   "metadata": {},
   "outputs": [
    {
     "name": "stdout",
     "output_type": "stream",
     "text": [
      "Hello, World!\n"
     ]
    }
   ],
   "source": [
    "print(\"Hello, World!\")"
   ]
  },
  {
   "cell_type": "code",
   "execution_count": 4,
   "id": "113a4c7b-46aa-4a52-92d7-ae68b918d743",
   "metadata": {},
   "outputs": [
    {
     "name": "stdout",
     "output_type": "stream",
     "text": [
      "Hello Brook\n"
     ]
    }
   ],
   "source": [
    "name = \"Brook\"\n",
    "print(\"Hello \" + name)\n",
    "#Hello Brook"
   ]
  },
  {
   "cell_type": "code",
   "execution_count": 5,
   "id": "648cee37-5b12-4046-b89f-4f8ff4f29bd3",
   "metadata": {},
   "outputs": [
    {
     "name": "stdout",
     "output_type": "stream",
     "text": [
      "Hello Alex\n"
     ]
    }
   ],
   "source": [
    "name = \"Alex\"\n",
    "print(\"Hello \" + name)\n",
    "#Hello Alex"
   ]
  },
  {
   "cell_type": "code",
   "execution_count": 6,
   "id": "9aa09459-aaf5-4da7-94e5-551212f61b01",
   "metadata": {},
   "outputs": [
    {
     "name": "stdout",
     "output_type": "stream",
     "text": [
      "9\n",
      "63\n",
      "-0.25\n"
     ]
    }
   ],
   "source": [
    "print(4+5)\n",
    "#9\n",
    "print(9*7)\n",
    "#63\n",
    "print(-1/4)\n",
    "#-0.25"
   ]
  },
  {
   "cell_type": "code",
   "execution_count": 7,
   "id": "e3b0d583-7368-4079-ae8e-ee0d9dc71815",
   "metadata": {},
   "outputs": [
    {
     "name": "stdout",
     "output_type": "stream",
     "text": [
      "0.3333333333333333\n"
     ]
    }
   ],
   "source": [
    "print(1/3)\n",
    "#0.3333333333333333"
   ]
  },
  {
   "cell_type": "code",
   "execution_count": 8,
   "id": "850a541e-6244-48fd-ae22-e31039b4e7a0",
   "metadata": {},
   "outputs": [
    {
     "name": "stdout",
     "output_type": "stream",
     "text": [
      "42.0\n"
     ]
    }
   ],
   "source": [
    "print(((2050/5)-32)/9)\n",
    "#42.0"
   ]
  },
  {
   "cell_type": "code",
   "execution_count": 9,
   "id": "c1145d4a-669b-4b84-ba32-608dd3181a11",
   "metadata": {},
   "outputs": [
    {
     "name": "stdout",
     "output_type": "stream",
     "text": [
      "1024\n"
     ]
    }
   ],
   "source": [
    "print(2**10)\n",
    "#1024"
   ]
  },
  {
   "cell_type": "code",
   "execution_count": 11,
   "id": "4fa4892a-d76b-4b40-99df-939e19ef2bc3",
   "metadata": {},
   "outputs": [
    {
     "name": "stdout",
     "output_type": "stream",
     "text": [
      "2.25\n"
     ]
    }
   ],
   "source": [
    "print(((1+2)*3)/4)"
   ]
  },
  {
   "cell_type": "code",
   "execution_count": 12,
   "id": "8861b765-76d9-4a75-ad4b-94b1cf3656cb",
   "metadata": {},
   "outputs": [
    {
     "name": "stdout",
     "output_type": "stream",
     "text": [
      "Hello world!\n"
     ]
    }
   ],
   "source": [
    "# Syntax for printing a string of text. Click Run to check the result.\n",
    "\n",
    "print(\"Hello world!\")"
   ]
  },
  {
   "cell_type": "code",
   "execution_count": 13,
   "id": "99dc6678-9d0f-4783-8290-8c4521557d02",
   "metadata": {},
   "outputs": [],
   "source": [
    "exit()"
   ]
  },
  {
   "cell_type": "code",
   "execution_count": 1,
   "id": "086ff9ba-fe52-4b66-9dbb-d2b8b441a0ef",
   "metadata": {},
   "outputs": [
    {
     "name": "stdout",
     "output_type": "stream",
     "text": [
      "I love Python!\n",
      "360\n",
      "1440\n",
      "48\n"
     ]
    }
   ],
   "source": [
    "# Syntax for printing a string of text\n",
    "print(\"I love Python!\")\n",
    "\n",
    "\n",
    "# Syntax for printing numeric values\n",
    "print(360)\n",
    "print(32*45)\n",
    "\n",
    "\n",
    "# Syntax for printing the value of a variable\n",
    "value = 8*6\n",
    "print(value)"
   ]
  },
  {
   "cell_type": "code",
   "execution_count": 2,
   "id": "aff60bd5-4b49-4c2a-a487-063ebd31aa8b",
   "metadata": {},
   "outputs": [
    {
     "name": "stdout",
     "output_type": "stream",
     "text": [
      "16.0\n",
      "4096\n",
      "16\n",
      "64\n",
      "2.0\n",
      "456976\n"
     ]
    }
   ],
   "source": [
    "# Multiplication, division, addition, and subtraction\n",
    "print(3*8/2+5-1)\n",
    " \n",
    "# Exponents\n",
    "print(4**6) # Syntax means 4 to the power of 6\n",
    "print(4**2) # To square a number\n",
    "print(4**3) # To cube a number\n",
    "print(4**0.5) # To find the square root of a number\n",
    "\n",
    "# To calculate how many different possible combinations can be\n",
    "# formed using a set of \"x\" characters with each character in \"x\"\n",
    "# having \"y\" number of possible values, you will need to use an \n",
    "# exponent for the calculation:\n",
    "x = 4\n",
    "y = 26\n",
    "print(y**x)\n"
   ]
  },
  {
   "cell_type": "code",
   "execution_count": 3,
   "id": "d2f7a850-147a-4198-af3e-be17ab61be51",
   "metadata": {},
   "outputs": [
    {
     "name": "stdout",
     "output_type": "stream",
     "text": [
      "520\n"
     ]
    }
   ],
   "source": [
    "# Assignment of values to the variables:\n",
    "years = 10\n",
    "weeks_in_a_year = 52\n",
    "# This variable is assigned an arithmetic calculation:\n",
    "weeks_in_a_decade = years * weeks_in_a_year\n",
    "# Prints the calculation stored in the \"weeks_in_a_decade\" variable:\n",
    "print(weeks_in_a_decade)"
   ]
  },
  {
   "cell_type": "code",
   "execution_count": 4,
   "id": "a8264c6c-cf31-4c25-9eb9-7e83f4b887c9",
   "metadata": {},
   "outputs": [
    {
     "name": "stdout",
     "output_type": "stream",
     "text": [
      "2.25\n"
     ]
    }
   ],
   "source": [
    "print(2+2/((2+2)+(2**2)))"
   ]
  },
  {
   "cell_type": "code",
   "execution_count": 5,
   "id": "630947ad-6aac-474f-b3eb-30e395bf2fa0",
   "metadata": {},
   "outputs": [
    {
     "name": "stdout",
     "output_type": "stream",
     "text": [
      "3600\n"
     ]
    }
   ],
   "source": [
    "# Enter code here:\n",
    "num_hora= 1\n",
    "num_segundos = num_hora*60*60\n",
    "print(num_segundos)\n",
    "# Should print 3600"
   ]
  },
  {
   "cell_type": "code",
   "execution_count": 7,
   "id": "48a373ee-9f7c-4945-9999-85117b41ea47",
   "metadata": {},
   "outputs": [
    {
     "name": "stdout",
     "output_type": "stream",
     "text": [
      "17576\n"
     ]
    }
   ],
   "source": [
    "num=(26 * 26 * 26)\n",
    "print(num)"
   ]
  },
  {
   "cell_type": "code",
   "execution_count": 8,
   "id": "dbb3d450-4fbe-495e-b902-ff04d05d01a2",
   "metadata": {},
   "outputs": [
    {
     "name": "stdout",
     "output_type": "stream",
     "text": [
      "120.0\n"
     ]
    }
   ],
   "source": [
    "total_computers = 30 * 20  # 600 computers\n",
    "replacement_cycle = 5      # years\n",
    "computers_per_year = total_computers / replacement_cycle  # divide, not multiply\n",
    "\n",
    "print(computers_per_year)  # Should print 120.0"
   ]
  },
  {
   "cell_type": "code",
   "execution_count": 9,
   "id": "62f2b5e2-9df0-40d8-b97b-3a4b8ad61b60",
   "metadata": {},
   "outputs": [
    {
     "name": "stdout",
     "output_type": "stream",
     "text": [
      "1.0\n"
     ]
    }
   ],
   "source": [
    "print((9-3)/(2*(1+2)))"
   ]
  },
  {
   "cell_type": "code",
   "execution_count": 10,
   "id": "4ef21bef-9a57-43e6-962b-067764d9cbcd",
   "metadata": {},
   "outputs": [
    {
     "name": "stdout",
     "output_type": "stream",
     "text": [
      "33554432.0\n"
     ]
    }
   ],
   "source": [
    "disk_size = 16*1024*1024*1024\n",
    "sector_size = 512\n",
    "sector_amount =disk_size / sector_size\n",
    "\n",
    "print(sector_amount) # Should print 33554432.0"
   ]
  },
  {
   "cell_type": "code",
   "execution_count": 13,
   "id": "db78c67b-4803-4a92-96b6-7a8d30d71506",
   "metadata": {},
   "outputs": [
    {
     "data": {
      "text/plain": [
       "23.88888888888889"
      ]
     },
     "execution_count": 13,
     "metadata": {},
     "output_type": "execute_result"
    }
   ],
   "source": [
    "def to_celsius(x):\n",
    "    return (x-32) * 5/9\n",
    "\n",
    "\n",
    "to_celsius(75)"
   ]
  },
  {
   "cell_type": "code",
   "execution_count": 15,
   "id": "8d940550-9f92-4ea0-a3a6-b4ee12b89b41",
   "metadata": {},
   "outputs": [
    {
     "name": "stdout",
     "output_type": "stream",
     "text": [
      "Number is negative.\n"
     ]
    }
   ],
   "source": [
    "number = -4\n",
    "\n",
    "\n",
    "if number > 0:\n",
    "    print('Number is positive.')\n",
    "elif number == 0:\n",
    "    print('Number is zero.')\n",
    "else:\n",
    "    print('Number is negative.')"
   ]
  },
  {
   "cell_type": "code",
   "execution_count": 16,
   "id": "6cd55b1d-43ac-412f-a4a0-97d8b7b3632c",
   "metadata": {},
   "outputs": [
    {
     "name": "stdout",
     "output_type": "stream",
     "text": [
      "This will throw an error because I didn’t make it a string.\n"
     ]
    }
   ],
   "source": [
    "print(\"This will throw an error because I didn’t make it a string.\")"
   ]
  },
  {
   "cell_type": "code",
   "execution_count": 17,
   "id": "8896e1d5-bb7a-41bd-90cc-2ec6b9bb0bb4",
   "metadata": {},
   "outputs": [
    {
     "name": "stdout",
     "output_type": "stream",
     "text": [
      "15\n"
     ]
    }
   ],
   "source": [
    "print(7+8)"
   ]
  },
  {
   "cell_type": "code",
   "execution_count": 18,
   "id": "01c23d0d-866a-4173-a29c-052821035218",
   "metadata": {},
   "outputs": [
    {
     "name": "stdout",
     "output_type": "stream",
     "text": [
      "hello world\n"
     ]
    }
   ],
   "source": [
    "print(\"hello \"+ \"world\")"
   ]
  },
  {
   "cell_type": "code",
   "execution_count": 19,
   "id": "9c98c7a0-b3a4-4774-bc41-98e13bb41588",
   "metadata": {},
   "outputs": [
    {
     "ename": "TypeError",
     "evalue": "unsupported operand type(s) for +: 'int' and 'str'",
     "output_type": "error",
     "traceback": [
      "\u001b[1;31m---------------------------------------------------------------------------\u001b[0m",
      "\u001b[1;31mTypeError\u001b[0m                                 Traceback (most recent call last)",
      "Cell \u001b[1;32mIn[19], line 1\u001b[0m\n\u001b[1;32m----> 1\u001b[0m \u001b[38;5;28mprint\u001b[39m(\u001b[38;5;241m7\u001b[39m\u001b[38;5;241m+\u001b[39m\u001b[38;5;124m\"\u001b[39m\u001b[38;5;124m8\u001b[39m\u001b[38;5;124m\"\u001b[39m)\n",
      "\u001b[1;31mTypeError\u001b[0m: unsupported operand type(s) for +: 'int' and 'str'"
     ]
    }
   ],
   "source": [
    "print(7+\"8\")\n",
    "#this will throw an error"
   ]
  },
  {
   "cell_type": "code",
   "execution_count": 20,
   "id": "e116986f-6e5e-4c27-aaaa-5aa91f77dbef",
   "metadata": {},
   "outputs": [
    {
     "name": "stdout",
     "output_type": "stream",
     "text": [
      "<class 'str'>\n",
      "<class 'int'>\n",
      "<class 'float'>\n"
     ]
    }
   ],
   "source": [
    "print(type(\"a\"))\n",
    "print(type(2))\n",
    "print(type(2.5))"
   ]
  },
  {
   "cell_type": "code",
   "execution_count": 21,
   "id": "5b4a21bf-e72a-4d5c-99bb-6ea37b987a88",
   "metadata": {},
   "outputs": [],
   "source": [
    "nombre: str = \"Betty\""
   ]
  },
  {
   "cell_type": "code",
   "execution_count": 22,
   "id": "ca06d427-6245-4757-b367-0db6b600f3dd",
   "metadata": {},
   "outputs": [],
   "source": [
    "age: int = 34"
   ]
  },
  {
   "cell_type": "code",
   "execution_count": 23,
   "id": "279dfcad-9f07-4728-b3fc-5fc4cb96a0ff",
   "metadata": {},
   "outputs": [],
   "source": [
    "a = 3  "
   ]
  },
  {
   "cell_type": "code",
   "execution_count": 24,
   "id": "4c879e38-87cb-4e87-a52a-0698522ab154",
   "metadata": {},
   "outputs": [],
   "source": [
    "a = \"Hello world\""
   ]
  },
  {
   "cell_type": "code",
   "execution_count": 25,
   "id": "89bd6785-90ec-4e25-bda6-00063268ad88",
   "metadata": {},
   "outputs": [],
   "source": [
    "a = \"Hello world\"      #looks like a string"
   ]
  },
  {
   "cell_type": "code",
   "execution_count": 26,
   "id": "c08a51be-c00d-4764-a073-84188c6acda3",
   "metadata": {},
   "outputs": [],
   "source": [
    "captain = \"Picard\"      # type: str"
   ]
  },
  {
   "cell_type": "code",
   "execution_count": 27,
   "id": "8190fe62-6cad-4b85-a896-790f81957301",
   "metadata": {},
   "outputs": [],
   "source": [
    "captain: str = \"Picard\""
   ]
  },
  {
   "cell_type": "code",
   "execution_count": 28,
   "id": "ff61ef73-46bc-4d97-b445-197c37f93c8b",
   "metadata": {},
   "outputs": [
    {
     "name": "stdout",
     "output_type": "stream",
     "text": [
      "15.5\n"
     ]
    }
   ],
   "source": [
    "print(7+8.5)"
   ]
  },
  {
   "cell_type": "code",
   "execution_count": 29,
   "id": "4532f4af-f149-4411-b853-e50469a2609d",
   "metadata": {},
   "outputs": [
    {
     "name": "stdout",
     "output_type": "stream",
     "text": [
      "abc\n"
     ]
    }
   ],
   "source": [
    "print(\"a\"+\"b\"+\"c\")"
   ]
  },
  {
   "cell_type": "code",
   "execution_count": 30,
   "id": "341bbc2c-12c4-4b56-ae95-42a36ad6f8a6",
   "metadata": {},
   "outputs": [
    {
     "name": "stdout",
     "output_type": "stream",
     "text": [
      "This is pretty neat!\n"
     ]
    }
   ],
   "source": [
    "print(\"This \" + \"is \" + \"pretty \" + \"neat!\")"
   ]
  },
  {
   "cell_type": "code",
   "execution_count": 31,
   "id": "2d831d38-c37d-4329-b474-fe390819283f",
   "metadata": {},
   "outputs": [
    {
     "name": "stdout",
     "output_type": "stream",
     "text": [
      "The area of the triangle is: 9.0\n"
     ]
    }
   ],
   "source": [
    "base = 6\n",
    "height = 3\n",
    "area = (base*height)/2\n",
    "print(\"The area of the triangle is: \" + str(area)) "
   ]
  },
  {
   "cell_type": "code",
   "execution_count": 32,
   "id": "cb854b3f-833e-4a6c-b7e2-33a1119c253a",
   "metadata": {},
   "outputs": [
    {
     "name": "stdout",
     "output_type": "stream",
     "text": [
      "El tamaño medio es20839.2\n"
     ]
    }
   ],
   "source": [
    "total = 2048 + 4357 + 97658 + 125 + 8\n",
    "files = 5\n",
    "average = total / files\n",
    "print(\"El tamaño medio es \" + str(average))"
   ]
  },
  {
   "cell_type": "code",
   "execution_count": 33,
   "id": "7990e4ea-f81e-4e89-9b26-5654da591ea1",
   "metadata": {},
   "outputs": [],
   "source": [
    "import typing\n",
    "# Define a variable of type str\n",
    "z: str = \"Hello, world!\"\n",
    "# Define a variable of type int\n",
    "x: int = 10\n",
    "# Define a variable of type float\n",
    "y: float = 1.23\n",
    "# Define a variable of type list\n",
    "list_of_numbers: typing.List[int] = [1, 2, 3]\n",
    "# Define a variable of type tuple\n",
    "tuple_of_numbers: typing.Tuple[int, int, int] = (1, 2, 3)\n",
    "# Define a variable of type dict\n",
    "dictionary: typing.Dict[str, int] = {\"key1\": 1, \"key2\": 2}\n",
    "# Define a variable of type set\n",
    "set_of_numbers: typing.Set[int] = {1, 2, 3}"
   ]
  },
  {
   "cell_type": "code",
   "execution_count": 34,
   "id": "a7b498f9-a3b5-4237-b138-a46f73c9e894",
   "metadata": {},
   "outputs": [
    {
     "name": "stdout",
     "output_type": "stream",
     "text": [
      "Each person needs to pay: 27.0\n"
     ]
    }
   ],
   "source": [
    "# The following lines assign the variable to the left of the = \n",
    "# assignment operator with the values and arithmetic expressions \n",
    "# on the right side of the = assignment operator.\n",
    "hotel_room = 100\n",
    "tax = hotel_room * 0.08\n",
    "total = hotel_room + tax\n",
    "room_guests = 4\n",
    "share_per_person = total/room_guests\n",
    "\n",
    "\n",
    "# This line outputs the result of the final calculation stored\n",
    "# in the variable \"share_per_person\"\n",
    "print(\"Each person needs to pay: \" + str(share_per_person)) # change a data type"
   ]
  },
  {
   "cell_type": "code",
   "execution_count": 35,
   "id": "282b929c-7498-445c-a26b-8cb414e69c4f",
   "metadata": {},
   "outputs": [
    {
     "name": "stdout",
     "output_type": "stream",
     "text": [
      "Dr. Prisha Jai Agarwal, Ph.D.\n",
      "Dr. Prisha Jai Agarwal , Ph.D.\n"
     ]
    }
   ],
   "source": [
    "# The following 5 lines assign strings to a list of variables.\n",
    "salutation = \"Dr.\"\n",
    "first_name = \"Prisha\"\n",
    "middle_name = \"Jai\"\n",
    "last_name = \"Agarwal\"\n",
    "suffix = \"Ph.D.\"\n",
    " \n",
    "print(salutation + \" \" + first_name + \" \" + middle_name + \" \" + last_name + \", \" + suffix) \n",
    "# The comma as a string \", \" adds the conventional use of a comma plus a \n",
    "# space to separate the last name from the suffix.\n",
    " \n",
    "# Alternatively, you could use commas in place of the + connector:\n",
    "print(salutation, first_name, middle_name, last_name,\",\", suffix)\n",
    "# However, you will find that this produces a space before a comma within a string."
   ]
  },
  {
   "cell_type": "code",
   "execution_count": 36,
   "id": "c2eb48e9-6d04-44a2-b2ce-61fa2d28d190",
   "metadata": {},
   "outputs": [
    {
     "ename": "TypeError",
     "evalue": "can only concatenate str (not \"int\") to str",
     "output_type": "error",
     "traceback": [
      "\u001b[1;31m---------------------------------------------------------------------------\u001b[0m",
      "\u001b[1;31mTypeError\u001b[0m                                 Traceback (most recent call last)",
      "Cell \u001b[1;32mIn[36], line 4\u001b[0m\n\u001b[0;32m      1\u001b[0m \u001b[38;5;66;03m# The following code causes a type error between a string \u001b[39;00m\n\u001b[0;32m      2\u001b[0m \u001b[38;5;66;03m# and an integer:\u001b[39;00m\n\u001b[1;32m----> 4\u001b[0m \u001b[38;5;28mprint\u001b[39m(\u001b[38;5;124m\"\u001b[39m\u001b[38;5;124m5 * 3 = \u001b[39m\u001b[38;5;124m\"\u001b[39m \u001b[38;5;241m+\u001b[39m (\u001b[38;5;241m5\u001b[39m\u001b[38;5;241m*\u001b[39m\u001b[38;5;241m3\u001b[39m))\n",
      "\u001b[1;31mTypeError\u001b[0m: can only concatenate str (not \"int\") to str"
     ]
    }
   ],
   "source": [
    "# The following code causes a type error between a string \n",
    "# and an integer:\n",
    "\n",
    "print(\"5 * 3 = \" + (5*3)) \n",
    "\n",
    "\n",
    "# Resolution: \n",
    "# print(\"5 * 3 = \" + str(5*3))\n",
    "#\n",
    "# To avoid a type error between the string and the integer within the\n",
    "# print() function, you can make an explicit data type conversion by\n",
    "# using the str() function to convert the integer to a string."
   ]
  },
  {
   "cell_type": "code",
   "execution_count": 37,
   "id": "ca03c694-05f2-4526-8938-b9ec7a9459c8",
   "metadata": {},
   "outputs": [
    {
     "ename": "ZeroDivisionError",
     "evalue": "division by zero",
     "output_type": "error",
     "traceback": [
      "\u001b[1;31m---------------------------------------------------------------------------\u001b[0m",
      "\u001b[1;31mZeroDivisionError\u001b[0m                         Traceback (most recent call last)",
      "Cell \u001b[1;32mIn[37], line 3\u001b[0m\n\u001b[0;32m      1\u001b[0m numerator \u001b[38;5;241m=\u001b[39m \u001b[38;5;241m7\u001b[39m\n\u001b[0;32m      2\u001b[0m denominator \u001b[38;5;241m=\u001b[39m \u001b[38;5;241m0\u001b[39m   \u001b[38;5;66;03m# Possible resolution: Change the denominator value \u001b[39;00m\n\u001b[1;32m----> 3\u001b[0m result \u001b[38;5;241m=\u001b[39m numerator \u001b[38;5;241m/\u001b[39m denominator\n\u001b[0;32m      4\u001b[0m \u001b[38;5;28mprint\u001b[39m(result)\n",
      "\u001b[1;31mZeroDivisionError\u001b[0m: division by zero"
     ]
    }
   ],
   "source": [
    "numerator = 7\n",
    "denominator = 0   # Possible resolution: Change the denominator value \n",
    "result = numerator / denominator\n",
    "print(result)\n",
    "\n",
    "\n",
    "# One possible assumption for a number divided by zero error might\n",
    "# include the issue of a null value as a denominator (could happen when\n",
    "# using a loop to iterate over values in a database). In such cases, the\n",
    "# desired outcome may be to leave the numerator value intact. The\n",
    "# numerator value can be preserved by reassigning the denominator with \n",
    "# the integer value of 1. The result would then equal the numerator."
   ]
  },
  {
   "cell_type": "code",
   "execution_count": 38,
   "id": "ee8dd7df-a995-4fc1-bc19-700567419b11",
   "metadata": {},
   "outputs": [
    {
     "name": "stdout",
     "output_type": "stream",
     "text": [
      "cada persona debe pagar 27.186\n"
     ]
    }
   ],
   "source": [
    "bill = 47.28 # Assign \"bill\" variable with bill amount\n",
    "tip = bill * 0.15 # Multiply by stated tip rate \n",
    "total = bill + tip # Sum the \"total\" of the \"bill\" and \"tip\"\n",
    "share = total /2 # Divide \"total\" by number of friends dining\n",
    "print(\"cada persona debe pagar \" + str(share)) # Enter the required string and \"share\" \n",
    "# Hint: Remember to convert incompatible data types"
   ]
  },
  {
   "cell_type": "code",
   "execution_count": 39,
   "id": "34dbe39a-8462-4dca-bde1-f70cf16e7121",
   "metadata": {},
   "outputs": [
    {
     "name": "stdout",
     "output_type": "stream",
     "text": [
      "10.0\n"
     ]
    }
   ],
   "source": [
    "numerator = 10\n",
    "denominator = 1\n",
    "result = numerator / denominator\n",
    "print(result)"
   ]
  },
  {
   "cell_type": "code",
   "execution_count": 40,
   "id": "67531c93-d31f-4817-a978-8718496e2d46",
   "metadata": {},
   "outputs": [
    {
     "name": "stdout",
     "output_type": "stream",
     "text": [
      "How do you like Python so far?\n"
     ]
    }
   ],
   "source": [
    "word1 = \"How\"\n",
    "word2 = \"do\"\n",
    "word3 = \"you\"\n",
    "word4 = \"like\"\n",
    "word5 = \"Python\"\n",
    "word6 = \"so\"\n",
    "word7 = \"far?\"\n",
    "\n",
    "print(word1+\" \"+word2+\" \"+word3+\" \"+word4+\" \"+word5+\" \"+word6+\" \"+word7)"
   ]
  },
  {
   "cell_type": "code",
   "execution_count": 41,
   "id": "b199c36b-95ad-4533-9116-2cbb7ce90c91",
   "metadata": {},
   "outputs": [
    {
     "name": "stdout",
     "output_type": "stream",
     "text": [
      "Welcome, Kay\n",
      "Welcome, Cameron\n"
     ]
    }
   ],
   "source": [
    "def greeting(name):\n",
    "    print(\"Welcome, \" + name)\n",
    "    \n",
    "greeting(\"Kay\")\n",
    "greeting(\"Cameron\")"
   ]
  },
  {
   "cell_type": "code",
   "execution_count": 42,
   "id": "cdae8c64-a519-498e-8928-e8f0a4e8ad73",
   "metadata": {},
   "outputs": [
    {
     "name": "stdout",
     "output_type": "stream",
     "text": [
      "Welcome, Blake\n",
      "You are part of Software engineering\n",
      "Welcome, Ellis\n",
      "You are part of Software engineering\n"
     ]
    }
   ],
   "source": [
    "def greeting(name, department):\n",
    "    print(\"Welcome, \" + name)\n",
    "    print(\"You are part of \" + department)\n",
    "    \n",
    "greeting(\"Blake\", \"Software engineering\")\n",
    "greeting(\"Ellis\", \"Software engineering\")"
   ]
  },
  {
   "cell_type": "code",
   "execution_count": 43,
   "id": "f84fdd12-3c52-4d04-9f43-6fde22bbe089",
   "metadata": {},
   "outputs": [
    {
     "name": "stdout",
     "output_type": "stream",
     "text": [
      "Investigate failed login attempts during September if more than 100\n"
     ]
    }
   ],
   "source": [
    "month = \"September\"\n",
    "print(\"Investigate failed login attempts during\", month, \"if more than\", 100)"
   ]
  },
  {
   "cell_type": "code",
   "execution_count": 44,
   "id": "99fd7acd-21c1-4d15-8f88-72336e0ddb21",
   "metadata": {},
   "outputs": [
    {
     "name": "stdout",
     "output_type": "stream",
     "text": [
      "<class 'str'>\n"
     ]
    }
   ],
   "source": [
    "print(type(\"This is a string\"))"
   ]
  },
  {
   "cell_type": "code",
   "execution_count": 45,
   "id": "15703da1-ebbe-4f8b-ad76-71e551489479",
   "metadata": {},
   "outputs": [
    {
     "name": "stdout",
     "output_type": "stream",
     "text": [
      "12\n"
     ]
    }
   ],
   "source": [
    "number = 12\n",
    "string_representation = str(number)\n",
    "print(string_representation)"
   ]
  },
  {
   "cell_type": "code",
   "execution_count": 46,
   "id": "0bbbd100-55ce-4b09-95dd-153cc5bd7f06",
   "metadata": {},
   "outputs": [
    {
     "name": "stdout",
     "output_type": "stream",
     "text": [
      "[2, 12, 14, 19, 22, 32, 57]\n"
     ]
    }
   ],
   "source": [
    "time_list = [12, 2, 32, 19, 57, 22, 14]\n",
    "print(sorted(time_list))"
   ]
  },
  {
   "cell_type": "code",
   "execution_count": 47,
   "id": "33ef4559-89dc-46fc-b3ad-2fb86f638c7a",
   "metadata": {},
   "outputs": [
    {
     "name": "stdout",
     "output_type": "stream",
     "text": [
      "[2, 12, 14, 19, 22, 32, 57]\n",
      "[12, 2, 32, 19, 57, 22, 14]\n"
     ]
    }
   ],
   "source": [
    "time_list = [12, 2, 32, 19, 57, 22, 14]\n",
    "print(sorted(time_list))\n",
    "print(time_list)"
   ]
  },
  {
   "cell_type": "code",
   "execution_count": 48,
   "id": "56db7664-964d-4a27-98e0-c58c3385be04",
   "metadata": {},
   "outputs": [
    {
     "name": "stdout",
     "output_type": "stream",
     "text": [
      "2\n",
      "57\n"
     ]
    }
   ],
   "source": [
    "time_list = [12, 2, 32, 19, 57, 22, 14]\n",
    "print(min(time_list))\n",
    "print(max(time_list))"
   ]
  },
  {
   "cell_type": "code",
   "execution_count": 49,
   "id": "449f0116-6012-4964-8c97-6b3d2cc56d50",
   "metadata": {},
   "outputs": [],
   "source": [
    "def area_triangle(base, height):\n",
    "    return base*height/2"
   ]
  },
  {
   "cell_type": "code",
   "execution_count": 50,
   "id": "ef325781-06af-462c-881c-bdb6c12a1a59",
   "metadata": {},
   "outputs": [],
   "source": [
    "area_a = area_triangle(5,4)\n",
    "area_b = area_triangle(7,3)"
   ]
  },
  {
   "cell_type": "code",
   "execution_count": 51,
   "id": "ecdc02e9-6bd8-4256-822f-8d500cd99d00",
   "metadata": {},
   "outputs": [],
   "source": [
    "sum = area_a + area_b"
   ]
  },
  {
   "cell_type": "code",
   "execution_count": 52,
   "id": "7bb51d0a-a1be-418d-897c-598b7afc5dae",
   "metadata": {},
   "outputs": [
    {
     "name": "stdout",
     "output_type": "stream",
     "text": [
      "The sum of both areas is: 20.5\n"
     ]
    }
   ],
   "source": [
    "print(\"The sum of both areas is: \" + str(sum))"
   ]
  },
  {
   "cell_type": "code",
   "execution_count": 53,
   "id": "a3742bd8-2b2f-485f-b7b1-983fe589606e",
   "metadata": {},
   "outputs": [
    {
     "name": "stdout",
     "output_type": "stream",
     "text": [
      "The sum of both areas is: 20.5\n"
     ]
    }
   ],
   "source": [
    "def area_triangle(base, height):\n",
    "    return base*height/2\n",
    "area_a = area_triangle(5,4)\n",
    "area_b = area_triangle(7,3)\n",
    "sum = area_a + area_b\n",
    "print(\"The sum of both areas is: \" + str(sum))"
   ]
  },
  {
   "cell_type": "code",
   "execution_count": 54,
   "id": "f2487949-b152-4df4-9e6c-63d5e604c4c1",
   "metadata": {},
   "outputs": [],
   "source": [
    "def convert_seconds(seconds):\n",
    "    hours = seconds // 3600\n",
    "    minutes = (seconds - hours * 3600) // 60\n",
    "    remaining_seconds = seconds - hours * 3600 - minutes * 60\n",
    "    return hours, minutes, remaining_seconds"
   ]
  },
  {
   "cell_type": "code",
   "execution_count": 55,
   "id": "35522959-3211-4147-b230-7e064eec330a",
   "metadata": {},
   "outputs": [
    {
     "name": "stdout",
     "output_type": "stream",
     "text": [
      "1 23 20\n"
     ]
    }
   ],
   "source": [
    "hours, minutes, seconds = convert_seconds(5000)\n",
    "print(hours, minutes, seconds)"
   ]
  },
  {
   "cell_type": "code",
   "execution_count": 56,
   "id": "db457e0c-319e-4e44-9a11-a25226400209",
   "metadata": {},
   "outputs": [
    {
     "name": "stdout",
     "output_type": "stream",
     "text": [
      "1 23 20\n"
     ]
    }
   ],
   "source": [
    "def convert_seconds(seconds):\n",
    "    hours = seconds // 3600\n",
    "    minutes = (seconds - hours * 3600) // 60\n",
    "    remaining_seconds = seconds - hours * 3600 - minutes * 60\n",
    "    return hours, minutes, remaining_seconds\n",
    " \n",
    "hours, minutes, seconds = convert_seconds(5000)\n",
    "print(hours, minutes, seconds)"
   ]
  },
  {
   "cell_type": "code",
   "execution_count": 57,
   "id": "9c0a11ab-b0a5-4268-805b-0fe7561cb9b2",
   "metadata": {},
   "outputs": [
    {
     "name": "stdout",
     "output_type": "stream",
     "text": [
      "Welcome, Christine\n",
      "None\n"
     ]
    }
   ],
   "source": [
    "def greeting(name):\n",
    "    print(\"Welcome, \" + name)\n",
    "result = greeting(\"Christine\")\n",
    "print(result)"
   ]
  },
  {
   "cell_type": "code",
   "execution_count": 58,
   "id": "e0b3901f-a1d3-4f56-af20-12b6f831a4be",
   "metadata": {},
   "outputs": [
    {
     "name": "stdout",
     "output_type": "stream",
     "text": [
      "Hello Kay. Your lucky number is 27\n",
      "Hello Cameron. Your lucky number is 63\n"
     ]
    }
   ],
   "source": [
    "name = \"Kay\"\n",
    "number = len(name) * 9\n",
    "\n",
    "print(\"Hello \" + name + \". Your lucky number is \" + str(number))\n",
    "\n",
    "name = \"Cameron\"\n",
    "number = len(name) * 9\n",
    "\n",
    "print(\"Hello \" + name + \". Your lucky number is \" + str(number))"
   ]
  },
  {
   "cell_type": "code",
   "execution_count": 59,
   "id": "0d011cac-9637-477a-842b-a81b0ec629ee",
   "metadata": {},
   "outputs": [
    {
     "name": "stdout",
     "output_type": "stream",
     "text": [
      "Hello Kay. Your lucky number is 27\n",
      "Hello Cameron. Your lucky number is 63\n"
     ]
    }
   ],
   "source": [
    "def lucky_number(name):\n",
    "    number = len(name) * 9\n",
    "    print(\"Hello \" + name + \". Your lucky number is \" + str(number))\n",
    "\n",
    "lucky_number(\"Kay\")\n",
    "lucky_number(\"Cameron\")"
   ]
  },
  {
   "cell_type": "code",
   "execution_count": 60,
   "id": "cdb14053-298b-4097-acd2-c5941aa09f4f",
   "metadata": {},
   "outputs": [
    {
     "name": "stdout",
     "output_type": "stream",
     "text": [
      "78.5\n"
     ]
    }
   ],
   "source": [
    "def calculate(d):\n",
    "    q = 3.14\n",
    "    z = q * (d ** 2)\n",
    "    print(z)\n",
    "\n",
    "calculate(5)\n",
    "#Output is 78.5"
   ]
  },
  {
   "cell_type": "code",
   "execution_count": 61,
   "id": "a9b5f2a7-0037-4fa8-b680-a129e10bad96",
   "metadata": {},
   "outputs": [
    {
     "name": "stdout",
     "output_type": "stream",
     "text": [
      "78.5\n"
     ]
    }
   ],
   "source": [
    "def circle_area(radius):\n",
    "    pi = 3.14\n",
    "    area = pi * (radius ** 2)\n",
    "    print(area)\n",
    "\n",
    "circle_area(5)\n",
    "#Output is 78.5"
   ]
  },
  {
   "cell_type": "code",
   "execution_count": 62,
   "id": "249c8eab-146e-4445-b9c1-2160dbc2d434",
   "metadata": {},
   "outputs": [
    {
     "name": "stdout",
     "output_type": "stream",
     "text": [
      "903\n"
     ]
    }
   ],
   "source": [
    "# This function calculates the number of days in a variable number of \n",
    "# years, months, and days. These variables are provided by the user and\n",
    "# are passed to the function through the function’s parameters.\n",
    "def find_total_days(years, months, days):\n",
    "# Assign a variable to hold the calculations for the number of days in\n",
    "# a year (years*365) plus the number of days in a month (months*30) plus\n",
    "# the number of days provided through the \"days\" parameter variable.\n",
    "    my_days = (years*365) + (months*30) + days\n",
    "# Use the \"return\" keyword to send the result of the \"my_days\"  \n",
    "# calculation to the function call. \n",
    "    return my_days\n",
    " \n",
    "# Function call with user provided parameter values. \n",
    "print(find_total_days(2,5,23))"
   ]
  },
  {
   "cell_type": "code",
   "execution_count": 63,
   "id": "c0e02e46-04ee-4709-b429-1bdf6dc70416",
   "metadata": {},
   "outputs": [
    {
     "name": "stdout",
     "output_type": "stream",
     "text": [
      "The volume in milliliters is 59.0\n",
      "The volume in milliliters is 118.0\n"
     ]
    }
   ],
   "source": [
    "# This function converts fluid ounces to milliliters and returns the \n",
    "# result of the conversion.\n",
    "def convert_volume(fluid_ounce):\n",
    "# Calculate value of the \"ml\" variable using the parameter variable \n",
    "# \"fluid_ounce\". There are approximately 29.5 milliliters in 1 fluid\n",
    "# ounce.\n",
    "    ml = fluid_ounce * 29.5  \n",
    "# Return the result of the calculation.  \n",
    "    return ml\n",
    " \n",
    "# Call the conversion from within the print() function using 2 fluid \n",
    "# ounces. Convert the return value from a float to a string.  \n",
    "print(\"The volume in milliliters is \" + str(convert_volume(2)))\n",
    " \n",
    "# Call the function again and double the 2 fluid ounces from within\n",
    "# the print function.\n",
    "print(\"The volume in milliliters is \" + str(convert_volume(2)*2))\n",
    "# Alternative calculation:\n",
    "# print(\"The volume in milliliters is \" + str(convert_volume(4))"
   ]
  },
  {
   "cell_type": "code",
   "execution_count": 64,
   "id": "01c1d840-06aa-41cb-8356-dc788d71e7c3",
   "metadata": {},
   "outputs": [
    {
     "name": "stdout",
     "output_type": "stream",
     "text": [
      "The distance in meters is 55000\n"
     ]
    }
   ],
   "source": [
    "# 1) Complete the code to return the result of the conversion\n",
    "def convert_distance(km):\n",
    "\tm = km * 1000  # exactly 1000 meters in 1 kilometer\n",
    "\treturn m\n",
    "\n",
    "\n",
    "# Do not indent any of the following lines of code as they are\n",
    "# meant to be located outside of the function above\n",
    "\n",
    "\n",
    "my_trip_kilometers = 55\n",
    "\n",
    "\n",
    "# 2) Convert my_trip_kilometers to meters by calling the function above\n",
    "my_trip_meters = convert_distance(my_trip_kilometers)\n",
    "\n",
    "\n",
    "# 3) Fill in the blank to print the result of converting my_trip_kilometers\n",
    "print(\"The distance in meters is \" + str(my_trip_meters))"
   ]
  },
  {
   "cell_type": "code",
   "execution_count": 65,
   "id": "a3e9c7f3-45d3-48c7-a5ab-ed48dd45e3c2",
   "metadata": {},
   "outputs": [
    {
     "name": "stdout",
     "output_type": "stream",
     "text": [
      "3723\n"
     ]
    }
   ],
   "source": [
    "def print_seconds(hours, minutes, seconds):\n",
    "   print(hours*3600+minutes*60+seconds)\n",
    "\n",
    "print_seconds(1,2,3)\n",
    "#output will print to the screen"
   ]
  },
  {
   "cell_type": "code",
   "execution_count": 66,
   "id": "a8be188e-e359-46da-9bdc-672f660744ca",
   "metadata": {},
   "outputs": [
    {
     "name": "stdout",
     "output_type": "stream",
     "text": [
      "True\n",
      "False\n",
      "True\n"
     ]
    }
   ],
   "source": [
    "print(10>1)\n",
    "#True\n",
    "print(\"cat\" == \"dog\")\n",
    "#False\n",
    "print (1 != 2)\n",
    "#True"
   ]
  },
  {
   "cell_type": "code",
   "execution_count": 67,
   "id": "eea2c30e-cb5f-490f-9db0-bab1d0e52ed1",
   "metadata": {},
   "outputs": [
    {
     "ename": "TypeError",
     "evalue": "'<' not supported between instances of 'int' and 'str'",
     "output_type": "error",
     "traceback": [
      "\u001b[1;31m---------------------------------------------------------------------------\u001b[0m",
      "\u001b[1;31mTypeError\u001b[0m                                 Traceback (most recent call last)",
      "Cell \u001b[1;32mIn[67], line 1\u001b[0m\n\u001b[1;32m----> 1\u001b[0m \u001b[38;5;28mprint\u001b[39m(\u001b[38;5;241m1\u001b[39m \u001b[38;5;241m<\u001b[39m \u001b[38;5;124m\"\u001b[39m\u001b[38;5;124m1\u001b[39m\u001b[38;5;124m\"\u001b[39m)\n",
      "\u001b[1;31mTypeError\u001b[0m: '<' not supported between instances of 'int' and 'str'"
     ]
    }
   ],
   "source": [
    "print(1 < \"1\")\n",
    "#Will return a type error"
   ]
  },
  {
   "cell_type": "code",
   "execution_count": 68,
   "id": "48f50eac-6a20-47e3-a196-59a7f5a41c15",
   "metadata": {},
   "outputs": [
    {
     "name": "stdout",
     "output_type": "stream",
     "text": [
      "False\n"
     ]
    }
   ],
   "source": [
    "print(1 == \"1\")\n",
    "#False"
   ]
  },
  {
   "cell_type": "code",
   "execution_count": 69,
   "id": "6cd94f65-85f9-4553-b768-742963890eab",
   "metadata": {},
   "outputs": [
    {
     "name": "stdout",
     "output_type": "stream",
     "text": [
      "False\n"
     ]
    }
   ],
   "source": [
    "print(\"Yellow\" > \"Cyan\" and \"Brown\" > \"Magenta\")\n",
    "#False"
   ]
  },
  {
   "cell_type": "code",
   "execution_count": 70,
   "id": "9d725175-6ee7-47d5-bf76-01ffe8bbe231",
   "metadata": {},
   "outputs": [
    {
     "name": "stdout",
     "output_type": "stream",
     "text": [
      "True\n"
     ]
    }
   ],
   "source": [
    "print(25 > 50 or 1 != 2)\n",
    "#True"
   ]
  },
  {
   "cell_type": "code",
   "execution_count": 71,
   "id": "5279a56a-9f79-467d-9f95-6f6eeb914a54",
   "metadata": {},
   "outputs": [
    {
     "name": "stdout",
     "output_type": "stream",
     "text": [
      "True\n"
     ]
    }
   ],
   "source": [
    "print(not 42 == \"Answer\")\n",
    "#True"
   ]
  },
  {
   "cell_type": "code",
   "execution_count": 72,
   "id": "10bdb00e-9c7d-4814-857f-566ada203833",
   "metadata": {},
   "outputs": [
    {
     "name": "stdout",
     "output_type": "stream",
     "text": [
      "True\n",
      "False\n",
      "True\n",
      "False\n"
     ]
    }
   ],
   "source": [
    "print(32 == 30+2)   # The == operator checks if the 2 values are \n",
    "#True                # equal to each other. If they are equal, \n",
    "                    # Python returns a True result.\n",
    "\n",
    "\n",
    "print(5+10 == 6+7)  # If the two values are not equal, as in the\n",
    "#False               # expression 5+10 == 6+7 (or 15 == 13), Python          \n",
    "                    # returns a False result.\n",
    "\n",
    "\n",
    "print(10-4 != 10+4) # The != operator checks if the 2 values are\n",
    "#True                # NOT equal to each other. If true, Python              \n",
    "                    # returns a True result. \n",
    "\n",
    "\n",
    "print(9/3 != 3*1)   # In this last example, 9/3 != 3*1 (or 3 != 3)\n",
    "#False               # is false. So, Python returns a False value."
   ]
  },
  {
   "cell_type": "code",
   "execution_count": 73,
   "id": "c2536c7b-bda5-41b5-bd9a-c9b610b5fe9f",
   "metadata": {},
   "outputs": [
    {
     "name": "stdout",
     "output_type": "stream",
     "text": [
      "15\n",
      "True\n"
     ]
    }
   ],
   "source": [
    "# The = equals assignment operator is used to assign a value to a \n",
    "# variable.\n",
    "\n",
    "my_variable = 3*5           # Assigns a value to my_variable      \n",
    "print(my_variable)          # Printing the variable returns the \n",
    "#15                          # value assigned to the variable.\n",
    "\n",
    "\n",
    "                              \n",
    "# The == equality comparison operator checks if the values of the two\n",
    "# expressions on either side of the == operator are equivalent to one \n",
    "# another.\n",
    "      \n",
    "print(my_variable == 3*5)   # Printing the variable returns a Boolean \n",
    "#True                        # True or False result. "
   ]
  },
  {
   "cell_type": "code",
   "execution_count": 74,
   "id": "7d578b38-a7c5-4e6e-9285-31aa8d7af13b",
   "metadata": {},
   "outputs": [
    {
     "name": "stdout",
     "output_type": "stream",
     "text": [
      "True\n",
      "False\n",
      "True\n",
      "False\n"
     ]
    }
   ],
   "source": [
    "print(11 > 3*3)         # The > operator checks if the left value is\n",
    "#True                    # greater than the right value. If true, it\n",
    "                        # returns a True result.\n",
    "\n",
    "\n",
    "print(4/2 > 8-4)        # If the > operator finds that the left value\n",
    "#False                   # is NOT greater than the right value, the\n",
    "                        # comparison will return a False result.\n",
    "\n",
    "\n",
    "print(4/2 < 8-4)        # The < operator checks  if the left value is\n",
    "#True                    # less than the right side. If true, the\n",
    "                        # comparison returns a True result.\n",
    "\n",
    "\n",
    "print(11 < 3*3)         # If the < operator finds that the left side is False                   \n",
    "                        # NOT less than the right value, Python returns\n",
    "#False                   # a False result."
   ]
  },
  {
   "cell_type": "code",
   "execution_count": 75,
   "id": "be6c9981-c045-4875-b34a-95ed56767246",
   "metadata": {},
   "outputs": [
    {
     "name": "stdout",
     "output_type": "stream",
     "text": [
      "True\n",
      "False\n",
      "True\n",
      "False\n"
     ]
    }
   ],
   "source": [
    "print(12*2 >= 24)   # The >= operator checks if the left value is\n",
    "#True                # greater than or equal to the right value. \n",
    "                    # If one of these conditions is true,  \n",
    "                    # Python returns a True result. In this case  \n",
    "                    # the two values are equal. So, the comparison\n",
    "                    # returns a True result.\n",
    "\n",
    "\n",
    "print(18/2 >= 15)   # If the >= comparison determines that the left\n",
    "#False               # value is NOT greater than or equal to the\n",
    "                    # right, it returns a False result.\n",
    "\n",
    "print(12*2 <= 30)   # The <= operator checks if the left value is\n",
    "#True                # less than or equal to the right value. In \n",
    "                    # this case, the left value is less than the\n",
    "                    # right value. Again, if one of the two \n",
    "                    # conditions is true, Python returns a True\n",
    "                    # result.\n",
    "\n",
    "\n",
    "print(15 <= 18/2)   # If the <= comparison determines that the left \n",
    "#False               # value is NOT less than or equal to the right\n",
    "                    # value, the comparison returns a False result. "
   ]
  },
  {
   "cell_type": "code",
   "execution_count": 76,
   "id": "6eb74ce3-acc3-44a5-ac72-6ffab5a98633",
   "metadata": {},
   "outputs": [
    {
     "name": "stdout",
     "output_type": "stream",
     "text": [
      "True\n",
      "False\n",
      "True\n",
      "False\n",
      "False\n"
     ]
    }
   ],
   "source": [
    "# The == operator can check if two strings are equal to each other. \n",
    "# If they are equal, the Python interpreter returns a True result.\n",
    "print(\"a string\" == \"a string\")\n",
    "#True\n",
    "\n",
    "\n",
    "# In this example, the equality == comparison is between \"4 + 5\" and\n",
    "# 4 + 5. Since the left data type is a string and the right data type\n",
    "# is an integer, the two values cannot be equal. So, the comparison\n",
    "# returns a False result.\n",
    "print(\"4 + 5\" == 4 + 5)\n",
    "#False\n",
    "\n",
    "\n",
    "# The != operator can check if the two strings are NOT equal to each\n",
    "# other. If they are indeed not equal, then Python returns a True result.\n",
    "print(\"rabbit\" != \"frog\")\n",
    "#True\n",
    "# In this example, the variable event_city has been assigned the string \n",
    "# value \"Shanghai\". This variable is compared to a static string, \n",
    "# \"Shanghai\", using the != operator. As, the strings \"Shanghai\" and \n",
    "# \"Shanghai\" are the same, the comparison of \"Shanghai\" != \"Shanghai\" \n",
    "# is false. Accordingly, Python will return a False result.\n",
    "event_city = \"Shanghai\"\n",
    "print(event_city != \"Shanghai\")\n",
    "#False\n",
    "\n",
    "# This last example illustrates the result of trying to compare two\n",
    "# items of different data types using the equality == operator. The\n",
    "# two items are not equal, so the comparison returns False.\n",
    "print(\"three\" == 3)\n",
    "#False"
   ]
  },
  {
   "cell_type": "code",
   "execution_count": 77,
   "id": "6d90893a-92e3-486e-b4df-487c57a558b8",
   "metadata": {},
   "outputs": [
    {
     "name": "stdout",
     "output_type": "stream",
     "text": [
      "True\n",
      "True\n",
      "False\n",
      "False\n"
     ]
    },
    {
     "ename": "TypeError",
     "evalue": "'<' not supported between instances of 'str' and 'int'",
     "output_type": "error",
     "traceback": [
      "\u001b[1;31m---------------------------------------------------------------------------\u001b[0m",
      "\u001b[1;31mTypeError\u001b[0m                                 Traceback (most recent call last)",
      "Cell \u001b[1;32mIn[77], line 44\u001b[0m\n\u001b[0;32m     36\u001b[0m \u001b[38;5;28mprint\u001b[39m(\u001b[38;5;124m\"\u001b[39m\u001b[38;5;124mLima\u001b[39m\u001b[38;5;124m\"\u001b[39m \u001b[38;5;241m<\u001b[39m \u001b[38;5;124m\"\u001b[39m\u001b[38;5;124mLima\u001b[39m\u001b[38;5;124m\"\u001b[39m)\n\u001b[0;32m     37\u001b[0m \u001b[38;5;66;03m#False\u001b[39;00m\n\u001b[0;32m     38\u001b[0m \n\u001b[0;32m     39\u001b[0m \n\u001b[1;32m   (...)\u001b[0m\n\u001b[0;32m     42\u001b[0m \u001b[38;5;66;03m# greater than > and less than operators < cannot be used to compare\u001b[39;00m\n\u001b[0;32m     43\u001b[0m \u001b[38;5;66;03m# two different data types. \u001b[39;00m\n\u001b[1;32m---> 44\u001b[0m \u001b[38;5;28mprint\u001b[39m(\u001b[38;5;124m\"\u001b[39m\u001b[38;5;124mFive\u001b[39m\u001b[38;5;124m\"\u001b[39m \u001b[38;5;241m<\u001b[39m \u001b[38;5;241m6\u001b[39m)\n",
      "\u001b[1;31mTypeError\u001b[0m: '<' not supported between instances of 'str' and 'int'"
     ]
    }
   ],
   "source": [
    "# The greater than > operator checks if the left string has a higher \n",
    "# Unicode value than the right string. If true, the Python interpreter\n",
    "# returns a True result. Since W has a Unicode value of 87, and you can \n",
    "# easily calculate that F has a Unicode value of 70, this comparison is\n",
    "# the same as 87 > 70. As this is true, Python will return a True \n",
    "# result.\n",
    "print(\"Wednesday\" > \"Friday\")\n",
    "#True\n",
    " \n",
    " \n",
    "# The less than < operator checks if the left string has a lower \n",
    "# Unicode value than the right string. If you reference the Unicode \n",
    "# chart above, you can see that all lowercase letters have higher \n",
    "# Unicode values than uppercase letters. We can see that B has a \n",
    "# Unicode value of 66 and b has a Unicode value of 98. This \n",
    "# comparison is the same as 66 < 98, which is true. So, Python will \n",
    "# return a True result.\n",
    "print(\"Brown\" < \"brown\")\n",
    "#True\n",
    "\n",
    "\n",
    "# If the strings have the same first few letters, the comparison will \n",
    "# cycle through each letter of each string, from left to right until it \n",
    "# finds two letters that have different Unicode values. In this example, \n",
    "# both strings share the initial substring \"sun\", but then have \n",
    "# different letters with different Unicode values in the fourth place \n",
    "# in each string. So, the fourth letters 'b' and 't' of the two\n",
    "# strings are used for the comparison. Since 'b' does not have a higher\n",
    "# Unicode value than 't', the comparison returns a False result.\n",
    "print(\"sunbathe\" > \"suntan\")\n",
    "#False\n",
    "\n",
    "\n",
    "# If two identical strings are compared using the less than < comparison\n",
    "# operator, this will produce a False result because they are equal.\n",
    "print(\"Lima\" < \"Lima\")\n",
    "#False\n",
    "\n",
    "\n",
    "# This last example illustrates the result of trying to compare two\n",
    "# items of different data types using the less than < operator. The \n",
    "# greater than > and less than operators < cannot be used to compare\n",
    "# two different data types. \n",
    "print(\"Five\" < 6)\n",
    "#'''\n",
    "#Error on line 1:\n",
    "#    print(\"Five\" < 6)\n",
    "#TypeError: '<' not supported between instances of 'str' and 'int'"
   ]
  },
  {
   "cell_type": "code",
   "execution_count": 78,
   "id": "80c53a66-742c-4ca4-bb1c-51f8f688a9fd",
   "metadata": {},
   "outputs": [
    {
     "name": "stdout",
     "output_type": "stream",
     "text": [
      "Is \"my computer\" greater than or equal to \"my chair\"? Result:  True\n",
      "Is \"Spring\" less than or equal to \"Winter\"? Result:  True\n",
      "Is \"pineapple\" less than or equal to \"pineapple\"? Result:  True\n"
     ]
    }
   ],
   "source": [
    "var1 = \"my computer\" >= \"my chair\"\n",
    "var2 = \"Spring\" <= \"Winter\"\n",
    "var3 = \"pineapple\" >= \"pineapple\"\n",
    " \n",
    "print(\"Is \\\"my computer\\\" greater than or equal to \\\"my chair\\\"? Result: \", var1)\n",
    "print(\"Is \\\"Spring\\\" less than or equal to \\\"Winter\\\"? Result: \", var2)\n",
    "print(\"Is \\\"pineapple\\\" less than or equal to \\\"pineapple\\\"? Result: \", var3)"
   ]
  },
  {
   "cell_type": "code",
   "execution_count": 79,
   "id": "e70cdff9-5a6b-4e3c-8058-5042df3d196a",
   "metadata": {},
   "outputs": [
    {
     "name": "stdout",
     "output_type": "stream",
     "text": [
      "True\n"
     ]
    }
   ],
   "source": [
    "# Example 1\n",
    "\n",
    "print((6*3 >= 18) and (9+9 <= 36/2))"
   ]
  },
  {
   "cell_type": "code",
   "execution_count": 80,
   "id": "a9f70655-df09-4d09-b0da-5a1cd067609a",
   "metadata": {},
   "outputs": [
    {
     "name": "stdout",
     "output_type": "stream",
     "text": [
      "False\n"
     ]
    }
   ],
   "source": [
    "# Example 2\n",
    "\n",
    "print(\"Nairobi\" < \"Milan\" and \"Nairobi\" > \"Hanoi\")"
   ]
  },
  {
   "cell_type": "code",
   "execution_count": 81,
   "id": "927ef467-cb4a-4d1b-bc8f-c1cd3530e7cd",
   "metadata": {},
   "outputs": [
    {
     "name": "stdout",
     "output_type": "stream",
     "text": [
      "True\n",
      "True\n",
      "True\n",
      "False\n"
     ]
    }
   ],
   "source": [
    "# Define country and city variables\n",
    "country = \"United States\"\n",
    "city = \"New York City\"\n",
    "\n",
    "# True or True returns True\n",
    "print((15/3 < 2+4) or (0 >= 6-7))  # True or True = True\n",
    "\n",
    "# False or True returns True\n",
    "print(country == \"New York City\" or city == \"New York City\")  # False or True = True\n",
    "\n",
    "# True or False returns True\n",
    "print(16 <= 4**2 or 9**(0.5) != 3)  # True or False = True\n",
    "\n",
    "# False or False returns False\n",
    "print(\"B_name\" > \"C_name\" or \"B_name\" < \"A_name\") # False or False = False"
   ]
  },
  {
   "cell_type": "code",
   "execution_count": 82,
   "id": "cd68b285-3c0b-4b09-93c5-97a1473b1716",
   "metadata": {},
   "outputs": [
    {
     "name": "stdout",
     "output_type": "stream",
     "text": [
      "The value of x is:\n",
      "False\n",
      "\n",
      "The inverse value of x is:\n",
      "True\n"
     ]
    }
   ],
   "source": [
    "# Test Example 1:\n",
    "\n",
    "x = 2*3 > 6\n",
    "print(\"The value of x is:\")\n",
    "print(x)\n",
    "\n",
    "print(\"\")  # Prints a blank line\n",
    "\n",
    "print(\"The inverse value of x is:\")\n",
    "print(not x)"
   ]
  },
  {
   "cell_type": "code",
   "execution_count": 83,
   "id": "212e076b-938e-4285-a089-95877bd3c088",
   "metadata": {},
   "outputs": [
    {
     "name": "stdout",
     "output_type": "stream",
     "text": [
      "True\n"
     ]
    }
   ],
   "source": [
    "# What happens when you negate a False statement? \n",
    "# Click Run when you are ready to check your answer.\n",
    "\n",
    "\n",
    "today = \"Monday\"\n",
    "print(not today == \"Tuesday\") \n",
    "\n",
    "\n",
    "# The \"today\" variable states today is Monday. This makes the comparison\n",
    "# \"today == Tuesday\" False. The logical operator \"not\" inverts the False\n",
    "# result to become True. In other words, this expression asks if it is\n",
    "# false that today is not Tuesday. More succinctly, \"not False\" means \n",
    "# True.\""
   ]
  },
  {
   "cell_type": "code",
   "execution_count": 84,
   "id": "9739f6be-ce04-45c0-a5f4-4b3f38b70ba7",
   "metadata": {},
   "outputs": [],
   "source": [
    "def hint_username(username):\n",
    "    if len(username) < 3:\n",
    "        print(\"Invalid username. Must be at least 3 characters long\")"
   ]
  },
  {
   "cell_type": "code",
   "execution_count": 85,
   "id": "ed0ca56c-0ab8-4a27-acb1-5e34b66108e1",
   "metadata": {},
   "outputs": [],
   "source": [
    "def hint_username(username):\n",
    "    if len(username) < 3:\n",
    "        print(\"Invalid username. Must be at least 3 characters long\")\n",
    "    else:\n",
    "        print(\"Valid username\")\n",
    "#This code will not have an output."
   ]
  },
  {
   "cell_type": "code",
   "execution_count": 86,
   "id": "51d6e38f-2de0-498e-9293-ff54c42e75c5",
   "metadata": {},
   "outputs": [],
   "source": [
    "def is_even(number):\n",
    "    if number % 2 == 0:\n",
    "        return True\n",
    "    return False\n",
    "#This code has no ouput"
   ]
  },
  {
   "cell_type": "code",
   "execution_count": 87,
   "id": "8db0cfa6-34dd-496c-a22f-09b6ddd58bcd",
   "metadata": {},
   "outputs": [],
   "source": [
    "def hint_username(username):\n",
    "    if len(username) < 3:\n",
    "        print(\"Invalid username. Must be at least 3 characters long\")\n",
    "    else:\n",
    "        if len(username) > 15:\n",
    "            print(\"Invalid username. Must be at most 15 characters long\")\n",
    "        else:\n",
    "            print(\"Valid username\")"
   ]
  },
  {
   "cell_type": "code",
   "execution_count": 88,
   "id": "8a6dee3b-5100-4c74-ae16-2cc9d8895381",
   "metadata": {},
   "outputs": [],
   "source": [
    "def hint_username(username):\n",
    "    if len(username) < 3:\n",
    "        print(\"Invalid username. Must be at least 3 characters long\")\n",
    "    elif len(username) > 15:\n",
    "        print(\"Invalid username. Must be at most 15 characters long\")\n",
    "    else:\n",
    "        print(\"Valid username\")"
   ]
  },
  {
   "cell_type": "code",
   "execution_count": 1,
   "id": "ad81ca61-7cf9-43e3-8884-fd46ff097c93",
   "metadata": {},
   "outputs": [
    {
     "name": "stdout",
     "output_type": "stream",
     "text": [
      "True\n",
      "False\n"
     ]
    }
   ],
   "source": [
    "# The value of 10*4 (40) is greater than 14+23 (37), therefore this \n",
    "# comparison expression will return the Boolean value of True.\n",
    "\n",
    "\n",
    "print(10*4 > 14+23) # Should print True\n",
    "\n",
    "# The letter \"t\" has a Unicode value of 116 and the letter \"s\" has a\n",
    "# Unicode value of 115. Since 116 is not less than 115, the \n",
    "# comparison of \"tall\" < \"short\" (or 116 < 115) is False. \n",
    "\n",
    "print(\"tall\" < \"short\")  # Should print False"
   ]
  },
  {
   "cell_type": "code",
   "execution_count": 2,
   "id": "7b7870ef-b75a-4041-947b-73eeb8ed55ec",
   "metadata": {},
   "outputs": [
    {
     "name": "stdout",
     "output_type": "stream",
     "text": [
      "Requested web page not found on server\n"
     ]
    }
   ],
   "source": [
    "# This function accepts one variable as a parameter\n",
    "def translate_error_code(error_code):\n",
    " \n",
    "# The if-elif-else block assesses the value of the variable\n",
    "# passed to the function as a parameter. The if statement uses \n",
    "# the equality operator == to test the value of the variable.\n",
    "# This test returns a Boolean (True/False) result.\n",
    "    if error_code == \"401 Unauthorized\":\n",
    "# If the comparison above returns True, then the indented \n",
    "# line(s) inside the if-statement will run. In this case, the\n",
    "# action is to assign a string to the translation variable.\n",
    "# The remainder of the if-elif-else block will not run.\n",
    "# The Python interpreter will skip to the next line outside of \n",
    "# the if-elif-else block. In this case, the next line is the \n",
    "# return value statement.  \n",
    "        translation = \"Server received an unauthenticated request\"\n",
    " \n",
    "# If the initial if-statement returns a False result, then the\n",
    "# first elif-statement will run a different test on the value\n",
    "# of the variable.\n",
    "    elif error_code == \"404 Not Found\":\n",
    "# If the first elif-statement returns a True result, then the\n",
    "# indented line(s) inside the first elif-statement will run. \n",
    "# After this line, the remainder of the if-elif-else block will\n",
    "# not run. The Python interpreter will skip to the next line\n",
    "# outside of the if-elif-else block. \n",
    "        translation = \"Requested web page not found on server\"\n",
    " \n",
    "# If both the initial if-statement and the first elif-statement \n",
    "# return a False result, then the second elif-statement will\n",
    "# run.\n",
    "    elif error_code == \"408 Request Timeout\":\n",
    "        # If the second elif-statement returns a True result, then the\n",
    "# indented line(s) inside the second elif-statement will run. \n",
    "# After this line, the remainder of the if-elif-else block will\n",
    "# not run. The Python interpreter will skip to the next line\n",
    "# outside of the if-elif-else block. \n",
    "        translation = \"Server request to close unused connection\"\n",
    " \n",
    "# If the conditional tests above do not produce a True result\n",
    "# then the else-statement will run. \n",
    "    else:\n",
    "        translation = \"Unknown error code\"\n",
    "# The if-elif-else block ends.\n",
    "\n",
    "# The next line outside of the if-elif-else block will run\n",
    "# after exiting the block. In this case, the next line returns\n",
    "# the output from the if-elif-else block.\n",
    "    return translation\n",
    "\n",
    "# The print() function allows us to display the output of the\n",
    "# function. To call a function in a print statement, the syntax\n",
    "# is print(name_of_function(parameter))\n",
    "print(translate_error_code(\"404 Not Found\"))\n",
    "\n",
    "# Expected output:\n",
    "# Requested web page not found on server"
   ]
  },
  {
   "cell_type": "code",
   "execution_count": 3,
   "id": "eff11c3f-f34c-4914-afa9-6267bf115208",
   "metadata": {},
   "outputs": [
    {
     "name": "stdout",
     "output_type": "stream",
     "text": [
      "The number is less than 32 and greater than 6.\n"
     ]
    }
   ],
   "source": [
    "# Sets value of the \"number\" variable\n",
    "number = 25\n",
    "\n",
    "# The \"number\" variable will first be compared to 5. Since it is \n",
    "# False that \"number\" is not less than or equal to 5, the expression indented \n",
    "# under this line will be ignored. \n",
    "if number <= 5: \n",
    "   print(\"The number is 5 or smaller.\")\n",
    " \n",
    "# Next, the \"number\" variable will be compared to 33. Since it is \n",
    "# False that \"number\" is equal to 33, the expression indented under \n",
    "# this line will be ignored. \n",
    "elif number == 33:\n",
    "   print(\"The number is 33.\")\n",
    " \n",
    "# Then, the \"number\" variable will be compared to 32 and 6. Since it \n",
    "# is True that 25 is less than 32 and greater than 6, the Python \n",
    "# interpreter will print \"The number is less than 32 and/or greater\n",
    "# than 6.\" Then, it will exit the if-elif-else statement and the remainder \n",
    "# of the if-elif-else statement will be ignored.\n",
    "elif number < 32 and number >= 6:\n",
    "   print(\"The number is less than 32 and greater than 6.\")\n",
    " \n",
    "else:\n",
    "    print(\"The number is \" + str(number))\n",
    " \n",
    "# Expected output is: \n",
    "# The number is less than 32 and greater than 6.\n"
   ]
  },
  {
   "cell_type": "code",
   "execution_count": 4,
   "id": "97b1104b-963c-487c-80c6-1b9554a620e0",
   "metadata": {},
   "outputs": [
    {
     "name": "stdout",
     "output_type": "stream",
     "text": [
      "40\n"
     ]
    }
   ],
   "source": [
    "# This function rounds a variable number up to the nearest 10x value\n",
    "def round_up(number):\n",
    "  x = 10\n",
    "# The floor division operator will calculate the integer value of\n",
    "# \"number\" divided by x: 35 // 10 will return the integer 3.\n",
    "  whole_number = number // x\n",
    "# The modulo operator will calculate the remainder value of \"number\"\n",
    "# divided by x: 35 % 10 will return the remainder value 5.\n",
    "  remainder = number % x\n",
    "# If the remainder is greater than or equal to 5: \n",
    "  if remainder >= 5: \n",
    "# Return x multiplied by the (whole_number+1) to round up\n",
    "    return x*(whole_number+1)\n",
    "# Else, return x multiplied by the whole_number to round down\n",
    "  return x*whole_number\n",
    " \n",
    "# Calls the function with the parameter value of 35.\n",
    "print(round_up(35)) # Should print 40"
   ]
  },
  {
   "cell_type": "code",
   "execution_count": 5,
   "id": "2e75c3f5-a15b-4d1b-bd9f-e13ad449c6fe",
   "metadata": {},
   "outputs": [
    {
     "name": "stdout",
     "output_type": "stream",
     "text": [
      "Welcome back Taylor!\n",
      "Hello there, John\n"
     ]
    }
   ],
   "source": [
    "def greeting(name):\n",
    "  if name == \"Taylor\":\n",
    "    return \"Welcome back Taylor!\"\n",
    "  else:\n",
    "    return \"Hello there, \" + name\n",
    "\n",
    "print(greeting(\"Taylor\"))\n",
    "print(greeting(\"John\"))"
   ]
  },
  {
   "cell_type": "code",
   "execution_count": 6,
   "id": "09874109-8b7f-419a-a8d6-8ac75a4cd61c",
   "metadata": {},
   "outputs": [
    {
     "name": "stdout",
     "output_type": "stream",
     "text": [
      "0\n"
     ]
    }
   ],
   "source": [
    "numero=10\n",
    "if number > 11: \n",
    "  print(0)\n",
    "elif number != 10:\n",
    "  print(1)\n",
    "elif number >= 20 or number < 12:\n",
    "  print(2)\n",
    "else:\n",
    "  print(3)"
   ]
  },
  {
   "cell_type": "code",
   "execution_count": 7,
   "id": "10b54d93-7de2-4d6a-97ec-d38d22f0bafd",
   "metadata": {},
   "outputs": [
    {
     "name": "stdout",
     "output_type": "stream",
     "text": [
      "A dogA mouse\n",
      "28887\n"
     ]
    }
   ],
   "source": [
    "print(\"A dog\" + \"A mouse\")\n",
    "print(9999+8888 + 100*100)"
   ]
  },
  {
   "cell_type": "code",
   "execution_count": 8,
   "id": "17c37fcb-718b-4e90-ab13-bda28bf10e0e",
   "metadata": {},
   "outputs": [
    {
     "name": "stdout",
     "output_type": "stream",
     "text": [
      "4096\n",
      "4096\n",
      "8192\n",
      "8192\n"
     ]
    }
   ],
   "source": [
    "def calculate_storage(filesize):\n",
    "    block_size = 4096\n",
    "    # Use floor division to calculate how many blocks are fully occupied\n",
    "    full_blocks = filesize // block_size\n",
    "    # Use the modulo operator to check whether there's any remainder\n",
    "    partial_block_remainder = filesize % block_size\n",
    "    # Depending on whether there's a remainder or not, return\n",
    "    # the total number of bytes required to allocate enough blocks\n",
    "    # to store your data.\n",
    "    if partial_block_remainder > 0:\n",
    "        return (full_blocks + 1) * block_size\n",
    "    return full_blocks * block_size\n",
    "\n",
    "print(calculate_storage(1))    # Should be 4096\n",
    "print(calculate_storage(4096)) # Should be 4096\n",
    "print(calculate_storage(4097)) # Should be 8192\n",
    "print(calculate_storage(6000)) # Should be 8192"
   ]
  },
  {
   "cell_type": "code",
   "execution_count": 9,
   "id": "ee752136-371d-4c8a-a6b5-2e7a9f44d687",
   "metadata": {},
   "outputs": [
    {
     "name": "stdout",
     "output_type": "stream",
     "text": [
      "Provide IT Support to employees\n"
     ]
    }
   ],
   "source": [
    "# A function is created with the def() keyword. The parameter\n",
    "# variable \"time_as_string\" is passed to the function through a \n",
    "# call to the function.\n",
    "def task_reminder(time_as_string):\n",
    "\n",
    "    # The following if-elif-else block assigns various strings to\n",
    "    # the variable \"task\" depending on specific conditions. The\n",
    "    # test conditions are set using the == equality comparison \n",
    "    # operator. In this case, the time passed through the \n",
    "    # \"time_as_string\" parameter variable is tested as the \n",
    "    # specific condition. So, if the time  is \"11:30 a.m.\", then \n",
    "    # \"task\" is assigned the value: \"Run TPS report\".\n",
    "    if time_as_string == \"8:00 a.m.\":\n",
    "        task = \"Check overnight backup images\"\n",
    "    elif time_as_string == \"11:30 a.m.\":\n",
    "        task = \"Run TPS report\"\n",
    "    elif time_as_string == \"5:30 p.m.\":\n",
    "        task = \"Reboot servers\"\n",
    "    # The else statement is a catchall for all other values of \n",
    "    # the \"time_as_string\" parameter variable not listed in the\n",
    "    # if-elif block of code.\n",
    "    else:\n",
    "        task = \"Provide IT Support to employees\"\n",
    "\n",
    "    # This line returns the value of \"task\" to the function call.\n",
    "    return task\n",
    "# This line calls the function and passes a parameter  \n",
    "# (\"10:00 a.m.\") to the function.\n",
    "print(task_reminder(\"10:00 a.m.\"))\n",
    "# Should print \"Provide IT Support to employees\"\n"
   ]
  },
  {
   "cell_type": "code",
   "execution_count": 10,
   "id": "b3e44a10-1151-4366-b795-580fd7719231",
   "metadata": {},
   "outputs": [
    {
     "name": "stdout",
     "output_type": "stream",
     "text": [
      "120\n",
      "-2\n",
      "False\n",
      "This comparison is True\n",
      "0\n"
     ]
    }
   ],
   "source": [
    "# Example 1\n",
    "# Evaluate the output of this print statement\n",
    "\n",
    "def product(a, b):\n",
    "    return(a*b)\n",
    "\n",
    "print(product(product(2,4), product(3,5)))\n",
    " \n",
    "#################################\n",
    "\n",
    "# Example 2 \n",
    "# Evaluate the output of this print statement\n",
    "\n",
    "def difference(a, b):\n",
    "    return(a-b)\n",
    "\n",
    "def sum(a, b):\n",
    "    return(a+b)\n",
    "\n",
    "print(difference(sum(2,2), sum(3,3)))\n",
    "#################################\n",
    "\n",
    "\n",
    "# Example 3\n",
    "# Evaluate the Boolean output of this comparison\n",
    "\n",
    "\n",
    "print((5 >= 2*4) and (5 <= 4*3))\n",
    "\n",
    "\n",
    "#################################\n",
    "\n",
    "\n",
    "# Example 4 \n",
    "# Evaluate the value of the comparison in the if statement \n",
    "\n",
    "\n",
    "x = 3\n",
    "if x+5 > x**2 or x % 4 != 0:\n",
    "    print(\"This comparison is True\")\n",
    "\n",
    "\n",
    "#################################\n",
    "\n",
    "\n",
    "# Example 5 \n",
    "# Evaluate the output of this if-elif-else statement\n",
    "\n",
    "\n",
    "number = 6\n",
    "if number * 2 < 14:\n",
    "    print(number * 6 % 3)\n",
    "elif number > 7:\n",
    "    print(100 / number)\n",
    "else:\n",
    "    print(7 - number)\n",
    "\n",
    "\n",
    "# Click Run to check your answers. If you are having trouble \n",
    "# calculating the correct answers manually, please review the\n",
    "# Practice Quiz Study Guides, videos, and readings in this Module."
   ]
  },
  {
   "cell_type": "code",
   "execution_count": 11,
   "id": "48322ad2-d820-4043-b56f-d9ea7efc8272",
   "metadata": {},
   "outputs": [
    {
     "name": "stdout",
     "output_type": "stream",
     "text": [
      "0.3333333333333333\n"
     ]
    }
   ],
   "source": [
    "def get_remainder(x, y):\n",
    " \n",
    "  if x == 0 or y == 0 or x ==y:\n",
    "    remainder = 0\n",
    "  else:\n",
    "    remainder = (x % y) / y\n",
    "  return remainder\n",
    "\n",
    "\n",
    "print(get_remainder(10, 3))"
   ]
  },
  {
   "cell_type": "code",
   "execution_count": 12,
   "id": "923bd94d-408f-4a62-8b6f-39b14b65f6a2",
   "metadata": {},
   "outputs": [
    {
     "name": "stdout",
     "output_type": "stream",
     "text": [
      "False\n"
     ]
    }
   ],
   "source": [
    "print(\"blue\" == \"Blue\")"
   ]
  },
  {
   "cell_type": "code",
   "execution_count": 13,
   "id": "3c5e91f6-a828-4e2c-9385-e68e4480537c",
   "metadata": {},
   "outputs": [
    {
     "name": "stdout",
     "output_type": "stream",
     "text": [
      "7\n"
     ]
    }
   ],
   "source": [
    "number = 4\n",
    "if number * 4 < 15:\n",
    " print(number / 4)\n",
    "elif number < 5:\n",
    " print(number + 3)\n",
    "else:\n",
    " print(number * 2 % 5)"
   ]
  },
  {
   "cell_type": "code",
   "execution_count": 14,
   "id": "57d47adf-4170-4b07-9b94-b244d96114c2",
   "metadata": {},
   "outputs": [
    {
     "name": "stdout",
     "output_type": "stream",
     "text": [
      "Reckless Driving\n",
      "Speeding\n",
      "Safe\n",
      "Reckless Driving\n",
      "Safe\n",
      "Speeding\n"
     ]
    }
   ],
   "source": [
    "def speeding_ticket(speed):\n",
    "    if speed>=85:\n",
    "        ticket = \"Reckless Driving\"\n",
    "    elif speed>65 and speed<85:\n",
    "        ticket = \"Speeding\"\n",
    "    else:\n",
    "        ticket = \"Safe\"\n",
    "    return ticket\n",
    "\n",
    "\n",
    "print(speeding_ticket(87)) # Should print Reckless Driving\n",
    "print(speeding_ticket(66)) # Should print Speeding\n",
    "print(speeding_ticket(65)) # Should print Safe\n",
    "print(speeding_ticket(85)) # Should print Reckless Driving\n",
    "print(speeding_ticket(35)) # Should print Safe\n",
    "print(speeding_ticket(77)) # Should print Speeding"
   ]
  },
  {
   "cell_type": "code",
   "execution_count": 15,
   "id": "2947e8ae-2e35-4869-9386-158e8a0b5671",
   "metadata": {},
   "outputs": [
    {
     "name": "stdout",
     "output_type": "stream",
     "text": [
      "Check\n"
     ]
    }
   ],
   "source": [
    "n = 4\n",
    "if n*6 > n**2 or n%2 == 0:\n",
    "    print(\"Check\")"
   ]
  },
  {
   "cell_type": "code",
   "execution_count": 16,
   "id": "df169e76-8b34-4816-bbab-f959113eed91",
   "metadata": {},
   "outputs": [
    {
     "name": "stdout",
     "output_type": "stream",
     "text": [
      "Google DNS server\n",
      "Google.com\n",
      "Network router\n",
      "Google DNS server\n",
      "unknown\n",
      "unknown\n"
     ]
    }
   ],
   "source": [
    "def identify_IP(IP_address):\n",
    "    if IP_address == \"192.168.1.1\":\n",
    "        IP_description = \"Network router\"\n",
    "    elif IP_address == \"8.8.8.8\" or IP_address == \"8.8.4.4\":\n",
    "        IP_description = \"Google DNS server\"\n",
    "    elif IP_address == \"142.250.191.46\":\n",
    "        IP_description = \"Google.com\"\n",
    "    else:\n",
    "        IP_description = \"unknown\"\n",
    "    return IP_description\n",
    "\n",
    "\n",
    "print(identify_IP(\"8.8.4.4\")) # Should print 'Google DNS server'\n",
    "print(identify_IP(\"142.250.191.46\")) # Should print 'Google.com'\n",
    "print(identify_IP(\"192.168.1.1\")) # Should print 'Network router'\n",
    "print(identify_IP(\"8.8.8.8\")) # Should print 'Google DNS server'\n",
    "print(identify_IP(\"10.10.10.10\")) # Should print 'unknown'\n",
    "print(identify_IP(\"\")) # Should Should print 'unknown'"
   ]
  },
  {
   "cell_type": "code",
   "execution_count": 17,
   "id": "84c18e1c-1318-4517-99d4-e35a67da8529",
   "metadata": {},
   "outputs": [
    {
     "name": "stdout",
     "output_type": "stream",
     "text": [
      "10\n"
     ]
    }
   ],
   "source": [
    "def sum(x, y):\n",
    "        return(x+y)\n",
    "print(sum(sum(1,2), sum(3,4)))"
   ]
  },
  {
   "cell_type": "code",
   "execution_count": 18,
   "id": "bfcab799-5234-4b09-b931-8657464367b1",
   "metadata": {},
   "outputs": [
    {
     "name": "stdout",
     "output_type": "stream",
     "text": [
      "True\n"
     ]
    }
   ],
   "source": [
    "print(((10 >= 5*2) and (10 <= 5*2)))"
   ]
  },
  {
   "cell_type": "code",
   "execution_count": 19,
   "id": "292a37c1-0e1e-42a5-ab64-dc8011621b73",
   "metadata": {},
   "outputs": [
    {
     "name": "stdout",
     "output_type": "stream",
     "text": [
      "4\n",
      "0\n",
      "0.25\n",
      "5\n"
     ]
    }
   ],
   "source": [
    "def make_positive(number):\n",
    "    if number < 0:\n",
    "        result = number * -1 \n",
    "    else:\n",
    "        result = number\n",
    "    return result\n",
    "\n",
    "\n",
    "print(make_positive(-4))   # Should print 4\n",
    "print(make_positive(0))    # Should print 0\n",
    "print(make_positive(-.25)) # Should print 0.25\n",
    "print(make_positive(5))    # Should print 5"
   ]
  },
  {
   "cell_type": "code",
   "execution_count": 20,
   "id": "1fbc1014-4467-49b0-b124-6f343a687826",
   "metadata": {},
   "outputs": [
    {
     "name": "stdout",
     "output_type": "stream",
     "text": [
      "Not there yet, x=0\n",
      "Not there yet, x=1\n",
      "Not there yet, x=2\n",
      "Not there yet, x=3\n",
      "Not there yet, x=4\n",
      "x=5\n"
     ]
    }
   ],
   "source": [
    "x =   0\n",
    "while x < 5:\n",
    "    print(\"Not there yet, x=\" + str(x))\n",
    "    x = x + 1\n",
    "print(\"x=\" + str(x))"
   ]
  },
  {
   "cell_type": "code",
   "execution_count": 21,
   "id": "cec5ccde-f17e-43aa-81f8-909f48a1d228",
   "metadata": {},
   "outputs": [
    {
     "name": "stdout",
     "output_type": "stream",
     "text": [
      "Attempt 1\n",
      "Attempt 2\n",
      "Attempt 3\n",
      "Attempt 4\n",
      "Attempt 5\n",
      "Done\n"
     ]
    }
   ],
   "source": [
    "def attempts(n):\n",
    "    x = 1\n",
    "    while x <= n:\n",
    "        print(\"Attempt \" + str(x))\n",
    "        x += 1\n",
    "    print(\"Done\")\n",
    "\n",
    "attempts(5)"
   ]
  },
  {
   "cell_type": "code",
   "execution_count": 22,
   "id": "73bb1df8-b823-45d4-bf48-7f217b9256af",
   "metadata": {},
   "outputs": [
    {
     "name": "stdout",
     "output_type": "stream",
     "text": [
      "Attempt 1\n",
      "Attempt 2\n",
      "Attempt 3\n",
      "Attempt 4\n",
      "Attempt 5\n",
      "Done\n"
     ]
    }
   ],
   "source": [
    "def attempts(n):\n",
    "    x = 1\n",
    "    while x <= n:\n",
    "        print(\"Attempt \" + str(x))\n",
    "        x += 1\n",
    "    print(\"Done\")\n",
    "attempts(5)"
   ]
  },
  {
   "cell_type": "code",
   "execution_count": 23,
   "id": "8dac8029-c865-46d9-9933-111728b62548",
   "metadata": {},
   "outputs": [
    {
     "ename": "NameError",
     "evalue": "name 'get_username' is not defined",
     "output_type": "error",
     "traceback": [
      "\u001b[1;31m---------------------------------------------------------------------------\u001b[0m",
      "\u001b[1;31mNameError\u001b[0m                                 Traceback (most recent call last)",
      "Cell \u001b[1;32mIn[23], line 1\u001b[0m\n\u001b[1;32m----> 1\u001b[0m username \u001b[38;5;241m=\u001b[39m get_username()\n\u001b[0;32m      2\u001b[0m \u001b[38;5;28;01mwhile\u001b[39;00m \u001b[38;5;129;01mnot\u001b[39;00m valid_username(username):\n\u001b[0;32m      3\u001b[0m     \u001b[38;5;28mprint\u001b[39m(\u001b[38;5;124m\"\u001b[39m\u001b[38;5;124mInvalid username\u001b[39m\u001b[38;5;124m\"\u001b[39m)\n",
      "\u001b[1;31mNameError\u001b[0m: name 'get_username' is not defined"
     ]
    }
   ],
   "source": [
    "username = get_username()\n",
    "while not valid_username(username):\n",
    "    print(\"Invalid username\")\n",
    "    username = get_username()\n",
    "#This code will give an error because get_username is not defined"
   ]
  },
  {
   "cell_type": "code",
   "execution_count": 27,
   "id": "ed1f444e-18e8-4b71-bcb2-1491c9458443",
   "metadata": {},
   "outputs": [
    {
     "name": "stdout",
     "output_type": "stream",
     "text": [
      "Valor actual del S&P 500: 6388.64013671875\n"
     ]
    }
   ],
   "source": [
    "import yfinance as yf\n",
    "\n",
    "# Obtener datos del S&P 500 (símbolo: ^GSPC)\n",
    "sp500 = yf.Ticker(\"^GSPC\")\n",
    "data = sp500.history(period=\"1d\")\n",
    "print(\"Valor actual del S&P 500:\", data[\"Close\"].iloc[-1])"
   ]
  },
  {
   "cell_type": "code",
   "execution_count": 28,
   "id": "cc42ab2d-542a-42c2-a514-01179633ebda",
   "metadata": {},
   "outputs": [
    {
     "name": "stdout",
     "output_type": "stream",
     "text": [
      "Hello\n",
      "Hello\n",
      "Hello\n",
      "Hello\n",
      "Hello\n",
      "Hello\n",
      "Hello\n",
      "Hello\n",
      "Hello\n",
      "Hello\n"
     ]
    }
   ],
   "source": [
    "my_variable=0\n",
    "while my_variable < 10:\n",
    "    print(\"Hello\")\n",
    "    my_variable += 1\n",
    "#This code will give a NameError\n",
    "#Variable is not defined "
   ]
  },
  {
   "cell_type": "code",
   "execution_count": 29,
   "id": "0b17e33f-8db9-41e6-90ae-2e5cf2c65104",
   "metadata": {},
   "outputs": [
    {
     "name": "stdout",
     "output_type": "stream",
     "text": [
      "Hello\n",
      "Hello\n",
      "Hello\n",
      "Hello\n",
      "Hello\n"
     ]
    }
   ],
   "source": [
    "my_variable = 5\n",
    "while my_variable < 10:\n",
    "    print(\"Hello\")\n",
    "    my_variable += 1"
   ]
  },
  {
   "cell_type": "code",
   "execution_count": 30,
   "id": "50633027-fc1a-4829-80f1-cd8e8514fddc",
   "metadata": {},
   "outputs": [
    {
     "name": "stdout",
     "output_type": "stream",
     "text": [
      "45 1\n"
     ]
    }
   ],
   "source": [
    "x = 1\n",
    "sum = 0\n",
    "while x < 10:\n",
    "    sum = sum + x\n",
    "    x = x + 1\n",
    "\n",
    "product = 1\n",
    "while x < 10:\n",
    "    product = product * x\n",
    "    x = x + 1\n",
    "\n",
    "print(sum, product)\n",
    "#Ouput 45 1"
   ]
  },
  {
   "cell_type": "code",
   "execution_count": 32,
   "id": "0370cd50-8457-4a80-9d2f-77c54c12c159",
   "metadata": {},
   "outputs": [
    {
     "name": "stdout",
     "output_type": "stream",
     "text": [
      "3\n",
      "2\n",
      "1\n",
      "Zero!\n"
     ]
    }
   ],
   "source": [
    "def count_down(current):\n",
    "  while (current > 0):\n",
    "    print(current)\n",
    "    current -= 1\n",
    "  print(\"Zero!\")\n",
    "\n",
    "count_down(3)"
   ]
  },
  {
   "cell_type": "code",
   "execution_count": 35,
   "id": "51df11d1-ed6a-49b7-8ae3-220abce315d4",
   "metadata": {},
   "outputs": [],
   "source": [
    "x = 13\n",
    "while x % 2 == 0:\n",
    "    x = x / 2\n",
    "#No output"
   ]
  },
  {
   "cell_type": "code",
   "execution_count": 36,
   "id": "8e92772b-7355-4bdc-ac79-f2a75deab93f",
   "metadata": {},
   "outputs": [],
   "source": [
    "if x != 0:\n",
    "    while x % 2 == 0:\n",
    "        x = x / 2\n",
    "#No output"
   ]
  },
  {
   "cell_type": "code",
   "execution_count": 37,
   "id": "5b976a81-3d51-45d6-8dcf-f31c32acc73a",
   "metadata": {},
   "outputs": [],
   "source": [
    "while x != 0 and x % 2 == 0:\n",
    "    x = x / 2\n",
    "#No output"
   ]
  },
  {
   "cell_type": "code",
   "execution_count": 38,
   "id": "461512d0-b3e5-4334-8fb7-9e2eb733b8df",
   "metadata": {},
   "outputs": [
    {
     "ename": "NameError",
     "evalue": "name 'do_something_cool' is not defined",
     "output_type": "error",
     "traceback": [
      "\u001b[1;31m---------------------------------------------------------------------------\u001b[0m",
      "\u001b[1;31mNameError\u001b[0m                                 Traceback (most recent call last)",
      "Cell \u001b[1;32mIn[38], line 2\u001b[0m\n\u001b[0;32m      1\u001b[0m \u001b[38;5;28;01mwhile\u001b[39;00m \u001b[38;5;28;01mTrue\u001b[39;00m:\n\u001b[1;32m----> 2\u001b[0m     do_something_cool()\n\u001b[0;32m      3\u001b[0m     \u001b[38;5;28;01mif\u001b[39;00m user_requested_to_stop():\n\u001b[0;32m      4\u001b[0m         \u001b[38;5;28;01mbreak\u001b[39;00m\n",
      "\u001b[1;31mNameError\u001b[0m: name 'do_something_cool' is not defined"
     ]
    }
   ],
   "source": [
    "while True:\n",
    "    do_something_cool()\n",
    "    if user_requested_to_stop():\n",
    "        break\n",
    "#This code will give an error because do_something_cool is not defined"
   ]
  },
  {
   "cell_type": "code",
   "execution_count": 39,
   "id": "364f4a30-d398-415b-a58e-416c9f88c688",
   "metadata": {},
   "outputs": [
    {
     "name": "stdout",
     "output_type": "stream",
     "text": [
      "1\n",
      "2\n",
      "3\n",
      "4\n",
      "5\n"
     ]
    }
   ],
   "source": [
    "def print_range(start, end):\n",
    "\t# Loop through the numbers from start to end\n",
    "\tn = start\n",
    "\twhile n <= end:\n",
    "\t\tprint(n)\n",
    "\t\tn+=1\n",
    "\n",
    "print_range(1, 5)  # Should print 1 2 3 4 5 (each number on its own line)"
   ]
  },
  {
   "cell_type": "markdown",
   "id": "1a9d3627-275f-4f79-9e33-822846c06645",
   "metadata": {},
   "source": [
    "while specified condition is True:\n",
    "    body of loop "
   ]
  },
  {
   "cell_type": "code",
   "execution_count": 40,
   "id": "f5071f77-fc30-4e01-b618-b3e39b1a1303",
   "metadata": {},
   "outputs": [
    {
     "name": "stdout",
     "output_type": "stream",
     "text": [
      "5\n",
      "10\n",
      "15\n",
      "20\n",
      "25\n",
      "30\n",
      "35\n",
      "40\n",
      "45\n",
      "50\n",
      "Done\n"
     ]
    }
   ],
   "source": [
    "multiplier = 1\n",
    "result = multiplier * 5\n",
    "while result <= 50:\n",
    "    print(result)\n",
    "    multiplier += 1\n",
    "    result = multiplier * 5\n",
    "print(\"Done\")\n",
    "\n",
    "\n",
    "# This while loop prints the multiples of 5 between 1 and 50. The\n",
    "# \"multiplier\" variable is initialized with the starting value of 1. \n",
    "# The \"result\" variable is initialized with the value of the \n",
    "# \"multiplier\" variable times 5. \n",
    "\n",
    "# The while loop specifies that the loop must iterate while it is True\n",
    "# that the \"result\" is less than or equal to 50. Within the while loop, \n",
    "# the code tells the Python interpreter to print the value of the \n",
    "# \"result\" variable. Then, the \"multiplier\" is incremented by 1 and the\n",
    "# \"result\" is assigned the new value of the \"multiplier\" times 5. \n",
    "\n",
    "# The end of the while loop is indicated by the indentation of the next \n",
    "# line of code moving one tab to the left. At this point, the Python\n",
    "# interpreter automatically loops back to the beginning of the while\n",
    "# loop to check the condition again with the new value of the \"result\"\n",
    "# variable. When the while loop condition becomes False (meaning\n",
    "# \"result\" is no longer less than or equal to 50), the interpreter exits\n",
    "# the loop and reads the next line of code outside of the loop. In this \n",
    "# case, that next line tells the interpreter to print the string \"Done\". \n",
    "\n",
    "# Click the \"Run\" button to check the result of this while loop.    "
   ]
  },
  {
   "cell_type": "code",
   "execution_count": 41,
   "id": "08e9c4a9-58b7-4071-9433-a9cf899c32b8",
   "metadata": {},
   "outputs": [
    {
     "name": "stdout",
     "output_type": "stream",
     "text": [
      "0\n",
      "2\n",
      "4\n",
      "8\n"
     ]
    }
   ],
   "source": [
    "# This function counts the number of integer factors for a \n",
    "# \"given_number\" variable, passed through the function’s parameters.\n",
    "# The \"count\" return value includes the \"given_number\" itself as a \n",
    "# factor (n*1). \n",
    "def count_factors(given_number):\n",
    "\n",
    "    # To include the \"given_number\" variable as a \"factor\", initialize\n",
    "    # the \"factor\" variable with the value 1 (if the \"factor\" variable\n",
    "    # were to start at 2, the \"given_number\" itself would be excluded). \n",
    "    factor = 1\n",
    "    count = 1\n",
    "\n",
    "    # This \"if\" block will run if the \"given_number\" equals 0.\n",
    "    if given_number == 0:\n",
    "        # If True, the return value will be 0 factors. \n",
    "        return 0\n",
    "\n",
    "    # The while loop will run while the \"factor\" is still less than\n",
    "    # the \"given_number\" variable.\n",
    "    while factor < given_number:\n",
    "        # This \"if\" block checks if the \"given_number\" can be divided by\n",
    "        # the \"factor\" variable without leaving a remainder. The modulo\n",
    "        # operator % is used to test for a remainder.\n",
    "        if given_number % factor == 0:\n",
    "            # If True, then the \"factor\" variable is added to the count of\n",
    "            # the \"given_number\"’s integer factors.\n",
    "            count += 1\n",
    "        # When exiting the if block, increment the \"factor\" variable by 1\n",
    "        # to divide the \"given_number\" variable by a new \"factor\" value\n",
    "         # inside the while loop.\n",
    "        factor += 1\n",
    "\n",
    "    # When the interpreter exits either the while loop or the top if\n",
    "    # block, it will return the value of the \"count\" variable.\n",
    "    return count\n",
    "\n",
    "\n",
    "print(count_factors(0)) # Count value should be 0\n",
    "print(count_factors(3)) # Should count 2 factors (1x3)\n",
    "print(count_factors(10)) # Should count 4 factors (1x10, 2x5)\n",
    "print(count_factors(24)) # Should count 8 factors (1x24, 2x12, 3x8, and 4x6). "
   ]
  },
  {
   "cell_type": "code",
   "execution_count": 42,
   "id": "210edfe0-b482-4fa3-ac62-07e4e716d717",
   "metadata": {},
   "outputs": [
    {
     "name": "stdout",
     "output_type": "stream",
     "text": [
      "5 + 1 = 6\n",
      "5 + 2 = 7\n",
      "5 + 3 = 8\n",
      "5 + 4 = 9\n",
      "5 + 5 = 10\n",
      "17 + 1 = 18\n",
      "17 + 2 = 19\n",
      "17 + 3 = 20\n"
     ]
    }
   ],
   "source": [
    "# This function outputs an addition table. It is written to end after\n",
    "# printing 5 lines of the addition table, but it will break out of the\n",
    "# loop if the \"my_sum\" variable exceeds 20.\n",
    "\n",
    "# The function accepts a \"given_number\" variable through its\n",
    "# parameters.\n",
    "def addition_table(given_number):\n",
    "\n",
    "\t# The \"iterated_number\" and \"my_sum\" variables are initialized with\n",
    "\t# the value of 1. Although the \"my_sum\" variable does not need any\n",
    "\t# specific initial value, it still must be assigned a data type\n",
    "\t# before being used in the while loop. By initializing \"my_sum\"\n",
    "\t# with any integer, the data type will be set to int.\n",
    "\titerated_number = 1\n",
    "\tmy_sum = 1\n",
    "\n",
    "\t# The while loop will run while it is True that the\n",
    "\t# \"iterated_number\" is less than or equal to 5.\n",
    "\twhile iterated_number <= 5:\n",
    "\n",
    "\t\t# The \"my_sum\" variable is assigned the value of the\n",
    "\t\t# \"given_number\" plus the \"iterated_number\" variables.\n",
    "\t\tmy_sum = given_number + iterated_number\n",
    "\n",
    "\t\t# Test to see if the \"my_sum\" variable is greater than 20.\n",
    "\t\tif my_sum > 20:\n",
    "\t\t\t# If True, then use the break keyword to exit the loop.\n",
    "\t\t\tbreak\n",
    "\n",
    "\t\t# If False, the Python interpreter will move to the next line\n",
    "\t\t# in the while loop after the if-statement has ended.\n",
    "\n",
    "\t\t# The print function will output the \"given_number\" plus\n",
    "\t\t# the \"iterated_number\" equals \"my_sum\".\n",
    "\t\tprint(str(given_number), \"+\", str(iterated_number), \"=\", str(my_sum))\n",
    "\n",
    "\t\t# Increment the \"iterated_number\" before the while loop starts\n",
    "\t\t# over again to print a new \"my_sum\" value.\n",
    "\t\titerated_number += 1\n",
    "\n",
    "\n",
    "addition_table(5)\n",
    "addition_table(17)\n",
    "addition_table(30)\n",
    "\n",
    "# Expected output:\n",
    "# 5 + 1 = 6\n",
    "# 5 + 2 = 7\n",
    "# 5 + 3 = 8\n",
    "# 5 + 4 = 9\n",
    "# 5 + 5 = 10\n",
    "# 17 + 1 = 18\n",
    "# 17 + 2 = 19\n",
    "# 17 + 3 = 20\n",
    "# None"
   ]
  },
  {
   "cell_type": "code",
   "execution_count": null,
   "id": "61d483f5-ccd2-42ef-9121-ab159dc79eb4",
   "metadata": {},
   "outputs": [],
   "source": [
    "def is_power_of_two(number):\n",
    "  # This while loop checks if the \"number\" can be divided by two\n",
    "  # without leaving a remainder. How can you change the while loop to\n",
    "  # avoid a Python ZeroDivisionError?\n",
    "  while number > 0 and number % 2 == 0:\n",
    "    number = number // 2\n",
    "  # If after dividing by 2 \"number\" equals 1, then \"number\" is a power\n",
    "  # of 2.\n",
    "  if number == 1:\n",
    "    return True\n",
    "  return False\n",
    "  \n",
    "# Calls to the function\n",
    "print(is_power_of_two(0)) # Should be False\n",
    "print(is_power_of_two(1)) # Should be True\n",
    "print(is_power_of_two(8)) # Should be True\n",
    "print(is_power_of_two(9)) # Should be False"
   ]
  },
  {
   "cell_type": "code",
   "execution_count": null,
   "id": "146f2e13-c7c7-4f5d-a4ff-7ac6550ead67",
   "metadata": {},
   "outputs": [],
   "source": [
    "def sum_of_integers(n):\n",
    "  if n < 1:\n",
    "    return 0\n",
    "\n",
    "\n",
    "  i = 1\n",
    "  sum = 0\n",
    "  while i<=n:\n",
    "    sum = sum + i\n",
    "    i = i + 1\n",
    "\n",
    "\n",
    "  return sum\n",
    "\n",
    "\n",
    "print(sum_of_integers(3))  # should print 6\n",
    "print(sum_of_integers(4))  # should print 10\n",
    "print(sum_of_integers(5))  # should print 15"
   ]
  },
  {
   "cell_type": "code",
   "execution_count": null,
   "id": "8406975d-9ee5-4b54-9201-4ddcb32c8af1",
   "metadata": {},
   "outputs": [],
   "source": [
    "def multiplication_table(number):\n",
    "    # Initialize the appropriate variable\n",
    "    multiplier = 1\n",
    "\n",
    "\n",
    "    # Complete the while loop condition.\n",
    "    while multiplier<=5:\n",
    "        result = number * multiplier \n",
    "        if  result > 25:\n",
    "            # Enter the action to take if the result > 25\n",
    "            break\n",
    "        print(str(number) + \"x\" + str(multiplier) + \"=\" + str(result))\n",
    "        \n",
    "        # Increment the appropriate variable\n",
    "        multiplier  += 1\n",
    "\n",
    "\n",
    "\n",
    "\n",
    "multiplication_table(3) \n",
    "# Should print: \n",
    "# 3x1=3 \n",
    "# 3x2=6 \n",
    "# 3x3=9 \n",
    "# 3x4=12 \n",
    "# 3x5=15\n",
    "\n",
    "\n",
    "multiplication_table(5) \n",
    "# Should print: \n",
    "# 5x1=5\n",
    "# 5x2=10\n",
    "# 5x3=15\n",
    "# 5x4=20\n",
    "# 5x5=25\n",
    "\n",
    "\n",
    "multiplication_table(8) \n",
    "# Should print:\n",
    "# 8x1=8\n",
    "# 8x2=16\n",
    "# 8x3=24\n"
   ]
  },
  {
   "cell_type": "code",
   "execution_count": null,
   "id": "cbd04f68-0c40-4fb0-b43d-400b4762bbb4",
   "metadata": {},
   "outputs": [],
   "source": [
    "for x in range(5):\n",
    "    print(x)"
   ]
  },
  {
   "cell_type": "code",
   "execution_count": null,
   "id": "90c29c75-0c42-412f-8ccd-f0264b025138",
   "metadata": {},
   "outputs": [],
   "source": [
    "friends = ['Taylor', 'Alex', 'Pat', 'Eli']\n",
    "for friend in friends:\n",
    "    print(\"Hi \" + friend)"
   ]
  },
  {
   "cell_type": "code",
   "execution_count": null,
   "id": "20d0fb2d-26cb-4fc4-b934-1a3657f20248",
   "metadata": {},
   "outputs": [],
   "source": [
    "values = [ 23, 52, 59, 37, 48 ]\n",
    "sum = 0\n",
    "length = 0\n",
    "for value in values:\n",
    "    sum += value\n",
    "    length += 1\n",
    "\n",
    "print(\"Total sum: \" + str(sum) + \" - Average: \" + str(sum/length))"
   ]
  },
  {
   "cell_type": "code",
   "execution_count": null,
   "id": "a86ebfeb-8111-41b7-8899-747e98bcbd47",
   "metadata": {},
   "outputs": [],
   "source": [
    "product = 1\n",
    "for n in range(1,10):\n",
    "  product = product * n\n",
    "\n",
    "print(product)"
   ]
  },
  {
   "cell_type": "code",
   "execution_count": null,
   "id": "64ea10c1-f4e6-4cc3-8e9e-c081f6aa2e84",
   "metadata": {},
   "outputs": [],
   "source": [
    "def to_celsius(x):\n",
    "  return (x-32)*5/9\n",
    "\n",
    "for x in range(0,101,10):\n",
    "  print(x, to_celsius(x))"
   ]
  },
  {
   "cell_type": "code",
   "execution_count": null,
   "id": "645391a1-605e-4a73-9236-d93724f5ed13",
   "metadata": {},
   "outputs": [],
   "source": [
    "x = 1\n",
    "y = 10\n",
    "z = 5\n",
    "for n in range(x, y, z):\n",
    "    print(n)\n"
   ]
  },
  {
   "cell_type": "code",
   "execution_count": null,
   "id": "807a6a00-124f-46c1-ae1b-d125cba5bf14",
   "metadata": {},
   "outputs": [],
   "source": [
    "for n in range(1, 5, 6):  \n",
    "    print(n)"
   ]
  },
  {
   "cell_type": "code",
   "execution_count": null,
   "id": "ce92bbba-3a1e-465c-8e36-9b666f58dba5",
   "metadata": {},
   "outputs": [],
   "source": [
    "# This loop iterates on the value of the \"n\" variable in a range\n",
    "# of 0 to 10 (the value of the end-of-range index 11 is excluded).\n",
    "# The incremental value for the loop is 2. The print() function will \n",
    "# output the resulting value of \"n\" as the loop counts from 0 to 10 \n",
    "# (end-of-range index 11) in incremental steps of 2. This is one \n",
    "# method that can be used in Python to print a list of even numbers.\n",
    "\n",
    "\n",
    "for n in range(0,11,2):\n",
    "    print(n)\n",
    "\n",
    "\n",
    "# The loop should print 0, 2, 4, 6, 8, 10"
   ]
  },
  {
   "cell_type": "code",
   "execution_count": null,
   "id": "3485965e-a0e8-440e-a520-7d02d66ed05f",
   "metadata": {},
   "outputs": [],
   "source": [
    "# This loop iterates on the value of the \"number\" variable in a range\n",
    "# of 2 to 7+1 (the value of the end-of-range index 7 is excluded, so \n",
    "# +1 has been added to the parameter to include the numeric value 7 in \n",
    "# the range). The incremental value for the loop is the default of +1.\n",
    "# The print() function will output the resulting value of \"number\" \n",
    "# multiplied by 3.\n",
    "\n",
    "\n",
    "for number in range(2,7+1):\n",
    "    print(number*3)\n",
    "\n",
    "\n",
    "# The loop should print 6, 9, 12, 15, 18, 21"
   ]
  },
  {
   "cell_type": "code",
   "execution_count": null,
   "id": "02b2ff54-dc11-43b4-aa26-3a340af7629e",
   "metadata": {},
   "outputs": [],
   "source": [
    "# This loop iterates on the value of the \"x\" variable in a range\n",
    "# of 2 to -1 (the end-of-range index -2 is excluded). The third \n",
    "# parameter is also a negative number, making it a decremental value\n",
    "# of -1. The print() function will output the resulting value of\n",
    "# \"x\" as it starts at 2 and counts down to -1 (index -2).\n",
    "\n",
    "\n",
    "for x in range(2, -2, -1):\n",
    "    print(x)\n",
    "\n",
    "\n",
    "# The loop should print 2, 1, 0, -1"
   ]
  },
  {
   "cell_type": "code",
   "execution_count": 2,
   "id": "b0aa71f2-7bbf-428a-94fd-6f44c76807c0",
   "metadata": {},
   "outputs": [
    {
     "name": "stdout",
     "output_type": "stream",
     "text": [
      "[0|0] [0|1] [0|2] [0|3] [0|4] [0|5] [0|6] \n",
      "[1|1] [1|2] [1|3] [1|4] [1|5] [1|6] \n",
      "[2|2] [2|3] [2|4] [2|5] [2|6] \n",
      "[3|3] [3|4] [3|5] [3|6] \n",
      "[4|4] [4|5] [4|6] \n",
      "[5|5] [5|6] \n",
      "[6|6] \n"
     ]
    }
   ],
   "source": [
    "for left in range(7):\n",
    "  for right in range(left, 7):\n",
    "    print(\"[\" + str(left) + \"|\" + str(right) + \"]\", end=\" \")\n",
    "  print()"
   ]
  },
  {
   "cell_type": "code",
   "execution_count": 3,
   "id": "d424e9f0-263b-48af-b549-bb18520c5336",
   "metadata": {},
   "outputs": [
    {
     "name": "stdout",
     "output_type": "stream",
     "text": [
      "Dragons vs Wolves\n",
      "Dragons vs Pandas\n",
      "Dragons vs Unicorns\n",
      "Wolves vs Dragons\n",
      "Wolves vs Pandas\n",
      "Wolves vs Unicorns\n",
      "Pandas vs Dragons\n",
      "Pandas vs Wolves\n",
      "Pandas vs Unicorns\n",
      "Unicorns vs Dragons\n",
      "Unicorns vs Wolves\n",
      "Unicorns vs Pandas\n"
     ]
    }
   ],
   "source": [
    "teams = [ 'Dragons', 'Wolves', 'Pandas', 'Unicorns']\n",
    "for home_team in teams:\n",
    "  for away_team in teams:\n",
    "    if home_team != away_team:\n",
    "      print(home_team + \" vs \" + away_team)"
   ]
  },
  {
   "cell_type": "code",
   "execution_count": null,
   "id": "26e82ab7-c91e-4be3-8d0e-1623c3452ed4",
   "metadata": {},
   "outputs": [],
   "source": [
    "for element in long_list:\n",
    "  do_something(element)\n",
    "\n",
    "for element1 in long_list:\n",
    "  for element2 in long_list:\n",
    "    do_something(element1, element2)"
   ]
  },
  {
   "cell_type": "code",
   "execution_count": 4,
   "id": "94907c41-bc3e-40b5-8a20-8115b416a6dc",
   "metadata": {},
   "outputs": [
    {
     "name": "stdout",
     "output_type": "stream",
     "text": [
      "The next character is:  H\n",
      "The next character is:  e\n",
      "The next character is:  l\n",
      "The next character is:  l\n",
      "The next character is:  o\n"
     ]
    }
   ],
   "source": [
    "greeting = \"Hello\"\n",
    "for c in greeting:\n",
    "    print(\"The next character is: \", c)"
   ]
  },
  {
   "cell_type": "code",
   "execution_count": 5,
   "id": "668138fd-bee4-4ef5-bca3-ef5476e832f5",
   "metadata": {},
   "outputs": [
    {
     "name": "stdout",
     "output_type": "stream",
     "text": [
      "The next value is: 0\n",
      "The next value is: 1\n",
      "The next value is: 2\n"
     ]
    }
   ],
   "source": [
    "for i in range(0, 3):\n",
    "    print(\"The next value is:\", i)"
   ]
  },
  {
   "cell_type": "code",
   "execution_count": 6,
   "id": "1c70cf6a-7703-4c4f-a4f7-e3275eacf528",
   "metadata": {},
   "outputs": [
    {
     "name": "stdout",
     "output_type": "stream",
     "text": [
      "H\n",
      "e\n",
      "l\n",
      "l\n",
      "o\n"
     ]
    }
   ],
   "source": [
    "greeting = 'Hello'\n",
    "for char in greeting:\n",
    "\tprint(char)"
   ]
  },
  {
   "cell_type": "code",
   "execution_count": 7,
   "id": "68b94877-06f2-4642-9198-de02ca20ef0a",
   "metadata": {},
   "outputs": [
    {
     "name": "stdout",
     "output_type": "stream",
     "text": [
      "0\n",
      "1\n",
      "2\n",
      "3\n",
      "4\n"
     ]
    }
   ],
   "source": [
    "for i in range(len(greeting)):\n",
    "\tprint(i)"
   ]
  },
  {
   "cell_type": "code",
   "execution_count": 8,
   "id": "c6731b0a-8860-4686-a68a-1c34979f5260",
   "metadata": {},
   "outputs": [
    {
     "name": "stdout",
     "output_type": "stream",
     "text": [
      "H\n",
      "e\n",
      "l\n",
      "l\n",
      "o\n"
     ]
    }
   ],
   "source": [
    "greeting = 'Hello'\n",
    "index = 0\n",
    "while index < len(greeting):\n",
    "\tprint(greeting[index])\n",
    "\tindex += 1"
   ]
  },
  {
   "cell_type": "code",
   "execution_count": 10,
   "id": "091f5b44-c6c3-47eb-8098-9524ede45628",
   "metadata": {},
   "outputs": [
    {
     "name": "stdout",
     "output_type": "stream",
     "text": [
      "H\n",
      "e\n",
      "l\n",
      "l\n",
      "o\n"
     ]
    }
   ],
   "source": [
    "greeting = 'Hello'\n",
    "index = 0\n",
    "while index < len(greeting):\n",
    "    print(greeting[index:index+1])\n",
    "    index += 1"
   ]
  },
  {
   "cell_type": "code",
   "execution_count": 11,
   "id": "a3d91cab-758f-4140-924e-6d9359f48ded",
   "metadata": {},
   "outputs": [
    {
     "name": "stdout",
     "output_type": "stream",
     "text": [
      "[1, 4, 9, 16, 25]\n"
     ]
    }
   ],
   "source": [
    "numbers = [1, 2, 3, 4, 5]\n",
    "squared_numbers = [x ** 2 for x in numbers]\n",
    "print(squared_numbers)"
   ]
  },
  {
   "cell_type": "code",
   "execution_count": 12,
   "id": "dfd91547-7877-43a1-ab6b-47ecb47cb2bd",
   "metadata": {},
   "outputs": [
    {
     "data": {
      "text/plain": [
       "1"
      ]
     },
     "execution_count": 12,
     "metadata": {},
     "output_type": "execute_result"
    }
   ],
   "source": [
    "def square(x):\n",
    "    return x*x\n",
    "numbers=[1, 2, 3, 4, 5]\n",
    "sqrs_of_numbers=map(square, numbers)\n",
    "next(sqrs_of_numbers)"
   ]
  },
  {
   "cell_type": "code",
   "execution_count": 13,
   "id": "eb740335-f964-4f2f-96f1-bd8a58386da9",
   "metadata": {},
   "outputs": [
    {
     "data": {
      "text/plain": [
       "4"
      ]
     },
     "execution_count": 13,
     "metadata": {},
     "output_type": "execute_result"
    }
   ],
   "source": [
    "next(sqrs_of_numbers)"
   ]
  },
  {
   "cell_type": "code",
   "execution_count": 14,
   "id": "c08ea84d-6b32-446c-a2d4-6ab76d0430d8",
   "metadata": {},
   "outputs": [
    {
     "data": {
      "text/plain": [
       "9"
      ]
     },
     "execution_count": 14,
     "metadata": {},
     "output_type": "execute_result"
    }
   ],
   "source": [
    "next(sqrs_of_numbers)"
   ]
  },
  {
   "cell_type": "code",
   "execution_count": 15,
   "id": "fbac8295-b1d7-476b-9128-3b09b0048128",
   "metadata": {},
   "outputs": [
    {
     "data": {
      "text/plain": [
       "16"
      ]
     },
     "execution_count": 15,
     "metadata": {},
     "output_type": "execute_result"
    }
   ],
   "source": [
    "next(sqrs_of_numbers)"
   ]
  },
  {
   "cell_type": "code",
   "execution_count": 16,
   "id": "2b1a8e3f-6af1-4a36-a592-f6b19d720849",
   "metadata": {},
   "outputs": [
    {
     "data": {
      "text/plain": [
       "25"
      ]
     },
     "execution_count": 16,
     "metadata": {},
     "output_type": "execute_result"
    }
   ],
   "source": [
    "next(sqrs_of_numbers)"
   ]
  },
  {
   "cell_type": "code",
   "execution_count": 17,
   "id": "db25f51c-ae82-416e-97be-36fe0d19732b",
   "metadata": {},
   "outputs": [
    {
     "data": {
      "text/plain": [
       "1"
      ]
     },
     "execution_count": 17,
     "metadata": {},
     "output_type": "execute_result"
    }
   ],
   "source": [
    "sqrs_of_numbers = map(lambda x: x*x, [1, 2, 3, 4]) \n",
    "next(sqrs_of_numbers)"
   ]
  },
  {
   "cell_type": "code",
   "execution_count": 18,
   "id": "0d962f7d-099a-4644-a39e-d5bfbcb5793f",
   "metadata": {},
   "outputs": [
    {
     "data": {
      "text/plain": [
       "4"
      ]
     },
     "execution_count": 18,
     "metadata": {},
     "output_type": "execute_result"
    }
   ],
   "source": [
    "next(sqrs_of_numbers)"
   ]
  },
  {
   "cell_type": "code",
   "execution_count": 19,
   "id": "cc1bd970-e136-4401-aa9b-9808b1fda23c",
   "metadata": {},
   "outputs": [
    {
     "data": {
      "text/plain": [
       "9"
      ]
     },
     "execution_count": 19,
     "metadata": {},
     "output_type": "execute_result"
    }
   ],
   "source": [
    "next(sqrs_of_numbers)"
   ]
  },
  {
   "cell_type": "code",
   "execution_count": 20,
   "id": "21443d57-d23f-41eb-8c47-acc79b31d74e",
   "metadata": {},
   "outputs": [
    {
     "data": {
      "text/plain": [
       "16"
      ]
     },
     "execution_count": 20,
     "metadata": {},
     "output_type": "execute_result"
    }
   ],
   "source": [
    "next(sqrs_of_numbers)"
   ]
  },
  {
   "cell_type": "code",
   "execution_count": 21,
   "id": "172c81fd-99f8-4091-b58a-363a6339e180",
   "metadata": {},
   "outputs": [
    {
     "data": {
      "text/plain": [
       "[10, 400, 27000, 2560000, 312500000]"
      ]
     },
     "execution_count": 21,
     "metadata": {},
     "output_type": "execute_result"
    }
   ],
   "source": [
    "bases=[10, 20, 30, 40, 50]\n",
    "index=[1, 2, 3, 4, 5]\n",
    "powers=list(map(pow, bases, index))\n",
    "powers "
   ]
  },
  {
   "cell_type": "code",
   "execution_count": 22,
   "id": "959dfa00-f8be-4d89-982f-be3b55c46916",
   "metadata": {},
   "outputs": [
    {
     "name": "stdout",
     "output_type": "stream",
     "text": [
      "1 7\n",
      "2 8\n",
      "3 3\n",
      "4 2\n"
     ]
    }
   ],
   "source": [
    "x = [1,2,3,4]\n",
    "y = [7,8,3,2]\n",
    "z = ['a','b','c','d']\n",
    "for a,b in zip(x,y):\n",
    "    print(a,b)"
   ]
  },
  {
   "cell_type": "code",
   "execution_count": 23,
   "id": "51821aea-01bf-4a5a-a52a-c5e1daa878b1",
   "metadata": {},
   "outputs": [
    {
     "name": "stdout",
     "output_type": "stream",
     "text": [
      "1 7 a\n",
      "2 8 b\n",
      "3 3 c\n",
      "4 2 d\n"
     ]
    }
   ],
   "source": [
    "for a,b,c in zip(x,y,z):\n",
    "    print(a,b,c)"
   ]
  },
  {
   "cell_type": "code",
   "execution_count": 24,
   "id": "1bb59fad-fca0-42bb-a9f7-fbfda4f42a9b",
   "metadata": {},
   "outputs": [
    {
     "name": "stdout",
     "output_type": "stream",
     "text": [
      "<zip object at 0x000001F1957E1340>\n"
     ]
    }
   ],
   "source": [
    "print(zip(x,y,z))"
   ]
  },
  {
   "cell_type": "code",
   "execution_count": 25,
   "id": "0b6f921c-0468-48bb-beb9-e634a83ac095",
   "metadata": {},
   "outputs": [
    {
     "name": "stdout",
     "output_type": "stream",
     "text": [
      "[(1, 7, 'a'), (2, 8, 'b'), (3, 3, 'c'), (4, 2, 'd')]\n"
     ]
    }
   ],
   "source": [
    "print(list(zip(x,y,z)))"
   ]
  },
  {
   "cell_type": "code",
   "execution_count": 26,
   "id": "02556724-3eda-4ce7-9b19-712beb5a24cc",
   "metadata": {},
   "outputs": [
    {
     "name": "stdout",
     "output_type": "stream",
     "text": [
      "{'Jill': 99, 'Jack': 56, 'Jeb': 24, 'Jessica': 87}\n"
     ]
    }
   ],
   "source": [
    "names = ['Jill','Jack','Jeb','Jessica']\n",
    "grades = [99,56,24,87]\n",
    "\n",
    "d = dict(zip(names,grades))\n",
    "print(d)"
   ]
  },
  {
   "cell_type": "code",
   "execution_count": 27,
   "id": "a9cb2ca0-39b4-424d-920f-2e6dc6c8df52",
   "metadata": {},
   "outputs": [
    {
     "name": "stdout",
     "output_type": "stream",
     "text": [
      "1 7 a\n",
      "2 8 b\n",
      "3 3 c\n",
      "4 2 d\n"
     ]
    },
    {
     "data": {
      "text/plain": [
       "[None, None, None, None]"
      ]
     },
     "execution_count": 27,
     "metadata": {},
     "output_type": "execute_result"
    }
   ],
   "source": [
    "[print(a,b,c) for a,b,c in zip(x,y,z)]\n"
   ]
  },
  {
   "cell_type": "code",
   "execution_count": 28,
   "id": "e06c35d5-6e2c-4e1f-a57c-fdf5c5c7bee1",
   "metadata": {},
   "outputs": [
    {
     "name": "stdout",
     "output_type": "stream",
     "text": [
      "1 7 a\n",
      "2 8 b\n",
      "3 3 c\n",
      "4 2 d\n",
      "[1, 2, 3, 4]\n"
     ]
    }
   ],
   "source": [
    "x = [1,2,3,4]\n",
    "y = [7,8,3,2]\n",
    "z = ['a','b','c','d']\n",
    "\n",
    "[print(x,y,z) for x,y,z in zip(x,y,z)]\n",
    "\n",
    "print(x)"
   ]
  },
  {
   "cell_type": "code",
   "execution_count": 29,
   "id": "5adacc1e-5b75-41b0-acd5-4c43411914a9",
   "metadata": {},
   "outputs": [
    {
     "name": "stdout",
     "output_type": "stream",
     "text": [
      "1 7 a\n",
      "2 8 b\n",
      "3 3 c\n",
      "4 2 d\n",
      "4\n"
     ]
    }
   ],
   "source": [
    "x = [1,2,3,4]\n",
    "y = [7,8,3,2]\n",
    "z = ['a','b','c','d']\n",
    "\n",
    "#[print(x,y,z) for x,y,z in zip(x,y,z)]\n",
    "\n",
    "for x,y,z in zip(x,y,z):\n",
    "    print(x,y,z)\n",
    "\n",
    "print(x)"
   ]
  },
  {
   "cell_type": "code",
   "execution_count": 30,
   "id": "fb94e693-c309-432a-be6d-fe5db4653deb",
   "metadata": {},
   "outputs": [
    {
     "name": "stdout",
     "output_type": "stream",
     "text": [
      "G\n",
      "ting\n",
      "Earthlings\n",
      "Greet\n"
     ]
    }
   ],
   "source": [
    "string1 = \"Greetings, Earthlings\"\n",
    "print(string1[0])   # Prints “G”\n",
    "print(string1[4:8]) # Prints “ting”\n",
    "print(string1[11:]) # Prints “Earthlings”\n",
    "print(string1[:5])  # Prints “Greet”"
   ]
  },
  {
   "cell_type": "code",
   "execution_count": 31,
   "id": "23d4a507-ff8e-49b7-9bb7-6c6476c9a761",
   "metadata": {},
   "outputs": [
    {
     "name": "stdout",
     "output_type": "stream",
     "text": [
      "Earthlings\n"
     ]
    }
   ],
   "source": [
    "# Prints “Earthlings” again\n",
    "print(string1[-10:])"
   ]
  },
  {
   "cell_type": "code",
   "execution_count": 32,
   "id": "9d85ea8f-e9b5-4932-8676-206d68e9aa3b",
   "metadata": {},
   "outputs": [
    {
     "name": "stdout",
     "output_type": "stream",
     "text": [
      "\n"
     ]
    }
   ],
   "source": [
    "# Prints “” \n",
    "print(string1[55:])"
   ]
  },
  {
   "cell_type": "code",
   "execution_count": 33,
   "id": "a7b98b4c-4265-44a0-83c6-b9f154056518",
   "metadata": {},
   "outputs": [
    {
     "name": "stdout",
     "output_type": "stream",
     "text": [
      "Getns atlns\n",
      "sgnilhtraE ,sgniteerG\n"
     ]
    }
   ],
   "source": [
    "# Prints “Getns atlns”\n",
    "print(string1[0::2])\n",
    "\n",
    "# Prints “sgnilhtraE ,sgniteerG”\n",
    "print(string1[::-1])"
   ]
  },
  {
   "cell_type": "code",
   "execution_count": 34,
   "id": "f92c7d2e-9347-4b51-bba9-e58ec2232f88",
   "metadata": {},
   "outputs": [
    {
     "name": "stdout",
     "output_type": "stream",
     "text": [
      "Hello world\n"
     ]
    }
   ],
   "source": [
    "# Prints “Hello world”\n",
    "print(\"Hello\" + \" \" + \"world\")"
   ]
  },
  {
   "cell_type": "code",
   "execution_count": 35,
   "id": "ccc0443f-14d9-4633-abc9-d068b704a0d0",
   "metadata": {},
   "outputs": [
    {
     "name": "stdout",
     "output_type": "stream",
     "text": [
      "Hello world\n",
      "Hello, Alice!\n"
     ]
    }
   ],
   "source": [
    "greetings = [\"Hello\", \"world\"]\n",
    "print(\" \".join(greetings))  # Prints \"Hello world\"\n",
    "\n",
    "# You can also concatenate a combination of strings and variables like in the following example.\n",
    "name = \"Alice\"\n",
    "print(\"Hello, \" + name + \"!\")  # Prints \"Hello, Alice!\""
   ]
  },
  {
   "cell_type": "code",
   "execution_count": 36,
   "id": "138ccab3-e2e8-4298-8c73-ead797c66520",
   "metadata": {},
   "outputs": [],
   "source": [
    "phonenum = '2025551212'\n",
    "\n",
    "# The first 3 digits are the area code:\n",
    "area_code = \"(\" + phonenum[:3] + \")\""
   ]
  },
  {
   "cell_type": "code",
   "execution_count": 37,
   "id": "7677ab9f-cfd7-45c1-8f61-267ec38a1af0",
   "metadata": {},
   "outputs": [],
   "source": [
    "# The next 3 digits are called the “exchange”:\n",
    "exchange = phonenum[3:6]"
   ]
  },
  {
   "cell_type": "code",
   "execution_count": 38,
   "id": "e7316ebb-0404-448d-aeff-c4b49a4d00a9",
   "metadata": {},
   "outputs": [],
   "source": [
    "# The last 4 digits are the line number:\n",
    "line = phonenum[-4:]"
   ]
  },
  {
   "cell_type": "code",
   "execution_count": 39,
   "id": "4c4c751e-16e8-42b9-b77e-efb13188c933",
   "metadata": {},
   "outputs": [
    {
     "data": {
      "text/plain": [
       "'(202) 555-1212'"
      ]
     },
     "execution_count": 39,
     "metadata": {},
     "output_type": "execute_result"
    }
   ],
   "source": [
    "# Put the pieces back together into a nicely formatted string:\n",
    "area_code + \" \" + exchange + \"-\" + line"
   ]
  },
  {
   "cell_type": "code",
   "execution_count": 40,
   "id": "6286183c-acbc-4b85-ac5b-8ba0ebb8fc40",
   "metadata": {},
   "outputs": [
    {
     "data": {
      "text/plain": [
       "'(202) 555-1212'"
      ]
     },
     "execution_count": 40,
     "metadata": {},
     "output_type": "execute_result"
    }
   ],
   "source": [
    "def format_phone(phonenum):\n",
    "    area_code = \"(\" + phonenum[:3] + \")\"\n",
    "    exchange = phonenum[3:6]\n",
    "    line = phonenum[-4:]\n",
    "    return area_code + \" \" + exchange + \"-\" + line\n",
    "\n",
    "format_phone('2025551212')"
   ]
  },
  {
   "cell_type": "code",
   "execution_count": 41,
   "id": "3ea52f09-8d6f-4b79-ad60-c909e30953e8",
   "metadata": {},
   "outputs": [
    {
     "ename": "TypeError",
     "evalue": "'int' object is not iterable",
     "output_type": "error",
     "traceback": [
      "\u001b[1;31m---------------------------------------------------------------------------\u001b[0m",
      "\u001b[1;31mTypeError\u001b[0m                                 Traceback (most recent call last)",
      "Cell \u001b[1;32mIn[41], line 1\u001b[0m\n\u001b[1;32m----> 1\u001b[0m \u001b[38;5;28;01mfor\u001b[39;00m x \u001b[38;5;129;01min\u001b[39;00m \u001b[38;5;241m25\u001b[39m:\n\u001b[0;32m      2\u001b[0m     \u001b[38;5;28mprint\u001b[39m(x)\n",
      "\u001b[1;31mTypeError\u001b[0m: 'int' object is not iterable"
     ]
    }
   ],
   "source": [
    "for x in 25:\n",
    "    print(x)\n",
    "\n",
    "#this will produce an error"
   ]
  },
  {
   "cell_type": "code",
   "execution_count": 42,
   "id": "b54cc347-be39-4e92-b290-41ce53b4d1da",
   "metadata": {},
   "outputs": [
    {
     "name": "stdout",
     "output_type": "stream",
     "text": [
      "0\n",
      "1\n",
      "2\n",
      "3\n",
      "4\n",
      "5\n",
      "6\n",
      "7\n",
      "8\n",
      "9\n",
      "10\n",
      "11\n",
      "12\n",
      "13\n",
      "14\n",
      "15\n",
      "16\n",
      "17\n",
      "18\n",
      "19\n",
      "20\n",
      "21\n",
      "22\n",
      "23\n",
      "24\n"
     ]
    }
   ],
   "source": [
    "for x in range(25):\n",
    "    print(x)\n",
    "\n",
    "#this will make the error go away"
   ]
  },
  {
   "cell_type": "code",
   "execution_count": 43,
   "id": "54f65a29-c910-4b4e-87df-853dfe945f4e",
   "metadata": {},
   "outputs": [
    {
     "name": "stdout",
     "output_type": "stream",
     "text": [
      "Hi Taylor\n",
      "Hi Luisa\n",
      "Hi Jamaal\n",
      "Hi Eli\n"
     ]
    }
   ],
   "source": [
    "def greet_friends(friends):\n",
    "    for friend in friends:\n",
    "        print(\"Hi \" + friend)\n",
    "\n",
    "greet_friends(['Taylor', 'Luisa', 'Jamaal', 'Eli'])"
   ]
  },
  {
   "cell_type": "code",
   "execution_count": 44,
   "id": "53645055-55f2-4a4e-ab50-bf6d11dc929d",
   "metadata": {},
   "outputs": [
    {
     "name": "stdout",
     "output_type": "stream",
     "text": [
      "Hi B\n",
      "Hi a\n",
      "Hi r\n",
      "Hi r\n",
      "Hi y\n"
     ]
    }
   ],
   "source": [
    "def greet_friends(friends):\n",
    "    for friend in friends:\n",
    "        print(\"Hi \" + friend)\n",
    "\n",
    "greet_friends(\"Barry\")"
   ]
  },
  {
   "cell_type": "code",
   "execution_count": 45,
   "id": "2f0fa96c-2533-4e47-b08a-151fadee041c",
   "metadata": {},
   "outputs": [
    {
     "name": "stdout",
     "output_type": "stream",
     "text": [
      "3\n",
      "9\n",
      "15\n"
     ]
    }
   ],
   "source": [
    "# This loop iterates on the value of the \"number\" variable in a range\n",
    "# of 1 to 6+1 (the upper range limit of 6 is excluded, so +1 has\n",
    "# been added to it to include 6 in the range). The incremental value\n",
    "# for the loop is 2 (number+2). The print() function will output the\n",
    "# resulting value of \"number\" multiplied by 3.\n",
    "\n",
    "for number in range(1, 6+1, 2):\n",
    "    print(number * 3)\n",
    "\n",
    "# The loop should print 3, 9, 15"
   ]
  },
  {
   "cell_type": "code",
   "execution_count": 46,
   "id": "ecea8dd3-b44c-4cb5-aac2-c1022a4a9d33",
   "metadata": {},
   "outputs": [
    {
     "name": "stdout",
     "output_type": "stream",
     "text": [
      "4\n",
      "9\n",
      "16\n",
      "25\n",
      "36\n",
      "49\n"
     ]
    }
   ],
   "source": [
    "# This loop iterates on the value of the \"number\" variable in a range\n",
    "# of 2 to 7 (the upper range limit of 8 is excluded). The print() \n",
    "# function will output the resulting value of \"number\" squared.\n",
    "\n",
    "for number in range(2,8):\n",
    "    print(number**2)\n",
    "\n",
    "# The loop should print 4, 9, 16, 25, 36, 49"
   ]
  },
  {
   "cell_type": "code",
   "execution_count": 47,
   "id": "ba08dace-a9f9-4f73-8a0e-7983b6a6fe19",
   "metadata": {},
   "outputs": [
    {
     "name": "stdout",
     "output_type": "stream",
     "text": [
      "This is the outer loop iteration number 0\n",
      "Inner loop iteration number 0\n",
      "Inner loop iteration number 1\n",
      "Inner loop iteration number 2\n",
      "Inner loop iteration number 3\n",
      "Exit inner loop\n",
      "This is the outer loop iteration number 1\n",
      "Inner loop iteration number 0\n",
      "Inner loop iteration number 1\n",
      "Inner loop iteration number 2\n",
      "Inner loop iteration number 3\n",
      "Exit inner loop\n"
     ]
    }
   ],
   "source": [
    "# This code demonstrates the outer and inner loop iterations of a pair \n",
    "# of nested for loops. Click \"Run\" to see the results. The outer loop\n",
    "# will run twice for the range pointer positions [0, 1] in range(2).\n",
    "# The inner loop will run 4 times for the range pointer positions \n",
    "# [0, 1, 2, 3] in range(3+1) or range(4) each time the outer loop runs.\n",
    "# So, the inner loop will execute 8 times in total.\n",
    "\n",
    "for x in range(2):\n",
    "    print(\"This is the outer loop iteration number \" + str(x))\n",
    "    for y in range(3+1):\n",
    "        print(\"Inner loop iteration number \" + str(y))\n",
    "    print(\"Exit inner loop\")"
   ]
  },
  {
   "cell_type": "code",
   "execution_count": 48,
   "id": "1dc3baa1-f73f-447f-83c3-837cddf78201",
   "metadata": {},
   "outputs": [
    {
     "name": "stdout",
     "output_type": "stream",
     "text": [
      "0\n",
      "2\n",
      "4\n",
      "6\n",
      "[0, 2, 4, 6]\n"
     ]
    }
   ],
   "source": [
    "# This for loop iterates through the numbers 0 to 6. The if statement\n",
    "# uses the modulo operator to test if the \"x\" variable is divisible by\n",
    "# 2. If True, the if statement will print the value of \"x\" and exit\n",
    "# back into the for loop for the next iteration of \"x\". Since no \n",
    "# incremental value is specified in the range() parameters, the default\n",
    "# increment is +1. \n",
    "\n",
    "for x in range(7):\n",
    "    if x % 2 == 0:\n",
    "        print(x)\n",
    "\n",
    "# The loop should print 0, 2, 4, 6\n",
    "\n",
    "# As a list comprehension:\n",
    "even_numbers = [x for x in range(7) if x % 2 == 0]\n",
    "print(even_numbers)"
   ]
  },
  {
   "cell_type": "code",
   "execution_count": 49,
   "id": "be70654b-858b-4d0b-a6f6-74a49bc5b47f",
   "metadata": {},
   "outputs": [],
   "source": [
    "sequence = range(10)\n",
    "new_list = []\n",
    "for x in sequence:\n",
    "    if x % 2 == 0:\n",
    "        new_list.append(x)"
   ]
  },
  {
   "cell_type": "code",
   "execution_count": 50,
   "id": "6808c90a-0bce-4ddf-8f2d-b70afc578989",
   "metadata": {},
   "outputs": [],
   "source": [
    "sequence = range(10)\n",
    "new_list = [x for x in sequence if x % 2 == 0]"
   ]
  },
  {
   "cell_type": "code",
   "execution_count": 51,
   "id": "688c30b1-a864-49a3-aaf3-337c9abcc6fa",
   "metadata": {},
   "outputs": [
    {
     "name": "stdout",
     "output_type": "stream",
     "text": [
      "********\n"
     ]
    }
   ],
   "source": [
    "print(\"*\" * 8)"
   ]
  },
  {
   "cell_type": "code",
   "execution_count": 52,
   "id": "17389bc0-2e2b-4ec7-b237-bc208941b3d4",
   "metadata": {},
   "outputs": [
    {
     "name": "stdout",
     "output_type": "stream",
     "text": [
      "12\n",
      "18\n",
      "24\n",
      "30\n"
     ]
    }
   ],
   "source": [
    "for n in range(6,18,3):\n",
    "  print(n*2)"
   ]
  },
  {
   "cell_type": "code",
   "execution_count": 53,
   "id": "3f31b3b8-856a-4b9b-be71-296d1eaf8e02",
   "metadata": {},
   "outputs": [
    {
     "name": "stdout",
     "output_type": "stream",
     "text": [
      "12\n",
      "18\n",
      "24\n",
      "30\n",
      "36\n"
     ]
    }
   ],
   "source": [
    "for n in range(6,18+1,3):\n",
    "  print(n*2)"
   ]
  },
  {
   "cell_type": "code",
   "execution_count": 54,
   "id": "30a5c166-1662-4df0-8dd4-7a61a0e3c2c0",
   "metadata": {},
   "outputs": [
    {
     "name": "stdout",
     "output_type": "stream",
     "text": [
      "1\n",
      "8\n",
      "27\n",
      "64\n",
      "125\n",
      "216\n",
      "343\n",
      "512\n",
      "729\n",
      "1000\n"
     ]
    }
   ],
   "source": [
    "for ele in range(1,11):\n",
    "  print(ele**3)"
   ]
  },
  {
   "cell_type": "code",
   "execution_count": 55,
   "id": "3ead7718-b8fe-49f0-aeb9-d5327814afc1",
   "metadata": {},
   "outputs": [
    {
     "name": "stdout",
     "output_type": "stream",
     "text": [
      "0\n",
      "7\n",
      "14\n",
      "21\n",
      "28\n",
      "35\n",
      "42\n",
      "49\n",
      "56\n",
      "63\n",
      "70\n",
      "77\n",
      "84\n",
      "91\n",
      "98\n"
     ]
    }
   ],
   "source": [
    "for ele in range(0,101): \n",
    "    if(ele % 7 == 0):\n",
    "        print(ele)"
   ]
  },
  {
   "cell_type": "code",
   "execution_count": 56,
   "id": "9bdedebf-1808-4d2e-8f1e-5ca18fd6ff9a",
   "metadata": {},
   "outputs": [],
   "source": [
    "def factorial(n):\n",
    "  if n < 2:\n",
    "    return 1\n",
    "  return n * factorial(n-1)"
   ]
  },
  {
   "cell_type": "code",
   "execution_count": 57,
   "id": "5e1890c0-1284-4688-85e4-6fd09ac30265",
   "metadata": {},
   "outputs": [
    {
     "name": "stdout",
     "output_type": "stream",
     "text": [
      "Factorial called with 4\n",
      "Factorial called with 3\n",
      "Factorial called with 2\n",
      "Factorial called with 1\n",
      "Returning 1\n",
      "Returning 2 for factorial of 2\n",
      "Returning 6 for factorial of 3\n",
      "Returning 24 for factorial of 4\n"
     ]
    },
    {
     "data": {
      "text/plain": [
       "24"
      ]
     },
     "execution_count": 57,
     "metadata": {},
     "output_type": "execute_result"
    }
   ],
   "source": [
    "def factorial(n):\n",
    "  print(\"Factorial called with \" + str(n))\n",
    "  if n < 2:\n",
    "    print(\"Returning 1\")\n",
    "    return 1\n",
    "  result = n * factorial(n-1)\n",
    "  print(\"Returning \" + str(result) + \" for factorial of \" + str(n))\n",
    "  return result\n",
    "\n",
    "factorial(4)"
   ]
  },
  {
   "cell_type": "code",
   "execution_count": 59,
   "id": "fe93c16a-f13d-4228-9a00-f6e8eb93ec78",
   "metadata": {},
   "outputs": [
    {
     "name": "stdout",
     "output_type": "stream",
     "text": [
      "6\n"
     ]
    }
   ],
   "source": [
    "def sum_positive_numbers(n):\n",
    "    # The base case is n being smaller than 1\n",
    "    if n < 1:\n",
    "        return 0\n",
    "\n",
    "    # The recursive case is adding this number to \n",
    "    # the sum of the numbers smaller than this one.\n",
    "    return n + sum_positive_numbers(n-1)\n",
    "\n",
    "print(sum_positive_numbers(3)) # Should be 6"
   ]
  },
  {
   "cell_type": "code",
   "execution_count": 60,
   "id": "65f8a2b4-4992-4b18-8380-11427720975e",
   "metadata": {},
   "outputs": [
    {
     "data": {
      "text/plain": [
       "402387260077093773543702433923003985719374864210714632543799910429938512398629020592044208486969404800479988610197196058631666872994808558901323829669944590997424504087073759918823627727188732519779505950995276120874975462497043601418278094646496291056393887437886487337119181045825783647849977012476632889835955735432513185323958463075557409114262417474349347553428646576611667797396668820291207379143853719588249808126867838374559731746136085379534524221586593201928090878297308431392844403281231558611036976801357304216168747609675871348312025478589320767169132448426236131412508780208000261683151027341827977704784635868170164365024153691398281264810213092761244896359928705114964975419909342221566832572080821333186116811553615836546984046708975602900950537616475847728421889679646244945160765353408198901385442487984959953319101723355556602139450399736280750137837615307127761926849034352625200015888535147331611702103968175921510907788019393178114194545257223865541461062892187960223838971476088506276862967146674697562911234082439208160153780889893964518263243671616762179168909779911903754031274622289988005195444414282012187361745992642956581746628302955570299024324153181617210465832036786906117260158783520751516284225540265170483304226143974286933061690897968482590125458327168226458066526769958652682272807075781391858178889652208164348344825993266043367660176999612831860788386150279465955131156552036093988180612138558600301435694527224206344631797460594682573103790084024432438465657245014402821885252470935190620929023136493273497565513958720559654228749774011413346962715422845862377387538230483865688976461927383814900140767310446640259899490222221765904339901886018566526485061799702356193897017860040811889729918311021171229845901641921068884387121855646124960798722908519296819372388642614839657382291123125024186649353143970137428531926649875337218940694281434118520158014123344828015051399694290153483077644569099073152433278288269864602789864321139083506217095002597389863554277196742822248757586765752344220207573630569498825087968928162753848863396909959826280956121450994871701244516461260379029309120889086942028510640182154399457156805941872748998094254742173582401063677404595741785160829230135358081840096996372524230560855903700624271243416909004153690105933983835777939410970027753472000000000000000000000000000000000000000000000000000000000000000000000000000000000000000000000000000000000000000000000000000000000000000000000000000000000000000000000000000000000000000000000000000000000000000000000000000000000000000000000000000000000"
      ]
     },
     "execution_count": 60,
     "metadata": {},
     "output_type": "execute_result"
    }
   ],
   "source": [
    "\n",
    "def factorial(n):\n",
    "  if n < 2:\n",
    "    return 1\n",
    "  return n * factorial(n-1)\n",
    "\n",
    "factorial(1000)\n",
    "\n",
    "#this will produce an error"
   ]
  },
  {
   "cell_type": "code",
   "execution_count": 61,
   "id": "ee887c28-adc0-4fc1-96bf-75920483a1ee",
   "metadata": {},
   "outputs": [
    {
     "name": "stdout",
     "output_type": "stream",
     "text": [
      "True\n",
      "True\n",
      "False\n"
     ]
    }
   ],
   "source": [
    "def is_power_of(number, base):\n",
    "    # Base case: when number is smaller than base\n",
    "    if number < base:\n",
    "        # If number is equal to 1, it's a power (base**0 = 1)\n",
    "        return number == 1\n",
    "    \n",
    "    # Check if number is divisible by base\n",
    "    if number % base != 0:\n",
    "        return False\n",
    "    \n",
    "    # Recursive case: keep dividing number by base\n",
    "    return is_power_of(number // base, base)\n",
    "\n",
    "\n",
    "# Test cases\n",
    "print(is_power_of(8, 2))     # Should be True (2^3 = 8)\n",
    "print(is_power_of(64, 4))    # Should be True (4^3 = 64)\n",
    "print(is_power_of(70, 10))   # Should be False"
   ]
  },
  {
   "cell_type": "code",
   "execution_count": 62,
   "id": "6fc0e8a7-de63-4f4a-855f-cbed20ef27fe",
   "metadata": {},
   "outputs": [
    {
     "ename": "NameError",
     "evalue": "name 'get_members' is not defined",
     "output_type": "error",
     "traceback": [
      "\u001b[1;31m---------------------------------------------------------------------------\u001b[0m",
      "\u001b[1;31mNameError\u001b[0m                                 Traceback (most recent call last)",
      "Cell \u001b[1;32mIn[62], line 14\u001b[0m\n\u001b[0;32m     10\u001b[0m     \u001b[38;5;28;01mreturn\u001b[39;00m count\n\u001b[0;32m     13\u001b[0m \u001b[38;5;66;03m# Test cases\u001b[39;00m\n\u001b[1;32m---> 14\u001b[0m \u001b[38;5;28mprint\u001b[39m(count_users(\u001b[38;5;124m\"\u001b[39m\u001b[38;5;124msales\u001b[39m\u001b[38;5;124m\"\u001b[39m))       \u001b[38;5;66;03m# Should be 3\u001b[39;00m\n\u001b[0;32m     15\u001b[0m \u001b[38;5;28mprint\u001b[39m(count_users(\u001b[38;5;124m\"\u001b[39m\u001b[38;5;124mengineering\u001b[39m\u001b[38;5;124m\"\u001b[39m)) \u001b[38;5;66;03m# Should be 8\u001b[39;00m\n\u001b[0;32m     16\u001b[0m \u001b[38;5;28mprint\u001b[39m(count_users(\u001b[38;5;124m\"\u001b[39m\u001b[38;5;124meveryone\u001b[39m\u001b[38;5;124m\"\u001b[39m))\n",
      "Cell \u001b[1;32mIn[62], line 3\u001b[0m, in \u001b[0;36mcount_users\u001b[1;34m(group)\u001b[0m\n\u001b[0;32m      1\u001b[0m \u001b[38;5;28;01mdef\u001b[39;00m\u001b[38;5;250m \u001b[39m\u001b[38;5;21mcount_users\u001b[39m(group):\n\u001b[0;32m      2\u001b[0m     count \u001b[38;5;241m=\u001b[39m \u001b[38;5;241m0\u001b[39m\n\u001b[1;32m----> 3\u001b[0m     \u001b[38;5;28;01mfor\u001b[39;00m member \u001b[38;5;129;01min\u001b[39;00m get_members(group):\n\u001b[0;32m      4\u001b[0m         \u001b[38;5;28;01mif\u001b[39;00m is_group(member):\n\u001b[0;32m      5\u001b[0m             \u001b[38;5;66;03m# If it's a subgroup, recursively count users in that subgroup\u001b[39;00m\n\u001b[0;32m      6\u001b[0m             count \u001b[38;5;241m+\u001b[39m\u001b[38;5;241m=\u001b[39m count_users(member)\n",
      "\u001b[1;31mNameError\u001b[0m: name 'get_members' is not defined"
     ]
    }
   ],
   "source": [
    "def count_users(group):\n",
    "  count = 0\n",
    "  for member in get_members(group):\n",
    "    \n",
    "    if is_group(member):\n",
    "      count += count_users(member)\n",
    "    else:\n",
    "      count+=1  \n",
    "  return count\n",
    "\n",
    "\n",
    "print(count_users(\"sales\")) # Should be 3\n",
    "print(count_users(\"engineering\")) # Should be 8\n",
    "print(count_users(\"everyone\")) # Should be 18"
   ]
  },
  {
   "cell_type": "code",
   "execution_count": 63,
   "id": "2704f756-93ca-453c-a99c-d4901f0875bb",
   "metadata": {},
   "outputs": [
    {
     "name": "stdout",
     "output_type": "stream",
     "text": [
      "6\n",
      "15\n"
     ]
    }
   ],
   "source": [
    "def sum_positive_numbers(n):\n",
    "    if n < 1:\n",
    "        return 0\n",
    "    return n + sum_positive_numbers(n - 1)\n",
    "\n",
    "\n",
    "print(sum_positive_numbers(3)) # Should be 6\n",
    "print(sum_positive_numbers(5)) # Should be 15"
   ]
  },
  {
   "cell_type": "code",
   "execution_count": 64,
   "id": "787a2411-02c1-4a40-955d-811917c1a6d9",
   "metadata": {},
   "outputs": [
    {
     "name": "stdout",
     "output_type": "stream",
     "text": [
      "0 10 20 30 40 50 60 70 80 90 100\n"
     ]
    }
   ],
   "source": [
    "# This function will accept an integer variable \"end\" and count by 10\n",
    "# from 0 to the \"end\" value.\n",
    "def count_by_10(end):\n",
    "    # Initializeq the \"count\" variable as a string.\n",
    "    count = \"\"\n",
    "\n",
    "    # The range function parameters instruct Python to start the count  \n",
    "    # at 0 and stop at the variable given as the upper end of the range. \n",
    "    # Since the value of the high end of a range is excluded by default,  \n",
    "    # you can make Python include the \"end\" value by adding +1 to it. \n",
    "    # The third parameter tells Python to increment the count by 10.\n",
    "    for number in range(0,end+1,10):\n",
    "\n",
    "        # Although the variable \"count\" will hold a count of integers,  \n",
    "        # this example will be converted to a string using \"str(number)\" \n",
    "        # in order to display the incremental count from 0 to the \"end\" \n",
    "        # value on the same line with a space \" \" separating each \n",
    "        # number.  \n",
    "        count += str(number) + \" \"\n",
    "        \n",
    "    # The .strip() method will trim the final space \" \" from the end of \n",
    "    # the string \"count\"  \n",
    "    return count.strip()\n",
    "\n",
    "\n",
    "# Call the function with 1 integer parameter.\n",
    "print(count_by_10(100))\n",
    "# Should print 0 10 20 30 40 50 60 70 80 90 100"
   ]
  },
  {
   "cell_type": "code",
   "execution_count": 65,
   "id": "f90466ec-ef39-4993-b11e-560b2645775b",
   "metadata": {},
   "outputs": [
    {
     "name": "stdout",
     "output_type": "stream",
     "text": [
      "1 2 3 4 \n",
      "2 4 6 8 \n",
      "3 6 9 12 \n",
      "4 8 12 16 \n"
     ]
    }
   ],
   "source": [
    "# This function uses a set of nested for loops with the range() function \n",
    "# to create a matrix of numbers. The upper range value in the range() \n",
    "# function should be included in the matrix. The matrix should consist \n",
    "# of a set of numbers that fill both rows and columns.\n",
    "def matrix(initial_number, end_of_first_row):\n",
    "\n",
    "\n",
    "    # It is an optional code style to assign the long variable names in the\n",
    "    # function parameters to shorter variable names. \n",
    "    n1 = initial_number \n",
    "    n2 = end_of_first_row+1  # include the upper range value with +1\n",
    "\n",
    "    # The first for loop will create the columns.\n",
    "    for column in range(n1, n2):\n",
    "\n",
    "        # The nested for loop will create the rows.\n",
    "        for row in range(n1, n2):\n",
    "\n",
    "            # To make the matrix of numbers easier to read, include a space\n",
    "            # between each number in the rows until the loop reaches the \n",
    "            # end of the row. You can override the default behavior of the \n",
    "            # print() function (which inserts a new line character after \n",
    "            # the print command runs) by using the \"end=\" \"\" parameter \n",
    "            # inside the print() function.  \n",
    "              print(column*row, end=\" \")\n",
    "\n",
    "        # The row ends when the upper range value is encountered within the \n",
    "        # nested for loop. The outer (column) for loop should insert a new line\n",
    "        # to create the next row. Use the print() function new line default \n",
    "        # behavior with an empty print() function:\n",
    "        print()\n",
    "\n",
    "\n",
    "# Call the function with 2 integer parameters. \n",
    "matrix(1, 4)\n",
    "# Should print:\n",
    "# 1 2 3 4 \n",
    "# 2 4 6 8 \n",
    "# 3 6 9 12 \n",
    "# 4 8 12 16 "
   ]
  },
  {
   "cell_type": "code",
   "execution_count": 66,
   "id": "8c6d7a0e-82f8-4c4a-bdc3-b45fc9c610a3",
   "metadata": {},
   "outputs": [
    {
     "name": "stdout",
     "output_type": "stream",
     "text": [
      "0\n",
      "0\n",
      "1\n",
      "0\n",
      "1\n",
      "2\n",
      "0\n",
      "1\n",
      "2\n",
      "3\n",
      "0\n",
      "1\n",
      "2\n",
      "3\n",
      "4\n",
      "0\n",
      "1\n",
      "2\n",
      "3\n",
      "4\n",
      "5\n",
      "0\n",
      "1\n",
      "2\n",
      "3\n",
      "4\n",
      "5\n",
      "6\n",
      "0\n",
      "1\n",
      "2\n",
      "3\n",
      "4\n",
      "5\n",
      "6\n",
      "7\n",
      "0\n",
      "1\n",
      "2\n",
      "3\n",
      "4\n",
      "5\n",
      "6\n",
      "7\n",
      "8\n"
     ]
    }
   ],
   "source": [
    "# For this example, the outer for loop uses an end of range index of \n",
    "# 10. The value of index 10 will be 10-1, or 9.  \n",
    "for outer_loop in range(10):\n",
    "\n",
    "    # Using the \"outer_loop\" variable as the end of range for the  \n",
    "    # inner loop, means the end of range index will be 9. The value \n",
    "    # of index 9 will be 9-1, or 8.\n",
    "    for inner_loop in range(outer_loop):\n",
    "\n",
    "        # The printed result is the value of \"inner_loop\". Since  \n",
    "        # there aren’t any calculations in this loop, there is a \n",
    "        # simple shortcut for solving what the final value printed \n",
    "        # by the \"inner_loop\" will be. The solution is to simply use \n",
    "        # the value of the \"inner_loop\" index, which is 8.\n",
    "        print(inner_loop)"
   ]
  },
  {
   "cell_type": "code",
   "execution_count": 67,
   "id": "42c5cab1-b205-4967-b53e-cb3dad3141db",
   "metadata": {},
   "outputs": [],
   "source": [
    "# This function should count down by -2 from 11 to 1, so that it only\n",
    "# prints odd numbers. \n",
    "\n",
    "# This range(11, -2) tells the for loop to start at 11 and end at index\n",
    "# position -2 (which corresponds to the numeric value of -1). Since the\n",
    "# third incremental or decremental value is missing, the loop will \n",
    "# increment by the default of +1 instead of the intended -2 decrement.\n",
    "# Starting at index position 11 and incrementing by +1 will end the loop \n",
    "# automatically, because the index is not counting down towards -2 as \n",
    "# the end of the range. \n",
    "\n",
    "# To fix this problem, the range() needs three parameters:\n",
    "# First parameter should be the starting index position of 11.\n",
    "# Second parameter should be the ending index position of 0 (value 1).\n",
    "# Third parameter should be decrementing by -2.\n",
    "# So, the range should be configured as range(11, 0, -2).\n",
    "\n",
    "# Fix this loop with the corrected range parameters and click Run.\n",
    "for n in range(11, -2):\n",
    "    if n % 2 != 0:\n",
    "        print(n, end=\" \")\n",
    "\n",
    "# Should print: 11, 9, 7, 5, 3, 1 once the problem is fixed."
   ]
  },
  {
   "cell_type": "code",
   "execution_count": 68,
   "id": "d0c5bed8-1188-450f-be05-22868ad592da",
   "metadata": {},
   "outputs": [
    {
     "name": "stdout",
     "output_type": "stream",
     "text": [
      "18 15 12 9 6 3 0 "
     ]
    }
   ],
   "source": [
    "# For this example, the while loop will count down by threes starting \n",
    "# from 18 and ending at 0.\n",
    "starting_number = 18\n",
    "\n",
    "# The while loop will continue to loop until it reaches 0.\n",
    "while starting_number >= 0:\n",
    "\n",
    "    # To make the sequence of numbers easier to read, include a space\n",
    "    # between each number in the sequence. You can override the default \n",
    "    # behavior of the print() function by using the \"end=\" parameter with\n",
    "    # the print() function. The syntax for adding a space is: end=\" \" \n",
    "    print(starting_number, end=\" \")\n",
    "    \n",
    "    # Decrement the \"starting_number\" variable by -3.\n",
    "    starting_number -= 3\n",
    "\n",
    "# Should print 18 15 12 9 6 3 0 "
   ]
  },
  {
   "cell_type": "code",
   "execution_count": 69,
   "id": "5f8bffe0-531e-4436-b8e9-6276c03f6a83",
   "metadata": {},
   "outputs": [
    {
     "name": "stdout",
     "output_type": "stream",
     "text": [
      "The CEO has a 7-figure salary.\n"
     ]
    }
   ],
   "source": [
    "# This function accepts a CEO's salary as a variable. \n",
    "# It counts the number of digits in the salary and \n",
    "# returns the sentence like:\n",
    "# \"The CEO has a 6-figure salary.\"\n",
    "def X_figure(salary):\n",
    "    \n",
    "    # Initializes the counter as an integer.\n",
    "    tally = 0\n",
    "\n",
    "    # The if-statement checks if the variable \"salary\" \n",
    "    # is equal to 0.\n",
    "    if salary == 0:\n",
    "        # If true, then it increments the counter to \n",
    "        # show there is 1 digit in 0.\n",
    "        tally += 1\n",
    "\n",
    "    # The while loop starts to run while the \"salary\"\n",
    "    # is greater than or equal to 1 (the loop will \n",
    "    # not run if the \"salary\" is 0).\n",
    "    while salary >= 1:\n",
    "\n",
    "        # The body of the while loop counts the digits \n",
    "        # in \"salary\" by counting the number of times \n",
    "        # \"salary\" can be divided by 10 until \"salary\" \n",
    "        # is no longer >= 1.\n",
    "        salary = salary/10\n",
    "\n",
    "        # Add 1 to the counter to tally the number of \n",
    "        # times the loop runs.\n",
    "        tally += 1\n",
    "\n",
    "    # Return the results of the \"tally\" of the number\n",
    "    # of digits in \"salary\".\n",
    "    return tally\n",
    " \n",
    "# Call the X_figure function with 1 parameter, converted to a string,\n",
    "# inside a print function with additional strings.\n",
    "print(\"The CEO has a \" + str(X_figure(2300000)) + \"-figure salary.\")\n",
    "\n",
    "# Should print\"The CEO has a 7-figure salary.\""
   ]
  },
  {
   "cell_type": "code",
   "execution_count": 70,
   "id": "41ad7d67-542d-4055-beab-d6b24d29df40",
   "metadata": {},
   "outputs": [
    {
     "name": "stdout",
     "output_type": "stream",
     "text": [
      "Going up: 1 | 2 | 3 | 4\n",
      "Going down: 6 | 5 | 4 | 3 | 2\n"
     ]
    }
   ],
   "source": [
    "# This function will accept two integer variables: the floor\n",
    "# number that a passenger \"enter\"s an elevator and the floor\n",
    "# number the passenger is going to \"exit\". Then, the function\n",
    "# counts up or down from the two floor numbers.\n",
    "def elevator_floor(enter, exit):\n",
    "    # The \"floor\" variable will be used as a counter and to  \n",
    "    # print the floor numbers. The \"elevator_direction\"\n",
    "    # variable will hold the string \"Going up: \" or \n",
    "    # \"Going down: \" plus the count up or down of the \n",
    "    # \"floor\" numbers.\n",
    "    floor = enter\n",
    "    elevator_direction = \"\"\n",
    "\n",
    "    # If the passenger enters the elevator on a floor that  \n",
    "    # is higher than the destination floor:\n",
    "    if enter > exit:\n",
    "        \n",
    "        # Then the \"elevator_direction\" string will be \n",
    "        # initialized with the string \"Going down: \".\n",
    "        elevator_direction = \"Going down: \"\n",
    "\n",
    "        # While the \"floor\" number is greater than or  \n",
    "        # equal to the exit floor number:\n",
    "        while floor >= exit:\n",
    "            # The \"floor\" number is converted to a string \n",
    "            # and is appended to the string variable \n",
    "            # \"elevator_direction\".\n",
    "            elevator_direction += str(floor)\n",
    "\n",
    "            # If the \"floor\" number is still greater than  \n",
    "            # the exit floor number:\n",
    "            if floor > exit:\n",
    "\n",
    "                # A pipe | character is added between each  \n",
    "                # floor number in the string variable  \n",
    "                # \"elevator_direction\" to provide a visual  \n",
    "                # divider between numbers. The if-statement \n",
    "                # above (if floor > exit) prevents the pipe \n",
    "                # character from appearing after the \"floor\" \n",
    "                # number is no longer greater than the \"exit\" \n",
    "                # variable. \n",
    "                elevator_direction += \" | \"\n",
    "                \n",
    "                # Decrement the \"floor\" number as the elevator \n",
    "                # goes down.\n",
    "            floor -= 1\n",
    "\n",
    "    # Else, it is implied that the passenger is entering the  \n",
    "    # elevator on a floor that is lower than the destination \n",
    "    # floor.\n",
    "    else:\n",
    "\n",
    "        # The \"elevator_direction\" string will be initialized \n",
    "        # with the string \"Going up: \".\n",
    "        elevator_direction = \"Going up: \"\n",
    "        \n",
    "        # While the \"floor\" number is less than or equal to the \n",
    "        # \"exit\" floor number:\n",
    "        while floor <= exit:\n",
    "\n",
    "            # Convert the the \"floor\" number to a string and append \n",
    "            # it to the string variable \"elevator_direction\".\n",
    "            elevator_direction += str(floor)\n",
    "\n",
    "            # If the entry floor number is still less than the exit \n",
    "            # floor number:\n",
    "            if floor < exit:\n",
    "\n",
    "                # The pipe | character is added between each  \n",
    "                # floor number in the string variable  \n",
    "                # \"elevator_direction\" to provide a visual  \n",
    "                # divider between numbers. The if-statement \n",
    "                # above (if floor < exit) prevents the pipe \n",
    "                # character from appearing after the \"floor\" \n",
    "                # number is no longer less than the \"exit\" \n",
    "                # variable. \n",
    "                elevator_direction += \" | \"\n",
    "\n",
    "            # Increments the \"floor\" number as the elevator goes up.\n",
    "            floor += 1\n",
    "\n",
    "    # Returns the string holding the elevator direction (Going down or \n",
    "    # Going up) along with the floor countdown or count up.\n",
    "    return elevator_direction\n",
    "\n",
    "\n",
    "# Call the function with 2 integer parameters. \n",
    "print(elevator_floor(1,4)) # Should print Going up: 1 | 2 | 3 | 4\n",
    "print(elevator_floor(6,2)) # Should print Going down: 6 | 5 | 4 | 3 | 2"
   ]
  },
  {
   "cell_type": "code",
   "execution_count": 72,
   "id": "2dd9b952-a809-439c-bd00-9aad1f57738d",
   "metadata": {},
   "outputs": [
    {
     "name": "stdout",
     "output_type": "stream",
     "text": [
      "1 2 3 4 5 6 7 "
     ]
    }
   ],
   "source": [
    "number = 1 # Initialize the variable\n",
    "while number<=7: # Complete the while loop condition\n",
    "    print(number, end=\" \")\n",
    "    number = number +1 # Increment the variable\n",
    "\n",
    "# Should print 1 2 3 4 5 6 7 "
   ]
  },
  {
   "cell_type": "code",
   "execution_count": 73,
   "id": "8bd494c8-be3d-4c6a-a191-25b5e3384d45",
   "metadata": {},
   "outputs": [
    {
     "name": "stdout",
     "output_type": "stream",
     "text": [
      "2\n",
      "4\n",
      "6\n",
      "8\n",
      "10\n",
      "12\n"
     ]
    }
   ],
   "source": [
    "for number in range(2,13,2):\n",
    "    print(number)\n",
    "\n",
    "# Should print:\n",
    "# 2\n",
    "# 4\n",
    "# 6\n",
    "# 8\n",
    "# 10\n",
    "# 12"
   ]
  },
  {
   "cell_type": "code",
   "execution_count": 74,
   "id": "640d388d-ea6b-4163-af7e-1eff6cb746ff",
   "metadata": {},
   "outputs": [
    {
     "name": "stdout",
     "output_type": "stream",
     "text": [
      "6\n",
      "362880\n",
      "1\n"
     ]
    }
   ],
   "source": [
    "def factorial(n):\n",
    "    result = n\n",
    "    start = n\n",
    "    n -= 1\n",
    "    while n > 0:  # The while loop should execute as long as n is greater than 0\n",
    "        result *= n  # Multiply the current result by the current value of n\n",
    "        n -= 1  # Decrement the appropriate variable by -1\n",
    "    return result\n",
    "\n",
    "\n",
    "print(factorial(3)) # Should print 6\n",
    "print(factorial(9)) # Should print 362880\n",
    "print(factorial(1)) # Should print 1"
   ]
  },
  {
   "cell_type": "code",
   "execution_count": 75,
   "id": "1e59c582-1c7a-4955-b23f-361375c3aa03",
   "metadata": {},
   "outputs": [
    {
     "name": "stdout",
     "output_type": "stream",
     "text": [
      "3, 2, 1\n",
      "3, 2, 1\n"
     ]
    }
   ],
   "source": [
    "def sequence(low, high):\n",
    "    # Complete the outer loop range to make the loop run twice\n",
    "    # to create two rows\n",
    "    for x in range(2): \n",
    "        # Complete the inner loop range to print the given variable\n",
    "        # numbers starting from \"high\" to \"low\" \n",
    "        # Hint: To decrement a range parameter, use negative numbers\n",
    "        for y in range(high, low-1, -1): \n",
    "            if y == low:\n",
    "                # Don't print a comma after the last item\n",
    "                print(str(y)) \n",
    "            else:\n",
    "                # Print a comma and a space between numbers\n",
    "                print(str(y), end=\", \") \n",
    "\n",
    "sequence(1, 3)\n",
    "# Should print the sequence 3, 2, 1 two times, as shown above."
   ]
  },
  {
   "cell_type": "code",
   "execution_count": 76,
   "id": "11453f09-e420-4a2d-926a-fcb4938ad87d",
   "metadata": {},
   "outputs": [
    {
     "name": "stdout",
     "output_type": "stream",
     "text": [
      "Counting down to 0: 10,9,8,7,6,5,4,3,2,1,0\n",
      "Counting down to 0: 2,1,0\n",
      "Cannot count down to 0\n"
     ]
    }
   ],
   "source": [
    "def countdown(start):\n",
    "    x = start\n",
    "    if x > 0:\n",
    "        return_string = \"Counting down to 0: \"\n",
    "        while x >= 0:  # Complete the while loop\n",
    "            return_string += str(x)  # Add the numbers to the \"return_string\"\n",
    "            if x > 0:\n",
    "                return_string += \",\"\n",
    "            x -= 1  # Decrement the appropriate variable\n",
    "    else:\n",
    "        return_string = \"Cannot count down to 0\"\n",
    "    return return_string\n",
    "\n",
    "\n",
    "print(countdown(10)) # Should be \"Counting down to 0: 10,9,8,7,6,5,4,3,2,1,0\"\n",
    "print(countdown(2)) # Should be \"Counting down to 0: 2,1,0\"\n",
    "print(countdown(0)) # Should be \"Cannot count down to 0\""
   ]
  },
  {
   "cell_type": "code",
   "execution_count": 77,
   "id": "9f087841-f208-48a0-8887-ecccfd845fbc",
   "metadata": {},
   "outputs": [
    {
     "name": "stdout",
     "output_type": "stream",
     "text": [
      "2 3 4 5 6\n",
      "3 4 5 6 7 8 9 10\n",
      "-1 0 1\n",
      "0 1 2 3 4 5\n",
      "0\n"
     ]
    }
   ],
   "source": [
    "def all_numbers(minimum, maximum):\n",
    "\n",
    "    return_string = \"\" # Initializes variable as a string\n",
    "\n",
    "    # Complete the for loop with a range that includes all \n",
    "    # numbers up to and including the \"maximum\" value.\n",
    "    for number in range(minimum, maximum + 1):\n",
    "\n",
    "        # Complete the body of the loop by appending the number\n",
    "        # followed by a space to the \"return_string\" variable.\n",
    "        return_string += str(number) + \" \"\n",
    "\n",
    "    # This .strip command will remove the final \" \" space \n",
    "    # at the end of the \"return_string\".\n",
    "    return return_string.strip()\n",
    "\n",
    "\n",
    "print(all_numbers(2,6))  # Should be 2 3 4 5 6\n",
    "print(all_numbers(3,10)) # Should be 3 4 5 6 7 8 9 10\n",
    "print(all_numbers(-1,1)) # Should be -1 0 1\n",
    "print(all_numbers(0,5))  # Should be 0 1 2 3 4 5\n",
    "print(all_numbers(0,0))  # Should be 0"
   ]
  },
  {
   "cell_type": "code",
   "execution_count": 78,
   "id": "1a51d04d-abc7-4757-98f7-254ee120e54c",
   "metadata": {},
   "outputs": [
    {
     "name": "stdout",
     "output_type": "stream",
     "text": [
      "2\n",
      "3\n",
      "4\n",
      "5\n",
      "6\n"
     ]
    }
   ],
   "source": [
    "for count in range(1, 6):\n",
    "    print(count+1)"
   ]
  },
  {
   "cell_type": "code",
   "execution_count": 79,
   "id": "e86dbfd6-d29a-4e0a-8197-f6f4dc5d2ab1",
   "metadata": {},
   "outputs": [
    {
     "name": "stdout",
     "output_type": "stream",
     "text": [
      "0\n",
      "0\n",
      "2\n",
      "0\n",
      "2\n",
      "0\n",
      "2\n",
      "4\n",
      "0\n",
      "2\n",
      "4\n"
     ]
    }
   ],
   "source": [
    "for outer_loop in range(2, 6+1):\n",
    "    for inner_loop in range(outer_loop):\n",
    "        if inner_loop % 2 == 0:\n",
    "            print(inner_loop)"
   ]
  },
  {
   "cell_type": "code",
   "execution_count": 80,
   "id": "aeff90da-24b4-4f75-a109-f7689ef5ff76",
   "metadata": {},
   "outputs": [],
   "source": [
    "name = \"Sasha\"\n",
    "color = 'Gold'"
   ]
  },
  {
   "cell_type": "code",
   "execution_count": 81,
   "id": "43f8762a-874a-4f77-923e-cf7ed9158fea",
   "metadata": {},
   "outputs": [
    {
     "ename": "SyntaxError",
     "evalue": "unterminated string literal (detected at line 1) (3819067093.py, line 1)",
     "output_type": "error",
     "traceback": [
      "\u001b[1;36m  Cell \u001b[1;32mIn[81], line 1\u001b[1;36m\u001b[0m\n\u001b[1;33m    place = \"Cambridge'\u001b[0m\n\u001b[1;37m            ^\u001b[0m\n\u001b[1;31mSyntaxError\u001b[0m\u001b[1;31m:\u001b[0m unterminated string literal (detected at line 1)\n"
     ]
    }
   ],
   "source": [
    "place = \"Cambridge'\n",
    "#This will throw an error"
   ]
  },
  {
   "cell_type": "code",
   "execution_count": 82,
   "id": "08c9dc4d-71b5-46c7-aee0-32652a91e5de",
   "metadata": {},
   "outputs": [],
   "source": [
    "pet = \"\""
   ]
  },
  {
   "cell_type": "code",
   "execution_count": 83,
   "id": "cda7b892-ec96-4411-bc38-f19a89bb51ab",
   "metadata": {},
   "outputs": [
    {
     "name": "stdout",
     "output_type": "stream",
     "text": [
      "Name: Sasha, Favorite color: Gold\n"
     ]
    }
   ],
   "source": [
    "name = \"Sasha\"\n",
    "color = 'Gold'\n",
    "print(\"Name: \" + name + \", Favorite color: \" + color)"
   ]
  },
  {
   "cell_type": "code",
   "execution_count": 84,
   "id": "97ff532a-1811-471e-8da8-6d9a93538a33",
   "metadata": {},
   "outputs": [
    {
     "data": {
      "text/plain": [
       "'exampleexampleexample'"
      ]
     },
     "execution_count": 84,
     "metadata": {},
     "output_type": "execute_result"
    }
   ],
   "source": [
    "\"example\" * 3"
   ]
  },
  {
   "cell_type": "code",
   "execution_count": 85,
   "id": "282e42df-4a88-4627-9a78-cd120b65ee36",
   "metadata": {},
   "outputs": [
    {
     "data": {
      "text/plain": [
       "38"
      ]
     },
     "execution_count": 85,
     "metadata": {},
     "output_type": "execute_result"
    }
   ],
   "source": [
    "pet = \"loooooooooooooooooooooooooooooooog cat\"\n",
    "len(pet)"
   ]
  },
  {
   "cell_type": "code",
   "execution_count": 86,
   "id": "8cde3f50-48ef-4266-adb5-e5b005b584da",
   "metadata": {},
   "outputs": [
    {
     "name": "stdout",
     "output_type": "stream",
     "text": [
      "a\n"
     ]
    }
   ],
   "source": [
    "name = \"Jaylen\"\n",
    "print(name[1])"
   ]
  },
  {
   "cell_type": "code",
   "execution_count": 87,
   "id": "3c128b8f-4d6b-4a66-91ed-9e0078c50d17",
   "metadata": {},
   "outputs": [
    {
     "name": "stdout",
     "output_type": "stream",
     "text": [
      "J\n"
     ]
    }
   ],
   "source": [
    "name = \"Jaylen\"\n",
    "print(name[0])"
   ]
  },
  {
   "cell_type": "code",
   "execution_count": 88,
   "id": "51b2f419-8f8a-4c99-af47-e81494c5eda3",
   "metadata": {},
   "outputs": [
    {
     "name": "stdout",
     "output_type": "stream",
     "text": [
      "n\n"
     ]
    },
    {
     "ename": "IndexError",
     "evalue": "string index out of range",
     "output_type": "error",
     "traceback": [
      "\u001b[1;31m---------------------------------------------------------------------------\u001b[0m",
      "\u001b[1;31mIndexError\u001b[0m                                Traceback (most recent call last)",
      "Cell \u001b[1;32mIn[88], line 3\u001b[0m\n\u001b[0;32m      1\u001b[0m name \u001b[38;5;241m=\u001b[39m \u001b[38;5;124m\"\u001b[39m\u001b[38;5;124mJaylen\u001b[39m\u001b[38;5;124m\"\u001b[39m\n\u001b[0;32m      2\u001b[0m \u001b[38;5;28mprint\u001b[39m(name[\u001b[38;5;241m5\u001b[39m])\n\u001b[1;32m----> 3\u001b[0m \u001b[38;5;28mprint\u001b[39m(name[\u001b[38;5;241m6\u001b[39m])\n",
      "\u001b[1;31mIndexError\u001b[0m: string index out of range"
     ]
    }
   ],
   "source": [
    "name = \"Jaylen\"\n",
    "print(name[5])\n",
    "print(name[6])"
   ]
  },
  {
   "cell_type": "code",
   "execution_count": 89,
   "id": "d5df5ba6-dd01-4c52-83b0-0ccc3907c54e",
   "metadata": {},
   "outputs": [
    {
     "name": "stdout",
     "output_type": "stream",
     "text": [
      "s\n",
      "r\n"
     ]
    }
   ],
   "source": [
    "text = \"Random string with a lot of characters\"\n",
    "print(text[-1])\n",
    "print(text[-2])"
   ]
  },
  {
   "cell_type": "code",
   "execution_count": 90,
   "id": "86730c3b-4c3f-45d9-ab46-1a831b6e450a",
   "metadata": {},
   "outputs": [
    {
     "data": {
      "text/plain": [
       "'ran'"
      ]
     },
     "execution_count": 90,
     "metadata": {},
     "output_type": "execute_result"
    }
   ],
   "source": [
    "color = \"Orange\"\n",
    "color[1:4]"
   ]
  },
  {
   "cell_type": "code",
   "execution_count": 91,
   "id": "40f8eb48-3b13-4fe9-91da-b4e9e465135a",
   "metadata": {},
   "outputs": [
    {
     "name": "stdout",
     "output_type": "stream",
     "text": [
      "Pine\n",
      "apple\n"
     ]
    }
   ],
   "source": [
    "fruit = \"Pineapple\"\n",
    "print(fruit[:4])\n",
    "print(fruit[4:])"
   ]
  },
  {
   "cell_type": "code",
   "execution_count": 92,
   "id": "875d9dee-ece9-4cf1-a215-ec9e41bb0901",
   "metadata": {},
   "outputs": [
    {
     "data": {
      "text/plain": [
       "'ang'"
      ]
     },
     "execution_count": 92,
     "metadata": {},
     "output_type": "execute_result"
    }
   ],
   "source": [
    "fruit = \"Mangosteen\"\n",
    "fruit[1:4]"
   ]
  },
  {
   "cell_type": "code",
   "execution_count": 93,
   "id": "b69a22ac-a548-461f-bb40-4d17cf87af7f",
   "metadata": {},
   "outputs": [
    {
     "data": {
      "text/plain": [
       "'Mango'"
      ]
     },
     "execution_count": 93,
     "metadata": {},
     "output_type": "execute_result"
    }
   ],
   "source": [
    "fruit[:5]"
   ]
  },
  {
   "cell_type": "code",
   "execution_count": 94,
   "id": "b9558c19-4682-4d16-b241-65566bffb344",
   "metadata": {},
   "outputs": [
    {
     "data": {
      "text/plain": [
       "'steen'"
      ]
     },
     "execution_count": 94,
     "metadata": {},
     "output_type": "execute_result"
    }
   ],
   "source": [
    "fruit[5:]"
   ]
  },
  {
   "cell_type": "code",
   "execution_count": 95,
   "id": "4e6af526-79db-422f-9d8f-3b4033ca6470",
   "metadata": {},
   "outputs": [
    {
     "data": {
      "text/plain": [
       "'Mangosteen'"
      ]
     },
     "execution_count": 95,
     "metadata": {},
     "output_type": "execute_result"
    }
   ],
   "source": [
    "fruit[:5] + fruit[5:]"
   ]
  },
  {
   "cell_type": "code",
   "execution_count": 96,
   "id": "9eb670b4-438a-4f35-98d6-cfe3b3d28fc3",
   "metadata": {},
   "outputs": [
    {
     "ename": "TypeError",
     "evalue": "'str' object does not support item assignment",
     "output_type": "error",
     "traceback": [
      "\u001b[1;31m---------------------------------------------------------------------------\u001b[0m",
      "\u001b[1;31mTypeError\u001b[0m                                 Traceback (most recent call last)",
      "Cell \u001b[1;32mIn[96], line 2\u001b[0m\n\u001b[0;32m      1\u001b[0m message \u001b[38;5;241m=\u001b[39m \u001b[38;5;124m\"\u001b[39m\u001b[38;5;124mA kong string with a silly typo\u001b[39m\u001b[38;5;124m\"\u001b[39m\n\u001b[1;32m----> 2\u001b[0m message[\u001b[38;5;241m2\u001b[39m] \u001b[38;5;241m=\u001b[39m \u001b[38;5;124m\"\u001b[39m\u001b[38;5;124ml\u001b[39m\u001b[38;5;124m\"\u001b[39m\n",
      "\u001b[1;31mTypeError\u001b[0m: 'str' object does not support item assignment"
     ]
    }
   ],
   "source": [
    "message = \"A kong string with a silly typo\"\n",
    "message[2] = \"l\"\n",
    "#This will throw an error"
   ]
  },
  {
   "cell_type": "code",
   "execution_count": 97,
   "id": "826c2e57-66c4-4d1a-b3ba-6f9c45869a1e",
   "metadata": {},
   "outputs": [
    {
     "name": "stdout",
     "output_type": "stream",
     "text": [
      "A long string with a silly typo\n"
     ]
    }
   ],
   "source": [
    "message = \"A kong string with a silly typo\"\n",
    "new_message = message[0:2] + \"l\" + message[3:]\n",
    "print(new_message)"
   ]
  },
  {
   "cell_type": "code",
   "execution_count": 98,
   "id": "c6e62ab1-b414-4b03-93d7-ac8005d98dba",
   "metadata": {},
   "outputs": [
    {
     "name": "stdout",
     "output_type": "stream",
     "text": [
      "This is a new message\n",
      "And another one\n"
     ]
    }
   ],
   "source": [
    "message = \"This is a new message\"\n",
    "print(message)\n",
    "message = \"And another one\"\n",
    "print(message)"
   ]
  },
  {
   "cell_type": "code",
   "execution_count": 99,
   "id": "06ef7552-e200-439a-a15c-2c674a8f1432",
   "metadata": {},
   "outputs": [
    {
     "data": {
      "text/plain": [
       "3"
      ]
     },
     "execution_count": 99,
     "metadata": {},
     "output_type": "execute_result"
    }
   ],
   "source": [
    "pets=\"Cats & Dogs\"\n",
    "pets.index(\"&\")\n",
    "pets.index(\"C\")\n",
    "pets.index(\"Dog\")\n",
    "pets.index(\"s\")"
   ]
  },
  {
   "cell_type": "code",
   "execution_count": 100,
   "id": "8c024e5b-acd2-4ce5-8cf9-67e1329fc6b9",
   "metadata": {},
   "outputs": [
    {
     "ename": "ValueError",
     "evalue": "substring not found",
     "output_type": "error",
     "traceback": [
      "\u001b[1;31m---------------------------------------------------------------------------\u001b[0m",
      "\u001b[1;31mValueError\u001b[0m                                Traceback (most recent call last)",
      "Cell \u001b[1;32mIn[100], line 2\u001b[0m\n\u001b[0;32m      1\u001b[0m pets\u001b[38;5;241m=\u001b[39m\u001b[38;5;124m\"\u001b[39m\u001b[38;5;124mCats & Dogs\u001b[39m\u001b[38;5;124m\"\u001b[39m\n\u001b[1;32m----> 2\u001b[0m pets\u001b[38;5;241m.\u001b[39mindex(\u001b[38;5;124m\"\u001b[39m\u001b[38;5;124mx\u001b[39m\u001b[38;5;124m\"\u001b[39m)\n",
      "\u001b[1;31mValueError\u001b[0m: substring not found"
     ]
    }
   ],
   "source": [
    "pets=\"Cats & Dogs\"\n",
    "pets.index(\"x\")\n",
    "#This will throw an error"
   ]
  },
  {
   "cell_type": "code",
   "execution_count": 101,
   "id": "a2fdeac7-0dc2-4a34-942c-172efdb97c4e",
   "metadata": {},
   "outputs": [
    {
     "data": {
      "text/plain": [
       "True"
      ]
     },
     "execution_count": 101,
     "metadata": {},
     "output_type": "execute_result"
    }
   ],
   "source": [
    "pets=\"Cats & Dogs\"\n",
    "\"Dragons\" in pets\n",
    "\"Cats\" in pets"
   ]
  },
  {
   "cell_type": "code",
   "execution_count": 102,
   "id": "e976dcaa-e0a2-4d31-82a5-a8a6f05521e2",
   "metadata": {},
   "outputs": [],
   "source": [
    "def replace_domain(email, old_domain, new_domain):\n",
    "  if \"@\" + old_domain in email:\n",
    "    index = email.index(\"@\" + old_domain)\n",
    "    new_email = email[:index] + \"@\" + new_domain\n",
    "    return new_email\n",
    "  return email"
   ]
  },
  {
   "cell_type": "code",
   "execution_count": 103,
   "id": "9f30d9fc-b792-449f-b0d4-e656405f9d72",
   "metadata": {},
   "outputs": [
    {
     "data": {
      "text/plain": [
       "8"
      ]
     },
     "execution_count": 103,
     "metadata": {},
     "output_type": "execute_result"
    }
   ],
   "source": [
    "animals = \"lions tigers and bears\"\n",
    "animals.index(\"g\")"
   ]
  },
  {
   "cell_type": "code",
   "execution_count": 104,
   "id": "dfbbf8c0-f12e-4b82-81dc-065bc9bdcb9d",
   "metadata": {},
   "outputs": [
    {
     "data": {
      "text/plain": [
       "17"
      ]
     },
     "execution_count": 104,
     "metadata": {},
     "output_type": "execute_result"
    }
   ],
   "source": [
    "animals = \"lions tigers and bears\"\n",
    "animals.index(\"bears\")"
   ]
  },
  {
   "cell_type": "code",
   "execution_count": 105,
   "id": "db20a553-632a-4f74-88df-06a8e1a97920",
   "metadata": {},
   "outputs": [
    {
     "data": {
      "text/plain": [
       "False"
      ]
     },
     "execution_count": 105,
     "metadata": {},
     "output_type": "execute_result"
    }
   ],
   "source": [
    "animals = \"lions tigers and bears\"\n",
    "\"horses\" in animals"
   ]
  },
  {
   "cell_type": "code",
   "execution_count": 106,
   "id": "a727eec8-ee0c-4634-ba92-7943db34de6a",
   "metadata": {},
   "outputs": [
    {
     "data": {
      "text/plain": [
       "True"
      ]
     },
     "execution_count": 106,
     "metadata": {},
     "output_type": "execute_result"
    }
   ],
   "source": [
    "animals = \"lions tigers and bears\"\n",
    "\"tigers\" in animals"
   ]
  },
  {
   "cell_type": "code",
   "execution_count": 107,
   "id": "f4b5db71-0fbe-481d-b4a2-e99276ca19c4",
   "metadata": {},
   "outputs": [
    {
     "data": {
      "text/plain": [
       "'mountains'"
      ]
     },
     "execution_count": 107,
     "metadata": {},
     "output_type": "execute_result"
    }
   ],
   "source": [
    "\"Mountains\".upper()\n",
    "\"Mountains\".lower()"
   ]
  },
  {
   "cell_type": "code",
   "execution_count": 108,
   "id": "849054a0-25a1-45cc-82f1-fbc038d40006",
   "metadata": {},
   "outputs": [
    {
     "name": "stdout",
     "output_type": "stream",
     "text": [
      "User said yes\n"
     ]
    }
   ],
   "source": [
    "answer = \"YES\"\n",
    "if answer.lower() == \"yes\":\n",
    "  print(\"User said yes\")"
   ]
  },
  {
   "cell_type": "code",
   "execution_count": 109,
   "id": "a205b6df-05cc-41ed-947a-8702f3824f51",
   "metadata": {},
   "outputs": [
    {
     "data": {
      "text/plain": [
       "'yes'"
      ]
     },
     "execution_count": 109,
     "metadata": {},
     "output_type": "execute_result"
    }
   ],
   "source": [
    "\" yes \".strip()"
   ]
  },
  {
   "cell_type": "code",
   "execution_count": 110,
   "id": "32c55fe5-33fd-4764-a9e3-bc5bf0f33904",
   "metadata": {},
   "outputs": [
    {
     "data": {
      "text/plain": [
       "' yes'"
      ]
     },
     "execution_count": 110,
     "metadata": {},
     "output_type": "execute_result"
    }
   ],
   "source": [
    "\" yes \".strip()\n",
    "\" yes \".lstrip()\n",
    "\" yes \".rstrip()"
   ]
  },
  {
   "cell_type": "code",
   "execution_count": 111,
   "id": "4e5e6ea8-a739-41d9-b6ca-1928d8bec147",
   "metadata": {},
   "outputs": [
    {
     "data": {
      "text/plain": [
       "4"
      ]
     },
     "execution_count": 111,
     "metadata": {},
     "output_type": "execute_result"
    }
   ],
   "source": [
    "\"The number of times e occurs in this string is 4\".count(\"e\")"
   ]
  },
  {
   "cell_type": "code",
   "execution_count": 112,
   "id": "4b37ffc8-0578-4423-be7a-52ac4013a342",
   "metadata": {},
   "outputs": [
    {
     "data": {
      "text/plain": [
       "True"
      ]
     },
     "execution_count": 112,
     "metadata": {},
     "output_type": "execute_result"
    }
   ],
   "source": [
    "\"Forest\".endswith(\"rest\")"
   ]
  },
  {
   "cell_type": "code",
   "execution_count": 113,
   "id": "cc4501ee-a7dd-40b7-ac8c-b727bc4f0240",
   "metadata": {},
   "outputs": [
    {
     "data": {
      "text/plain": [
       "True"
      ]
     },
     "execution_count": 113,
     "metadata": {},
     "output_type": "execute_result"
    }
   ],
   "source": [
    "\"Forest\".isnumeric()\n",
    "\"12345\".isnumeric()"
   ]
  },
  {
   "cell_type": "code",
   "execution_count": 114,
   "id": "33a37a9e-c06e-4c23-b8ca-26f69cc04e30",
   "metadata": {},
   "outputs": [
    {
     "data": {
      "text/plain": [
       "66666"
      ]
     },
     "execution_count": 114,
     "metadata": {},
     "output_type": "execute_result"
    }
   ],
   "source": [
    "int(\"12345\") + int(\"54321\")"
   ]
  },
  {
   "cell_type": "code",
   "execution_count": 115,
   "id": "14e69843-f919-4f74-85c3-34e19e93e4b8",
   "metadata": {},
   "outputs": [
    {
     "data": {
      "text/plain": [
       "'This...is...a...phrase...joined...by...triple...dots'"
      ]
     },
     "execution_count": 115,
     "metadata": {},
     "output_type": "execute_result"
    }
   ],
   "source": [
    "\" \".join([\"This\", \"is\", \"a\", \"phrase\", \"joined\", \"by\", \"spaces\"])\n",
    "\"...\".join([\"This\", \"is\", \"a\", \"phrase\", \"joined\", \"by\", \"triple\", \"dots\"])"
   ]
  },
  {
   "cell_type": "code",
   "execution_count": 116,
   "id": "0e338a81-e93c-4c79-b64a-1289bf154c7a",
   "metadata": {},
   "outputs": [
    {
     "data": {
      "text/plain": [
       "['This', 'is', 'another', 'example']"
      ]
     },
     "execution_count": 116,
     "metadata": {},
     "output_type": "execute_result"
    }
   ],
   "source": [
    "\"This is another example\".split()"
   ]
  },
  {
   "cell_type": "code",
   "execution_count": 117,
   "id": "57db8288-27f2-4edd-82a1-28f0e096e990",
   "metadata": {},
   "outputs": [
    {
     "name": "stdout",
     "output_type": "stream",
     "text": [
      "Hello Manny, your lucky number is 15\n"
     ]
    }
   ],
   "source": [
    "name = \"Manny\"\n",
    "number = len(name) * 3\n",
    "print(\"Hello {}, your lucky number is {}\".format(name, number))"
   ]
  },
  {
   "cell_type": "code",
   "execution_count": 118,
   "id": "f06b37fa-bad3-42ba-ab5e-7e9427e6109b",
   "metadata": {},
   "outputs": [
    {
     "name": "stdout",
     "output_type": "stream",
     "text": [
      "Your lucky number is 15, Manny.\n"
     ]
    }
   ],
   "source": [
    "name = \"Manny\"\n",
    "print(\"Your lucky number is {number}, {name}.\".format(name=name, number=len(name)*3))"
   ]
  },
  {
   "cell_type": "code",
   "execution_count": 119,
   "id": "09687db5-353c-4e52-acf4-4eeb091f6cff",
   "metadata": {},
   "outputs": [
    {
     "name": "stdout",
     "output_type": "stream",
     "text": [
      "7.5 8.175\n",
      "Base price: $7.50. With Tax: $8.18\n"
     ]
    }
   ],
   "source": [
    "price = 7.5\n",
    "with_tax = price * 1.09\n",
    "print(price, with_tax)\n",
    "print(\"Base price: ${:.2f}. With Tax: ${:.2f}\".format(price, with_tax))"
   ]
  },
  {
   "cell_type": "code",
   "execution_count": 120,
   "id": "39067862-5586-45fc-960a-a8335dacdee7",
   "metadata": {},
   "outputs": [
    {
     "name": "stdout",
     "output_type": "stream",
     "text": [
      "  0 F | -17.78 C\n",
      " 10 F | -12.22 C\n",
      " 20 F |  -6.67 C\n",
      " 30 F |  -1.11 C\n",
      " 40 F |   4.44 C\n",
      " 50 F |  10.00 C\n",
      " 60 F |  15.56 C\n",
      " 70 F |  21.11 C\n",
      " 80 F |  26.67 C\n",
      " 90 F |  32.22 C\n",
      "100 F |  37.78 C\n"
     ]
    }
   ],
   "source": [
    "def to_celsius(x):\n",
    "  return (x-32)*5/9\n",
    "\n",
    "for x in range(0,101,10):\n",
    "  print(\"{:>3} F | {:>6.2f} C\".format(x, to_celsius(x)))"
   ]
  },
  {
   "cell_type": "code",
   "execution_count": 122,
   "id": "c5940c1a-b20e-4e60-b5eb-903ad4ff764b",
   "metadata": {},
   "outputs": [
    {
     "name": "stdout",
     "output_type": "stream",
     "text": [
      "5\n"
     ]
    }
   ],
   "source": [
    "print(len(\"abcde\"))# prints 5"
   ]
  },
  {
   "cell_type": "code",
   "execution_count": 123,
   "id": "1fce6070-cd6d-4039-8003-4164a6510154",
   "metadata": {},
   "outputs": [
    {
     "name": "stdout",
     "output_type": "stream",
     "text": [
      "a\n",
      "b\n",
      "c\n",
      "d\n",
      "e\n"
     ]
    }
   ],
   "source": [
    "for c in \"abcde\":\n",
    "    print(c)"
   ]
  },
  {
   "cell_type": "code",
   "execution_count": 125,
   "id": "aeda49a1-0611-43a3-a97d-c51ac4375ac0",
   "metadata": {},
   "outputs": [
    {
     "name": "stdout",
     "output_type": "stream",
     "text": [
      "True\n",
      "False\n"
     ]
    }
   ],
   "source": [
    "print(\"abc\" in \"abcde\")# prints True\n",
    "print(\"def\" in \"abcde\")# prints False"
   ]
  },
  {
   "cell_type": "code",
   "execution_count": 126,
   "id": "947b104f-47b5-4731-9bb6-d6b25cec1f4f",
   "metadata": {},
   "outputs": [
    {
     "name": "stdout",
     "output_type": "stream",
     "text": [
      "c\n",
      "e\n"
     ]
    }
   ],
   "source": [
    "print(\"abcde\"[2])# prints \"c\"\n",
    "print(\"abcde\"[-1])# prints \"e\""
   ]
  },
  {
   "cell_type": "code",
   "execution_count": 127,
   "id": "440443bd-61e7-4978-a01b-6495d3954714",
   "metadata": {},
   "outputs": [
    {
     "name": "stdout",
     "output_type": "stream",
     "text": [
      "ab\n",
      "cde\n"
     ]
    }
   ],
   "source": [
    "print(\"abcde\"[0:2])# prints \"ab\"\n",
    "print(\"abcde\"[2:])# prints \"cde\""
   ]
  },
  {
   "cell_type": "code",
   "execution_count": 128,
   "id": "8da1d0b8-706a-44ad-b087-c52a3e5d3714",
   "metadata": {},
   "outputs": [
    {
     "name": "stdout",
     "output_type": "stream",
     "text": [
      "aabbccddee\n"
     ]
    }
   ],
   "source": [
    "print(\"AaBbCcDdEe\".lower()) "
   ]
  },
  {
   "cell_type": "code",
   "execution_count": 129,
   "id": "84d4a954-eb80-42c1-bd48-dba0a2e9d712",
   "metadata": {},
   "outputs": [
    {
     "name": "stdout",
     "output_type": "stream",
     "text": [
      "AABBCCDDEE\n"
     ]
    }
   ],
   "source": [
    "print(\"AaBbCcDdEe\".upper())"
   ]
  },
  {
   "cell_type": "code",
   "execution_count": 131,
   "id": "149b85d0-b356-47b1-afd0-b8fb34123b6e",
   "metadata": {},
   "outputs": [
    {
     "name": "stdout",
     "output_type": "stream",
     "text": [
      "Hello   \n"
     ]
    }
   ],
   "source": [
    "print(\"   Hello   \".lstrip())"
   ]
  },
  {
   "cell_type": "code",
   "execution_count": 132,
   "id": "9fc1c6ac-94a8-493a-870c-66bbf082eeab",
   "metadata": {},
   "outputs": [
    {
     "name": "stdout",
     "output_type": "stream",
     "text": [
      "   Hello\n"
     ]
    }
   ],
   "source": [
    "print(\"   Hello   \".rstrip())"
   ]
  },
  {
   "cell_type": "code",
   "execution_count": 134,
   "id": "5a7f4f3e-6dd3-4b06-beab-114cec31a46a",
   "metadata": {},
   "outputs": [
    {
     "name": "stdout",
     "output_type": "stream",
     "text": [
      "Hello\n"
     ]
    }
   ],
   "source": [
    "print(\"   Hello   \".strip())"
   ]
  },
  {
   "cell_type": "code",
   "execution_count": 135,
   "id": "6cf2b7b2-2ceb-40fc-9fb7-ff7ec7a36a44",
   "metadata": {},
   "outputs": [
    {
     "name": "stdout",
     "output_type": "stream",
     "text": [
      "2\n"
     ]
    }
   ],
   "source": [
    "test = \"How much wood would a woodchuck chuck\"\n",
    "print(test.count(\"wood\"))"
   ]
  },
  {
   "cell_type": "code",
   "execution_count": 136,
   "id": "1f56ec12-4fd7-499f-a42b-32b1cbfe5912",
   "metadata": {},
   "outputs": [
    {
     "name": "stdout",
     "output_type": "stream",
     "text": [
      "True\n",
      "False\n"
     ]
    }
   ],
   "source": [
    "print(\"12345\".isnumeric())# prints True\n",
    "print(\"-123.45\".isnumeric())"
   ]
  },
  {
   "cell_type": "code",
   "execution_count": 138,
   "id": "19679d0e-9a26-4718-ba37-b4efe14dca9d",
   "metadata": {},
   "outputs": [
    {
     "name": "stdout",
     "output_type": "stream",
     "text": [
      "True\n"
     ]
    }
   ],
   "source": [
    "print(\"xyzzy\".isalpha())"
   ]
  },
  {
   "cell_type": "code",
   "execution_count": 139,
   "id": "e1188879-0934-4430-8415-c441ab56476b",
   "metadata": {},
   "outputs": [
    {
     "name": "stdout",
     "output_type": "stream",
     "text": [
      "['How', 'much', 'wood', 'would', 'a', 'woodchuck', 'chuck']\n"
     ]
    }
   ],
   "source": [
    "print(test.split())"
   ]
  },
  {
   "cell_type": "code",
   "execution_count": 140,
   "id": "469dc0a4-f840-49dc-99f5-57df0ae06f23",
   "metadata": {},
   "outputs": [
    {
     "name": "stdout",
     "output_type": "stream",
     "text": [
      "['How', 'much', 'wood', 'would', 'a', 'woodchuck', 'chuck']\n"
     ]
    }
   ],
   "source": [
    "test = \"How-much-wood-would-a-woodchuck-chuck\"\n",
    "print(test.split(\"-\"))"
   ]
  },
  {
   "cell_type": "code",
   "execution_count": 141,
   "id": "f1e1dcba-6bc9-42c2-bc1d-4ef291c8adb6",
   "metadata": {},
   "outputs": [
    {
     "name": "stdout",
     "output_type": "stream",
     "text": [
      "How-much-plastic-would-a-plasticchuck-chuck\n"
     ]
    }
   ],
   "source": [
    "print(test.replace(\"wood\", \"plastic\"))"
   ]
  },
  {
   "cell_type": "code",
   "execution_count": 142,
   "id": "1f04495e-f24e-436f-8705-1f26380207c0",
   "metadata": {},
   "outputs": [
    {
     "name": "stdout",
     "output_type": "stream",
     "text": [
      "How-much-wood-would-a-woodchuck-chuck\n"
     ]
    }
   ],
   "source": [
    "print(\"-\".join(test.split()))"
   ]
  },
  {
   "cell_type": "code",
   "execution_count": 147,
   "id": "1d8f20d0-65b7-459e-84b4-09670f41d02a",
   "metadata": {},
   "outputs": [
    {
     "name": "stdout",
     "output_type": "stream",
     "text": [
      "Subtotal: 27.245\n",
      "Sales Tax: 1.8049812500000002\n",
      "Total: 29.049981250000002\n"
     ]
    }
   ],
   "source": [
    "# Here are the items in the customer's basket. Each item is a tuple\n",
    "# of (item name, weight, price per pound).\n",
    "#\n",
    "basket = [(\"Peaches\", 3.0, 2.99),(\"Pears\", 5.0, 1.66),(\"Plums\", 2.5, 3.99)]\n",
    "\n",
    "\n",
    "# Calculate the total price for each item (weight times price per pound)\n",
    "# and add them up to get a subtotal.\n",
    "#\n",
    "subtotal = 0.00\n",
    "for item in basket:\n",
    "    fruit, weight, unit_price = item\n",
    "    subtotal += (weight * unit_price)\n",
    "\n",
    "\n",
    "# Now calculate the sales tax and total bill.\n",
    "#\n",
    "tax_rate = 0.06625# 6.625% sales tax in New Jersey\n",
    "tax_amt = subtotal * tax_rate\n",
    "total = subtotal + tax_amt\n",
    "\n",
    "\n",
    "# Print the receipt for the customer.\n",
    "#\n",
    "print(\"Subtotal:\", subtotal)\n",
    "print(\"Sales Tax:\", tax_amt)\n",
    "print(\"Total:\", total)"
   ]
  },
  {
   "cell_type": "code",
   "execution_count": 148,
   "id": "58e2765d-298b-4966-ba31-0bc84405db00",
   "metadata": {},
   "outputs": [
    {
     "name": "stdout",
     "output_type": "stream",
     "text": [
      "You are buying 3.0 pounds of peaches at 2.99 per pound.\n"
     ]
    }
   ],
   "source": [
    "fruit = \"peaches\"\n",
    "weight = 3.0\n",
    "per_pound = 2.99\n",
    "\n",
    "\n",
    "output = \"You are buying {} pounds of {} at {} per pound.\".format(weight, fruit, per_pound)\n",
    "print(output)"
   ]
  },
  {
   "cell_type": "code",
   "execution_count": 149,
   "id": "30c7ce39-e44b-426d-b11e-f645ebc5ea4e",
   "metadata": {},
   "outputs": [
    {
     "name": "stdout",
     "output_type": "stream",
     "text": [
      "peaches are 2.99 per pound, and you have 3.0 pounds of peaches.\n"
     ]
    }
   ],
   "source": [
    "output = \"{1} are {2} per pound, and you have {0} pounds of {1}.\".format(weight, fruit, per_pound)\n",
    "print(output)"
   ]
  },
  {
   "cell_type": "code",
   "execution_count": 150,
   "id": "dff39521-9127-4622-a394-86e0e7149ee5",
   "metadata": {},
   "outputs": [
    {
     "name": "stdout",
     "output_type": "stream",
     "text": [
      "peaches are 2.99 per pound, and you have 3.0 pounds of peaches.\n"
     ]
    }
   ],
   "source": [
    "output = \"{fruit} are {price} per pound, and you have {weight} pounds of {fruit}.\".format(weight=weight, fruit=fruit, price=per_pound)\n",
    "print(output)"
   ]
  },
  {
   "cell_type": "code",
   "execution_count": 151,
   "id": "fb9beca4-e8ce-4514-b5f8-3949b62ffa53",
   "metadata": {},
   "outputs": [
    {
     "name": "stdout",
     "output_type": "stream",
     "text": [
      "Subtotal:     $     27.25\n",
      "Sales Tax:    $      1.80\n",
      "Total:        $     29.05\n"
     ]
    }
   ],
   "source": [
    "# Print the receipt for the customer. The format string \":10,.2f\" \n",
    "# works as follows:\n",
    "#   - \":10\" makes the output 10 characters wide.\n",
    "#   - \",\" inserts thousands separators between groups of digits.\n",
    "#   - \".2\" limits the output to two digits after the decimal.\n",
    "#   - \"f\" tells Python to expect a floating-point number.\n",
    "#\n",
    "print(\"Subtotal:     ${:10,.2f}\".format(subtotal))\n",
    "print(\"Sales Tax:    ${:10,.2f}\".format(tax_amt))\n",
    "print(\"Total:        ${:10,.2f}\".format(total))"
   ]
  },
  {
   "cell_type": "code",
   "execution_count": 152,
   "id": "4b7d772c-655e-4766-84df-be6247a3764f",
   "metadata": {},
   "outputs": [
    {
     "name": "stdout",
     "output_type": "stream",
     "text": [
      "Hola Miqueas\n"
     ]
    }
   ],
   "source": [
    "nombre = \"Miqueas\"\n",
    "print(f'Hola {nombre}')"
   ]
  },
  {
   "cell_type": "code",
   "execution_count": 156,
   "id": "0ace0b7a-b402-4470-ae0e-e4b450ca4407",
   "metadata": {},
   "outputs": [
    {
     "name": "stdout",
     "output_type": "stream",
     "text": [
      "Artículo: x - Importe: 5 - Precio: 3.25\n"
     ]
    }
   ],
   "source": [
    "articulo=\"x\"\n",
    "item = \"Taza morada\"\n",
    "importe = 5\n",
    "cantidad = 1\n",
    "precio = cantidad * 3.25\n",
    "print(f'Artículo: {articulo} - Importe: {importe} - Precio: {precio:.2f}')"
   ]
  },
  {
   "cell_type": "code",
   "execution_count": 158,
   "id": "e0edd7ce-b0bb-4859-980b-0649719b9f93",
   "metadata": {},
   "outputs": [
    {
     "name": "stdout",
     "output_type": "stream",
     "text": [
      "True\n",
      "False\n",
      "True\n"
     ]
    }
   ],
   "source": [
    "# This function accepts a given string and checks each character of \n",
    "# the string to see if it is a letter or not. If the character is a\n",
    "# letter, that letter is added to the end of the string variable\n",
    "# \"forwards\" and to the beginning of the string variable \"backwards\".\n",
    "def mirrored_string(my_string):\n",
    "\n",
    "    # Two variables are initialized as string data types using empty \n",
    "    # quotes. The variable \"forwards\" will hold the \"my_string\"\n",
    "    # minus any character that is not a letter. The \"backwards\" \n",
    "    # variable will hold the same letters as \"forwards\", but in  \n",
    "    # in reverse order.\n",
    "    forwards = \"\"\n",
    "    backwards = \"\"\n",
    "\n",
    "    # The for loop iterates through each character of the \"my_string\"\n",
    "    for character in my_string:\n",
    "\n",
    "        # The if-statement checks if the character is not a space.\n",
    "        if character.isalpha():\n",
    "\n",
    "            # If True, the body of the loop adds the character to the\n",
    "            # to the end of \"forwards\" and to the front of\n",
    "            # \"backwards\". \n",
    "            forwards += character\n",
    "            backwards = character + backwards\n",
    "\n",
    "        # If False (meaning the character is not a letter), no action\n",
    "        # is needed. This coding approach results prevents any \n",
    "        # non-alphabetical characters from being written to the\n",
    "        # \"forwards\" and \"backwards\" variables. The for loop will \n",
    "        # restart until all characters in \"my_string\" have been\n",
    "        # processed.\n",
    "        \n",
    "    # The final if-statement compares the \"forwards\" and \"backwards\"\n",
    "    # strings to see if the letters are the same both forwards and\n",
    "    # backwards. Since Python is case sensitive, the two strings will \n",
    "    # need to be converted to use the same case for this comparison. \n",
    "    if forwards.lower() == backwards.lower():\n",
    "        return True\n",
    "    return False\n",
    " \n",
    "print(mirrored_string(\"12 Noon\")) # Should be True\n",
    "print(mirrored_string(\"Was it a car or cat I saw\")) # Should be False\n",
    "print(mirrored_string(\"'eve, Madam Eve\")) # Should be True"
   ]
  },
  {
   "cell_type": "code",
   "execution_count": 159,
   "id": "5591e459-771e-4eb2-8598-e9418b7153af",
   "metadata": {},
   "outputs": [
    {
     "name": "stdout",
     "output_type": "stream",
     "text": [
      "12 ounces equals 0.75 pounds\n",
      "50.5 ounces equals 3.16 pounds\n",
      "16 ounces equals 1.00 pounds\n"
     ]
    }
   ],
   "source": [
    "# This function converts measurement equivalents. Output is formatted \n",
    "# as, \"x ounces equals y pounds\", with y limited to 2 decimal places. \n",
    "def convert_weight(ounces):\n",
    "\n",
    "    # Conversion formula: 1 pound = 16 ounces\n",
    "    pounds = ounces/16 \n",
    "    \n",
    "    # The result is composed using the .format() method. There are two\n",
    "    # placeholders in the string: the first is for the \"ounces\" \n",
    "    # variable and the second is for the \"pounds\" variable. The second\n",
    "    # placeholder formats the float result of the conversion \n",
    "    # calculation to be limited to 2 decimal places.\n",
    "    result = \"{} ounces equals {:.2f} pounds\".format(ounces,pounds)\n",
    "    return result\n",
    "\n",
    "\n",
    "print(convert_weight(12)) # Should be: 12 ounces equals 0.75 pounds\n",
    "print(convert_weight(50.5)) # Should be: 50.5 ounces equals 3.16 pounds\n",
    "print(convert_weight(16)) # Should be: 16 ounces equals 1.00 pounds"
   ]
  },
  {
   "cell_type": "code",
   "execution_count": 160,
   "id": "152501ab-2f01-4271-9b13-1fad6a015d12",
   "metadata": {},
   "outputs": [
    {
     "name": "stdout",
     "output_type": "stream",
     "text": [
      "Iva1985\n",
      "Rod2000\n",
      "Den1991\n"
     ]
    }
   ],
   "source": [
    "# This function generates a username using the first 3 letters of a\n",
    "# user’s last name plus their birth year. \n",
    "def username(last_name, birth_year):\n",
    "    \n",
    "    # The .format() method will use the first 3 letters at index \n",
    "    # positions [0,1,2] of the \"last_name\" variable for the first\n",
    "    # {} placeholder. The second {} placeholder concatenates the user’s\n",
    "    #  \"birth_year\" to that string to form a new string username.\n",
    "    return(\"{}{}\".format(last_name[0:3],birth_year))\n",
    "\n",
    "\n",
    "print(username(\"Ivanov\", \"1985\")) \n",
    "# Should display \"Iva1985\" \n",
    "print(username(\"Rodríguez\", \"2000\")) \n",
    "# Should display \"Rod2000\" \n",
    "print(username(\"Deng\", \"1991\")) \n",
    "# Should display \"Den1991\""
   ]
  },
  {
   "cell_type": "code",
   "execution_count": 161,
   "id": "52f75f03-8525-4c51-86e1-7394f280c513",
   "metadata": {},
   "outputs": [
    {
     "name": "stdout",
     "output_type": "stream",
     "text": [
      "Last year’s annual report will be released in March 2024\n",
      "In April, the CEO will hold a conference\n",
      "The convention is scheduled for June\n"
     ]
    }
   ],
   "source": [
    "# This function checks a given schedule entry for an old date and, if \n",
    "# found, the function replaces it with a new date. \n",
    "def replace_date(schedule, old_date, new_date):\n",
    "\n",
    "    # Check if the given \"old_date\" appears at the end of the given \n",
    "    # string variable \"schedule\". \n",
    "    if schedule.endswith(old_date):\n",
    "\n",
    "        # If True, the body of the if-block will run. The variable \"p\" is\n",
    "        # used to hold the slicing index position. The len() function\n",
    "        # is used to measure the length of the string \"old_date\".\n",
    "        p = len(old_date)\n",
    "\n",
    "        # The \"new_schedule\" string holds the updated string with the \n",
    "        # old date replaced by the new date. The schedule[:-p] part of \n",
    "        # the code trims the \"old_date\" substring from \"schedule\" \n",
    "        # starting at the final index position (or right-side) counting\n",
    "        # towards the left the same number of index positions as \n",
    "        # calculated from len(old_date). Then, the code schedule[-p:]\n",
    "        # starts the indexing position at the slot where the first\n",
    "        # character of the \"old_date\" used to be positioned. The \n",
    "        # .replace(old_date, new_date) code inserts the \"new_date\" into\n",
    "        # the position where the \"old_date\" used to exist.  \n",
    "        new_schedule = schedule[:-p] + schedule[-p:].replace(old_date, new_date)\n",
    "\n",
    "        # Returns the schedule with the new date.\n",
    "        return new_schedule\n",
    "        \n",
    "    # If the schedule does not end with the old date, then return the\n",
    "    # original sentence without any modifications.\n",
    "    return schedule\n",
    " \n",
    " \n",
    "print(replace_date(\"Last year’s annual report will be released in March 2023\", \"2023\", \"2024\")) \n",
    "# Should display \"Last year’s annual report will be released in March 2024\"\n",
    "print(replace_date(\"In April, the CEO will hold a conference\", \"April\", \"May\")) \n",
    "# Should display \"In April, the CEO will hold a conference\"\n",
    "print(replace_date(\"The convention is scheduled for October\", \"October\", \"June\")) \n",
    "# Should display \"The convention is scheduled for June\""
   ]
  },
  {
   "cell_type": "code",
   "execution_count": 162,
   "id": "759cdd58-8e5a-4d0c-9184-53c6b53c4286",
   "metadata": {},
   "outputs": [
    {
     "name": "stdout",
     "output_type": "stream",
     "text": [
      "True\n",
      "False\n",
      "True\n"
     ]
    }
   ],
   "source": [
    "\n",
    "def is_palindrome(input_string):\n",
    "    # Two variables are initialized as string date types using empty \n",
    "    # quotes: \"reverse_string\" to hold the \"input_string\" in reverse\n",
    "    # order and \"new_string\" to hold the \"input_string\" minus the \n",
    "    # spaces between words, if any are found.\n",
    "    new_string = \"\"\n",
    "    reverse_string = \"\"\n",
    "    # Complete the for loop to iterate through each letter of the\n",
    "    # \"input_string\"\n",
    "    for letter in input_string:\n",
    "        # The if-statement checks if the \"letter\" is not a space.\n",
    "        if letter != \" \":\n",
    "            # If True, add the \"letter\" to the end of \"new_string\" and\n",
    "            # to the front of \"reverse_string\". If False (if a space\n",
    "            # is detected), no action is needed. Exit the if-block.\n",
    "            new_string = new_string + letter.lower()\n",
    "            reverse_string = letter.lower() + reverse_string\n",
    "    # Complete the if-statement to compare the \"new_string\" to the\n",
    "    # \"reverse_string\". Remember that Python is case-sensitive when\n",
    "    # creating the string comparison code. \n",
    "    if new_string == reverse_string:\n",
    "        # If True, the \"input_string\" contains a palindrome.\n",
    "        return True\n",
    "\t\t\n",
    "    # Otherwise, return False.\n",
    "    return False\n",
    "\n",
    "print(is_palindrome(\"Never Odd or Even\")) # Should be True\n",
    "print(is_palindrome(\"abc\")) # Should be False\n",
    "print(is_palindrome(\"kayak\")) # Should be True"
   ]
  },
  {
   "cell_type": "code",
   "execution_count": 164,
   "id": "29d32941-b161-4563-9e7d-4b555b75ad7f",
   "metadata": {},
   "outputs": [
    {
     "name": "stdout",
     "output_type": "stream",
     "text": [
      "12 miles equals 19.2 km\n",
      "5.5 miles equals 8.8 km\n",
      "11 miles equals 17.6 km\n"
     ]
    }
   ],
   "source": [
    "def convert_distance(miles):\n",
    "    km = miles * 1.6 \n",
    "    result = \"{} miles equals {:.1f} km\".format(miles, km)\n",
    "    return result\n",
    "\n",
    "print(convert_distance(12)) # Should be: 12 miles equals 19.2 km\n",
    "print(convert_distance(5.5)) # Should be: 5.5 miles equals 8.8 km\n",
    "print(convert_distance(11)) # Should be: 11 miles equals 17.6 km"
   ]
  },
  {
   "cell_type": "code",
   "execution_count": 165,
   "id": "ffd06c05-e149-40de-830c-366b58d6c7f9",
   "metadata": {},
   "outputs": [
    {
     "name": "stdout",
     "output_type": "stream",
     "text": [
      "Jane S.\n",
      "Francesco R.\n",
      "Jean-Luc G.\n"
     ]
    }
   ],
   "source": [
    "def nametag(first_name, last_name):\n",
    "    return(\"{} {}.\".format(first_name,last_name[0]))\n",
    "\n",
    "\n",
    "print(nametag(\"Jane\", \"Smith\")) \n",
    "# Should display \"Jane S.\" \n",
    "print(nametag(\"Francesco\", \"Rinaldi\")) \n",
    "# Should display \"Francesco R.\" \n",
    "print(nametag(\"Jean-Luc\", \"Grand-Pierre\")) \n",
    "# Should display \"Jean-Luc G.\" "
   ]
  },
  {
   "cell_type": "code",
   "execution_count": 166,
   "id": "59f1bb0d-8842-4a50-89ce-ce7045bb1a9f",
   "metadata": {},
   "outputs": [
    {
     "name": "stdout",
     "output_type": "stream",
     "text": [
      "It's raining cats and dogs\n",
      "She sells seashells by the seashore\n",
      "The weather is nice in May\n",
      "The weather is nice in April\n"
     ]
    }
   ],
   "source": [
    "def replace_ending(sentence, old, new):\n",
    "    # Check if the old substring is at the end of the sentence \n",
    "    if sentence.endswith(old):\n",
    "        # Using i as the slicing index, combine the part\n",
    "        # of the sentence up to the matched string at the \n",
    "        # end with the new string\n",
    "        i = len(sentence) - len(old)\n",
    "        new_sentence = sentence[:i] + new\n",
    "        return new_sentence\n",
    "\n",
    "    # Return the original sentence if there is no match \n",
    "    return sentence\n",
    "    \n",
    "print(replace_ending(\"It's raining cats and cats\", \"cats\", \"dogs\")) \n",
    "# Should display \"It's raining cats and dogs\"\n",
    "print(replace_ending(\"She sells seashells by the seashore\", \"seashells\", \"donuts\")) \n",
    "# Should display \"She sells seashells by the seashore\"\n",
    "print(replace_ending(\"The weather is nice in May\", \"may\", \"april\")) \n",
    "# Should display \"The weather is nice in May\"\n",
    "print(replace_ending(\"The weather is nice in May\", \"May\", \"April\")) \n",
    "# Should display \"The weather is nice in April\""
   ]
  },
  {
   "cell_type": "code",
   "execution_count": 167,
   "id": "9b2dbb73-4b9a-46e5-8d95-eb29fb411108",
   "metadata": {},
   "outputs": [],
   "source": [
    "x = [\"Now\", \"we\", \"are\", \"cooking!\"]"
   ]
  },
  {
   "cell_type": "code",
   "execution_count": 168,
   "id": "685a21bc-a6b2-4bb2-b0b1-dbcc2738352b",
   "metadata": {},
   "outputs": [
    {
     "data": {
      "text/plain": [
       "list"
      ]
     },
     "execution_count": 168,
     "metadata": {},
     "output_type": "execute_result"
    }
   ],
   "source": [
    "x = [\"Now\", \"we\", \"are\", \"cooking!\"]\n",
    "type(x)"
   ]
  },
  {
   "cell_type": "code",
   "execution_count": 169,
   "id": "44285730-ff40-4f09-b7ab-192fdb00f2e4",
   "metadata": {},
   "outputs": [
    {
     "name": "stdout",
     "output_type": "stream",
     "text": [
      "['Now', 'we', 'are', 'cooking!']\n"
     ]
    }
   ],
   "source": [
    "x = [\"Now\", \"we\", \"are\", \"cooking!\"]\n",
    "print(x)"
   ]
  },
  {
   "cell_type": "code",
   "execution_count": 170,
   "id": "ce5b34b6-996b-49f1-bb2e-d213e96b2677",
   "metadata": {},
   "outputs": [
    {
     "data": {
      "text/plain": [
       "4"
      ]
     },
     "execution_count": 170,
     "metadata": {},
     "output_type": "execute_result"
    }
   ],
   "source": [
    "x = [\"Now\", \"we\", \"are\", \"cooking!\"]\n",
    "len(x)"
   ]
  },
  {
   "cell_type": "code",
   "execution_count": 171,
   "id": "e7c6d334-e778-44bf-8719-bc94134d4195",
   "metadata": {},
   "outputs": [
    {
     "data": {
      "text/plain": [
       "True"
      ]
     },
     "execution_count": 171,
     "metadata": {},
     "output_type": "execute_result"
    }
   ],
   "source": [
    "x = [\"Now\", \"we\", \"are\", \"cooking!\"]\n",
    "\"are\" in x"
   ]
  },
  {
   "cell_type": "code",
   "execution_count": 172,
   "id": "535aeb2a-f03f-428f-8ba1-943939c0c29a",
   "metadata": {},
   "outputs": [
    {
     "data": {
      "text/plain": [
       "False"
      ]
     },
     "execution_count": 172,
     "metadata": {},
     "output_type": "execute_result"
    }
   ],
   "source": [
    "x = [\"Now\", \"we\", \"are\", \"cooking!\"]\n",
    "\"Today\" in x"
   ]
  },
  {
   "cell_type": "code",
   "execution_count": 173,
   "id": "158fca05-e442-4ebb-9bd2-25f235a0e19c",
   "metadata": {},
   "outputs": [
    {
     "name": "stdout",
     "output_type": "stream",
     "text": [
      "Now\n",
      "cooking!\n"
     ]
    }
   ],
   "source": [
    "x = [\"Now\", \"we\", \"are\", \"cooking!\"]\n",
    "print(x[0])\n",
    "print(x[3])"
   ]
  },
  {
   "cell_type": "code",
   "execution_count": 174,
   "id": "836cd70a-8b3a-4225-af03-08cada4a8e7d",
   "metadata": {},
   "outputs": [
    {
     "ename": "IndexError",
     "evalue": "list index out of range",
     "output_type": "error",
     "traceback": [
      "\u001b[1;31m---------------------------------------------------------------------------\u001b[0m",
      "\u001b[1;31mIndexError\u001b[0m                                Traceback (most recent call last)",
      "Cell \u001b[1;32mIn[174], line 2\u001b[0m\n\u001b[0;32m      1\u001b[0m x \u001b[38;5;241m=\u001b[39m [\u001b[38;5;124m\"\u001b[39m\u001b[38;5;124mNow\u001b[39m\u001b[38;5;124m\"\u001b[39m, \u001b[38;5;124m\"\u001b[39m\u001b[38;5;124mwe\u001b[39m\u001b[38;5;124m\"\u001b[39m, \u001b[38;5;124m\"\u001b[39m\u001b[38;5;124mare\u001b[39m\u001b[38;5;124m\"\u001b[39m, \u001b[38;5;124m\"\u001b[39m\u001b[38;5;124mcooking!\u001b[39m\u001b[38;5;124m\"\u001b[39m]\n\u001b[1;32m----> 2\u001b[0m \u001b[38;5;28mprint\u001b[39m(x[\u001b[38;5;241m4\u001b[39m])\n",
      "\u001b[1;31mIndexError\u001b[0m: list index out of range"
     ]
    }
   ],
   "source": [
    "x = [\"Now\", \"we\", \"are\", \"cooking!\"]\n",
    "print(x[4])"
   ]
  },
  {
   "cell_type": "code",
   "execution_count": 175,
   "id": "712b2699-0e41-425d-9f0f-4768e8ae5c52",
   "metadata": {},
   "outputs": [
    {
     "data": {
      "text/plain": [
       "['we', 'are']"
      ]
     },
     "execution_count": 175,
     "metadata": {},
     "output_type": "execute_result"
    }
   ],
   "source": [
    "x = [\"Now\", \"we\", \"are\", \"cooking!\"]\n",
    "x[1:3]"
   ]
  },
  {
   "cell_type": "code",
   "execution_count": 176,
   "id": "620e218c-1b67-4f45-8e89-7bdb69d8eee3",
   "metadata": {},
   "outputs": [
    {
     "data": {
      "text/plain": [
       "['Now', 'we']"
      ]
     },
     "execution_count": 176,
     "metadata": {},
     "output_type": "execute_result"
    }
   ],
   "source": [
    "x = [\"Now\", \"we\", \"are\", \"cooking!\"]\n",
    "x[:2]"
   ]
  },
  {
   "cell_type": "code",
   "execution_count": 177,
   "id": "446c08c6-139c-4403-bf28-4bf1ebd250c3",
   "metadata": {},
   "outputs": [
    {
     "data": {
      "text/plain": [
       "['are', 'cooking!']"
      ]
     },
     "execution_count": 177,
     "metadata": {},
     "output_type": "execute_result"
    }
   ],
   "source": [
    "x = [\"Now\", \"we\", \"are\", \"cooking!\"]\n",
    "x[2:]"
   ]
  },
  {
   "cell_type": "code",
   "execution_count": 178,
   "id": "db0b6f33-269a-40f0-bdf2-404a91a67089",
   "metadata": {},
   "outputs": [
    {
     "name": "stdout",
     "output_type": "stream",
     "text": [
      "a\n",
      "This\n",
      "\n",
      "\n"
     ]
    }
   ],
   "source": [
    "def get_word(sentence, n):\n",
    "\t# Only proceed if n is positive \n",
    "\tif n > 0:\n",
    "\t\twords = sentence.split()\n",
    "\t\t# Only proceed if n is not more than the number of words \n",
    "\t\tif n <= len(words):\n",
    "\t\t\treturn(words[n-1])\n",
    "\treturn(\"\")\n",
    "\n",
    "# Test cases\n",
    "print(get_word(\"This is a lesson to learn\", 3))  # Should return \"a\"\n",
    "print(get_word(\"This is a lesson to learn\", 1))  # Should return \"This\"\n",
    "print(get_word(\"This is a lesson to learn\", 0))  # Should return \"\"\n",
    "print(get_word(\"This is a lesson to learn\", 10)) # Should return \"\""
   ]
  },
  {
   "cell_type": "code",
   "execution_count": 179,
   "id": "5c53ff6c-72f7-4602-8c5d-157146f7f6e8",
   "metadata": {},
   "outputs": [
    {
     "name": "stdout",
     "output_type": "stream",
     "text": [
      "['Pineapple', 'Banana', 'Apple', 'Melon', 'Kiwi']\n"
     ]
    }
   ],
   "source": [
    "fruits = [\"Pineapple\", \"Banana\", \"Apple\", \"Melon\"]\n",
    "fruits.append(\"Kiwi\")\n",
    "print(fruits)"
   ]
  },
  {
   "cell_type": "code",
   "execution_count": 180,
   "id": "44654393-a56d-47ab-89fa-2f0cbe6cbdf5",
   "metadata": {},
   "outputs": [
    {
     "name": "stdout",
     "output_type": "stream",
     "text": [
      "['Orange', 'Pineapple', 'Banana', 'Apple', 'Melon']\n"
     ]
    }
   ],
   "source": [
    "fruits = [\"Pineapple\", \"Banana\", \"Apple\", \"Melon\"]\n",
    "fruits.insert(0, \"Orange\")\n",
    "print(fruits)"
   ]
  },
  {
   "cell_type": "code",
   "execution_count": 181,
   "id": "e486942a-f16a-4f76-a5c3-325daa5e9881",
   "metadata": {},
   "outputs": [
    {
     "name": "stdout",
     "output_type": "stream",
     "text": [
      "['Orange', 'Pineapple', 'Banana', 'Apple', 'Melon', 'Peach']\n"
     ]
    }
   ],
   "source": [
    "fruits = [\"Pineapple\", \"Banana\", \"Apple\", \"Melon\"]\n",
    "fruits.insert(0, \"Orange\")\n",
    "fruits.insert(25, \"Peach\")\n",
    "print(fruits)"
   ]
  },
  {
   "cell_type": "code",
   "execution_count": 182,
   "id": "2f640afb-4656-4299-b385-ace312d2052a",
   "metadata": {},
   "outputs": [
    {
     "name": "stdout",
     "output_type": "stream",
     "text": [
      "['Orange', 'Pineapple', 'Banana', 'Apple', 'Peach']\n"
     ]
    }
   ],
   "source": [
    "fruits = [\"Pineapple\", \"Banana\", \"Apple\", \"Melon\"]\n",
    "fruits.insert(0, \"Orange\")\n",
    "fruits.insert(25, \"Peach\")\n",
    "fruits.remove(\"Melon\")\n",
    "print(fruits)"
   ]
  },
  {
   "cell_type": "code",
   "execution_count": 183,
   "id": "43ba38ee-bad4-41c5-9698-74655998b690",
   "metadata": {},
   "outputs": [
    {
     "ename": "ValueError",
     "evalue": "list.remove(x): x not in list",
     "output_type": "error",
     "traceback": [
      "\u001b[1;31m---------------------------------------------------------------------------\u001b[0m",
      "\u001b[1;31mValueError\u001b[0m                                Traceback (most recent call last)",
      "Cell \u001b[1;32mIn[183], line 2\u001b[0m\n\u001b[0;32m      1\u001b[0m fruits \u001b[38;5;241m=\u001b[39m [\u001b[38;5;124m\"\u001b[39m\u001b[38;5;124mPineapple\u001b[39m\u001b[38;5;124m\"\u001b[39m, \u001b[38;5;124m\"\u001b[39m\u001b[38;5;124mBanana\u001b[39m\u001b[38;5;124m\"\u001b[39m, \u001b[38;5;124m\"\u001b[39m\u001b[38;5;124mApple\u001b[39m\u001b[38;5;124m\"\u001b[39m, \u001b[38;5;124m\"\u001b[39m\u001b[38;5;124mMelon\u001b[39m\u001b[38;5;124m\"\u001b[39m]\n\u001b[1;32m----> 2\u001b[0m fruits\u001b[38;5;241m.\u001b[39mremove(\u001b[38;5;124m\"\u001b[39m\u001b[38;5;124mPear\u001b[39m\u001b[38;5;124m\"\u001b[39m)\n",
      "\u001b[1;31mValueError\u001b[0m: list.remove(x): x not in list"
     ]
    }
   ],
   "source": [
    "fruits = [\"Pineapple\", \"Banana\", \"Apple\", \"Melon\"]\n",
    "fruits.remove(\"Pear\")\n",
    "#This will throw an error"
   ]
  },
  {
   "cell_type": "code",
   "execution_count": 184,
   "id": "0c2a3cfc-3885-494a-8faa-e4bb149be319",
   "metadata": {},
   "outputs": [
    {
     "name": "stdout",
     "output_type": "stream",
     "text": [
      "['Orange', 'Pineapple', 'Banana', 'Peach']\n"
     ]
    }
   ],
   "source": [
    "fruits = [\"Pineapple\", \"Banana\", \"Apple\", \"Melon\"]\n",
    "fruits.insert(0, \"Orange\")\n",
    "fruits.insert(25, \"Peach\")\n",
    "fruits.remove(\"Melon\")\n",
    "fruits.pop(3)\n",
    "print(fruits)"
   ]
  },
  {
   "cell_type": "code",
   "execution_count": 185,
   "id": "d1147984-1af9-49fd-b3e0-a2c35bb6d81f",
   "metadata": {},
   "outputs": [
    {
     "name": "stdout",
     "output_type": "stream",
     "text": [
      "['Orange', 'Pineapple', 'Strawberry', 'Peach']\n"
     ]
    }
   ],
   "source": [
    "fruits = [\"Pineapple\", \"Banana\", \"Apple\", \"Melon\"]\n",
    "fruits.insert(0, \"Orange\")\n",
    "fruits.insert(25, \"Peach\")\n",
    "fruits.remove(\"Melon\")\n",
    "fruits.pop(3)\n",
    "fruits[2] = \"Strawberry\"\n",
    "print(fruits)"
   ]
  },
  {
   "cell_type": "code",
   "execution_count": 186,
   "id": "6bcc9902-217d-442d-b0e5-548174dd2b3e",
   "metadata": {},
   "outputs": [],
   "source": [
    "fullname = ('Grace', 'M', 'Hopper')"
   ]
  },
  {
   "cell_type": "code",
   "execution_count": 187,
   "id": "ccb7d7fe-9799-4ef8-a365-a4b007955eae",
   "metadata": {},
   "outputs": [
    {
     "data": {
      "text/plain": [
       "tuple"
      ]
     },
     "execution_count": 187,
     "metadata": {},
     "output_type": "execute_result"
    }
   ],
   "source": [
    "def convert_seconds(seconds):\n",
    "  hours = seconds // 3600\n",
    "  minutes = (seconds - hours * 3600) // 60\n",
    "  remaining_seconds = seconds - hours * 3600 - minutes * 60\n",
    "  return hours, minutes, remaining_seconds\n",
    "result = convert_seconds(5000)\n",
    "type(result)"
   ]
  },
  {
   "cell_type": "code",
   "execution_count": 188,
   "id": "0d14eade-25e8-407b-b699-bcb44e3ef125",
   "metadata": {},
   "outputs": [
    {
     "name": "stdout",
     "output_type": "stream",
     "text": [
      "(1, 23, 20)\n"
     ]
    }
   ],
   "source": [
    "def convert_seconds(seconds):\n",
    "  hours = seconds // 3600\n",
    "  minutes = (seconds - hours * 3600) // 60\n",
    "  remaining_seconds = seconds - hours * 3600 - minutes * 60\n",
    "  return hours, minutes, remaining_seconds\n",
    "result = convert_seconds(5000)\n",
    "print(result)"
   ]
  },
  {
   "cell_type": "code",
   "execution_count": 189,
   "id": "628c394e-1f39-4897-8254-420cfd941108",
   "metadata": {},
   "outputs": [
    {
     "name": "stdout",
     "output_type": "stream",
     "text": [
      "1 23 20\n"
     ]
    }
   ],
   "source": [
    "def convert_seconds(seconds):\n",
    "  hours = seconds // 3600\n",
    "  minutes = (seconds - hours * 3600) // 60\n",
    "  remaining_seconds = seconds - hours * 3600 - minutes * 60\n",
    "  return hours, minutes, remaining_seconds\n",
    "result = convert_seconds(5000)\n",
    "hours, minutes, seconds = result\n",
    "print(hours, minutes, seconds)"
   ]
  },
  {
   "cell_type": "code",
   "execution_count": 190,
   "id": "a42e98bc-c3cf-42a8-9363-adfbae9d1957",
   "metadata": {},
   "outputs": [
    {
     "name": "stdout",
     "output_type": "stream",
     "text": [
      "0 16 40\n"
     ]
    }
   ],
   "source": [
    "def convert_seconds(seconds):\n",
    "  hours = seconds // 3600\n",
    "  minutes = (seconds - hours * 3600) // 60\n",
    "  remaining_seconds = seconds - hours * 3600 - minutes * 60\n",
    "  return hours, minutes, remaining_seconds\n",
    "hours, minutes, seconds = convert_seconds(1000)\n",
    "print(hours, minutes, seconds)"
   ]
  },
  {
   "cell_type": "code",
   "execution_count": 191,
   "id": "a61cb7ea-33c9-4905-a38e-18f18275dac4",
   "metadata": {},
   "outputs": [
    {
     "name": "stdout",
     "output_type": "stream",
     "text": [
      "17.46\n",
      "0.48\n",
      "1.21\n"
     ]
    }
   ],
   "source": [
    "def file_size(file_info):\n",
    "\tname, extension, size = file_info\n",
    "\treturn(\"{:.2f}\".format(size / 1024))\n",
    "\n",
    "print(file_size(('Class Assignment', 'docx', 17875))) # Should print 17.46\n",
    "print(file_size(('Notes', 'txt', 496))) # Should print 0.48\n",
    "print(file_size(('Program', 'py', 1239))) # Should print 1.21"
   ]
  },
  {
   "cell_type": "code",
   "execution_count": 192,
   "id": "c95eb717-691f-421a-8138-b0e4990e05e0",
   "metadata": {},
   "outputs": [
    {
     "name": "stdout",
     "output_type": "stream",
     "text": [
      "Total characters: 22, Average length: 5.5\n"
     ]
    }
   ],
   "source": [
    "animals = [\"Lion\", \"Zebra\", \"Dolphin\", \"Monkey\"]\n",
    "chars = 0\n",
    "for animal in animals:\n",
    "  chars += len(animal)\n",
    "\n",
    "print(\"Total characters: {}, Average length: {}\".format(chars, chars/len(animals)))"
   ]
  },
  {
   "cell_type": "code",
   "execution_count": 193,
   "id": "1532424b-abac-48ba-9b71-36993dd85bf7",
   "metadata": {},
   "outputs": [
    {
     "name": "stdout",
     "output_type": "stream",
     "text": [
      "1 - Ashley\n",
      "2 - Dylan\n",
      "3 - Reese\n"
     ]
    }
   ],
   "source": [
    "winners = [\"Ashley\", \"Dylan\", \"Reese\"]\n",
    "for index, person in enumerate(winners):\n",
    "  print(\"{} - {}\".format(index + 1, person))"
   ]
  },
  {
   "cell_type": "code",
   "execution_count": 194,
   "id": "bbfe464e-ccc6-41df-8b58-218dc5de0f5d",
   "metadata": {},
   "outputs": [
    {
     "name": "stdout",
     "output_type": "stream",
     "text": [
      "['Alex Diego <alex@example.com>', 'Shay Brandt <shay@example.com>']\n"
     ]
    }
   ],
   "source": [
    "def full_emails(people):\n",
    "  result = []\n",
    "  for email, name in people:\n",
    "    result.append(\"{} <{}>\".format(name, email))\n",
    "  return result\n",
    "print(full_emails([(\"alex@example.com\", \"Alex Diego\"), (\"shay@example.com\", \"Shay Brandt\")]))"
   ]
  },
  {
   "cell_type": "code",
   "execution_count": 195,
   "id": "9541824f-eafb-4ff5-86a4-2220d5aea873",
   "metadata": {},
   "outputs": [
    {
     "name": "stdout",
     "output_type": "stream",
     "text": [
      "[7, 14, 21, 28, 35, 42, 49, 56, 63, 70]\n"
     ]
    }
   ],
   "source": [
    "multiples = []\n",
    "for x in range(1,11):\n",
    "  multiples.append(x*7)\n",
    "\n",
    "print(multiples)"
   ]
  },
  {
   "cell_type": "code",
   "execution_count": 196,
   "id": "e6069f79-7783-4951-b85c-cf9beec7d8f8",
   "metadata": {},
   "outputs": [
    {
     "name": "stdout",
     "output_type": "stream",
     "text": [
      "[7, 14, 21, 28, 35, 42, 49, 56, 63, 70]\n"
     ]
    }
   ],
   "source": [
    "multiples = [x*7 for x in range(1,11)]\n",
    "print(multiples)"
   ]
  },
  {
   "cell_type": "code",
   "execution_count": 197,
   "id": "dd77f24c-fda4-414f-9f10-00037c4858fa",
   "metadata": {},
   "outputs": [
    {
     "name": "stdout",
     "output_type": "stream",
     "text": [
      "[6, 4, 4, 2, 4, 1]\n"
     ]
    }
   ],
   "source": [
    "languages = [\"Python\", \"Perl\", \"Ruby\", \"Go\", \"Java\", \"C\"]\n",
    "lengths = [len(language) for language in languages]\n",
    "print(lengths)"
   ]
  },
  {
   "cell_type": "code",
   "execution_count": 198,
   "id": "9d5eb042-e0ce-4f51-92af-883b93ecda72",
   "metadata": {},
   "outputs": [
    {
     "name": "stdout",
     "output_type": "stream",
     "text": [
      "[0, 3, 6, 9, 12, 15, 18, 21, 24, 27, 30, 33, 36, 39, 42, 45, 48, 51, 54, 57, 60, 63, 66, 69, 72, 75, 78, 81, 84, 87, 90, 93, 96, 99]\n"
     ]
    }
   ],
   "source": [
    "z = [x for x in range(0,101) if x % 3 == 0]\n",
    "print(z)"
   ]
  },
  {
   "cell_type": "code",
   "execution_count": 199,
   "id": "86828030-66cf-4ef6-b907-51ff0c25222d",
   "metadata": {},
   "outputs": [
    {
     "name": "stdout",
     "output_type": "stream",
     "text": [
      "[1, 3, 5]\n",
      "[1, 3, 5, 7, 9]\n",
      "[1, 3, 5, 7, 9, 11]\n",
      "[1]\n",
      "[]\n"
     ]
    }
   ],
   "source": [
    "def odd_numbers(n):\n",
    "\treturn [x for x in range(1, n+1) if x % 2 == 1]\n",
    "\n",
    "print(odd_numbers(5))  # Should print [1, 3, 5]\n",
    "print(odd_numbers(10)) # Should print [1, 3, 5, 7, 9]\n",
    "print(odd_numbers(11)) # Should print [1, 3, 5, 7, 9, 11]\n",
    "print(odd_numbers(1))  # Should print [1]\n",
    "print(odd_numbers(-1)) # Should print []"
   ]
  },
  {
   "cell_type": "code",
   "execution_count": 200,
   "id": "531ae608-37b1-4ce1-ba4f-24fe805ddf05",
   "metadata": {},
   "outputs": [],
   "source": [
    "# Create a list of tuples where each tuple contains the numbers 1, 2, and 3.\n",
    "numbers = [(1, 2, 3) for _ in range(5)]"
   ]
  },
  {
   "cell_type": "code",
   "execution_count": 201,
   "id": "52f4f9f7-47d4-4c22-be0e-486c17f19f91",
   "metadata": {},
   "outputs": [
    {
     "name": "stdout",
     "output_type": "stream",
     "text": [
      "List comprehension result:\n",
      "[2, 4, 6, 8, 10, 12, 14, 16, 18, 20]\n",
      "Long form code result:\n",
      "[2, 4, 6, 8, 10, 12, 14, 16, 18, 20]\n"
     ]
    }
   ],
   "source": [
    "### Simple List Comprehension\n",
    "print(\"List comprehension result:\")\n",
    "\n",
    "# The following list comprehension compacts several lines \n",
    "# of code into one line:\n",
    "print([x*2 for x in range(1,11)])\n",
    "\n",
    "### Long form for loop\n",
    "print(\"Long form code result:\")\n",
    "\n",
    "# The list comprehension above accomplishes the same result as\n",
    "# the long form version of the code shown below:\n",
    "my_list = []\n",
    "for x in range(1,11):\n",
    "    my_list.append(x*2)\n",
    "print(my_list)\n",
    "\n",
    "# Select Run to compare the two results."
   ]
  },
  {
   "cell_type": "code",
   "execution_count": 202,
   "id": "0b62e6ce-eee6-41ce-ad1b-d0a32dc69380",
   "metadata": {},
   "outputs": [
    {
     "name": "stdout",
     "output_type": "stream",
     "text": [
      "List comprehension result:\n",
      "[10, 20, 30, 40, 50, 60, 70, 80, 90, 100]\n",
      "Long form code result:\n",
      "[10, 20, 30, 40, 50, 60, 70, 80, 90, 100]\n"
     ]
    }
   ],
   "source": [
    "print(\"List comprehension result:\")\n",
    "print([x for x in range(1,101) if x % 10 == 0])\n",
    "\n",
    "# The list comprehension above accomplishes the same result as\n",
    "# the long form version of the code:\n",
    "print(\"Long form code result:\")\n",
    "my_list = []\n",
    "for x in range(1,101):\n",
    "    if x % 10 == 0:\n",
    "        my_list.append(x)\n",
    "print(my_list)\n",
    "\n",
    "# Select Run to observe the two results."
   ]
  },
  {
   "cell_type": "code",
   "execution_count": null,
   "id": "5f332f89-7d53-45d0-a97e-7e7a69bc8634",
   "metadata": {},
   "outputs": [],
   "source": [
    "def squares(start, end):\n",
    "    return [x**2 for x in range(start, end+1)]\n",
    "\n",
    "\n",
    "print(squares(2, 3))    # Should print [4, 9]\n",
    "print(squares(1, 5))    # Should print [1, 4, 9, 16, 25]\n",
    "print(squares(0, 10))   # Should print [0, 1, 4, 9, 16, 25, 36, 49, 64, 81, 100]"
   ]
  },
  {
   "cell_type": "code",
   "execution_count": 203,
   "id": "8a3116ba-0dad-44e4-8362-39fb8c4dbbe8",
   "metadata": {},
   "outputs": [
    {
     "name": "stdout",
     "output_type": "stream",
     "text": [
      "(1, 2, 3, 4)\n",
      "(1, 2, 3, 4)\n"
     ]
    }
   ],
   "source": [
    "# Convert a list to a tuple\n",
    "my_list = [1, 2, 3, 4]\n",
    "my_tuple = tuple(my_list)\n",
    "\n",
    "print(my_tuple)  # Outputs: (1, 2, 3, 4)\n",
    "\n",
    "# Remember that although parentheses are often used to define a tuple, \n",
    "# they're not always necessary. The following syntax is also valid:\n",
    "\n",
    "my_tuple = 1, 2, 3, 4\n",
    "print(my_tuple)  # Outputs: (1, 2, 3, 4)"
   ]
  },
  {
   "cell_type": "code",
   "execution_count": 204,
   "id": "8a6ffd1f-bd57-4868-bdee-55789badfcdd",
   "metadata": {},
   "outputs": [
    {
     "name": "stdout",
     "output_type": "stream",
     "text": [
      "(1, 2, ['x', 'b', 'c'])\n"
     ]
    }
   ],
   "source": [
    "# A tuple with a list as an element\n",
    "my_tuple = (1, 2, ['a', 'b', 'c'])\n",
    "\n",
    "# You can't change the tuple itself\n",
    "# my_tuple[0] = 3  # This would raise a TypeError\n",
    "\n",
    "# But you can modify the mutable elements within the tuple\n",
    "my_tuple[2][0] = 'x'  \n",
    "print(my_tuple)  # Outputs: (1, 2, ['x', 'b', 'c'])"
   ]
  },
  {
   "cell_type": "code",
   "execution_count": 205,
   "id": "d310aad8-d0bf-4216-bcf5-2508c5c1d9d7",
   "metadata": {},
   "outputs": [
    {
     "name": "stdout",
     "output_type": "stream",
     "text": [
      "(12, 8, 20, 5.0)\n"
     ]
    }
   ],
   "source": [
    "def calculate_numbers(a, b):\n",
    "    return a+b, a-b, a*b, a/b\n",
    "\n",
    "result = calculate_numbers(10, 2)\n",
    "print(result)  # Outputs: (12, 8, 20, 5.0)"
   ]
  },
  {
   "cell_type": "code",
   "execution_count": 206,
   "id": "0468529b-f0cc-45d7-b2b6-dc63a5279749",
   "metadata": {},
   "outputs": [
    {
     "name": "stdout",
     "output_type": "stream",
     "text": [
      "12\n",
      "8\n"
     ]
    }
   ],
   "source": [
    "def calculate_numbers(a, b):\n",
    "    return a+b, a-b, a*b, a/b\n",
    "\n",
    "add_result, sub_result, mul_result, div_result = calculate_numbers(10, 2)\n",
    "print(add_result)  # Outputs: 12\n",
    "print(sub_result)  # Outputs: 8"
   ]
  },
  {
   "cell_type": "code",
   "execution_count": 207,
   "id": "131a645e-7ec1-4167-879d-512918100bea",
   "metadata": {},
   "outputs": [],
   "source": [
    "my_list = [ x*2 for x in range(1,11) ]"
   ]
  },
  {
   "cell_type": "code",
   "execution_count": 208,
   "id": "f4a1c8fd-5fb6-4806-b8a6-ed52d50bf8ec",
   "metadata": {},
   "outputs": [],
   "source": [
    "my_list = [ x for x in range(1,101) if x % 10 == 0 ] "
   ]
  },
  {
   "cell_type": "code",
   "execution_count": 209,
   "id": "cbf38fe5-d54c-4f07-a08e-b2aefff83922",
   "metadata": {},
   "outputs": [
    {
     "data": {
      "text/plain": [
       "(1, 2, 3)"
      ]
     },
     "execution_count": 209,
     "metadata": {},
     "output_type": "execute_result"
    }
   ],
   "source": [
    "tuple(i for i in (1, 2, 3))"
   ]
  },
  {
   "cell_type": "code",
   "execution_count": 210,
   "id": "d0fb1d47-80f5-481f-8f42-588365fe47f3",
   "metadata": {},
   "outputs": [
    {
     "name": "stdout",
     "output_type": "stream",
     "text": [
      "['January 2024', 'May 2025', 'April 2024', 'August 2024', 'September 2025', 'December 2024']\n"
     ]
    }
   ],
   "source": [
    "# This block of code changes the year on a list of dates.\n",
    "# The \"years\" list is given with existing elements. \n",
    "years = [\"January 2023\", \"May 2025\", \"April 2023\", \"August 2024\", \"September 2025\", \"December 2023\"]\n",
    "\n",
    "# The variable \"updated_years\" is initialized as a list data type \n",
    "# using empty square brackets []. This list will hold the new list\n",
    "# with the updated years. \n",
    "updated_years = []\n",
    "# The for loop checks each \"year\" element in the list \"years\".\n",
    "for year in years:\n",
    "    # The if-statement checks if the \"year\" element ends with the \n",
    "    # substring \"2023\". \n",
    "    if year.endswith(\"2023\"):\n",
    "        # If True, then a temporary variable \"new\" will hold the \n",
    "        # modified \"year\" element where the \"2023\" substring is \n",
    "        # replaced with the substring \"2024\".\n",
    "        new = year.replace(\"2023\",\"2024\")\n",
    "        # Then, the list \"updated_years\" is appended with the changed\n",
    "        # element held in the temporary variable \"new\".\n",
    "        updated_years.append(new)\n",
    "    # If False, the original \"year\" element will be appended to the \n",
    "    # the \"updated_years\" list unchanged.\n",
    "    else:\n",
    "        updated_years.append(year)\n",
    "\n",
    "print(updated_years) \n",
    "# Should print [\"January 2024\", \"May 2025\", \"April 2024\", \"August 2024\", \"September 2025\", \"December 2024\"]"
   ]
  },
  {
   "cell_type": "code",
   "execution_count": 211,
   "id": "30fa2890-21db-4138-a2eb-26472e9312e9",
   "metadata": {},
   "outputs": [
    {
     "name": "stdout",
     "output_type": "stream",
     "text": [
      "[4, 9]\n",
      "[1, 4, 9, 16, 25]\n",
      "[0, 1, 4, 9, 16, 25, 36, 49, 64, 81, 100]\n"
     ]
    }
   ],
   "source": [
    "# This list comprehension creates a list of squared numbers (n*n). It\n",
    "# accepts two integer variables through the function’s parameters.\n",
    "def squares(start, end):\n",
    "    # The list comprehension calculates the square of a variable integer \n",
    "    # \"n\", where \"n\" ranges from the \"start\" to \"end\" variables inclusively.\n",
    "    # To be inclusive in a range(), add +1 to the end of range variable.\n",
    "    return [n*n for n in range(start,end+1)] \n",
    "\n",
    "print(squares(2, 3))  # Should print [4, 9]\n",
    "print(squares(1, 5))  # Should print [1, 4, 9, 16, 25]\n",
    "print(squares(0, 10)) # Should print [0, 1, 4, 9, 16, 25, 36, 49, 64, 81, 100]"
   ]
  },
  {
   "cell_type": "code",
   "execution_count": 212,
   "id": "493e689d-ca4e-40c1-8118-d3d5c6c2b426",
   "metadata": {},
   "outputs": [
    {
     "name": "stdout",
     "output_type": "stream",
     "text": [
      "['January 2024', 'May 2025', 'April 2024', 'August 2024', 'September 2025', 'December 2024']\n"
     ]
    }
   ],
   "source": [
    "# This block of code also changes the year on a list of dates using a\n",
    "# different approach than demonstrated in Skill Group 1. By using a \n",
    "# list comprehension, you can see how it is possible to refactor the\n",
    "# code to a shorter, more efficient code block. \n",
    "\n",
    "# The \"years\" list is given with existing elements.\n",
    "years = [\"January 2023\", \"May 2025\", \"April 2023\", \"August 2024\", \"September 2025\", \"December 2023\"]\n",
    "\n",
    "# The list comprehension below creates a new list \"updated_years\" to\n",
    "# hold the command to replace the \"2023\" substring of the \"year\"\n",
    "# element with the substring \"2024\". This action will be executed if\n",
    "# the last 4 indices of the \"year\" string is equal to the substring\n",
    "# \"2023\". If false (else), the \"year\" element will be included in the\n",
    "# new list \"updated_years\" unchanged.\n",
    "updated_years = [year.replace(\"2023\",\"2024\") if year[-4:] == \"2023\" else year for year in years]\n",
    "\n",
    "print(updated_years) \n",
    "# Should print [\"January 2024\", \"May 2025\", \"April 2024\", \"August 2024\", \"September 2025\", \"December 2024\"]"
   ]
  },
  {
   "cell_type": "code",
   "execution_count": 213,
   "id": "67b4ac53-1c30-4db9-92d1-f280121e68f4",
   "metadata": {},
   "outputs": [
    {
     "name": "stdout",
     "output_type": "stream",
     "text": [
      "one-1 two-2 three-3 four-4 five-5 \n"
     ]
    }
   ],
   "source": [
    "# This function splits a given string into a list of elements. Then, it\n",
    "# modifies each element by moving the first character to the end of the \n",
    "# element and adds a dash between the element and the moved character. \n",
    "# For example, the element \"2two\" will be changed to \"two-2\". Finally,\n",
    "# the function converts the list back to a string, and returns the\n",
    "# new string.\n",
    "def change_string(given_string):\n",
    "\n",
    "    # Initialize \"new_string\" as a string data type by using empty quotes.`\n",
    "    new_string = \"\"\n",
    "\n",
    "    # Split the \"given_string\" into a \"new_list\", with each \"element\"\n",
    "    # holding an individual word from the string.\n",
    "    new_list = given_string.split()\n",
    "\n",
    "    # The for loop iterates over each \"element\" in the \"new_list\".\n",
    "    for element in new_list:\n",
    "        # Convert the list into a \"new_string\" by using the assignment\n",
    "        # operator += to concatenate the following items: \n",
    "        # + Each list \"element\" (starting at index position [1:]), \n",
    "        # + a dash \"-\", \n",
    "        # + append the first character of the \"element\" (using the index \n",
    "        # [0]) to the end of the \"element\", and finally,\n",
    "        # + a space \" \" to separate each \"element\" in the \"new_string\".\n",
    "        new_string += element[1:] + \"-\" + element[0] + \" \"\n",
    "\n",
    "    # Return the list that has been converted back into a string.\n",
    "    return new_string\n",
    "\n",
    "print(change_string(\"1one 2two 3three 4four 5five\")) # Should print \"one-1 two-2 three-3 four-4 five-5\"  "
   ]
  },
  {
   "cell_type": "code",
   "execution_count": 214,
   "id": "37867abb-edae-4d09-81d3-dfc5f7513f36",
   "metadata": {},
   "outputs": [
    {
     "name": "stdout",
     "output_type": "stream",
     "text": [
      "The Printers list includes: Color Printer, Black and White Printer, 3-D Printer\n"
     ]
    }
   ],
   "source": [
    "# This function accepts a list name and a list of elements, and returns\n",
    "# a string with the format: \"The \"list_name\" list includes: element1, \n",
    "# element2, element3\". \n",
    "def list_elements(list_name, elements):\n",
    "    # This task can be completed in a single line of code. The \n",
    "    # concatenation of strings, \"list_name\", and the list \"elements\" can\n",
    "    # occur on the return line. In this case, the string \"The \" is added \n",
    "    # to the \"list_name\", plus the string \" list includes: \", then the\n",
    "    # \"elements\" are joined using a comma to separate each element of the \n",
    "    # list.\n",
    "    return \"The \" + list_name + \" list includes: \" + \", \".join(elements)\n",
    "\n",
    "print(list_elements(\"Printers\", [\"Color Printer\", \"Black and White Printer\", \"3-D Printer\"]))\n",
    "# Should print \"The Printers list includes: Color Printer, Black and White Printer, 3-D Printer\""
   ]
  },
  {
   "cell_type": "code",
   "execution_count": 215,
   "id": "5f8484b1-2b27-413c-a40d-fa06d34588f0",
   "metadata": {},
   "outputs": [
    {
     "name": "stdout",
     "output_type": "stream",
     "text": [
      "[2, 3, 4, 5, 6]\n"
     ]
    }
   ],
   "source": [
    "# A simple function to add 1 to a given number\n",
    "def add_one(number):\n",
    "    return number + 1\n",
    "\n",
    "# A list of numbers\n",
    "numbers = [1, 2, 3, 4, 5]\n",
    "\n",
    "# Use map to apply the function to each element in the list\n",
    "result = map(add_one, numbers)\n",
    "\n",
    "# Convert the map object to a list to print the result\n",
    "print(list(result))\n",
    "\n",
    "# Outputs: [2, 3, 4, 5, 6]"
   ]
  },
  {
   "cell_type": "code",
   "execution_count": 216,
   "id": "56818e7a-94bd-4908-86e4-983a23dcd5f9",
   "metadata": {},
   "outputs": [
    {
     "name": "stdout",
     "output_type": "stream",
     "text": [
      "[('Alice', 25), ('Bob', 30), ('Charlie', 35)]\n"
     ]
    }
   ],
   "source": [
    "# Two lists\n",
    "names = [\"Alice\", \"Bob\", \"Charlie\"]\n",
    "ages = [25, 30, 35]\n",
    "\n",
    "# Use zip to combine the lists\n",
    "combined = zip(names, ages)\n",
    "\n",
    "# Convert the zip object to a list to print the result\n",
    "print(list(combined))\n",
    "\n",
    "# Outputs: [('Alice', 25), ('Bob', 30), ('Charlie', 35)]"
   ]
  },
  {
   "cell_type": "code",
   "execution_count": 217,
   "id": "979c8461-67ef-4ede-ab38-3a4182bebb1e",
   "metadata": {},
   "outputs": [
    {
     "name": "stdout",
     "output_type": "stream",
     "text": [
      "['program.c', 'stdio.h', 'sample.h', 'a.out', 'math.h', 'hpp.out']\n"
     ]
    }
   ],
   "source": [
    "filenames = [\"program.c\", \"stdio.hpp\", \"sample.hpp\", \"a.out\", \"math.hpp\", \"hpp.out\"]\n",
    "# Generate new_filenames as a list containing the new filenames\n",
    "# using as many lines of code as your chosen method requires.\n",
    "\n",
    "new_filenames = []\n",
    "for filename in filenames:\n",
    "    if filename.endswith(\"hpp\"):\n",
    "        new_filenames.append(filename[:-3] + \"h\")\n",
    "    else:\n",
    "        new_filenames.append(filename)\n",
    "\n",
    "print(new_filenames)\n",
    "# Should be [\"program.c\", \"stdio.h\", \"sample.h\", \"a.out\", \"math.h\", \"hpp.out\"]"
   ]
  },
  {
   "cell_type": "code",
   "execution_count": 218,
   "id": "4122e295-5146-436b-a495-6f999898c4d5",
   "metadata": {},
   "outputs": [
    {
     "name": "stdout",
     "output_type": "stream",
     "text": [
      "['program.c', 'stdio.h', 'sample.h', 'a.out', 'math.h', 'hpp.out']\n"
     ]
    }
   ],
   "source": [
    "filenames = [\"program.c\", \"stdio.hpp\", \"sample.hpp\", \"a.out\", \"math.hpp\", \"hpp.out\"]\n",
    "# Generate new_filenames as a list containing the new filenames\n",
    "# using as many lines of code as your chosen method requires.\n",
    "new_filenames = [filename[:-3] + \"h\" if filename.endswith(\"hpp\") else filename for filename in filenames]\n",
    "\n",
    "\n",
    "print(new_filenames) \n",
    "# Should print [\"program.c\", \"stdio.h\", \"sample.h\", \"a.out\", \"math.h\", \"hpp.out\"]"
   ]
  },
  {
   "cell_type": "code",
   "execution_count": 219,
   "id": "b5e7aa3b-7db3-4882-9a77-391ebb4700d0",
   "metadata": {},
   "outputs": [
    {
     "name": "stdout",
     "output_type": "stream",
     "text": [
      "ellohay owhay reaay ouyay\n",
      "rogrammingpay niay ythonpay siay unfay\n"
     ]
    }
   ],
   "source": [
    "def pig_latin(text):\n",
    "  say = \"\"\n",
    "  # Separate the text into words\n",
    "  words = text.split()\n",
    "  for word in words:\n",
    "    # Create the pig latin word and add it to the list\n",
    "    say += word[1:] + word[0] + \"ay \"\n",
    "    # Turn the list back into a phrase\n",
    "  return say.strip()\n",
    "    \n",
    "print(pig_latin(\"hello how are you\")) # Should be \"ellohay owhay reaay ouyay\"\n",
    "print(pig_latin(\"programming in python is fun\")) # Should be \"rogrammingpay niay ythonpay siay unfay\""
   ]
  },
  {
   "cell_type": "code",
   "execution_count": 220,
   "id": "b4daa6c2-ff80-4f91-965e-7dd13717f8fa",
   "metadata": {},
   "outputs": [
    {
     "name": "stdout",
     "output_type": "stream",
     "text": [
      "Ira is 30 years old and works as a Chef.\n",
      "Raj is 35 years old and works as a Lawyer.\n",
      "Maria is 25 years old and works as an Engineer.\n"
     ]
    }
   ],
   "source": [
    "def biography_list(people):\n",
    "    # Iterate over each \"person\" in the given \"people\" list of tuples. \n",
    "    for person in people:\n",
    "\n",
    "        # Separate the 3 items in each tuple into 3 variables:\n",
    "        # \"name\", \"age\", and \"profession\"   \n",
    "        name, age, profession = person\n",
    "\n",
    "        # Format the required sentence and place the 3 variables \n",
    "        # in the correct placeholders using the .format() method.\n",
    "        print(\"{} is {} years old and works as {}.\".format(name, age, profession))\n",
    "\n",
    "\n",
    "# Call to the function:\n",
    "biography_list([(\"Ira\", 30, \"a Chef\"), (\"Raj\", 35, \"a Lawyer\"), (\"Maria\", 25, \"an Engineer\")])\n",
    "\n",
    "\n",
    "# Click Run to submit code\n",
    "\n",
    "\n",
    "# Output should match:\n",
    "# Ira is 30 years old and works as a Chef.\n",
    "# Raj is 35 years old and works as a Lawyer.\n",
    "# Maria is 25 years old and works as an Engineer."
   ]
  },
  {
   "cell_type": "code",
   "execution_count": 221,
   "id": "c1f1240a-ba02-49b2-80dd-e36f047db106",
   "metadata": {},
   "outputs": [
    {
     "data": {
      "text/plain": [
       "dict"
      ]
     },
     "execution_count": 221,
     "metadata": {},
     "output_type": "execute_result"
    }
   ],
   "source": [
    "x = {}\n",
    "type(x)"
   ]
  },
  {
   "cell_type": "code",
   "execution_count": 222,
   "id": "fed1bcf7-3403-48a8-8574-31aad2511338",
   "metadata": {},
   "outputs": [
    {
     "name": "stdout",
     "output_type": "stream",
     "text": [
      "{'jpg': 10, 'txt': 14, 'csv': 2, 'py': 23}\n"
     ]
    }
   ],
   "source": [
    "file_counts = {\"jpg\":10, \"txt\":14, \"csv\":2, \"py\":23}\n",
    "print(file_counts)"
   ]
  },
  {
   "cell_type": "code",
   "execution_count": 223,
   "id": "ff6d437f-9fdf-47e6-83ba-9eb415f07212",
   "metadata": {},
   "outputs": [
    {
     "data": {
      "text/plain": [
       "14"
      ]
     },
     "execution_count": 223,
     "metadata": {},
     "output_type": "execute_result"
    }
   ],
   "source": [
    "file_counts = {\"jpg\":10, \"txt\":14, \"csv\":2, \"py\":23}\n",
    "file_counts[\"txt\"]"
   ]
  },
  {
   "cell_type": "code",
   "execution_count": 224,
   "id": "4c53da2e-9450-4c7a-b6a6-6dce0884081c",
   "metadata": {},
   "outputs": [
    {
     "data": {
      "text/plain": [
       "False"
      ]
     },
     "execution_count": 224,
     "metadata": {},
     "output_type": "execute_result"
    }
   ],
   "source": [
    "file_counts = {\"jpg\":10, \"txt\":14, \"csv\":2, \"py\":23}\n",
    "\"jpg\" in file_counts\n",
    "\"html\" in file_counts"
   ]
  },
  {
   "cell_type": "code",
   "execution_count": 225,
   "id": "f05795a2-94b8-4b85-b9db-ef5e4524c383",
   "metadata": {},
   "outputs": [
    {
     "name": "stdout",
     "output_type": "stream",
     "text": [
      "{'jpg': 10, 'txt': 14, 'csv': 2, 'py': 23, 'cfg': 8}\n"
     ]
    }
   ],
   "source": [
    "file_counts = {\"jpg\":10, \"txt\":14, \"csv\":2, \"py\":23}\n",
    "file_counts[\"cfg\"] = 8\n",
    "print(file_counts)"
   ]
  },
  {
   "cell_type": "code",
   "execution_count": 226,
   "id": "4d531730-3c95-4c02-b2fb-bd6710fdeb7f",
   "metadata": {},
   "outputs": [
    {
     "name": "stdout",
     "output_type": "stream",
     "text": [
      "{'jpg': 10, 'txt': 14, 'csv': 17, 'py': 23}\n"
     ]
    }
   ],
   "source": [
    "file_counts = {\"jpg\":10, \"txt\":14, \"csv\":2, \"py\":23}\n",
    "file_counts[\"csv\"] = 17\n",
    "print(file_counts)"
   ]
  },
  {
   "cell_type": "code",
   "execution_count": 227,
   "id": "246c0bc8-9d9a-4f18-99d5-652872bb423b",
   "metadata": {},
   "outputs": [
    {
     "name": "stdout",
     "output_type": "stream",
     "text": [
      "{'jpg': 10, 'txt': 14, 'csv': 2, 'py': 23}\n"
     ]
    }
   ],
   "source": [
    "file_counts = {\"jpg\":10, \"txt\":14, \"csv\":2, \"py\":23, 'cfg':8}\n",
    "del file_counts[\"cfg\"]\n",
    "print(file_counts)"
   ]
  },
  {
   "cell_type": "code",
   "execution_count": 228,
   "id": "50c4daf6-be92-41eb-8f5f-e3617c9fca52",
   "metadata": {},
   "outputs": [
    {
     "name": "stdout",
     "output_type": "stream",
     "text": [
      "jpg\n",
      "txt\n",
      "csv\n",
      "py\n"
     ]
    }
   ],
   "source": [
    "file_counts = {\"jpg\":10, \"txt\":14, \"csv\":2, \"py\":23}\n",
    "for extension in file_counts:\n",
    "  print(extension)"
   ]
  },
  {
   "cell_type": "code",
   "execution_count": 229,
   "id": "464e0911-e757-4a06-913b-a9662cd11186",
   "metadata": {},
   "outputs": [
    {
     "name": "stdout",
     "output_type": "stream",
     "text": [
      "There are 10 files with the .jpg extension\n",
      "There are 14 files with the .txt extension\n",
      "There are 2 files with the .csv extension\n",
      "There are 23 files with the .py extension\n"
     ]
    }
   ],
   "source": [
    "file_counts = {\"jpg\":10, \"txt\":14, \"csv\":2, \"py\":23}\n",
    "for ext, amount in file_counts.items():\n",
    "  print(\"There are {} files with the .{} extension\".format(amount, ext))"
   ]
  },
  {
   "cell_type": "code",
   "execution_count": 230,
   "id": "d4269637-1c8c-488d-a7f0-6e3c0e9d80c3",
   "metadata": {},
   "outputs": [
    {
     "data": {
      "text/plain": [
       "dict_values([10, 14, 2, 23])"
      ]
     },
     "execution_count": 230,
     "metadata": {},
     "output_type": "execute_result"
    }
   ],
   "source": [
    "file_counts = {\"jpg\":10, \"txt\":14, \"csv\":2, \"py\":23}\n",
    "file_counts.keys()\n",
    "file_counts.values()"
   ]
  },
  {
   "cell_type": "code",
   "execution_count": 231,
   "id": "65e119a1-d38f-4458-b0ef-81352c363321",
   "metadata": {},
   "outputs": [
    {
     "name": "stdout",
     "output_type": "stream",
     "text": [
      "10\n",
      "14\n",
      "2\n",
      "23\n"
     ]
    }
   ],
   "source": [
    "file_counts = {\"jpg\":10, \"txt\":14, \"csv\":2, \"py\":23}\n",
    "for value in file_counts.values():\n",
    "  print(value)"
   ]
  },
  {
   "cell_type": "code",
   "execution_count": 232,
   "id": "853e61f0-1a1d-40e5-a5eb-c00dea07dd4f",
   "metadata": {},
   "outputs": [
    {
     "data": {
      "text/plain": [
       "{'a': 2,\n",
       " ' ': 7,\n",
       " 'l': 3,\n",
       " 'o': 3,\n",
       " 'n': 2,\n",
       " 'g': 2,\n",
       " 's': 2,\n",
       " 't': 5,\n",
       " 'r': 2,\n",
       " 'i': 2,\n",
       " 'w': 1,\n",
       " 'h': 1,\n",
       " 'f': 1,\n",
       " 'e': 2}"
      ]
     },
     "execution_count": 232,
     "metadata": {},
     "output_type": "execute_result"
    }
   ],
   "source": [
    "def count_letters(text):\n",
    "  result = {}\n",
    "  for letter in text:\n",
    "    if letter not in result:\n",
    "      result[letter] = 0\n",
    "    result[letter] += 1\n",
    "  return result\n",
    "count_letters(\"aaaaa\")\n",
    "count_letters(\"tenant\")\n",
    "count_letters(\"a long string with a lot of letters\")"
   ]
  },
  {
   "cell_type": "code",
   "execution_count": 233,
   "id": "cd60f6c3-56c1-4a72-843c-7f3d80c9991e",
   "metadata": {},
   "outputs": [
    {
     "name": "stdout",
     "output_type": "stream",
     "text": [
      "octopuses have tentacles\n",
      "dolphins have fins\n",
      "rhinos have horns\n"
     ]
    }
   ],
   "source": [
    "cool_beasts = {\"octopuses\":\"tentacles\", \"dolphins\":\"fins\", \"rhinos\":\"horns\"}\n",
    "for animal, feature in cool_beasts.items():\n",
    "    print(\"{} have {}\".format(animal, feature))"
   ]
  },
  {
   "cell_type": "code",
   "execution_count": 235,
   "id": "e22505e8-dabe-4d07-9477-f35cb5edef9c",
   "metadata": {},
   "outputs": [
    {
     "name": "stdout",
     "output_type": "stream",
     "text": [
      "banana is not found in the dictionary\n"
     ]
    }
   ],
   "source": [
    "# Check if a key exists in the dictionary and perform different actions based on the result\n",
    "myDictionary={}\n",
    "key = 'banana'\n",
    "if key in myDictionary:\n",
    "\tprint(f\"The value of {key} is {myDictionary[key]}\")\n",
    "else:\n",
    "\tprint(f\"{key} is not found in the dictionary\")"
   ]
  },
  {
   "cell_type": "code",
   "execution_count": 1,
   "id": "d3c32d37-7a7f-4336-ae7b-d31f27f684dc",
   "metadata": {},
   "outputs": [
    {
     "name": "stdout",
     "output_type": "stream",
     "text": [
      "['Yorkie', 'Collie', 'Bulldog']\n"
     ]
    }
   ],
   "source": [
    "pet_dictionary = {\"dogs\": [\"Yorkie\", \"Collie\", \"Bulldog\"], \"cats\": [\"Persian\", \"Scottish Fold\", \"Siberian\"], \"rabbits\": [\"Angora\", \"Holland Lop\", \"Harlequin\"]}  \n",
    "\n",
    "\n",
    "print(pet_dictionary.get(\"dogs\", 0))\n",
    "# Should print ['Yorkie', 'Collie', 'Bulldog']"
   ]
  },
  {
   "cell_type": "code",
   "execution_count": 2,
   "id": "ed15a290-df66-4081-af1e-109a8b538b3e",
   "metadata": {},
   "outputs": [
    {
     "name": "stdout",
     "output_type": "stream",
     "text": [
      "['Yorkie', 'Collie', 'Bulldog']\n"
     ]
    }
   ],
   "source": [
    "pet_list  = [\"Yorkie\", \"Collie\", \"Bulldog\", \"Persian\", \"Scottish Fold\", \"Siberian\", \"Angora\", \"Holland Lop\", \"Harlequin\"]\n",
    "\n",
    "\n",
    "print(pet_list[0:3])\n",
    "# Should print ['Yorkie', 'Collie', 'Bulldog']"
   ]
  },
  {
   "cell_type": "code",
   "execution_count": 3,
   "id": "383cf8e6-71ee-4b2b-aa32-9bf54d137326",
   "metadata": {},
   "outputs": [
    {
     "name": "stdout",
     "output_type": "stream",
     "text": [
      "20.1\n"
     ]
    }
   ],
   "source": [
    "# This function returns the total time, with minutes represented as \n",
    "# decimals (example: 1 hour 30 minutes = 1.5), for all end user time\n",
    "# spent accessing a server in a given day. \n",
    "\n",
    "\n",
    "def sum_server_use_time(Server):\n",
    "\n",
    "    # Initialize the variable as a float data type, which will be used\n",
    "    # to hold the sum of the total hours and minutes of server usage by\n",
    "    # end users in a day.\n",
    "    total_use_time = 0.0\n",
    "\n",
    "    # Iterate through the \"Server\" dictionary’s key and value items \n",
    "    # using a for loop.\n",
    "    for key,value in Server.items():\n",
    "\n",
    "        # For each end user key, add the associated time value to the\n",
    "        # total sum of all end user use time.\n",
    "        total_use_time += Server[key]\n",
    "        \n",
    "    # Round the return value and limit to 2 decimal places.\n",
    "    return round(total_use_time, 2)  \n",
    "\n",
    "FileServer = {\"EndUser1\": 2.25, \"EndUser2\": 4.5, \"EndUser3\": 1, \"EndUser4\": 3.75, \"EndUser5\": 0.6, \"EndUser6\": 8}\n",
    "\n",
    "print(sum_server_use_time(FileServer)) # Should print 20.1"
   ]
  },
  {
   "cell_type": "code",
   "execution_count": 4,
   "id": "480e1ce7-575d-4748-95a1-822bf76abadf",
   "metadata": {},
   "outputs": [
    {
     "name": "stdout",
     "output_type": "stream",
     "text": [
      "['Muhammad Ali', 'Amir Ali', 'Malik Ali', 'Ram Devi', 'Amaira Devi', 'Feng Chen', 'Li Chen']\n"
     ]
    }
   ],
   "source": [
    "# This function receives a dictionary, which contains common employee \n",
    "# last names as keys, and a list of employee first names as values. \n",
    "# The function generates a new list that contains each employees’ full\n",
    "# name (First_name Last_Name). For example, the key \"Garcia\" with the \n",
    "# values [\"Maria\", \"Hugo\", \"Lucia\"] should be converted to a list \n",
    "# that contains [\"Maria Garcia\", \"Hugo Garcia\", \"Lucia Garcia\"].\n",
    "\n",
    "\n",
    "def list_full_names(employee_dictionary):\n",
    "    # Initialize the \"full_names\" variable as a list data type using\n",
    "    # empty [] square brackets.  \n",
    "    full_names = []\n",
    "\n",
    "    # The outer for loop iterates through each \"last_name\" key and \n",
    "    # associated \"first_name\" values, in the \"employee_dictionary\" items.\n",
    "    for last_name, first_names in employee_dictionary.items():\n",
    "\n",
    "        # The inner for loop iterates over each \"first_name\" value in \n",
    "        # the list of \"first_names\" for one \"last_name\" key at a time.\n",
    "        for first_name in first_names:\n",
    "\n",
    "            # Append the new \"full_names\" list with the \"first_name\" value\n",
    "            # concatenated with a space \" \", and the key \"last_name\". \n",
    "            full_names.append(first_name+\" \"+last_name)\n",
    "            \n",
    "    # Return the new \"full_names\" list once the outer for loop has \n",
    "    # completed all iterations. \n",
    "    return(full_names)\n",
    "\n",
    "\n",
    "print(list_full_names({\"Ali\": [\"Muhammad\", \"Amir\", \"Malik\"], \"Devi\": [\"Ram\", \"Amaira\"], \"Chen\": [\"Feng\", \"Li\"]}))\n",
    "# Should print ['Muhammad Ali', 'Amir Ali', 'Malik Ali', 'Ram Devi', 'Amaira Devi', 'Feng Chen', 'Li Chen']\n"
   ]
  },
  {
   "cell_type": "code",
   "execution_count": 5,
   "id": "cc4d9b0f-8ecf-4b17-8377-96bf65813a29",
   "metadata": {},
   "outputs": [
    {
     "name": "stdout",
     "output_type": "stream",
     "text": [
      "{'IDE HDDs': ['Hard Drives', 'PC Parts'], 'SCSI HDDs': ['Hard Drives', 'PC Parts'], 'High-end video cards': ['PC Parts', 'Video Cards'], 'Basic video cards': ['PC Parts', 'Video Cards']}\n"
     ]
    }
   ],
   "source": [
    "# This function receives a dictionary, which contains resource \n",
    "# categories (keys) with a list of available resources (values) for a \n",
    "# company’s IT Department. The resources belong to multiple categories.\n",
    "# The function should reverse the keys and values to show which \n",
    "# categories (values) each resource (key) belongs to. \n",
    "\n",
    "\n",
    "def invert_resource_dict(resource_dictionary):\n",
    "  # Initialize a \"new_dictionary\" variable as a dict data type using\n",
    "  # empty {} curly brackets. \n",
    "    new_dictionary = {}\n",
    "    # The outer for loop iterates through each \"resource_group\" and \n",
    "    # associated \"resources\" in the \"resource_dictionary\" items.\n",
    "    for resource_group, resources in resource_dictionary.items():\n",
    "        # The inner for loop iterates over each \"resource\" value in \n",
    "        # the list of \"resources\" for one \"resource_group\" key at a time.\n",
    "        for resource in resources:\n",
    "            # The if-statement checks if the current \"resource\" value has \n",
    "            # been appended as a key to the \"new_dictionary\" yet.\n",
    "            if resource in new_dictionary:\n",
    "                # If True, then append the \"resource_group\" as a value to the\n",
    "                # \"resource\", which is now the key.\n",
    "                new_dictionary[resource].append(resource_group)\n",
    "            # If False (else), then add the \"resource\" as a new key with the \n",
    "            # \"resource_group\" as a value for that key.\n",
    "            else:\n",
    "                new_dictionary[resource] = [resource_group]\n",
    "    # Return the new dictionary once the outer for loop has completed  \n",
    "    # all iterations.\n",
    "    return(new_dictionary)\n",
    "\n",
    "\n",
    "print(invert_resource_dict({\"Hard Drives\": [\"IDE HDDs\", \"SCSI HDDs\"],\n",
    "        \"PC Parts\":  [\"IDE HDDs\", \"SCSI HDDs\", \"High-end video cards\", \"Basic video cards\"], \"Video Cards\": [\"High-end video cards\", \"Basic video cards\"]}))\n",
    "# Should print {'IDE HDDs': ['Hard Drives', 'PC Parts'], 'SCSI HDDs': ['Hard Drives', 'PC Parts'], 'High-end video cards': ['PC Parts', 'Video Cards'], 'Basic video cards': ['PC Parts', 'Video Cards']}\n"
   ]
  },
  {
   "cell_type": "code",
   "execution_count": 6,
   "id": "0a1a1e9a-52c8-4529-9404-f9f5e17681ae",
   "metadata": {},
   "outputs": [
    {
     "name": "stdout",
     "output_type": "stream",
     "text": [
      "['clark.kent@gmail.com', 'diana.prince@gmail.com', 'peter.parker@gmail.com', 'barbara.gordon@yahoo.com', 'jean.grey@yahoo.com', 'bruce.wayne@hotmail.com']\n"
     ]
    }
   ],
   "source": [
    "def email_list(domains):\n",
    "\temails = []\n",
    "\tfor domain, users in domains.items():\n",
    "\t\tfor user in users:\n",
    "\t\t\temails.append(user + \"@\" + domain)\n",
    "\treturn(emails)\n",
    "\n",
    "print(email_list({\"gmail.com\": [\"clark.kent\", \"diana.prince\", \"peter.parker\"], \"yahoo.com\": [\"barbara.gordon\", \"jean.grey\"], \"hotmail.com\": [\"bruce.wayne\"]}))\n"
   ]
  },
  {
   "cell_type": "code",
   "execution_count": 7,
   "id": "30c13275-cd60-418d-856c-31c90550f784",
   "metadata": {},
   "outputs": [
    {
     "name": "stdout",
     "output_type": "stream",
     "text": [
      "{'admin': ['local', 'public', 'administrator'], 'userA': ['local'], 'userB': ['public']}\n"
     ]
    }
   ],
   "source": [
    "def groups_per_user(group_dictionary):\n",
    "\tuser_groups = {}\n",
    "\t# Go through group_dictionary\n",
    "\tfor group, users in group_dictionary.items():\n",
    "\t\t# Now go through the users in the group\n",
    "\t\tfor user in users:\n",
    "\t\t\t# Now add the group to the the list of\n",
    "\t\t\t# groups for this user, creating the entry\n",
    "\t\t\t# in the dictionary if necessary\n",
    "\t\t\tif user not in user_groups:\n",
    "\t\t\t\tuser_groups[user] = []\n",
    "\t\t\tuser_groups[user].append(group)\n",
    "\n",
    "\treturn(user_groups)\n",
    "\n",
    "print(groups_per_user({\"local\": [\"admin\", \"userA\"],\n",
    "\t\t\"public\":  [\"admin\", \"userB\"],\n",
    "\t\t\"administrator\": [\"admin\"] }))"
   ]
  },
  {
   "cell_type": "code",
   "execution_count": 8,
   "id": "54eb7514-3199-498e-9081-cbfe47434be9",
   "metadata": {},
   "outputs": [],
   "source": [
    "wardrobe = {'shirt': ['red', 'blue', 'white'], 'jeans': ['blue', 'black']}\n",
    "new_items = {'jeans': ['white'], 'scarf': ['yellow'], 'socks': ['black', 'brown']}\n",
    "wardrobe.update(new_items)"
   ]
  },
  {
   "cell_type": "code",
   "execution_count": 9,
   "id": "b52227e9-d721-4f1b-8c57-83ff6aa42893",
   "metadata": {},
   "outputs": [
    {
     "data": {
      "text/plain": [
       "{'shirt': ['red', 'blue', 'white'],\n",
       " 'jeans': ['white'],\n",
       " 'scarf': ['yellow'],\n",
       " 'socks': ['black', 'brown']}"
      ]
     },
     "execution_count": 9,
     "metadata": {},
     "output_type": "execute_result"
    }
   ],
   "source": [
    "wardrobe"
   ]
  },
  {
   "cell_type": "code",
   "execution_count": 10,
   "id": "a5859752-9372-4aee-9d50-bee9ab41a336",
   "metadata": {},
   "outputs": [
    {
     "name": "stdout",
     "output_type": "stream",
     "text": [
      "28.44\n"
     ]
    }
   ],
   "source": [
    "def add_prices(basket):\n",
    "\t# Initialize the variable that will be used for the calculation\n",
    "\ttotal = 0\n",
    "\t# Iterate through the dictionary items\n",
    "\tfor item, price in basket.items():\n",
    "\t\t# Add each price to the total calculation\n",
    "\t\t# Hint: how do you access the values of\n",
    "\t\t# dictionary items?\n",
    "\t\ttotal += price\n",
    "\t# Limit the return value to 2 decimal places\n",
    "\treturn round(total, 2)  \n",
    "\n",
    "groceries = {\"bananas\": 1.56, \"apples\": 2.50, \"oranges\": 0.99, \"bread\": 4.59, \n",
    "\t\"coffee\": 6.99, \"milk\": 3.39, \"eggs\": 2.98, \"cheese\": 5.44}\n",
    "\n",
    "print(add_prices(groceries)) # Should print 28.44"
   ]
  },
  {
   "cell_type": "code",
   "execution_count": 1,
   "id": "705b5be3-0643-4ff0-ba65-8f23dd4bd3d9",
   "metadata": {},
   "outputs": [
    {
     "name": "stdout",
     "output_type": "stream",
     "text": [
      "red\n"
     ]
    }
   ],
   "source": [
    "class Apple:\n",
    "    def __init__(self):\n",
    "        self.color = \"red\"\n",
    "        self.flavor = \"sweet\"\n",
    "\n",
    "honeycrisp = Apple()\n",
    "print(honeycrisp.color)\n",
    "\n",
    "# prints \"red\""
   ]
  },
  {
   "cell_type": "code",
   "execution_count": 2,
   "id": "b0ffb13b-b23b-4642-b3f6-1db06ac34cab",
   "metadata": {},
   "outputs": [
    {
     "name": "stdout",
     "output_type": "stream",
     "text": [
      "sweet\n",
      "tart\n"
     ]
    }
   ],
   "source": [
    "class Apple:\n",
    "    def __init__(self, color, flavor):\n",
    "        self.color = color\n",
    "        self.flavor = flavor\n",
    "\n",
    "honeycrisp = Apple(\"red\", \"sweet\")\n",
    "fuji = Apple(\"red\", \"tart\")\n",
    "print(honeycrisp.flavor)\n",
    "print(fuji.flavor)\n",
    "\n",
    "# prints \"sweet\" and \"tart\""
   ]
  },
  {
   "cell_type": "code",
   "execution_count": 3,
   "id": "c2ded4e4-f624-47ac-a994-8909ca419d29",
   "metadata": {},
   "outputs": [
    {
     "name": "stdout",
     "output_type": "stream",
     "text": [
      "an apple which is red and sweet\n"
     ]
    }
   ],
   "source": [
    "class Apple:\n",
    "    def __init__(self, color, flavor):\n",
    "        self.color = color\n",
    "        self.flavor = flavor\n",
    "\n",
    "    def __str__(self):\n",
    "        return \"an apple which is {} and {}\".format(self.color, self.flavor)\n",
    "\n",
    "honeycrisp = Apple(\"red\", \"sweet\")\n",
    "print(honeycrisp)\n",
    "\n",
    "# prints \"an apple which is red and sweet\""
   ]
  },
  {
   "cell_type": "code",
   "execution_count": 4,
   "id": "1a4ef6a8-60e3-49dd-81c9-bc1593e20eb4",
   "metadata": {},
   "outputs": [],
   "source": [
    "class Apple:\n",
    "    def __init__(self, color, flavor):\n",
    "        self.color = color\n",
    "        self.flavor = flavor"
   ]
  },
  {
   "cell_type": "code",
   "execution_count": 5,
   "id": "47f62d96-78d7-4722-ba50-57b84b73d957",
   "metadata": {},
   "outputs": [
    {
     "name": "stdout",
     "output_type": "stream",
     "text": [
      "red\n"
     ]
    }
   ],
   "source": [
    "jonagold = Apple(\"red\", \"sweet\")\n",
    "print(jonagold.color)\n"
   ]
  },
  {
   "cell_type": "code",
   "execution_count": 6,
   "id": "1f2a4444-2cfa-4859-aa26-cdb8d781937d",
   "metadata": {},
   "outputs": [],
   "source": [
    "class Apple:\n",
    "    def __init__(self, color, flavor):\n",
    "        self.color = color\n",
    "        self.flavor = flavor\n",
    "    def __str__(self):\n",
    "        return \"This apple is {} and its flavor is {}\".format(self.color, self.flavor)"
   ]
  },
  {
   "cell_type": "code",
   "execution_count": 7,
   "id": "0d1f643d-c841-4f0a-addc-c2b550f6429b",
   "metadata": {},
   "outputs": [
    {
     "name": "stdout",
     "output_type": "stream",
     "text": [
      "This apple is red and its flavor is sweet\n"
     ]
    }
   ],
   "source": [
    "jonagold = Apple(\"red\", \"sweet\")\n",
    "print(jonagold)"
   ]
  },
  {
   "cell_type": "code",
   "execution_count": 10,
   "id": "e7f13022-e9f4-48e2-a142-8e72dfa13913",
   "metadata": {},
   "outputs": [],
   "source": [
    "class Triangle:\n",
    "\n",
    "  def __init__(self, base, height):\n",
    "\n",
    "    self.base = base\n",
    "\n",
    "    self.height = height\n",
    "  def area(self):\n",
    "\n",
    "    return 0.5 * self.base * self.height\n",
    "\n",
    "  def __add__(self, other):\n",
    "\n",
    "    return self.area() + other.area()"
   ]
  },
  {
   "cell_type": "code",
   "execution_count": 11,
   "id": "34614c6b-573d-4616-b41b-fbe6ec34e6ce",
   "metadata": {},
   "outputs": [
    {
     "name": "stdout",
     "output_type": "stream",
     "text": [
      "The area of triangle 1 is 25.0\n",
      "The area of triangle 2 is 24.0\n",
      "The area of both triangles is 49.0\n"
     ]
    }
   ],
   "source": [
    "triangle1 = Triangle(10, 5)\n",
    "\n",
    "triangle2 = Triangle(6, 8)\n",
    "\n",
    "print(\"The area of triangle 1 is\", triangle1.area())\n",
    "\n",
    "print(\"The area of triangle 2 is\", triangle2.area())\n",
    "\n",
    "print(\"The area of both triangles is\", triangle1 + triangle2)"
   ]
  },
  {
   "cell_type": "code",
   "execution_count": 12,
   "id": "dbbd3da3-e70b-4b77-9c02-4adc5354a742",
   "metadata": {},
   "outputs": [
    {
     "name": "stdout",
     "output_type": "stream",
     "text": [
      "Winter fleece jackets are on sale for $49.99\n"
     ]
    }
   ],
   "source": [
    "def sales_prices(item_and_price):\n",
    "    # Initialize variables \"item\" and \"price\" as strings\n",
    "    item = \"\"\n",
    "    price = \"\"\n",
    "    # Create a variable \"item_or_price\" to hold the result of the split. \n",
    "    item_or_price = item_and_price.split()\n",
    "\n",
    "    # For each element \"x\" in the split variable \"item_or_price\" \n",
    "    for x in item_or_price:\n",
    "\n",
    "        # Check if the element is a letter\n",
    "        if x.isalpha():\n",
    "\n",
    "            # If true, assign the element to the \"item\" string variable and add a space \n",
    "            # for any item names containing multiple words, like \"Winter fleece jacket\".\n",
    "            item += x + \" \"\n",
    "\n",
    "        # Else, if x is a number (if x.isalpha() is false): \n",
    "        else:\n",
    "            # Assign the element to the \"price\" string variable. \n",
    "            price = x\n",
    "\n",
    "    # Strip the extra space to the right of the last \"item\" word\n",
    "    item = item.strip()\n",
    "\n",
    "    # Return the item name and price formatted in a sentence \n",
    "    return \"{} are on sale for ${}\".format(item,price)\n",
    "\n",
    "\n",
    "# Call to the function \n",
    "print(sales_prices(\"Winter fleece jackets 49.99\"))\n",
    "# Should print \"Winter fleece jackets are on sale for $49.99\""
   ]
  },
  {
   "cell_type": "code",
   "execution_count": 13,
   "id": "a97eca18-6e65-4194-b3cf-9db52a1262ba",
   "metadata": {},
   "outputs": [
    {
     "name": "stdout",
     "output_type": "stream",
     "text": [
      "9\n"
     ]
    }
   ],
   "source": [
    "# This function accepts a string variable \"data_field\".  \n",
    "def count_words(data_field):\n",
    "\n",
    "    # Splits the string into individual words. \n",
    "    split_data = data_field.split()\n",
    "  \n",
    "    # Then returns the number of words in the string using the len()\n",
    "    # function. \n",
    "    return len(split_data)\n",
    "    \n",
    "    # Note that it is possible to combine the len() function and the \n",
    "    # .split() method into the same line of code by inserting the \n",
    "    # data_field.split() command into the the len() function parameters.\n",
    "\n",
    "# Call to the function\n",
    "print(count_words(\"Catalog item 3523: Organic raw pumpkin seeds in shell\"))\n",
    "# Output should be 9"
   ]
  },
  {
   "cell_type": "code",
   "execution_count": 14,
   "id": "e6e87dba-6045-4e04-8bd6-ded3def1263b",
   "metadata": {},
   "outputs": [
    {
     "name": "stdout",
     "output_type": "stream",
     "text": [
      "[1989, 1992, 1997, 2001, 2006, 2011, 2018, 2022]\n"
     ]
    }
   ],
   "source": [
    "# This function accepts two variables, each containing a list of years.\n",
    "# A current \"recent_first\" list contains [2022, 2018, 2011, 2006].\n",
    "# An older \"recent_last\" list contains [1989, 1992, 1997, 2001].\n",
    "# The lists need to be combined with the years in chronological order.\n",
    "def record_profit_years(recent_first, recent_last):\n",
    "\n",
    "    # Reverse the order of the \"recent_first\" list so that it is in \n",
    "    # chronological order.\n",
    "    recent_first.reverse()\n",
    "\n",
    "    # Extend the \"recent_last\" list by appending the newly reversed \n",
    "    # \"recent_first\" list.\n",
    "    recent_last.extend(recent_first)\n",
    "\n",
    "    # Return the \"recent_last\", which now contains the two lists \n",
    "    # combined in chronological order. \n",
    "    return recent_last\n",
    "\n",
    "# Assign the two lists to the two variables to be passed to the \n",
    "# record_profit_years() function.\n",
    "recent_first = [2022, 2018, 2011, 2006]\n",
    "recent_last = [1989, 1992, 1997, 2001]\n",
    "\n",
    "\n",
    "\n",
    "# Call the record_profit_years() function and pass the two lists as \n",
    "# parameters. \n",
    "print(record_profit_years(recent_first, recent_last))\n",
    "# Should print [1989, 1992, 1997, 2001, 2006, 2011, 2018, 2022]"
   ]
  },
  {
   "cell_type": "code",
   "execution_count": 15,
   "id": "42733993-0f9c-4423-9992-debe52f72737",
   "metadata": {},
   "outputs": [
    {
     "name": "stdout",
     "output_type": "stream",
     "text": [
      "[1972, 1973, 1974, 1975]\n"
     ]
    }
   ],
   "source": [
    "# The function accepts two parameters: a start year and an end year\n",
    "def list_years(start, end):\n",
    "# It returns a list comprehension that creates a list of years in a for\n",
    "# loop using a range from the start year to the end year (inclusive of \n",
    "# the upper range year, using end+1).\n",
    "  return [year for year in range(start, end+1)]\n",
    "\n",
    "# Call the list_years() function with two parameters.\n",
    "print(list_years(1972, 1975)) \n",
    "# Should print [1972, 1973, 1974, 1975]"
   ]
  },
  {
   "cell_type": "code",
   "execution_count": 16,
   "id": "ee82e8f9-8fe4-41b0-9a49-c56e35a77c32",
   "metadata": {},
   "outputs": [
    {
     "name": "stdout",
     "output_type": "stream",
     "text": [
      "[5, 7, 9, 11, 13]\n"
     ]
    }
   ],
   "source": [
    "# The function accepts two variable integers through the parameters and\n",
    "# returns all odd numbers between x and y-1.\n",
    "def odd_numbers(x, y):\n",
    "\n",
    "\n",
    "# This list comprehension uses a for loop to iterate through values \n",
    "# of n in a range from x to y, with the value of y excluded (meaning\n",
    "# keep the default range() function behavior to exclude the\n",
    "# end-of-range value from the range). Since an incremental value is not \n",
    "# specified, the range function uses the default increment of +1.\n",
    "# The if condition checks n to test if the number is odd using the\n",
    "# modulo operator. This condition is written to check if n is divided \n",
    "# by 2, that the remainder is not 0. \n",
    "    return [n for n in range(x, y) if n % 2 != 0]\n",
    "\n",
    "\n",
    "# Call the odd_numbers() function with two parameters.\n",
    "print(odd_numbers(5, 15)) \n",
    "# Should print [5, 7, 9, 11, 13]"
   ]
  },
  {
   "cell_type": "code",
   "execution_count": 17,
   "id": "0793c1e4-d6e3-4698-a29f-908729f39c55",
   "metadata": {},
   "outputs": [
    {
     "name": "stdout",
     "output_type": "stream",
     "text": [
      "The IP address of the Domain Name Server server is 8.8.8.8\n",
      "The IP address of the Gateway Server server is 192.168.1.1\n",
      "The IP address of the Print Server server is 192.168.1.33\n",
      "The IP address of the Mail Server server is 192.168.1.190\n",
      "\n"
     ]
    }
   ],
   "source": [
    "# The network() function accepts a dictionary \"servers\" as a parameter.\n",
    "def network(servers):\n",
    "\n",
    "    # A string variable is initialized to hold the \"result\". \n",
    "    result = \"\"\n",
    "\n",
    "    # For each \"hostname\" (key) and \"IP address\" (value) in the \"servers\" dictionary items...\n",
    "    for hostname, IP_address in servers.items():\n",
    "\n",
    "        # A string identifying the hostname and IP address for each server is added\n",
    "        # to the \"result\" variable. The string .format() function and is used to plug\n",
    "        # the hostname and IP_address variables into the designated {} placeholders\n",
    "        # within the string.\n",
    "        result += \"The IP address of the {} server is {}\".format(hostname, IP_address) + \"\\n\"\n",
    "    \n",
    "    # Return the \"result\" variable string.\n",
    "    return result \n",
    "\n",
    "# Call the \"network\" function with the dictionary. \n",
    "print(network({\"Domain Name Server\":\"8.8.8.8\", \"Gateway Server\":\"192.168.1.1\", \"Print Server\":\"192.168.1.33\", \"Mail Server\":\"192.168.1.190\"}))\n",
    "\n",
    "# Should print:\n",
    "# The IP address of the Domain Name Server server is 8.8.8.8\n",
    "# The IP address of the Gateway Server server is 192.168.1.1\n",
    "# The IP address of the Print Server server is 192.168.1.33\n",
    "# The IP address of the Mail Server server is 192.168.1.190\n"
   ]
  },
  {
   "cell_type": "code",
   "execution_count": 18,
   "id": "6a5832e0-5b0a-4ddb-aa80-1baf790d61a6",
   "metadata": {},
   "outputs": [
    {
     "name": "stdout",
     "output_type": "stream",
     "text": [
      "{'Arshi': 0, 'Catalina': 0, 'Diego': 0}\n"
     ]
    }
   ],
   "source": [
    "# The scores() function accepts a dictionary \"game_scores\" as a parameter.\n",
    "def reset_scores(game_scores):\n",
    "\n",
    "    # The .copy() dictionary method is used to create a new copy of the \"game_scores\".\n",
    "    new_game_scores = game_scores.copy() \n",
    "\n",
    "    # The for loop iterates over new_game_scores items, with the player as the key\n",
    "    # and the score as the value. \n",
    "    for player, score in new_game_scores.items():\n",
    "    \n",
    "        # The dictionary operation to assign a new value to a key is used\n",
    "        # to reset the grade values to 0.\n",
    "        new_game_scores[player] = 0\n",
    "  \n",
    "    return new_game_scores\n",
    " \n",
    "# The dictionary is defined.\n",
    "game1_scores = {\"Arshi\": 3, \"Catalina\": 7, \"Diego\": 6}\n",
    " \n",
    "# Call the \"reset_scores\" function with the \"game1_scores\" dictionary. \n",
    "print(reset_scores(game1_scores))\n",
    "# Should print {'Arshi': 0, 'Catalina': 0, 'Diego': 0}"
   ]
  },
  {
   "cell_type": "code",
   "execution_count": 19,
   "id": "8ee654d9-c93d-450f-82c7-750623013a4c",
   "metadata": {},
   "outputs": [
    {
     "name": "stdout",
     "output_type": "stream",
     "text": [
      "H\n",
      "P\n",
      "K\n"
     ]
    }
   ],
   "source": [
    "def first_character(string):\n",
    "    # Complete the return statement using a string operation.\n",
    "    return string[0]\n",
    "\n",
    "\n",
    "print(first_character(\"Hello, World\")) # Should print H\n",
    "print(first_character(\"Python is awesome\")) # Should print P\n",
    "print(first_character(\"Keep going\")) # Should print K"
   ]
  },
  {
   "cell_type": "code",
   "execution_count": 21,
   "id": "37800a93-d528-4763-a68b-e38934547387",
   "metadata": {},
   "outputs": [
    {
     "name": "stdout",
     "output_type": "stream",
     "text": [
      "17\n",
      "16\n",
      "21\n"
     ]
    }
   ],
   "source": [
    "def alpha_length(string):\n",
    "    character = \"\"\n",
    "    count_alpha = 0\n",
    "    # Complete the for loop sequence to iterate over \"string\".\n",
    "    for character in string: \n",
    "        # Complete the if-statement using a string method. \n",
    "        if character.isalpha():\n",
    "            count_alpha += 1  \n",
    "    return count_alpha\n",
    "print(alpha_length(\"This has 1 number in it\")) # Should print 17\n",
    "print(alpha_length(\"Thisisallletters\")) # Should print 16\n",
    "print(alpha_length(\"This one has punctuation!\")) # Should print 21"
   ]
  },
  {
   "cell_type": "code",
   "execution_count": 22,
   "id": "0d214dfb-df4f-49b2-bad0-2ecc2f1ca1f1",
   "metadata": {},
   "outputs": [
    {
     "name": "stdout",
     "output_type": "stream",
     "text": [
      "['Minna', 'Carol', 'Gunnar', 'Malena', 'Oakley', 'Jocelyn', 'Benjamin', 'Chika', 'Alma']\n"
     ]
    }
   ],
   "source": [
    "def combine_lists(list1, list2):\n",
    "    combined_list = [] # Initialize an empty list variable\n",
    "    list1.reverse() # Reverse the order of \"list1\"\n",
    "    combined_list = list2 + list1 # Combine the two lists \n",
    "    return combined_list\n",
    "Jaimes_list = [\"Alma\", \"Chika\", \"Benjamin\", \"Jocelyn\", \"Oakley\"]\n",
    "Drews_list = [\"Minna\", \"Carol\", \"Gunnar\", \"Malena\"]\n",
    "\n",
    "\n",
    "print(combine_lists(Jaimes_list, Drews_list))\n",
    "# Should print ['Minna', 'Carol', 'Gunnar', 'Malena', 'Oakley', 'Jocelyn', 'Benjamin', 'Chika', 'Alma']\n"
   ]
  },
  {
   "cell_type": "code",
   "execution_count": 23,
   "id": "e1c3bb5f-a7df-4fb7-8b62-d3de4cd3f90f",
   "metadata": {},
   "outputs": [
    {
     "name": "stdout",
     "output_type": "stream",
     "text": [
      "[4, 6, 8, 10, 12]\n",
      "[0, 2, 4, 6, 8]\n",
      "[2, 4, 6]\n"
     ]
    }
   ],
   "source": [
    "def even_numbers(first, last):\n",
    "  return [x for x in range(first, last) if x % 2 == 0]\n",
    "print(even_numbers(4, 14)) # Should print [4, 6, 8, 10, 12]\n",
    "print(even_numbers(0, 9))  # Should print [0, 2, 4, 6, 8]\n",
    "print(even_numbers(2, 7))  # Should print [2, 4, 6]"
   ]
  },
  {
   "cell_type": "code",
   "execution_count": 24,
   "id": "db63ae6a-3720-4da4-bc44-9b71f034f17c",
   "metadata": {},
   "outputs": [
    {
     "name": "stdout",
     "output_type": "stream",
     "text": [
      "['Kenya', 'Egypt', 'Nigeria']\n",
      "['China', 'India', 'Thailand']\n",
      "['Ecuador', 'Bolivia', 'Brazil']\n",
      "\n"
     ]
    }
   ],
   "source": [
    "def countries(countries_dict):\n",
    "    result = \"\"\n",
    "    # Complete the for loop to iterate through the key and value items \n",
    "    # in the dictionary.\n",
    "    for key, value in countries_dict.items():\n",
    "        # Use a string method to format the required string.\n",
    "        result += str(value) + \"\\n\"\n",
    "    return result\n",
    "print(countries({\"Africa\": [\"Kenya\", \"Egypt\", \"Nigeria\"], \"Asia\":[\"China\", \"India\", \"Thailand\"], \"South America\": [\"Ecuador\", \"Bolivia\", \"Brazil\"]}))\n",
    "\n",
    "# Should print:\n",
    "# ['Kenya', 'Egypt', 'Nigeria']\n",
    "# ['China', 'India', 'Thailand']\n",
    "# ['Ecuador', 'Bolivia', 'Brazil']\n"
   ]
  },
  {
   "cell_type": "code",
   "execution_count": 25,
   "id": "61c89a8c-df13-422a-bbed-1f530274d5d2",
   "metadata": {},
   "outputs": [
    {
     "name": "stdout",
     "output_type": "stream",
     "text": [
      "{'Adam': 0, 'Camila': 0, 'David': 0, 'Jamal': 0, 'Charley': 0, 'Titus': 0, 'Raj': 0, 'Noemi': 0, 'Sakira': 0, 'Chidi': 0}\n"
     ]
    }
   ],
   "source": [
    "def setup_guests(guest_list):\n",
    "    # loop over the guest list and add each guest to the dictionary with\n",
    "    # an initial value of 0\n",
    "    result = {} # Initialize a new dictionary \n",
    "    for guest in guest_list: # Iterate over the elements in the list \n",
    "        result[guest] = 0 # Add each list element to the dictionary as a key with \n",
    "            # the starting value of 0\n",
    "    return result\n",
    "guests = [\"Adam\",\"Camila\",\"David\",\"Jamal\",\"Charley\",\"Titus\",\"Raj\",\"Noemi\",\"Sakira\",\"Chidi\"]\n",
    "\n",
    "print(setup_guests(guests))\n",
    "# Should print {'Adam': 0, 'Camila': 0, 'David': 0, 'Jamal': 0, 'Charley': 0, 'Titus': 0, 'Raj': 0, 'Noemi': 0, 'Sakira': 0, 'Chidi': 0}"
   ]
  },
  {
   "cell_type": "code",
   "execution_count": 26,
   "id": "a0ffd3fc-4735-4175-81de-1a873abbd5a6",
   "metadata": {},
   "outputs": [
    {
     "name": "stdout",
     "output_type": "stream",
     "text": [
      "{'James': 0, 'Felicity': 0, 'Barakaa': 0}\n"
     ]
    }
   ],
   "source": [
    "def setup_gradebook(old_gradebook):\n",
    "    # Use a dictionary method to create a new copy of the \"old_gradebook\".\n",
    "    new_gradebook = old_gradebook.copy()\n",
    "    # Complete the for loop to iterate over the new gradebook. \n",
    "    for student in new_gradebook:\n",
    "        # Use a dictionary operation to reset the grade values to 0.\n",
    "        new_gradebook[student] = 0\n",
    "    return new_gradebook\n",
    "fall_gradebook = {\"James\": 93, \"Felicity\": 98, \"Barakaa\": 80}\n",
    "print(setup_gradebook(fall_gradebook))\n",
    "# Should output {'James': 0, 'Felicity': 0, 'Barakaa': 0}"
   ]
  },
  {
   "cell_type": "code",
   "execution_count": 27,
   "id": "f2587b92-9f9d-4977-bb94-0e86f52d523f",
   "metadata": {},
   "outputs": [
    {
     "name": "stdout",
     "output_type": "stream",
     "text": [
      "transc\n",
      "nd\n"
     ]
    }
   ],
   "source": [
    "genre = \"transcendental\"\n",
    "print(genre[:-8])\n",
    "print(genre[-7:9])"
   ]
  },
  {
   "cell_type": "code",
   "execution_count": 28,
   "id": "067ac32b-81db-4986-8aaa-b2af8f88c2b3",
   "metadata": {},
   "outputs": [],
   "source": [
    "colors = [\"red\", \"white\", \"blue\"]\n",
    "colors.insert(2, \"yellow\")"
   ]
  },
  {
   "cell_type": "code",
   "execution_count": 29,
   "id": "f0abc394-ea95-46e2-9221-3bd113b6dc2b",
   "metadata": {},
   "outputs": [
    {
     "data": {
      "text/plain": [
       "['red', 'white', 'yellow', 'blue']"
      ]
     },
     "execution_count": 29,
     "metadata": {},
     "output_type": "execute_result"
    }
   ],
   "source": [
    "colors"
   ]
  },
  {
   "cell_type": "code",
   "execution_count": 30,
   "id": "0da49459-76b8-4284-a268-e4b1643b96e6",
   "metadata": {},
   "outputs": [
    {
     "data": {
      "text/plain": [
       "dict_values(['Aniyah Cook', 'Ines Bisset', 'Wayne Branon'])"
      ]
     },
     "execution_count": 30,
     "metadata": {},
     "output_type": "execute_result"
    }
   ],
   "source": [
    "teacher_names = {\"Math\": \"Aniyah Cook\", \"Science\": \"Ines Bisset\", \"Engineering\": \"Wayne Branon\"}\n",
    "teacher_names.values()"
   ]
  },
  {
   "cell_type": "code",
   "execution_count": 31,
   "id": "f5ced3a1-88cc-45cf-8d68-13d8db2434ce",
   "metadata": {},
   "outputs": [
    {
     "name": "stdout",
     "output_type": "stream",
     "text": [
      "[1, 2, 4, 6, 7]\n"
     ]
    }
   ],
   "source": [
    "numbers = [ 4, 6, 2, 7, 1 ]\n",
    "numbers.sort()\n",
    "print(numbers)"
   ]
  },
  {
   "cell_type": "code",
   "execution_count": 32,
   "id": "1e937c13-41db-4aa4-9a7f-6e434bad61a1",
   "metadata": {},
   "outputs": [
    {
     "name": "stdout",
     "output_type": "stream",
     "text": [
      "['Alex', 'Carlos', 'Kelly', 'Ray']\n",
      "['Carlos', 'Ray', 'Alex', 'Kelly']\n",
      "['Ray', 'Alex', 'Kelly', 'Carlos']\n"
     ]
    }
   ],
   "source": [
    "names = [\"Carlos\", \"Ray\", \"Alex\", \"Kelly\"]\n",
    "print(sorted(names))\n",
    "print(names)\n",
    "print(sorted(names, key=len))"
   ]
  },
  {
   "cell_type": "code",
   "execution_count": 33,
   "id": "418eddaf-2bbb-4089-a14d-34b05df655bc",
   "metadata": {},
   "outputs": [],
   "source": [
    "def current_users(events):\n",
    "  events.sort(key=get_event_date)\n",
    "  machines = {}\n",
    "  for event in events:\n",
    "    if event.machine not in machines:\n",
    "      machines[event.machine] = set()\n",
    "    if event.type == \"login\":\n",
    "      machines[event.machine].add(event.user)\n",
    "    elif event.type == \"logout\":\n",
    "      machines[event.machine].remove(event.user)\n",
    "  return machines"
   ]
  },
  {
   "cell_type": "code",
   "execution_count": 34,
   "id": "034474f5-415f-4c88-ae55-70b210b7a345",
   "metadata": {},
   "outputs": [],
   "source": [
    "def generate_report(machines):\n",
    "  for machine, users in machines.items():\n",
    "    if len(users) > 0:\n",
    "      user_list = \", \".join(users)\n",
    "      print(\"{}: {}\".format(machine, user_list))"
   ]
  },
  {
   "cell_type": "code",
   "execution_count": 35,
   "id": "6a2bf4c2-74f6-4340-98fb-56e9a187144e",
   "metadata": {},
   "outputs": [],
   "source": [
    "def get_event_date(event):\n",
    "\treturn event.date"
   ]
  },
  {
   "cell_type": "code",
   "execution_count": 36,
   "id": "531b4756-2c8b-4226-88dc-4a89b79919be",
   "metadata": {},
   "outputs": [],
   "source": [
    "def current_users(events):\n",
    "    events.sort(key=get_event_date)\n",
    "    machines = {}\n",
    "    for event in events:\n",
    "        if event.machine not in machines:\n",
    "            machines[event.machine] = set()\n",
    "        if event.type == \"login\":\n",
    "            machines[event.machine].add(event.user)\n",
    "        elif event.type == \"logout\":\n",
    "            machines[event.machine].remove(event.user)\n",
    "    return machines"
   ]
  },
  {
   "cell_type": "code",
   "execution_count": 40,
   "id": "32049414-94ba-4c2d-9571-6ec60e018e93",
   "metadata": {},
   "outputs": [],
   "source": [
    "def generate_report(machines):\n",
    "    for machine, users in machines.items():\n",
    "        if len (users) > 0:\n",
    "            user_list = \",\".join(users)\n",
    "            print(\"{}: {}\".format(machine, user_list))"
   ]
  },
  {
   "cell_type": "code",
   "execution_count": 41,
   "id": "3d01815a-d57d-4091-9307-dc4f7ad2ff18",
   "metadata": {},
   "outputs": [
    {
     "name": "stdout",
     "output_type": "stream",
     "text": [
      "{'webserver.local': {'lane'}, 'myworkstation.local': set(), 'mailserver.local': {'chris'}}\n"
     ]
    }
   ],
   "source": [
    "def get_event_date(event):\n",
    "  return event.date\n",
    "\n",
    "def current_users(events):\n",
    "  events.sort(key=get_event_date)\n",
    "  machines = {}\n",
    "  for event in events:\n",
    "    if event.machine not in machines:\n",
    "      machines[event.machine] = set()\n",
    "    if event.type == \"login\":\n",
    "      machines[event.machine].add(event.user)\n",
    "    elif event.type == \"logout\":\n",
    "      machines[event.machine].remove(event.user)\n",
    "  return machines\n",
    "\n",
    "def generate_report(machines):\n",
    "  for machine, users in machines.items():\n",
    "    if len(users) > 0:\n",
    "      user_list = \", \".join(users)\n",
    "      print(\"{}: {}\".format(machine, user_list))\n",
    "\n",
    "class Event:\n",
    "  def __init__(self, event_date, event_type, machine_name, user):\n",
    "    self.date = event_date\n",
    "    self.type = event_type\n",
    "    self.machine = machine_name\n",
    "    self.user = user\n",
    "\n",
    "events = [\n",
    "  Event('2020-01-21 12:45:46', 'login', 'myworkstation.local', 'jordan'),\n",
    "  Event('2020-01-22 15:53:42', 'logout', 'webserver.local', 'jordan'),\n",
    "  Event('2020-01-21 18:53:21', 'login', 'webserver.local', 'lane'),\n",
    "  Event('2020-01-22 10:25:34', 'logout', 'myworkstation.local', 'jordan'),\n",
    "  Event('2020-01-21 08:20:01', 'login', 'webserver.local', 'jordan'),\n",
    "  Event('2020-01-23 11:24:35', 'login', 'mailserver.local', 'chris'),\n",
    "]\n",
    "\n",
    "users = current_users(events)\n",
    "print(users)"
   ]
  },
  {
   "cell_type": "code",
   "execution_count": 42,
   "id": "f0f79a0d-ad86-4e38-a390-6faef80a4826",
   "metadata": {},
   "outputs": [],
   "source": [
    "def get_event_date(event):\n",
    "  return event.date\n",
    "\n",
    "def current_users(events):\n",
    "  events.sort(key=get_event_date)\n",
    "  machines = {}\n",
    "  for event in events:\n",
    "    if event.machine not in machines:\n",
    "      machines[event.machine] = set()\n",
    "    if event.type == \"login\":\n",
    "      machines[event.machine].add(event.user)\n",
    "    elif event.type == \"logout\":\n",
    "      machines[event.machine].remove(event.user)\n",
    "  return machines\n",
    "\n",
    "def generate_report(machines):\n",
    "  for machine, users in machines.items():\n",
    "    if len(users) > 0:\n",
    "      user_list = \", \".join(users)\n",
    "      print(\"{}: {}\".format(machine, user_list))"
   ]
  },
  {
   "cell_type": "code",
   "execution_count": 43,
   "id": "9bba26e5-9a8e-446f-82c5-1170f678b0a3",
   "metadata": {},
   "outputs": [],
   "source": [
    "class Event:\n",
    "  def __init__(self, event_date, event_type, machine_name, user):\n",
    "    self.date = event_date\n",
    "    self.type = event_type\n",
    "    self.machine = machine_name\n",
    "    self.user = user"
   ]
  },
  {
   "cell_type": "code",
   "execution_count": 44,
   "id": "bfb68d2f-cb8d-4f9b-87eb-040edb36b0db",
   "metadata": {},
   "outputs": [],
   "source": [
    "\n",
    "events = [\n",
    "    Event('2020-01-21 12:45:56', 'login', 'myworkstation.local', 'jordan'),\n",
    "    Event('2020-01-22 15:53:42', 'logout', 'webserver.local', 'jordan'),\n",
    "    Event('2020-01-21 18:53:21', 'login', 'webserver.local', 'lane'),\n",
    "    Event('2020-01-22 10:25:34', 'logout', 'myworkstation.local', 'jordan'),\n",
    "    Event('2020-01-21 08:20:01', 'login', 'webserver.local', 'jordan'),\n",
    "    Event('2020-01-23 11:24:35', 'logout', 'mailserver.local', 'chris'),\n",
    "]"
   ]
  },
  {
   "cell_type": "code",
   "execution_count": 45,
   "id": "971588b2-10e5-405a-a758-277da1f017e7",
   "metadata": {},
   "outputs": [
    {
     "ename": "KeyError",
     "evalue": "'chris'",
     "output_type": "error",
     "traceback": [
      "\u001b[1;31m---------------------------------------------------------------------------\u001b[0m",
      "\u001b[1;31mKeyError\u001b[0m                                  Traceback (most recent call last)",
      "Cell \u001b[1;32mIn[45], line 1\u001b[0m\n\u001b[1;32m----> 1\u001b[0m users \u001b[38;5;241m=\u001b[39m current_users(events)\n\u001b[0;32m      2\u001b[0m \u001b[38;5;28mprint\u001b[39m(users)\n",
      "Cell \u001b[1;32mIn[42], line 13\u001b[0m, in \u001b[0;36mcurrent_users\u001b[1;34m(events)\u001b[0m\n\u001b[0;32m     11\u001b[0m     machines[event\u001b[38;5;241m.\u001b[39mmachine]\u001b[38;5;241m.\u001b[39madd(event\u001b[38;5;241m.\u001b[39muser)\n\u001b[0;32m     12\u001b[0m   \u001b[38;5;28;01melif\u001b[39;00m event\u001b[38;5;241m.\u001b[39mtype \u001b[38;5;241m==\u001b[39m \u001b[38;5;124m\"\u001b[39m\u001b[38;5;124mlogout\u001b[39m\u001b[38;5;124m\"\u001b[39m:\n\u001b[1;32m---> 13\u001b[0m     machines[event\u001b[38;5;241m.\u001b[39mmachine]\u001b[38;5;241m.\u001b[39mremove(event\u001b[38;5;241m.\u001b[39muser)\n\u001b[0;32m     14\u001b[0m \u001b[38;5;28;01mreturn\u001b[39;00m machines\n",
      "\u001b[1;31mKeyError\u001b[0m: 'chris'"
     ]
    }
   ],
   "source": [
    "users = current_users(events)\n",
    "print(users)"
   ]
  },
  {
   "cell_type": "code",
   "execution_count": 46,
   "id": "ac2891ea-fc17-4c54-9490-7778efc315f9",
   "metadata": {},
   "outputs": [
    {
     "name": "stdout",
     "output_type": "stream",
     "text": [
      "webserver.local: lane\n",
      "mailserver.local: chris\n"
     ]
    }
   ],
   "source": [
    "generate_report(users)"
   ]
  },
  {
   "cell_type": "code",
   "execution_count": 48,
   "id": "79948095-1845-4eae-a6ce-b02eedfe90cc",
   "metadata": {},
   "outputs": [
    {
     "ename": "IndentationError",
     "evalue": "unindent does not match any outer indentation level (<string>, line 9)",
     "output_type": "error",
     "traceback": [
      "\u001b[1;36m  File \u001b[1;32m<string>:9\u001b[1;36m\u001b[0m\n\u001b[1;33m    writer.writeheader()\u001b[0m\n\u001b[1;37m                        ^\u001b[0m\n\u001b[1;31mIndentationError\u001b[0m\u001b[1;31m:\u001b[0m unindent does not match any outer indentation level\n"
     ]
    }
   ],
   "source": [
    "import csv\n",
    "import secrets\n",
    "import subprocess\n",
    "from pathlib import Path   # to locate the data files\n",
    "cwd = Path.cwd() #/ \"drive/MyDrive/Colab Notebooks\"\n",
    "with open(cwd / \"data/users_in.csv\", \"r\") as file_input, open(cwd / \"data/users_out.csv\", \"w\") as file_output:\n",
    "    reader = csv.DictReader(file_input)\n",
    "     writer = csv.DictWriter(file_output,fieldnames=reader.fieldnames)\n",
    "     writer.writeheader()\n",
    "    for user in reader:\n",
    "        user[\"password\"] = secrets.token_hex(8)\n",
    "        useradd_cmd = [\"/sbin/useradd\",\n",
    "                       \"-c\", user[\"real_name\"],\n",
    "                       \"-m\",\n",
    "                       \"-G\", \"users\",\n",
    "                       \"-p\", user[\"password\"],\n",
    "                       user[\"username\"]]\n",
    "        subprocess.run(useradd_cmd, check=True)\n",
    "        writer.writerow(user)\n"
   ]
  },
  {
   "cell_type": "code",
   "execution_count": 49,
   "id": "d5356d6b-4190-4c8f-ad06-e48b2cfb0c98",
   "metadata": {},
   "outputs": [
    {
     "name": "stdout",
     "output_type": "stream",
     "text": [
      "[1, 2, 3, 4, 5]\n"
     ]
    }
   ],
   "source": [
    "numero = [ 3, 2, 4, 5, 1 ]\n",
    "\n",
    "numero.sort()\n",
    "\n",
    "print(numero)"
   ]
  },
  {
   "cell_type": "code",
   "execution_count": null,
   "id": "84567de5-f5e9-4a64-8ec3-c0243e4c8002",
   "metadata": {},
   "outputs": [],
   "source": []
  }
 ],
 "metadata": {
  "kernelspec": {
   "display_name": "Python [conda env:base] *",
   "language": "python",
   "name": "conda-base-py"
  },
  "language_info": {
   "codemirror_mode": {
    "name": "ipython",
    "version": 3
   },
   "file_extension": ".py",
   "mimetype": "text/x-python",
   "name": "python",
   "nbconvert_exporter": "python",
   "pygments_lexer": "ipython3",
   "version": "3.13.5"
  }
 },
 "nbformat": 4,
 "nbformat_minor": 5
}
